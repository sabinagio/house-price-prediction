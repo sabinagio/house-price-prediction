{
 "cells": [
  {
   "cell_type": "markdown",
   "id": "81fbbf59",
   "metadata": {},
   "source": [
    "**Table of contents**<a id='toc0_'></a>    \n",
    "- [What variables look weird?](#toc1_1_1_1_)    \n",
    "      - [Where are the nulls?](#toc1_1_1_2_)    \n",
    "      - [What to do about the rest of the nulls?](#toc1_1_1_3_)    \n",
    "\n",
    "<!-- vscode-jupyter-toc-config\n",
    "\tnumbering=false\n",
    "\tanchor=true\n",
    "\tflat=false\n",
    "\tminLevel=1\n",
    "\tmaxLevel=6\n",
    "\t/vscode-jupyter-toc-config -->\n",
    "<!-- THIS CELL WILL BE REPLACED ON TOC UPDATE. DO NOT WRITE YOUR TEXT IN THIS CELL -->"
   ]
  },
  {
   "cell_type": "code",
   "execution_count": 1,
   "id": "6336e636",
   "metadata": {},
   "outputs": [],
   "source": [
    "import math\n",
    "import pandas as pd\n",
    "from dfply import mask, X\n",
    "\n",
    "import plotly.express as px\n",
    "\n",
    "pd.options.display.max_rows = 500"
   ]
  },
  {
   "cell_type": "code",
   "execution_count": 2,
   "id": "fa0a0eea",
   "metadata": {},
   "outputs": [
    {
     "name": "stdout",
     "output_type": "stream",
     "text": [
      "(1460, 81)\n"
     ]
    },
    {
     "data": {
      "text/html": [
       "<div>\n",
       "<style scoped>\n",
       "    .dataframe tbody tr th:only-of-type {\n",
       "        vertical-align: middle;\n",
       "    }\n",
       "\n",
       "    .dataframe tbody tr th {\n",
       "        vertical-align: top;\n",
       "    }\n",
       "\n",
       "    .dataframe thead th {\n",
       "        text-align: right;\n",
       "    }\n",
       "</style>\n",
       "<table border=\"1\" class=\"dataframe\">\n",
       "  <thead>\n",
       "    <tr style=\"text-align: right;\">\n",
       "      <th></th>\n",
       "      <th>0</th>\n",
       "      <th>1</th>\n",
       "      <th>2</th>\n",
       "      <th>3</th>\n",
       "      <th>4</th>\n",
       "    </tr>\n",
       "  </thead>\n",
       "  <tbody>\n",
       "    <tr>\n",
       "      <th>Id</th>\n",
       "      <td>1</td>\n",
       "      <td>2</td>\n",
       "      <td>3</td>\n",
       "      <td>4</td>\n",
       "      <td>5</td>\n",
       "    </tr>\n",
       "    <tr>\n",
       "      <th>MSSubClass</th>\n",
       "      <td>60</td>\n",
       "      <td>20</td>\n",
       "      <td>60</td>\n",
       "      <td>70</td>\n",
       "      <td>60</td>\n",
       "    </tr>\n",
       "    <tr>\n",
       "      <th>MSZoning</th>\n",
       "      <td>RL</td>\n",
       "      <td>RL</td>\n",
       "      <td>RL</td>\n",
       "      <td>RL</td>\n",
       "      <td>RL</td>\n",
       "    </tr>\n",
       "    <tr>\n",
       "      <th>LotFrontage</th>\n",
       "      <td>65.0</td>\n",
       "      <td>80.0</td>\n",
       "      <td>68.0</td>\n",
       "      <td>60.0</td>\n",
       "      <td>84.0</td>\n",
       "    </tr>\n",
       "    <tr>\n",
       "      <th>LotArea</th>\n",
       "      <td>8450</td>\n",
       "      <td>9600</td>\n",
       "      <td>11250</td>\n",
       "      <td>9550</td>\n",
       "      <td>14260</td>\n",
       "    </tr>\n",
       "    <tr>\n",
       "      <th>Street</th>\n",
       "      <td>Pave</td>\n",
       "      <td>Pave</td>\n",
       "      <td>Pave</td>\n",
       "      <td>Pave</td>\n",
       "      <td>Pave</td>\n",
       "    </tr>\n",
       "    <tr>\n",
       "      <th>Alley</th>\n",
       "      <td>NaN</td>\n",
       "      <td>NaN</td>\n",
       "      <td>NaN</td>\n",
       "      <td>NaN</td>\n",
       "      <td>NaN</td>\n",
       "    </tr>\n",
       "    <tr>\n",
       "      <th>LotShape</th>\n",
       "      <td>Reg</td>\n",
       "      <td>Reg</td>\n",
       "      <td>IR1</td>\n",
       "      <td>IR1</td>\n",
       "      <td>IR1</td>\n",
       "    </tr>\n",
       "    <tr>\n",
       "      <th>LandContour</th>\n",
       "      <td>Lvl</td>\n",
       "      <td>Lvl</td>\n",
       "      <td>Lvl</td>\n",
       "      <td>Lvl</td>\n",
       "      <td>Lvl</td>\n",
       "    </tr>\n",
       "    <tr>\n",
       "      <th>Utilities</th>\n",
       "      <td>AllPub</td>\n",
       "      <td>AllPub</td>\n",
       "      <td>AllPub</td>\n",
       "      <td>AllPub</td>\n",
       "      <td>AllPub</td>\n",
       "    </tr>\n",
       "    <tr>\n",
       "      <th>LotConfig</th>\n",
       "      <td>Inside</td>\n",
       "      <td>FR2</td>\n",
       "      <td>Inside</td>\n",
       "      <td>Corner</td>\n",
       "      <td>FR2</td>\n",
       "    </tr>\n",
       "    <tr>\n",
       "      <th>LandSlope</th>\n",
       "      <td>Gtl</td>\n",
       "      <td>Gtl</td>\n",
       "      <td>Gtl</td>\n",
       "      <td>Gtl</td>\n",
       "      <td>Gtl</td>\n",
       "    </tr>\n",
       "    <tr>\n",
       "      <th>Neighborhood</th>\n",
       "      <td>CollgCr</td>\n",
       "      <td>Veenker</td>\n",
       "      <td>CollgCr</td>\n",
       "      <td>Crawfor</td>\n",
       "      <td>NoRidge</td>\n",
       "    </tr>\n",
       "    <tr>\n",
       "      <th>Condition1</th>\n",
       "      <td>Norm</td>\n",
       "      <td>Feedr</td>\n",
       "      <td>Norm</td>\n",
       "      <td>Norm</td>\n",
       "      <td>Norm</td>\n",
       "    </tr>\n",
       "    <tr>\n",
       "      <th>Condition2</th>\n",
       "      <td>Norm</td>\n",
       "      <td>Norm</td>\n",
       "      <td>Norm</td>\n",
       "      <td>Norm</td>\n",
       "      <td>Norm</td>\n",
       "    </tr>\n",
       "    <tr>\n",
       "      <th>BldgType</th>\n",
       "      <td>1Fam</td>\n",
       "      <td>1Fam</td>\n",
       "      <td>1Fam</td>\n",
       "      <td>1Fam</td>\n",
       "      <td>1Fam</td>\n",
       "    </tr>\n",
       "    <tr>\n",
       "      <th>HouseStyle</th>\n",
       "      <td>2Story</td>\n",
       "      <td>1Story</td>\n",
       "      <td>2Story</td>\n",
       "      <td>2Story</td>\n",
       "      <td>2Story</td>\n",
       "    </tr>\n",
       "    <tr>\n",
       "      <th>OverallQual</th>\n",
       "      <td>7</td>\n",
       "      <td>6</td>\n",
       "      <td>7</td>\n",
       "      <td>7</td>\n",
       "      <td>8</td>\n",
       "    </tr>\n",
       "    <tr>\n",
       "      <th>OverallCond</th>\n",
       "      <td>5</td>\n",
       "      <td>8</td>\n",
       "      <td>5</td>\n",
       "      <td>5</td>\n",
       "      <td>5</td>\n",
       "    </tr>\n",
       "    <tr>\n",
       "      <th>YearBuilt</th>\n",
       "      <td>2003</td>\n",
       "      <td>1976</td>\n",
       "      <td>2001</td>\n",
       "      <td>1915</td>\n",
       "      <td>2000</td>\n",
       "    </tr>\n",
       "    <tr>\n",
       "      <th>YearRemodAdd</th>\n",
       "      <td>2003</td>\n",
       "      <td>1976</td>\n",
       "      <td>2002</td>\n",
       "      <td>1970</td>\n",
       "      <td>2000</td>\n",
       "    </tr>\n",
       "    <tr>\n",
       "      <th>RoofStyle</th>\n",
       "      <td>Gable</td>\n",
       "      <td>Gable</td>\n",
       "      <td>Gable</td>\n",
       "      <td>Gable</td>\n",
       "      <td>Gable</td>\n",
       "    </tr>\n",
       "    <tr>\n",
       "      <th>RoofMatl</th>\n",
       "      <td>CompShg</td>\n",
       "      <td>CompShg</td>\n",
       "      <td>CompShg</td>\n",
       "      <td>CompShg</td>\n",
       "      <td>CompShg</td>\n",
       "    </tr>\n",
       "    <tr>\n",
       "      <th>Exterior1st</th>\n",
       "      <td>VinylSd</td>\n",
       "      <td>MetalSd</td>\n",
       "      <td>VinylSd</td>\n",
       "      <td>Wd Sdng</td>\n",
       "      <td>VinylSd</td>\n",
       "    </tr>\n",
       "    <tr>\n",
       "      <th>Exterior2nd</th>\n",
       "      <td>VinylSd</td>\n",
       "      <td>MetalSd</td>\n",
       "      <td>VinylSd</td>\n",
       "      <td>Wd Shng</td>\n",
       "      <td>VinylSd</td>\n",
       "    </tr>\n",
       "    <tr>\n",
       "      <th>MasVnrType</th>\n",
       "      <td>BrkFace</td>\n",
       "      <td>NaN</td>\n",
       "      <td>BrkFace</td>\n",
       "      <td>NaN</td>\n",
       "      <td>BrkFace</td>\n",
       "    </tr>\n",
       "    <tr>\n",
       "      <th>MasVnrArea</th>\n",
       "      <td>196.0</td>\n",
       "      <td>0.0</td>\n",
       "      <td>162.0</td>\n",
       "      <td>0.0</td>\n",
       "      <td>350.0</td>\n",
       "    </tr>\n",
       "    <tr>\n",
       "      <th>ExterQual</th>\n",
       "      <td>Gd</td>\n",
       "      <td>TA</td>\n",
       "      <td>Gd</td>\n",
       "      <td>TA</td>\n",
       "      <td>Gd</td>\n",
       "    </tr>\n",
       "    <tr>\n",
       "      <th>ExterCond</th>\n",
       "      <td>TA</td>\n",
       "      <td>TA</td>\n",
       "      <td>TA</td>\n",
       "      <td>TA</td>\n",
       "      <td>TA</td>\n",
       "    </tr>\n",
       "    <tr>\n",
       "      <th>Foundation</th>\n",
       "      <td>PConc</td>\n",
       "      <td>CBlock</td>\n",
       "      <td>PConc</td>\n",
       "      <td>BrkTil</td>\n",
       "      <td>PConc</td>\n",
       "    </tr>\n",
       "    <tr>\n",
       "      <th>BsmtQual</th>\n",
       "      <td>Gd</td>\n",
       "      <td>Gd</td>\n",
       "      <td>Gd</td>\n",
       "      <td>TA</td>\n",
       "      <td>Gd</td>\n",
       "    </tr>\n",
       "    <tr>\n",
       "      <th>BsmtCond</th>\n",
       "      <td>TA</td>\n",
       "      <td>TA</td>\n",
       "      <td>TA</td>\n",
       "      <td>Gd</td>\n",
       "      <td>TA</td>\n",
       "    </tr>\n",
       "    <tr>\n",
       "      <th>BsmtExposure</th>\n",
       "      <td>No</td>\n",
       "      <td>Gd</td>\n",
       "      <td>Mn</td>\n",
       "      <td>No</td>\n",
       "      <td>Av</td>\n",
       "    </tr>\n",
       "    <tr>\n",
       "      <th>BsmtFinType1</th>\n",
       "      <td>GLQ</td>\n",
       "      <td>ALQ</td>\n",
       "      <td>GLQ</td>\n",
       "      <td>ALQ</td>\n",
       "      <td>GLQ</td>\n",
       "    </tr>\n",
       "    <tr>\n",
       "      <th>BsmtFinSF1</th>\n",
       "      <td>706</td>\n",
       "      <td>978</td>\n",
       "      <td>486</td>\n",
       "      <td>216</td>\n",
       "      <td>655</td>\n",
       "    </tr>\n",
       "    <tr>\n",
       "      <th>BsmtFinType2</th>\n",
       "      <td>Unf</td>\n",
       "      <td>Unf</td>\n",
       "      <td>Unf</td>\n",
       "      <td>Unf</td>\n",
       "      <td>Unf</td>\n",
       "    </tr>\n",
       "    <tr>\n",
       "      <th>BsmtFinSF2</th>\n",
       "      <td>0</td>\n",
       "      <td>0</td>\n",
       "      <td>0</td>\n",
       "      <td>0</td>\n",
       "      <td>0</td>\n",
       "    </tr>\n",
       "    <tr>\n",
       "      <th>BsmtUnfSF</th>\n",
       "      <td>150</td>\n",
       "      <td>284</td>\n",
       "      <td>434</td>\n",
       "      <td>540</td>\n",
       "      <td>490</td>\n",
       "    </tr>\n",
       "    <tr>\n",
       "      <th>TotalBsmtSF</th>\n",
       "      <td>856</td>\n",
       "      <td>1262</td>\n",
       "      <td>920</td>\n",
       "      <td>756</td>\n",
       "      <td>1145</td>\n",
       "    </tr>\n",
       "    <tr>\n",
       "      <th>Heating</th>\n",
       "      <td>GasA</td>\n",
       "      <td>GasA</td>\n",
       "      <td>GasA</td>\n",
       "      <td>GasA</td>\n",
       "      <td>GasA</td>\n",
       "    </tr>\n",
       "    <tr>\n",
       "      <th>HeatingQC</th>\n",
       "      <td>Ex</td>\n",
       "      <td>Ex</td>\n",
       "      <td>Ex</td>\n",
       "      <td>Gd</td>\n",
       "      <td>Ex</td>\n",
       "    </tr>\n",
       "    <tr>\n",
       "      <th>CentralAir</th>\n",
       "      <td>Y</td>\n",
       "      <td>Y</td>\n",
       "      <td>Y</td>\n",
       "      <td>Y</td>\n",
       "      <td>Y</td>\n",
       "    </tr>\n",
       "    <tr>\n",
       "      <th>Electrical</th>\n",
       "      <td>SBrkr</td>\n",
       "      <td>SBrkr</td>\n",
       "      <td>SBrkr</td>\n",
       "      <td>SBrkr</td>\n",
       "      <td>SBrkr</td>\n",
       "    </tr>\n",
       "    <tr>\n",
       "      <th>1stFlrSF</th>\n",
       "      <td>856</td>\n",
       "      <td>1262</td>\n",
       "      <td>920</td>\n",
       "      <td>961</td>\n",
       "      <td>1145</td>\n",
       "    </tr>\n",
       "    <tr>\n",
       "      <th>2ndFlrSF</th>\n",
       "      <td>854</td>\n",
       "      <td>0</td>\n",
       "      <td>866</td>\n",
       "      <td>756</td>\n",
       "      <td>1053</td>\n",
       "    </tr>\n",
       "    <tr>\n",
       "      <th>LowQualFinSF</th>\n",
       "      <td>0</td>\n",
       "      <td>0</td>\n",
       "      <td>0</td>\n",
       "      <td>0</td>\n",
       "      <td>0</td>\n",
       "    </tr>\n",
       "    <tr>\n",
       "      <th>GrLivArea</th>\n",
       "      <td>1710</td>\n",
       "      <td>1262</td>\n",
       "      <td>1786</td>\n",
       "      <td>1717</td>\n",
       "      <td>2198</td>\n",
       "    </tr>\n",
       "    <tr>\n",
       "      <th>BsmtFullBath</th>\n",
       "      <td>1</td>\n",
       "      <td>0</td>\n",
       "      <td>1</td>\n",
       "      <td>1</td>\n",
       "      <td>1</td>\n",
       "    </tr>\n",
       "    <tr>\n",
       "      <th>BsmtHalfBath</th>\n",
       "      <td>0</td>\n",
       "      <td>1</td>\n",
       "      <td>0</td>\n",
       "      <td>0</td>\n",
       "      <td>0</td>\n",
       "    </tr>\n",
       "    <tr>\n",
       "      <th>FullBath</th>\n",
       "      <td>2</td>\n",
       "      <td>2</td>\n",
       "      <td>2</td>\n",
       "      <td>1</td>\n",
       "      <td>2</td>\n",
       "    </tr>\n",
       "    <tr>\n",
       "      <th>HalfBath</th>\n",
       "      <td>1</td>\n",
       "      <td>0</td>\n",
       "      <td>1</td>\n",
       "      <td>0</td>\n",
       "      <td>1</td>\n",
       "    </tr>\n",
       "    <tr>\n",
       "      <th>BedroomAbvGr</th>\n",
       "      <td>3</td>\n",
       "      <td>3</td>\n",
       "      <td>3</td>\n",
       "      <td>3</td>\n",
       "      <td>4</td>\n",
       "    </tr>\n",
       "    <tr>\n",
       "      <th>KitchenAbvGr</th>\n",
       "      <td>1</td>\n",
       "      <td>1</td>\n",
       "      <td>1</td>\n",
       "      <td>1</td>\n",
       "      <td>1</td>\n",
       "    </tr>\n",
       "    <tr>\n",
       "      <th>KitchenQual</th>\n",
       "      <td>Gd</td>\n",
       "      <td>TA</td>\n",
       "      <td>Gd</td>\n",
       "      <td>Gd</td>\n",
       "      <td>Gd</td>\n",
       "    </tr>\n",
       "    <tr>\n",
       "      <th>TotRmsAbvGrd</th>\n",
       "      <td>8</td>\n",
       "      <td>6</td>\n",
       "      <td>6</td>\n",
       "      <td>7</td>\n",
       "      <td>9</td>\n",
       "    </tr>\n",
       "    <tr>\n",
       "      <th>Functional</th>\n",
       "      <td>Typ</td>\n",
       "      <td>Typ</td>\n",
       "      <td>Typ</td>\n",
       "      <td>Typ</td>\n",
       "      <td>Typ</td>\n",
       "    </tr>\n",
       "    <tr>\n",
       "      <th>Fireplaces</th>\n",
       "      <td>0</td>\n",
       "      <td>1</td>\n",
       "      <td>1</td>\n",
       "      <td>1</td>\n",
       "      <td>1</td>\n",
       "    </tr>\n",
       "    <tr>\n",
       "      <th>FireplaceQu</th>\n",
       "      <td>NaN</td>\n",
       "      <td>TA</td>\n",
       "      <td>TA</td>\n",
       "      <td>Gd</td>\n",
       "      <td>TA</td>\n",
       "    </tr>\n",
       "    <tr>\n",
       "      <th>GarageType</th>\n",
       "      <td>Attchd</td>\n",
       "      <td>Attchd</td>\n",
       "      <td>Attchd</td>\n",
       "      <td>Detchd</td>\n",
       "      <td>Attchd</td>\n",
       "    </tr>\n",
       "    <tr>\n",
       "      <th>GarageYrBlt</th>\n",
       "      <td>2003.0</td>\n",
       "      <td>1976.0</td>\n",
       "      <td>2001.0</td>\n",
       "      <td>1998.0</td>\n",
       "      <td>2000.0</td>\n",
       "    </tr>\n",
       "    <tr>\n",
       "      <th>GarageFinish</th>\n",
       "      <td>RFn</td>\n",
       "      <td>RFn</td>\n",
       "      <td>RFn</td>\n",
       "      <td>Unf</td>\n",
       "      <td>RFn</td>\n",
       "    </tr>\n",
       "    <tr>\n",
       "      <th>GarageCars</th>\n",
       "      <td>2</td>\n",
       "      <td>2</td>\n",
       "      <td>2</td>\n",
       "      <td>3</td>\n",
       "      <td>3</td>\n",
       "    </tr>\n",
       "    <tr>\n",
       "      <th>GarageArea</th>\n",
       "      <td>548</td>\n",
       "      <td>460</td>\n",
       "      <td>608</td>\n",
       "      <td>642</td>\n",
       "      <td>836</td>\n",
       "    </tr>\n",
       "    <tr>\n",
       "      <th>GarageQual</th>\n",
       "      <td>TA</td>\n",
       "      <td>TA</td>\n",
       "      <td>TA</td>\n",
       "      <td>TA</td>\n",
       "      <td>TA</td>\n",
       "    </tr>\n",
       "    <tr>\n",
       "      <th>GarageCond</th>\n",
       "      <td>TA</td>\n",
       "      <td>TA</td>\n",
       "      <td>TA</td>\n",
       "      <td>TA</td>\n",
       "      <td>TA</td>\n",
       "    </tr>\n",
       "    <tr>\n",
       "      <th>PavedDrive</th>\n",
       "      <td>Y</td>\n",
       "      <td>Y</td>\n",
       "      <td>Y</td>\n",
       "      <td>Y</td>\n",
       "      <td>Y</td>\n",
       "    </tr>\n",
       "    <tr>\n",
       "      <th>WoodDeckSF</th>\n",
       "      <td>0</td>\n",
       "      <td>298</td>\n",
       "      <td>0</td>\n",
       "      <td>0</td>\n",
       "      <td>192</td>\n",
       "    </tr>\n",
       "    <tr>\n",
       "      <th>OpenPorchSF</th>\n",
       "      <td>61</td>\n",
       "      <td>0</td>\n",
       "      <td>42</td>\n",
       "      <td>35</td>\n",
       "      <td>84</td>\n",
       "    </tr>\n",
       "    <tr>\n",
       "      <th>EnclosedPorch</th>\n",
       "      <td>0</td>\n",
       "      <td>0</td>\n",
       "      <td>0</td>\n",
       "      <td>272</td>\n",
       "      <td>0</td>\n",
       "    </tr>\n",
       "    <tr>\n",
       "      <th>3SsnPorch</th>\n",
       "      <td>0</td>\n",
       "      <td>0</td>\n",
       "      <td>0</td>\n",
       "      <td>0</td>\n",
       "      <td>0</td>\n",
       "    </tr>\n",
       "    <tr>\n",
       "      <th>ScreenPorch</th>\n",
       "      <td>0</td>\n",
       "      <td>0</td>\n",
       "      <td>0</td>\n",
       "      <td>0</td>\n",
       "      <td>0</td>\n",
       "    </tr>\n",
       "    <tr>\n",
       "      <th>PoolArea</th>\n",
       "      <td>0</td>\n",
       "      <td>0</td>\n",
       "      <td>0</td>\n",
       "      <td>0</td>\n",
       "      <td>0</td>\n",
       "    </tr>\n",
       "    <tr>\n",
       "      <th>PoolQC</th>\n",
       "      <td>NaN</td>\n",
       "      <td>NaN</td>\n",
       "      <td>NaN</td>\n",
       "      <td>NaN</td>\n",
       "      <td>NaN</td>\n",
       "    </tr>\n",
       "    <tr>\n",
       "      <th>Fence</th>\n",
       "      <td>NaN</td>\n",
       "      <td>NaN</td>\n",
       "      <td>NaN</td>\n",
       "      <td>NaN</td>\n",
       "      <td>NaN</td>\n",
       "    </tr>\n",
       "    <tr>\n",
       "      <th>MiscFeature</th>\n",
       "      <td>NaN</td>\n",
       "      <td>NaN</td>\n",
       "      <td>NaN</td>\n",
       "      <td>NaN</td>\n",
       "      <td>NaN</td>\n",
       "    </tr>\n",
       "    <tr>\n",
       "      <th>MiscVal</th>\n",
       "      <td>0</td>\n",
       "      <td>0</td>\n",
       "      <td>0</td>\n",
       "      <td>0</td>\n",
       "      <td>0</td>\n",
       "    </tr>\n",
       "    <tr>\n",
       "      <th>MoSold</th>\n",
       "      <td>2</td>\n",
       "      <td>5</td>\n",
       "      <td>9</td>\n",
       "      <td>2</td>\n",
       "      <td>12</td>\n",
       "    </tr>\n",
       "    <tr>\n",
       "      <th>YrSold</th>\n",
       "      <td>2008</td>\n",
       "      <td>2007</td>\n",
       "      <td>2008</td>\n",
       "      <td>2006</td>\n",
       "      <td>2008</td>\n",
       "    </tr>\n",
       "    <tr>\n",
       "      <th>SaleType</th>\n",
       "      <td>WD</td>\n",
       "      <td>WD</td>\n",
       "      <td>WD</td>\n",
       "      <td>WD</td>\n",
       "      <td>WD</td>\n",
       "    </tr>\n",
       "    <tr>\n",
       "      <th>SaleCondition</th>\n",
       "      <td>Normal</td>\n",
       "      <td>Normal</td>\n",
       "      <td>Normal</td>\n",
       "      <td>Abnorml</td>\n",
       "      <td>Normal</td>\n",
       "    </tr>\n",
       "    <tr>\n",
       "      <th>SalePrice</th>\n",
       "      <td>208500</td>\n",
       "      <td>181500</td>\n",
       "      <td>223500</td>\n",
       "      <td>140000</td>\n",
       "      <td>250000</td>\n",
       "    </tr>\n",
       "  </tbody>\n",
       "</table>\n",
       "</div>"
      ],
      "text/plain": [
       "                     0        1        2        3        4\n",
       "Id                   1        2        3        4        5\n",
       "MSSubClass          60       20       60       70       60\n",
       "MSZoning            RL       RL       RL       RL       RL\n",
       "LotFrontage       65.0     80.0     68.0     60.0     84.0\n",
       "LotArea           8450     9600    11250     9550    14260\n",
       "Street            Pave     Pave     Pave     Pave     Pave\n",
       "Alley              NaN      NaN      NaN      NaN      NaN\n",
       "LotShape           Reg      Reg      IR1      IR1      IR1\n",
       "LandContour        Lvl      Lvl      Lvl      Lvl      Lvl\n",
       "Utilities       AllPub   AllPub   AllPub   AllPub   AllPub\n",
       "LotConfig       Inside      FR2   Inside   Corner      FR2\n",
       "LandSlope          Gtl      Gtl      Gtl      Gtl      Gtl\n",
       "Neighborhood   CollgCr  Veenker  CollgCr  Crawfor  NoRidge\n",
       "Condition1        Norm    Feedr     Norm     Norm     Norm\n",
       "Condition2        Norm     Norm     Norm     Norm     Norm\n",
       "BldgType          1Fam     1Fam     1Fam     1Fam     1Fam\n",
       "HouseStyle      2Story   1Story   2Story   2Story   2Story\n",
       "OverallQual          7        6        7        7        8\n",
       "OverallCond          5        8        5        5        5\n",
       "YearBuilt         2003     1976     2001     1915     2000\n",
       "YearRemodAdd      2003     1976     2002     1970     2000\n",
       "RoofStyle        Gable    Gable    Gable    Gable    Gable\n",
       "RoofMatl       CompShg  CompShg  CompShg  CompShg  CompShg\n",
       "Exterior1st    VinylSd  MetalSd  VinylSd  Wd Sdng  VinylSd\n",
       "Exterior2nd    VinylSd  MetalSd  VinylSd  Wd Shng  VinylSd\n",
       "MasVnrType     BrkFace      NaN  BrkFace      NaN  BrkFace\n",
       "MasVnrArea       196.0      0.0    162.0      0.0    350.0\n",
       "ExterQual           Gd       TA       Gd       TA       Gd\n",
       "ExterCond           TA       TA       TA       TA       TA\n",
       "Foundation       PConc   CBlock    PConc   BrkTil    PConc\n",
       "BsmtQual            Gd       Gd       Gd       TA       Gd\n",
       "BsmtCond            TA       TA       TA       Gd       TA\n",
       "BsmtExposure        No       Gd       Mn       No       Av\n",
       "BsmtFinType1       GLQ      ALQ      GLQ      ALQ      GLQ\n",
       "BsmtFinSF1         706      978      486      216      655\n",
       "BsmtFinType2       Unf      Unf      Unf      Unf      Unf\n",
       "BsmtFinSF2           0        0        0        0        0\n",
       "BsmtUnfSF          150      284      434      540      490\n",
       "TotalBsmtSF        856     1262      920      756     1145\n",
       "Heating           GasA     GasA     GasA     GasA     GasA\n",
       "HeatingQC           Ex       Ex       Ex       Gd       Ex\n",
       "CentralAir           Y        Y        Y        Y        Y\n",
       "Electrical       SBrkr    SBrkr    SBrkr    SBrkr    SBrkr\n",
       "1stFlrSF           856     1262      920      961     1145\n",
       "2ndFlrSF           854        0      866      756     1053\n",
       "LowQualFinSF         0        0        0        0        0\n",
       "GrLivArea         1710     1262     1786     1717     2198\n",
       "BsmtFullBath         1        0        1        1        1\n",
       "BsmtHalfBath         0        1        0        0        0\n",
       "FullBath             2        2        2        1        2\n",
       "HalfBath             1        0        1        0        1\n",
       "BedroomAbvGr         3        3        3        3        4\n",
       "KitchenAbvGr         1        1        1        1        1\n",
       "KitchenQual         Gd       TA       Gd       Gd       Gd\n",
       "TotRmsAbvGrd         8        6        6        7        9\n",
       "Functional         Typ      Typ      Typ      Typ      Typ\n",
       "Fireplaces           0        1        1        1        1\n",
       "FireplaceQu        NaN       TA       TA       Gd       TA\n",
       "GarageType      Attchd   Attchd   Attchd   Detchd   Attchd\n",
       "GarageYrBlt     2003.0   1976.0   2001.0   1998.0   2000.0\n",
       "GarageFinish       RFn      RFn      RFn      Unf      RFn\n",
       "GarageCars           2        2        2        3        3\n",
       "GarageArea         548      460      608      642      836\n",
       "GarageQual          TA       TA       TA       TA       TA\n",
       "GarageCond          TA       TA       TA       TA       TA\n",
       "PavedDrive           Y        Y        Y        Y        Y\n",
       "WoodDeckSF           0      298        0        0      192\n",
       "OpenPorchSF         61        0       42       35       84\n",
       "EnclosedPorch        0        0        0      272        0\n",
       "3SsnPorch            0        0        0        0        0\n",
       "ScreenPorch          0        0        0        0        0\n",
       "PoolArea             0        0        0        0        0\n",
       "PoolQC             NaN      NaN      NaN      NaN      NaN\n",
       "Fence              NaN      NaN      NaN      NaN      NaN\n",
       "MiscFeature        NaN      NaN      NaN      NaN      NaN\n",
       "MiscVal              0        0        0        0        0\n",
       "MoSold               2        5        9        2       12\n",
       "YrSold            2008     2007     2008     2006     2008\n",
       "SaleType            WD       WD       WD       WD       WD\n",
       "SaleCondition   Normal   Normal   Normal  Abnorml   Normal\n",
       "SalePrice       208500   181500   223500   140000   250000"
      ]
     },
     "execution_count": 2,
     "metadata": {},
     "output_type": "execute_result"
    }
   ],
   "source": [
    "df = pd.read_csv(\"../data/raw/train.csv\")\n",
    "print(df.shape) # 81 features\n",
    "df.head().T"
   ]
  },
  {
   "cell_type": "markdown",
   "id": "534fb4fa",
   "metadata": {},
   "source": [
    "#### <a id='toc1_1_1_1_'></a>[What variables look weird?](#toc0_)\n",
    "\n",
    "Condition1 & Condition2"
   ]
  },
  {
   "cell_type": "code",
   "execution_count": 3,
   "id": "cc8317b6",
   "metadata": {},
   "outputs": [
    {
     "name": "stdout",
     "output_type": "stream",
     "text": [
      "Condition1\n",
      "Norm      1260\n",
      "Feedr       81\n",
      "Artery      48\n",
      "RRAn        26\n",
      "PosN        19\n",
      "RRAe        11\n",
      "PosA         8\n",
      "RRNn         5\n",
      "RRNe         2\n",
      "Name: count, dtype: int64\n"
     ]
    }
   ],
   "source": [
    "print(df.Condition1.value_counts(dropna=False)) # heavily skewed distrib, might not pack a lot of info"
   ]
  },
  {
   "cell_type": "code",
   "execution_count": 4,
   "id": "55b7b2a7",
   "metadata": {},
   "outputs": [
    {
     "name": "stdout",
     "output_type": "stream",
     "text": [
      "Condition2\n",
      "Norm      1445\n",
      "Feedr        6\n",
      "Artery       2\n",
      "RRNn         2\n",
      "PosN         2\n",
      "PosA         1\n",
      "RRAn         1\n",
      "RRAe         1\n",
      "Name: count, dtype: int64\n"
     ]
    }
   ],
   "source": [
    "print(df.Condition2.value_counts(dropna=False)) # much too skewed of a distribution, provides almost no info and pretty sure it's going to be related to Condition1 => remove\n",
    "cols_to_drop = ['Condition2']"
   ]
  },
  {
   "cell_type": "markdown",
   "id": "5c658471",
   "metadata": {},
   "source": [
    "Functional"
   ]
  },
  {
   "cell_type": "code",
   "execution_count": 5,
   "id": "b9a21251",
   "metadata": {},
   "outputs": [
    {
     "name": "stdout",
     "output_type": "stream",
     "text": [
      "Functional\n",
      "Typ     1360\n",
      "Min2      34\n",
      "Min1      31\n",
      "Mod       15\n",
      "Maj1      14\n",
      "Maj2       5\n",
      "Sev        1\n",
      "Name: count, dtype: int64\n"
     ]
    }
   ],
   "source": [
    "print(df.Functional.value_counts(dropna=False))"
   ]
  },
  {
   "cell_type": "markdown",
   "id": "c3147d7b",
   "metadata": {},
   "source": [
    "Functional: Home functionality (Assume typical unless deductions are warranted)\n",
    "\n",
    "       Typ\tTypical Functionality\n",
    "       Min1\tMinor Deductions 1\n",
    "       Min2\tMinor Deductions 2\n",
    "       Mod\tModerate Deductions\n",
    "       Maj1\tMajor Deductions 1\n",
    "       Maj2\tMajor Deductions 2\n",
    "       Sev\tSeverely Damaged\n",
    "       Sal\tSalvage only\n",
    "\n",
    "Even if it's heavily skewed, I can see this having an influence over house price - can check the house prices across categories:"
   ]
  },
  {
   "cell_type": "code",
   "execution_count": 6,
   "id": "48921063",
   "metadata": {},
   "outputs": [
    {
     "data": {
      "application/vnd.plotly.v1+json": {
       "config": {
        "plotlyServerURL": "https://plot.ly"
       },
       "data": [
        {
         "alignmentgroup": "True",
         "hovertemplate": "Functional=Typ<br>SalePrice=%{y}<extra></extra>",
         "legendgroup": "Typ",
         "marker": {
          "color": "#636efa"
         },
         "name": "Typ",
         "notched": false,
         "offsetgroup": "Typ",
         "orientation": "v",
         "showlegend": true,
         "type": "box",
         "x0": " ",
         "xaxis": "x",
         "y": {
          "bdata": "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",
          "dtype": "i4"
         },
         "y0": " ",
         "yaxis": "y"
        },
        {
         "alignmentgroup": "True",
         "hovertemplate": "Functional=Min1<br>SalePrice=%{y}<extra></extra>",
         "legendgroup": "Min1",
         "marker": {
          "color": "#EF553B"
         },
         "name": "Min1",
         "notched": false,
         "offsetgroup": "Min1",
         "orientation": "v",
         "showlegend": true,
         "type": "box",
         "x0": " ",
         "xaxis": "x",
         "y": {
          "bdata": "bPsBAPgeAgDQ+wEAIL8CABjwAQAgvwIAgLUBADINAgAwaQIA+B4CAPBJAgCE3gEAAOgDACSEAgB8IgIAwFECAPx/AQCMKgMAoIYBAPDMAQDAVwEAdLECAFBAAQA4wQEAEJgCAEjoAQAAcQIAEBsCAIAyAgAY6gIAUDQDAA==",
          "dtype": "i4"
         },
         "y0": " ",
         "yaxis": "y"
        },
        {
         "alignmentgroup": "True",
         "hovertemplate": "Functional=Maj1<br>SalePrice=%{y}<extra></extra>",
         "legendgroup": "Maj1",
         "marker": {
          "color": "#00cc96"
         },
         "name": "Maj1",
         "notched": false,
         "offsetgroup": "Maj1",
         "orientation": "v",
         "showlegend": true,
         "type": "box",
         "x0": " ",
         "xaxis": "x",
         "y": {
          "bdata": "0PsBAHjOBADQ+wEASO4AALAPAwACQQMAYOoAAHhdAgBoTwIAHBkCAIAyAgA0DwMAGPABAND7AQA=",
          "dtype": "i4"
         },
         "y0": " ",
         "yaxis": "y"
        },
        {
         "alignmentgroup": "True",
         "hovertemplate": "Functional=Min2<br>SalePrice=%{y}<extra></extra>",
         "legendgroup": "Min2",
         "marker": {
          "color": "#ab63fa"
         },
         "name": "Min2",
         "notched": false,
         "offsetgroup": "Min2",
         "orientation": "v",
         "showlegend": true,
         "type": "box",
         "x0": " ",
         "xaxis": "x",
         "y": {
          "bdata": "wM4CAFgPAgAcMgIAuP8BAND7AQAgDQIAeOABAHhdAgC41AQAHoUCAECQAgDYUwEAmKsCAPR4AQBIawEAqNICAAD0AQCcVwIA+JsCACBCAgDgnwIAAHECAFAhAgB0NAIAkF8BAOAiAgBYDwIASGsBANx2AgAolAIA7KMBAAjJAQDgIgIAgLUBAA==",
          "dtype": "i4"
         },
         "y0": " ",
         "yaxis": "y"
        },
        {
         "alignmentgroup": "True",
         "hovertemplate": "Functional=Mod<br>SalePrice=%{y}<extra></extra>",
         "legendgroup": "Mod",
         "marker": {
          "color": "#FFA15A"
         },
         "name": "Mod",
         "notched": false,
         "offsetgroup": "Mod",
         "orientation": "v",
         "showlegend": true,
         "type": "box",
         "x0": " ",
         "xaxis": "x",
         "y": {
          "bdata": "QA0DANQqAQBcrwMAYOoAADDmAgAAcQIA7KMBAJzaAQDY1gAA0H4BAABxAgCQNQgArBoCAADoAwBg5AEA",
          "dtype": "i4"
         },
         "y0": " ",
         "yaxis": "y"
        },
        {
         "alignmentgroup": "True",
         "hovertemplate": "Functional=Maj2<br>SalePrice=%{y}<extra></extra>",
         "legendgroup": "Maj2",
         "marker": {
          "color": "#19d3f3"
         },
         "name": "Maj2",
         "notched": false,
         "offsetgroup": "Maj2",
         "orientation": "v",
         "showlegend": true,
         "type": "box",
         "x0": " ",
         "xaxis": "x",
         "y": {
          "bdata": "uAUBADjBAQCwrQEAIMsAAAhMAQA=",
          "dtype": "i4"
         },
         "y0": " ",
         "yaxis": "y"
        },
        {
         "alignmentgroup": "True",
         "hovertemplate": "Functional=Sev<br>SalePrice=%{y}<extra></extra>",
         "legendgroup": "Sev",
         "marker": {
          "color": "#FF6692"
         },
         "name": "Sev",
         "notched": false,
         "offsetgroup": "Sev",
         "orientation": "v",
         "showlegend": true,
         "type": "box",
         "x0": " ",
         "xaxis": "x",
         "y": {
          "bdata": "6PcBAA==",
          "dtype": "i4"
         },
         "y0": " ",
         "yaxis": "y"
        }
       ],
       "layout": {
        "boxmode": "group",
        "legend": {
         "title": {
          "text": "Functional"
         },
         "tracegroupgap": 0
        },
        "margin": {
         "t": 60
        },
        "template": {
         "data": {
          "bar": [
           {
            "error_x": {
             "color": "#2a3f5f"
            },
            "error_y": {
             "color": "#2a3f5f"
            },
            "marker": {
             "line": {
              "color": "#E5ECF6",
              "width": 0.5
             },
             "pattern": {
              "fillmode": "overlay",
              "size": 10,
              "solidity": 0.2
             }
            },
            "type": "bar"
           }
          ],
          "barpolar": [
           {
            "marker": {
             "line": {
              "color": "#E5ECF6",
              "width": 0.5
             },
             "pattern": {
              "fillmode": "overlay",
              "size": 10,
              "solidity": 0.2
             }
            },
            "type": "barpolar"
           }
          ],
          "carpet": [
           {
            "aaxis": {
             "endlinecolor": "#2a3f5f",
             "gridcolor": "white",
             "linecolor": "white",
             "minorgridcolor": "white",
             "startlinecolor": "#2a3f5f"
            },
            "baxis": {
             "endlinecolor": "#2a3f5f",
             "gridcolor": "white",
             "linecolor": "white",
             "minorgridcolor": "white",
             "startlinecolor": "#2a3f5f"
            },
            "type": "carpet"
           }
          ],
          "choropleth": [
           {
            "colorbar": {
             "outlinewidth": 0,
             "ticks": ""
            },
            "type": "choropleth"
           }
          ],
          "contour": [
           {
            "colorbar": {
             "outlinewidth": 0,
             "ticks": ""
            },
            "colorscale": [
             [
              0,
              "#0d0887"
             ],
             [
              0.1111111111111111,
              "#46039f"
             ],
             [
              0.2222222222222222,
              "#7201a8"
             ],
             [
              0.3333333333333333,
              "#9c179e"
             ],
             [
              0.4444444444444444,
              "#bd3786"
             ],
             [
              0.5555555555555556,
              "#d8576b"
             ],
             [
              0.6666666666666666,
              "#ed7953"
             ],
             [
              0.7777777777777778,
              "#fb9f3a"
             ],
             [
              0.8888888888888888,
              "#fdca26"
             ],
             [
              1,
              "#f0f921"
             ]
            ],
            "type": "contour"
           }
          ],
          "contourcarpet": [
           {
            "colorbar": {
             "outlinewidth": 0,
             "ticks": ""
            },
            "type": "contourcarpet"
           }
          ],
          "heatmap": [
           {
            "colorbar": {
             "outlinewidth": 0,
             "ticks": ""
            },
            "colorscale": [
             [
              0,
              "#0d0887"
             ],
             [
              0.1111111111111111,
              "#46039f"
             ],
             [
              0.2222222222222222,
              "#7201a8"
             ],
             [
              0.3333333333333333,
              "#9c179e"
             ],
             [
              0.4444444444444444,
              "#bd3786"
             ],
             [
              0.5555555555555556,
              "#d8576b"
             ],
             [
              0.6666666666666666,
              "#ed7953"
             ],
             [
              0.7777777777777778,
              "#fb9f3a"
             ],
             [
              0.8888888888888888,
              "#fdca26"
             ],
             [
              1,
              "#f0f921"
             ]
            ],
            "type": "heatmap"
           }
          ],
          "histogram": [
           {
            "marker": {
             "pattern": {
              "fillmode": "overlay",
              "size": 10,
              "solidity": 0.2
             }
            },
            "type": "histogram"
           }
          ],
          "histogram2d": [
           {
            "colorbar": {
             "outlinewidth": 0,
             "ticks": ""
            },
            "colorscale": [
             [
              0,
              "#0d0887"
             ],
             [
              0.1111111111111111,
              "#46039f"
             ],
             [
              0.2222222222222222,
              "#7201a8"
             ],
             [
              0.3333333333333333,
              "#9c179e"
             ],
             [
              0.4444444444444444,
              "#bd3786"
             ],
             [
              0.5555555555555556,
              "#d8576b"
             ],
             [
              0.6666666666666666,
              "#ed7953"
             ],
             [
              0.7777777777777778,
              "#fb9f3a"
             ],
             [
              0.8888888888888888,
              "#fdca26"
             ],
             [
              1,
              "#f0f921"
             ]
            ],
            "type": "histogram2d"
           }
          ],
          "histogram2dcontour": [
           {
            "colorbar": {
             "outlinewidth": 0,
             "ticks": ""
            },
            "colorscale": [
             [
              0,
              "#0d0887"
             ],
             [
              0.1111111111111111,
              "#46039f"
             ],
             [
              0.2222222222222222,
              "#7201a8"
             ],
             [
              0.3333333333333333,
              "#9c179e"
             ],
             [
              0.4444444444444444,
              "#bd3786"
             ],
             [
              0.5555555555555556,
              "#d8576b"
             ],
             [
              0.6666666666666666,
              "#ed7953"
             ],
             [
              0.7777777777777778,
              "#fb9f3a"
             ],
             [
              0.8888888888888888,
              "#fdca26"
             ],
             [
              1,
              "#f0f921"
             ]
            ],
            "type": "histogram2dcontour"
           }
          ],
          "mesh3d": [
           {
            "colorbar": {
             "outlinewidth": 0,
             "ticks": ""
            },
            "type": "mesh3d"
           }
          ],
          "parcoords": [
           {
            "line": {
             "colorbar": {
              "outlinewidth": 0,
              "ticks": ""
             }
            },
            "type": "parcoords"
           }
          ],
          "pie": [
           {
            "automargin": true,
            "type": "pie"
           }
          ],
          "scatter": [
           {
            "fillpattern": {
             "fillmode": "overlay",
             "size": 10,
             "solidity": 0.2
            },
            "type": "scatter"
           }
          ],
          "scatter3d": [
           {
            "line": {
             "colorbar": {
              "outlinewidth": 0,
              "ticks": ""
             }
            },
            "marker": {
             "colorbar": {
              "outlinewidth": 0,
              "ticks": ""
             }
            },
            "type": "scatter3d"
           }
          ],
          "scattercarpet": [
           {
            "marker": {
             "colorbar": {
              "outlinewidth": 0,
              "ticks": ""
             }
            },
            "type": "scattercarpet"
           }
          ],
          "scattergeo": [
           {
            "marker": {
             "colorbar": {
              "outlinewidth": 0,
              "ticks": ""
             }
            },
            "type": "scattergeo"
           }
          ],
          "scattergl": [
           {
            "marker": {
             "colorbar": {
              "outlinewidth": 0,
              "ticks": ""
             }
            },
            "type": "scattergl"
           }
          ],
          "scattermap": [
           {
            "marker": {
             "colorbar": {
              "outlinewidth": 0,
              "ticks": ""
             }
            },
            "type": "scattermap"
           }
          ],
          "scattermapbox": [
           {
            "marker": {
             "colorbar": {
              "outlinewidth": 0,
              "ticks": ""
             }
            },
            "type": "scattermapbox"
           }
          ],
          "scatterpolar": [
           {
            "marker": {
             "colorbar": {
              "outlinewidth": 0,
              "ticks": ""
             }
            },
            "type": "scatterpolar"
           }
          ],
          "scatterpolargl": [
           {
            "marker": {
             "colorbar": {
              "outlinewidth": 0,
              "ticks": ""
             }
            },
            "type": "scatterpolargl"
           }
          ],
          "scatterternary": [
           {
            "marker": {
             "colorbar": {
              "outlinewidth": 0,
              "ticks": ""
             }
            },
            "type": "scatterternary"
           }
          ],
          "surface": [
           {
            "colorbar": {
             "outlinewidth": 0,
             "ticks": ""
            },
            "colorscale": [
             [
              0,
              "#0d0887"
             ],
             [
              0.1111111111111111,
              "#46039f"
             ],
             [
              0.2222222222222222,
              "#7201a8"
             ],
             [
              0.3333333333333333,
              "#9c179e"
             ],
             [
              0.4444444444444444,
              "#bd3786"
             ],
             [
              0.5555555555555556,
              "#d8576b"
             ],
             [
              0.6666666666666666,
              "#ed7953"
             ],
             [
              0.7777777777777778,
              "#fb9f3a"
             ],
             [
              0.8888888888888888,
              "#fdca26"
             ],
             [
              1,
              "#f0f921"
             ]
            ],
            "type": "surface"
           }
          ],
          "table": [
           {
            "cells": {
             "fill": {
              "color": "#EBF0F8"
             },
             "line": {
              "color": "white"
             }
            },
            "header": {
             "fill": {
              "color": "#C8D4E3"
             },
             "line": {
              "color": "white"
             }
            },
            "type": "table"
           }
          ]
         },
         "layout": {
          "annotationdefaults": {
           "arrowcolor": "#2a3f5f",
           "arrowhead": 0,
           "arrowwidth": 1
          },
          "autotypenumbers": "strict",
          "coloraxis": {
           "colorbar": {
            "outlinewidth": 0,
            "ticks": ""
           }
          },
          "colorscale": {
           "diverging": [
            [
             0,
             "#8e0152"
            ],
            [
             0.1,
             "#c51b7d"
            ],
            [
             0.2,
             "#de77ae"
            ],
            [
             0.3,
             "#f1b6da"
            ],
            [
             0.4,
             "#fde0ef"
            ],
            [
             0.5,
             "#f7f7f7"
            ],
            [
             0.6,
             "#e6f5d0"
            ],
            [
             0.7,
             "#b8e186"
            ],
            [
             0.8,
             "#7fbc41"
            ],
            [
             0.9,
             "#4d9221"
            ],
            [
             1,
             "#276419"
            ]
           ],
           "sequential": [
            [
             0,
             "#0d0887"
            ],
            [
             0.1111111111111111,
             "#46039f"
            ],
            [
             0.2222222222222222,
             "#7201a8"
            ],
            [
             0.3333333333333333,
             "#9c179e"
            ],
            [
             0.4444444444444444,
             "#bd3786"
            ],
            [
             0.5555555555555556,
             "#d8576b"
            ],
            [
             0.6666666666666666,
             "#ed7953"
            ],
            [
             0.7777777777777778,
             "#fb9f3a"
            ],
            [
             0.8888888888888888,
             "#fdca26"
            ],
            [
             1,
             "#f0f921"
            ]
           ],
           "sequentialminus": [
            [
             0,
             "#0d0887"
            ],
            [
             0.1111111111111111,
             "#46039f"
            ],
            [
             0.2222222222222222,
             "#7201a8"
            ],
            [
             0.3333333333333333,
             "#9c179e"
            ],
            [
             0.4444444444444444,
             "#bd3786"
            ],
            [
             0.5555555555555556,
             "#d8576b"
            ],
            [
             0.6666666666666666,
             "#ed7953"
            ],
            [
             0.7777777777777778,
             "#fb9f3a"
            ],
            [
             0.8888888888888888,
             "#fdca26"
            ],
            [
             1,
             "#f0f921"
            ]
           ]
          },
          "colorway": [
           "#636efa",
           "#EF553B",
           "#00cc96",
           "#ab63fa",
           "#FFA15A",
           "#19d3f3",
           "#FF6692",
           "#B6E880",
           "#FF97FF",
           "#FECB52"
          ],
          "font": {
           "color": "#2a3f5f"
          },
          "geo": {
           "bgcolor": "white",
           "lakecolor": "white",
           "landcolor": "#E5ECF6",
           "showlakes": true,
           "showland": true,
           "subunitcolor": "white"
          },
          "hoverlabel": {
           "align": "left"
          },
          "hovermode": "closest",
          "mapbox": {
           "style": "light"
          },
          "paper_bgcolor": "white",
          "plot_bgcolor": "#E5ECF6",
          "polar": {
           "angularaxis": {
            "gridcolor": "white",
            "linecolor": "white",
            "ticks": ""
           },
           "bgcolor": "#E5ECF6",
           "radialaxis": {
            "gridcolor": "white",
            "linecolor": "white",
            "ticks": ""
           }
          },
          "scene": {
           "xaxis": {
            "backgroundcolor": "#E5ECF6",
            "gridcolor": "white",
            "gridwidth": 2,
            "linecolor": "white",
            "showbackground": true,
            "ticks": "",
            "zerolinecolor": "white"
           },
           "yaxis": {
            "backgroundcolor": "#E5ECF6",
            "gridcolor": "white",
            "gridwidth": 2,
            "linecolor": "white",
            "showbackground": true,
            "ticks": "",
            "zerolinecolor": "white"
           },
           "zaxis": {
            "backgroundcolor": "#E5ECF6",
            "gridcolor": "white",
            "gridwidth": 2,
            "linecolor": "white",
            "showbackground": true,
            "ticks": "",
            "zerolinecolor": "white"
           }
          },
          "shapedefaults": {
           "line": {
            "color": "#2a3f5f"
           }
          },
          "ternary": {
           "aaxis": {
            "gridcolor": "white",
            "linecolor": "white",
            "ticks": ""
           },
           "baxis": {
            "gridcolor": "white",
            "linecolor": "white",
            "ticks": ""
           },
           "bgcolor": "#E5ECF6",
           "caxis": {
            "gridcolor": "white",
            "linecolor": "white",
            "ticks": ""
           }
          },
          "title": {
           "x": 0.05
          },
          "xaxis": {
           "automargin": true,
           "gridcolor": "white",
           "linecolor": "white",
           "ticks": "",
           "title": {
            "standoff": 15
           },
           "zerolinecolor": "white",
           "zerolinewidth": 2
          },
          "yaxis": {
           "automargin": true,
           "gridcolor": "white",
           "linecolor": "white",
           "ticks": "",
           "title": {
            "standoff": 15
           },
           "zerolinecolor": "white",
           "zerolinewidth": 2
          }
         }
        },
        "xaxis": {
         "anchor": "y",
         "domain": [
          0,
          1
         ]
        },
        "yaxis": {
         "anchor": "x",
         "domain": [
          0,
          1
         ],
         "title": {
          "text": "SalePrice"
         }
        }
       }
      }
     },
     "metadata": {},
     "output_type": "display_data"
    }
   ],
   "source": [
    "px.box(df, color='Functional', y='SalePrice')"
   ]
  },
  {
   "cell_type": "markdown",
   "id": "7fb6c973",
   "metadata": {},
   "source": [
    "The difference is more palpable when you have a Maj2/Severe deduction. Would potentially merge the Minor & Major Deductions categories:"
   ]
  },
  {
   "cell_type": "code",
   "execution_count": 7,
   "id": "091c95c4",
   "metadata": {},
   "outputs": [],
   "source": [
    "df['Functional'] = df['Functional'].replace({\n",
    "       'Min1': \"Min\",\n",
    "       'Min2': \"Min\",\n",
    "       'Maj1': \"Maj\",\n",
    "       'Maj2': \"Maj\",\n",
    "})"
   ]
  },
  {
   "cell_type": "markdown",
   "id": "cc54956e",
   "metadata": {},
   "source": [
    "I would just keep a binary column that asks if the deduction is in Maj2/Severe category. Will add in hpp.features: `encode_home_func_binary`"
   ]
  },
  {
   "cell_type": "markdown",
   "id": "66a5cd70",
   "metadata": {},
   "source": [
    "MiscFeature: Miscellaneous feature not covered in other categories\n",
    "\t\t\n",
    "       Elev\tElevator\n",
    "       Gar2\t2nd Garage (if not described in garage section)\n",
    "       Othr\tOther\n",
    "       Shed\tShed (over 100 SF)\n",
    "       TenC\tTennis Court\n",
    "       NA\tNone\n",
    "\t\t\n",
    "MiscVal: $Value of miscellaneous feature\n",
    "\n",
    "This one seems relevant. What's more fascinating though is that it has a dollar value. Should it be directly added to the price?"
   ]
  },
  {
   "cell_type": "code",
   "execution_count": 8,
   "id": "d9944602",
   "metadata": {},
   "outputs": [
    {
     "data": {
      "text/plain": [
       "MiscFeature\n",
       "NaN     1406\n",
       "Shed      49\n",
       "Gar2       2\n",
       "Othr       2\n",
       "TenC       1\n",
       "Name: count, dtype: int64"
      ]
     },
     "execution_count": 8,
     "metadata": {},
     "output_type": "execute_result"
    }
   ],
   "source": [
    "df.MiscFeature.value_counts(dropna=False) # only relevant for 52 places"
   ]
  },
  {
   "cell_type": "code",
   "execution_count": 9,
   "id": "3aee7a6d",
   "metadata": {},
   "outputs": [
    {
     "data": {
      "text/plain": [
       "MiscFeature\n",
       "Gar2    11900.000000\n",
       "Othr     1750.000000\n",
       "Shed      697.836735\n",
       "TenC     2000.000000\n",
       "Name: MiscVal, dtype: float64"
      ]
     },
     "execution_count": 9,
     "metadata": {},
     "output_type": "execute_result"
    }
   ],
   "source": [
    "(df >> mask(~X.MiscFeature.isna())).groupby('MiscFeature')['MiscVal'].mean()"
   ]
  },
  {
   "cell_type": "markdown",
   "id": "3c3fa900",
   "metadata": {},
   "source": [
    "Thought: Would remove these features from ML prediction and just ask about each of these special features and add the MiscValue. Then I can see if the error decreases compared to a baseline model."
   ]
  },
  {
   "cell_type": "markdown",
   "id": "e1ba3cc8",
   "metadata": {},
   "source": [
    "cols_to_remove_optional = ['MiscValue', 'MiscFeature']"
   ]
  },
  {
   "cell_type": "markdown",
   "id": "9384dfda",
   "metadata": {},
   "source": [
    "#### <a id='toc1_1_1_2_'></a>[Where are the nulls?](#toc0_)"
   ]
  },
  {
   "cell_type": "code",
   "execution_count": 10,
   "id": "8afaa642",
   "metadata": {},
   "outputs": [
    {
     "data": {
      "text/plain": [
       "PoolQC           0.995205\n",
       "MiscFeature      0.963014\n",
       "Alley            0.937671\n",
       "Fence            0.807534\n",
       "MasVnrType       0.597260\n",
       "FireplaceQu      0.472603\n",
       "LotFrontage      0.177397\n",
       "GarageQual       0.055479\n",
       "GarageFinish     0.055479\n",
       "GarageType       0.055479\n",
       "GarageYrBlt      0.055479\n",
       "GarageCond       0.055479\n",
       "BsmtFinType2     0.026027\n",
       "BsmtExposure     0.026027\n",
       "BsmtCond         0.025342\n",
       "BsmtQual         0.025342\n",
       "BsmtFinType1     0.025342\n",
       "MasVnrArea       0.005479\n",
       "Electrical       0.000685\n",
       "Condition2       0.000000\n",
       "BldgType         0.000000\n",
       "Neighborhood     0.000000\n",
       "LandSlope        0.000000\n",
       "LotConfig        0.000000\n",
       "Condition1       0.000000\n",
       "LandContour      0.000000\n",
       "LotShape         0.000000\n",
       "Street           0.000000\n",
       "LotArea          0.000000\n",
       "MSSubClass       0.000000\n",
       "MSZoning         0.000000\n",
       "Id               0.000000\n",
       "Utilities        0.000000\n",
       "HouseStyle       0.000000\n",
       "Foundation       0.000000\n",
       "ExterQual        0.000000\n",
       "ExterCond        0.000000\n",
       "BsmtUnfSF        0.000000\n",
       "TotalBsmtSF      0.000000\n",
       "Heating          0.000000\n",
       "BsmtFinSF1       0.000000\n",
       "Exterior2nd      0.000000\n",
       "Exterior1st      0.000000\n",
       "RoofMatl         0.000000\n",
       "RoofStyle        0.000000\n",
       "YearRemodAdd     0.000000\n",
       "OverallQual      0.000000\n",
       "YearBuilt        0.000000\n",
       "OverallCond      0.000000\n",
       "BsmtHalfBath     0.000000\n",
       "BsmtFullBath     0.000000\n",
       "GrLivArea        0.000000\n",
       "LowQualFinSF     0.000000\n",
       "2ndFlrSF         0.000000\n",
       "1stFlrSF         0.000000\n",
       "CentralAir       0.000000\n",
       "HeatingQC        0.000000\n",
       "BsmtFinSF2       0.000000\n",
       "Fireplaces       0.000000\n",
       "TotRmsAbvGrd     0.000000\n",
       "KitchenQual      0.000000\n",
       "KitchenAbvGr     0.000000\n",
       "Functional       0.000000\n",
       "FullBath         0.000000\n",
       "HalfBath         0.000000\n",
       "GarageCars       0.000000\n",
       "GarageArea       0.000000\n",
       "BedroomAbvGr     0.000000\n",
       "PavedDrive       0.000000\n",
       "EnclosedPorch    0.000000\n",
       "3SsnPorch        0.000000\n",
       "OpenPorchSF      0.000000\n",
       "WoodDeckSF       0.000000\n",
       "PoolArea         0.000000\n",
       "ScreenPorch      0.000000\n",
       "MiscVal          0.000000\n",
       "MoSold           0.000000\n",
       "YrSold           0.000000\n",
       "SaleType         0.000000\n",
       "SaleCondition    0.000000\n",
       "SalePrice        0.000000\n",
       "dtype: float64"
      ]
     },
     "execution_count": 10,
     "metadata": {},
     "output_type": "execute_result"
    }
   ],
   "source": [
    "df.isna().mean().sort_values(ascending=False)"
   ]
  },
  {
   "cell_type": "markdown",
   "id": "44dfdc35",
   "metadata": {},
   "source": [
    "Let's check the variables with more than 5% of nulls:"
   ]
  },
  {
   "cell_type": "code",
   "execution_count": 11,
   "id": "38da879d",
   "metadata": {},
   "outputs": [
    {
     "name": "stdout",
     "output_type": "stream",
     "text": [
      "PoolQC\n",
      "NaN    1453\n",
      "Gd        3\n",
      "Ex        2\n",
      "Fa        2\n",
      "Name: count, dtype: int64\n",
      "MiscFeature\n",
      "NaN     1406\n",
      "Shed      49\n",
      "Gar2       2\n",
      "Othr       2\n",
      "TenC       1\n",
      "Name: count, dtype: int64\n",
      "Alley\n",
      "NaN     1369\n",
      "Grvl      50\n",
      "Pave      41\n",
      "Name: count, dtype: int64\n",
      "Fence\n",
      "NaN      1179\n",
      "MnPrv     157\n",
      "GdPrv      59\n",
      "GdWo       54\n",
      "MnWw       11\n",
      "Name: count, dtype: int64\n",
      "MasVnrType\n",
      "NaN        872\n",
      "BrkFace    445\n",
      "Stone      128\n",
      "BrkCmn      15\n",
      "Name: count, dtype: int64\n",
      "FireplaceQu\n",
      "NaN    690\n",
      "Gd     380\n",
      "TA     313\n",
      "Fa      33\n",
      "Ex      24\n",
      "Po      20\n",
      "Name: count, dtype: int64\n",
      "LotFrontage\n",
      "NaN      259\n",
      "60.0     143\n",
      "70.0      70\n",
      "80.0      69\n",
      "50.0      57\n",
      "75.0      53\n",
      "65.0      44\n",
      "85.0      40\n",
      "78.0      25\n",
      "21.0      23\n",
      "90.0      23\n",
      "64.0      19\n",
      "24.0      19\n",
      "68.0      19\n",
      "73.0      18\n",
      "63.0      17\n",
      "79.0      17\n",
      "55.0      17\n",
      "72.0      17\n",
      "100.0     16\n",
      "74.0      15\n",
      "51.0      15\n",
      "66.0      15\n",
      "52.0      14\n",
      "59.0      13\n",
      "43.0      12\n",
      "67.0      12\n",
      "71.0      12\n",
      "82.0      12\n",
      "40.0      12\n",
      "57.0      12\n",
      "76.0      11\n",
      "69.0      11\n",
      "34.0      10\n",
      "53.0      10\n",
      "88.0      10\n",
      "92.0      10\n",
      "86.0      10\n",
      "62.0       9\n",
      "77.0       9\n",
      "35.0       9\n",
      "84.0       9\n",
      "44.0       9\n",
      "93.0       8\n",
      "61.0       8\n",
      "98.0       8\n",
      "96.0       8\n",
      "95.0       7\n",
      "58.0       7\n",
      "107.0      7\n",
      "120.0      7\n",
      "41.0       6\n",
      "30.0       6\n",
      "54.0       6\n",
      "36.0       6\n",
      "81.0       6\n",
      "48.0       6\n",
      "110.0      6\n",
      "89.0       6\n",
      "91.0       6\n",
      "105.0      6\n",
      "94.0       6\n",
      "47.0       5\n",
      "37.0       5\n",
      "87.0       5\n",
      "56.0       5\n",
      "83.0       5\n",
      "32.0       5\n",
      "102.0      4\n",
      "42.0       4\n",
      "49.0       4\n",
      "99.0       3\n",
      "45.0       3\n",
      "104.0      3\n",
      "130.0      3\n",
      "108.0      3\n",
      "103.0      3\n",
      "115.0      2\n",
      "101.0      2\n",
      "114.0      2\n",
      "313.0      2\n",
      "122.0      2\n",
      "121.0      2\n",
      "174.0      2\n",
      "134.0      2\n",
      "97.0       2\n",
      "118.0      2\n",
      "109.0      2\n",
      "124.0      2\n",
      "129.0      2\n",
      "116.0      2\n",
      "112.0      1\n",
      "33.0       1\n",
      "140.0      1\n",
      "141.0      1\n",
      "106.0      1\n",
      "137.0      1\n",
      "38.0       1\n",
      "111.0      1\n",
      "150.0      1\n",
      "144.0      1\n",
      "128.0      1\n",
      "39.0       1\n",
      "149.0      1\n",
      "168.0      1\n",
      "138.0      1\n",
      "182.0      1\n",
      "160.0      1\n",
      "152.0      1\n",
      "153.0      1\n",
      "46.0       1\n",
      "Name: count, dtype: int64\n"
     ]
    }
   ],
   "source": [
    "null_series = df.isna().mean().sort_values(ascending=False)\n",
    "cols = null_series[null_series > 0.06].index.to_list()\n",
    "\n",
    "for col in cols:\n",
    "    print(df[col].value_counts(dropna=False)) # would change poolQC to binary, too few examples"
   ]
  },
  {
   "cell_type": "markdown",
   "id": "5d8a7e95",
   "metadata": {},
   "source": [
    "Would check how correlated these things are with the target before making any decitions:"
   ]
  },
  {
   "cell_type": "code",
   "execution_count": 12,
   "id": "e842763e",
   "metadata": {},
   "outputs": [],
   "source": [
    "df['Pool'] = df['PoolQC'].apply(lambda x: 0 if isinstance(x, str) else 1)"
   ]
  },
  {
   "cell_type": "code",
   "execution_count": 14,
   "id": "775d9e53",
   "metadata": {},
   "outputs": [
    {
     "data": {
      "application/vnd.plotly.v1+json": {
       "config": {
        "plotlyServerURL": "https://plot.ly"
       },
       "data": [
        {
         "alignmentgroup": "True",
         "hovertemplate": "PoolQC=unknown<br>SalePrice=%{y}<extra></extra>",
         "legendgroup": "unknown",
         "marker": {
          "color": "#636efa"
         },
         "name": "unknown",
         "notched": false,
         "offsetgroup": "unknown",
         "orientation": "v",
         "showlegend": true,
         "type": "box",
         "x0": " ",
         "xaxis": "x",
         "y": {
          "bdata": "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",
          "dtype": "i4"
         },
         "y0": " ",
         "yaxis": "y"
        },
        {
         "alignmentgroup": "True",
         "hovertemplate": "PoolQC=Ex<br>SalePrice=%{y}<extra></extra>",
         "legendgroup": "Ex",
         "marker": {
          "color": "#EF553B"
         },
         "name": "Ex",
         "notched": false,
         "offsetgroup": "Ex",
         "orientation": "v",
         "showlegend": true,
         "type": "box",
         "x0": " ",
         "xaxis": "x",
         "y": {
          "bdata": "+JUDACheCwA=",
          "dtype": "i4"
         },
         "y0": " ",
         "yaxis": "y"
        },
        {
         "alignmentgroup": "True",
         "hovertemplate": "PoolQC=Fa<br>SalePrice=%{y}<extra></extra>",
         "legendgroup": "Fa",
         "marker": {
          "color": "#00cc96"
         },
         "name": "Fa",
         "notched": false,
         "offsetgroup": "Fa",
         "orientation": "v",
         "showlegend": true,
         "type": "box",
         "x0": " ",
         "xaxis": "x",
         "y": {
          "bdata": "CMMCAJDQAwA=",
          "dtype": "i4"
         },
         "y0": " ",
         "yaxis": "y"
        },
        {
         "alignmentgroup": "True",
         "hovertemplate": "PoolQC=Gd<br>SalePrice=%{y}<extra></extra>",
         "legendgroup": "Gd",
         "marker": {
          "color": "#ab63fa"
         },
         "name": "Gd",
         "notched": false,
         "offsetgroup": "Gd",
         "orientation": "v",
         "showlegend": true,
         "type": "box",
         "x0": " ",
         "xaxis": "x",
         "y": {
          "bdata": "+JsCAABxAgAaMgQA",
          "dtype": "i4"
         },
         "y0": " ",
         "yaxis": "y"
        }
       ],
       "layout": {
        "boxmode": "group",
        "legend": {
         "title": {
          "text": "PoolQC"
         },
         "tracegroupgap": 0
        },
        "margin": {
         "t": 60
        },
        "template": {
         "data": {
          "bar": [
           {
            "error_x": {
             "color": "#2a3f5f"
            },
            "error_y": {
             "color": "#2a3f5f"
            },
            "marker": {
             "line": {
              "color": "#E5ECF6",
              "width": 0.5
             },
             "pattern": {
              "fillmode": "overlay",
              "size": 10,
              "solidity": 0.2
             }
            },
            "type": "bar"
           }
          ],
          "barpolar": [
           {
            "marker": {
             "line": {
              "color": "#E5ECF6",
              "width": 0.5
             },
             "pattern": {
              "fillmode": "overlay",
              "size": 10,
              "solidity": 0.2
             }
            },
            "type": "barpolar"
           }
          ],
          "carpet": [
           {
            "aaxis": {
             "endlinecolor": "#2a3f5f",
             "gridcolor": "white",
             "linecolor": "white",
             "minorgridcolor": "white",
             "startlinecolor": "#2a3f5f"
            },
            "baxis": {
             "endlinecolor": "#2a3f5f",
             "gridcolor": "white",
             "linecolor": "white",
             "minorgridcolor": "white",
             "startlinecolor": "#2a3f5f"
            },
            "type": "carpet"
           }
          ],
          "choropleth": [
           {
            "colorbar": {
             "outlinewidth": 0,
             "ticks": ""
            },
            "type": "choropleth"
           }
          ],
          "contour": [
           {
            "colorbar": {
             "outlinewidth": 0,
             "ticks": ""
            },
            "colorscale": [
             [
              0,
              "#0d0887"
             ],
             [
              0.1111111111111111,
              "#46039f"
             ],
             [
              0.2222222222222222,
              "#7201a8"
             ],
             [
              0.3333333333333333,
              "#9c179e"
             ],
             [
              0.4444444444444444,
              "#bd3786"
             ],
             [
              0.5555555555555556,
              "#d8576b"
             ],
             [
              0.6666666666666666,
              "#ed7953"
             ],
             [
              0.7777777777777778,
              "#fb9f3a"
             ],
             [
              0.8888888888888888,
              "#fdca26"
             ],
             [
              1,
              "#f0f921"
             ]
            ],
            "type": "contour"
           }
          ],
          "contourcarpet": [
           {
            "colorbar": {
             "outlinewidth": 0,
             "ticks": ""
            },
            "type": "contourcarpet"
           }
          ],
          "heatmap": [
           {
            "colorbar": {
             "outlinewidth": 0,
             "ticks": ""
            },
            "colorscale": [
             [
              0,
              "#0d0887"
             ],
             [
              0.1111111111111111,
              "#46039f"
             ],
             [
              0.2222222222222222,
              "#7201a8"
             ],
             [
              0.3333333333333333,
              "#9c179e"
             ],
             [
              0.4444444444444444,
              "#bd3786"
             ],
             [
              0.5555555555555556,
              "#d8576b"
             ],
             [
              0.6666666666666666,
              "#ed7953"
             ],
             [
              0.7777777777777778,
              "#fb9f3a"
             ],
             [
              0.8888888888888888,
              "#fdca26"
             ],
             [
              1,
              "#f0f921"
             ]
            ],
            "type": "heatmap"
           }
          ],
          "histogram": [
           {
            "marker": {
             "pattern": {
              "fillmode": "overlay",
              "size": 10,
              "solidity": 0.2
             }
            },
            "type": "histogram"
           }
          ],
          "histogram2d": [
           {
            "colorbar": {
             "outlinewidth": 0,
             "ticks": ""
            },
            "colorscale": [
             [
              0,
              "#0d0887"
             ],
             [
              0.1111111111111111,
              "#46039f"
             ],
             [
              0.2222222222222222,
              "#7201a8"
             ],
             [
              0.3333333333333333,
              "#9c179e"
             ],
             [
              0.4444444444444444,
              "#bd3786"
             ],
             [
              0.5555555555555556,
              "#d8576b"
             ],
             [
              0.6666666666666666,
              "#ed7953"
             ],
             [
              0.7777777777777778,
              "#fb9f3a"
             ],
             [
              0.8888888888888888,
              "#fdca26"
             ],
             [
              1,
              "#f0f921"
             ]
            ],
            "type": "histogram2d"
           }
          ],
          "histogram2dcontour": [
           {
            "colorbar": {
             "outlinewidth": 0,
             "ticks": ""
            },
            "colorscale": [
             [
              0,
              "#0d0887"
             ],
             [
              0.1111111111111111,
              "#46039f"
             ],
             [
              0.2222222222222222,
              "#7201a8"
             ],
             [
              0.3333333333333333,
              "#9c179e"
             ],
             [
              0.4444444444444444,
              "#bd3786"
             ],
             [
              0.5555555555555556,
              "#d8576b"
             ],
             [
              0.6666666666666666,
              "#ed7953"
             ],
             [
              0.7777777777777778,
              "#fb9f3a"
             ],
             [
              0.8888888888888888,
              "#fdca26"
             ],
             [
              1,
              "#f0f921"
             ]
            ],
            "type": "histogram2dcontour"
           }
          ],
          "mesh3d": [
           {
            "colorbar": {
             "outlinewidth": 0,
             "ticks": ""
            },
            "type": "mesh3d"
           }
          ],
          "parcoords": [
           {
            "line": {
             "colorbar": {
              "outlinewidth": 0,
              "ticks": ""
             }
            },
            "type": "parcoords"
           }
          ],
          "pie": [
           {
            "automargin": true,
            "type": "pie"
           }
          ],
          "scatter": [
           {
            "fillpattern": {
             "fillmode": "overlay",
             "size": 10,
             "solidity": 0.2
            },
            "type": "scatter"
           }
          ],
          "scatter3d": [
           {
            "line": {
             "colorbar": {
              "outlinewidth": 0,
              "ticks": ""
             }
            },
            "marker": {
             "colorbar": {
              "outlinewidth": 0,
              "ticks": ""
             }
            },
            "type": "scatter3d"
           }
          ],
          "scattercarpet": [
           {
            "marker": {
             "colorbar": {
              "outlinewidth": 0,
              "ticks": ""
             }
            },
            "type": "scattercarpet"
           }
          ],
          "scattergeo": [
           {
            "marker": {
             "colorbar": {
              "outlinewidth": 0,
              "ticks": ""
             }
            },
            "type": "scattergeo"
           }
          ],
          "scattergl": [
           {
            "marker": {
             "colorbar": {
              "outlinewidth": 0,
              "ticks": ""
             }
            },
            "type": "scattergl"
           }
          ],
          "scattermap": [
           {
            "marker": {
             "colorbar": {
              "outlinewidth": 0,
              "ticks": ""
             }
            },
            "type": "scattermap"
           }
          ],
          "scattermapbox": [
           {
            "marker": {
             "colorbar": {
              "outlinewidth": 0,
              "ticks": ""
             }
            },
            "type": "scattermapbox"
           }
          ],
          "scatterpolar": [
           {
            "marker": {
             "colorbar": {
              "outlinewidth": 0,
              "ticks": ""
             }
            },
            "type": "scatterpolar"
           }
          ],
          "scatterpolargl": [
           {
            "marker": {
             "colorbar": {
              "outlinewidth": 0,
              "ticks": ""
             }
            },
            "type": "scatterpolargl"
           }
          ],
          "scatterternary": [
           {
            "marker": {
             "colorbar": {
              "outlinewidth": 0,
              "ticks": ""
             }
            },
            "type": "scatterternary"
           }
          ],
          "surface": [
           {
            "colorbar": {
             "outlinewidth": 0,
             "ticks": ""
            },
            "colorscale": [
             [
              0,
              "#0d0887"
             ],
             [
              0.1111111111111111,
              "#46039f"
             ],
             [
              0.2222222222222222,
              "#7201a8"
             ],
             [
              0.3333333333333333,
              "#9c179e"
             ],
             [
              0.4444444444444444,
              "#bd3786"
             ],
             [
              0.5555555555555556,
              "#d8576b"
             ],
             [
              0.6666666666666666,
              "#ed7953"
             ],
             [
              0.7777777777777778,
              "#fb9f3a"
             ],
             [
              0.8888888888888888,
              "#fdca26"
             ],
             [
              1,
              "#f0f921"
             ]
            ],
            "type": "surface"
           }
          ],
          "table": [
           {
            "cells": {
             "fill": {
              "color": "#EBF0F8"
             },
             "line": {
              "color": "white"
             }
            },
            "header": {
             "fill": {
              "color": "#C8D4E3"
             },
             "line": {
              "color": "white"
             }
            },
            "type": "table"
           }
          ]
         },
         "layout": {
          "annotationdefaults": {
           "arrowcolor": "#2a3f5f",
           "arrowhead": 0,
           "arrowwidth": 1
          },
          "autotypenumbers": "strict",
          "coloraxis": {
           "colorbar": {
            "outlinewidth": 0,
            "ticks": ""
           }
          },
          "colorscale": {
           "diverging": [
            [
             0,
             "#8e0152"
            ],
            [
             0.1,
             "#c51b7d"
            ],
            [
             0.2,
             "#de77ae"
            ],
            [
             0.3,
             "#f1b6da"
            ],
            [
             0.4,
             "#fde0ef"
            ],
            [
             0.5,
             "#f7f7f7"
            ],
            [
             0.6,
             "#e6f5d0"
            ],
            [
             0.7,
             "#b8e186"
            ],
            [
             0.8,
             "#7fbc41"
            ],
            [
             0.9,
             "#4d9221"
            ],
            [
             1,
             "#276419"
            ]
           ],
           "sequential": [
            [
             0,
             "#0d0887"
            ],
            [
             0.1111111111111111,
             "#46039f"
            ],
            [
             0.2222222222222222,
             "#7201a8"
            ],
            [
             0.3333333333333333,
             "#9c179e"
            ],
            [
             0.4444444444444444,
             "#bd3786"
            ],
            [
             0.5555555555555556,
             "#d8576b"
            ],
            [
             0.6666666666666666,
             "#ed7953"
            ],
            [
             0.7777777777777778,
             "#fb9f3a"
            ],
            [
             0.8888888888888888,
             "#fdca26"
            ],
            [
             1,
             "#f0f921"
            ]
           ],
           "sequentialminus": [
            [
             0,
             "#0d0887"
            ],
            [
             0.1111111111111111,
             "#46039f"
            ],
            [
             0.2222222222222222,
             "#7201a8"
            ],
            [
             0.3333333333333333,
             "#9c179e"
            ],
            [
             0.4444444444444444,
             "#bd3786"
            ],
            [
             0.5555555555555556,
             "#d8576b"
            ],
            [
             0.6666666666666666,
             "#ed7953"
            ],
            [
             0.7777777777777778,
             "#fb9f3a"
            ],
            [
             0.8888888888888888,
             "#fdca26"
            ],
            [
             1,
             "#f0f921"
            ]
           ]
          },
          "colorway": [
           "#636efa",
           "#EF553B",
           "#00cc96",
           "#ab63fa",
           "#FFA15A",
           "#19d3f3",
           "#FF6692",
           "#B6E880",
           "#FF97FF",
           "#FECB52"
          ],
          "font": {
           "color": "#2a3f5f"
          },
          "geo": {
           "bgcolor": "white",
           "lakecolor": "white",
           "landcolor": "#E5ECF6",
           "showlakes": true,
           "showland": true,
           "subunitcolor": "white"
          },
          "hoverlabel": {
           "align": "left"
          },
          "hovermode": "closest",
          "mapbox": {
           "style": "light"
          },
          "paper_bgcolor": "white",
          "plot_bgcolor": "#E5ECF6",
          "polar": {
           "angularaxis": {
            "gridcolor": "white",
            "linecolor": "white",
            "ticks": ""
           },
           "bgcolor": "#E5ECF6",
           "radialaxis": {
            "gridcolor": "white",
            "linecolor": "white",
            "ticks": ""
           }
          },
          "scene": {
           "xaxis": {
            "backgroundcolor": "#E5ECF6",
            "gridcolor": "white",
            "gridwidth": 2,
            "linecolor": "white",
            "showbackground": true,
            "ticks": "",
            "zerolinecolor": "white"
           },
           "yaxis": {
            "backgroundcolor": "#E5ECF6",
            "gridcolor": "white",
            "gridwidth": 2,
            "linecolor": "white",
            "showbackground": true,
            "ticks": "",
            "zerolinecolor": "white"
           },
           "zaxis": {
            "backgroundcolor": "#E5ECF6",
            "gridcolor": "white",
            "gridwidth": 2,
            "linecolor": "white",
            "showbackground": true,
            "ticks": "",
            "zerolinecolor": "white"
           }
          },
          "shapedefaults": {
           "line": {
            "color": "#2a3f5f"
           }
          },
          "ternary": {
           "aaxis": {
            "gridcolor": "white",
            "linecolor": "white",
            "ticks": ""
           },
           "baxis": {
            "gridcolor": "white",
            "linecolor": "white",
            "ticks": ""
           },
           "bgcolor": "#E5ECF6",
           "caxis": {
            "gridcolor": "white",
            "linecolor": "white",
            "ticks": ""
           }
          },
          "title": {
           "x": 0.05
          },
          "xaxis": {
           "automargin": true,
           "gridcolor": "white",
           "linecolor": "white",
           "ticks": "",
           "title": {
            "standoff": 15
           },
           "zerolinecolor": "white",
           "zerolinewidth": 2
          },
          "yaxis": {
           "automargin": true,
           "gridcolor": "white",
           "linecolor": "white",
           "ticks": "",
           "title": {
            "standoff": 15
           },
           "zerolinecolor": "white",
           "zerolinewidth": 2
          }
         }
        },
        "xaxis": {
         "anchor": "y",
         "domain": [
          0,
          1
         ]
        },
        "yaxis": {
         "anchor": "x",
         "domain": [
          0,
          1
         ],
         "title": {
          "text": "SalePrice"
         }
        }
       }
      }
     },
     "metadata": {},
     "output_type": "display_data"
    },
    {
     "data": {
      "application/vnd.plotly.v1+json": {
       "config": {
        "plotlyServerURL": "https://plot.ly"
       },
       "data": [
        {
         "alignmentgroup": "True",
         "hovertemplate": "MiscFeature=unknown<br>SalePrice=%{y}<extra></extra>",
         "legendgroup": "unknown",
         "marker": {
          "color": "#636efa"
         },
         "name": "unknown",
         "notched": false,
         "offsetgroup": "unknown",
         "orientation": "v",
         "showlegend": true,
         "type": "box",
         "x0": " ",
         "xaxis": "x",
         "y": {
          "bdata": "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",
          "dtype": "i4"
         },
         "y0": " ",
         "yaxis": "y"
        },
        {
         "alignmentgroup": "True",
         "hovertemplate": "MiscFeature=Shed<br>SalePrice=%{y}<extra></extra>",
         "legendgroup": "Shed",
         "marker": {
          "color": "#EF553B"
         },
         "name": "Shed",
         "notched": false,
         "offsetgroup": "Shed",
         "orientation": "v",
         "showlegend": true,
         "type": "box",
         "x0": " ",
         "xaxis": "x",
         "y": {
          "bdata": "mC4CAEANAwAIRgIAkF8BAES/AQA0kgIAqNICADhEAQC29wEAoIYBANZ3AgAIOgQA1CoBAFZ+AwAEFwMABKABALCtAQDA1AEA4CICACSEAgCAJgQAjDYBACBCAgB8IgIAgDICALTWAQBIAQIADPIBAJT/AgAAcQIA+B4CAMT3AgBADQMAudoAAMxoAgDo9wEAIEICABTgAQDAVwEA4J8CAGg8AQAQmAIAAHECALh8AgBSxQEASOICAND7AQAA6AMABBEEAA==",
          "dtype": "i4"
         },
         "y0": " ",
         "yaxis": "y"
        },
        {
         "alignmentgroup": "True",
         "hovertemplate": "MiscFeature=Gar2<br>SalePrice=%{y}<extra></extra>",
         "legendgroup": "Gar2",
         "marker": {
          "color": "#00cc96"
         },
         "name": "Gar2",
         "notched": false,
         "offsetgroup": "Gar2",
         "orientation": "v",
         "showlegend": true,
         "type": "box",
         "x0": " ",
         "xaxis": "x",
         "y": {
          "bdata": "zE8CADDmAgA=",
          "dtype": "i4"
         },
         "y0": " ",
         "yaxis": "y"
        },
        {
         "alignmentgroup": "True",
         "hovertemplate": "MiscFeature=Othr<br>SalePrice=%{y}<extra></extra>",
         "legendgroup": "Othr",
         "marker": {
          "color": "#ab63fa"
         },
         "name": "Othr",
         "notched": false,
         "offsetgroup": "Othr",
         "orientation": "v",
         "showlegend": true,
         "type": "box",
         "x0": " ",
         "xaxis": "x",
         "y": {
          "bdata": "2NYAAIgHAgA=",
          "dtype": "i4"
         },
         "y0": " ",
         "yaxis": "y"
        },
        {
         "alignmentgroup": "True",
         "hovertemplate": "MiscFeature=TenC<br>SalePrice=%{y}<extra></extra>",
         "legendgroup": "TenC",
         "marker": {
          "color": "#FFA15A"
         },
         "name": "TenC",
         "notched": false,
         "offsetgroup": "TenC",
         "orientation": "v",
         "showlegend": true,
         "type": "box",
         "x0": " ",
         "xaxis": "x",
         "y": {
          "bdata": "kNADAA==",
          "dtype": "i4"
         },
         "y0": " ",
         "yaxis": "y"
        }
       ],
       "layout": {
        "boxmode": "group",
        "legend": {
         "title": {
          "text": "MiscFeature"
         },
         "tracegroupgap": 0
        },
        "margin": {
         "t": 60
        },
        "template": {
         "data": {
          "bar": [
           {
            "error_x": {
             "color": "#2a3f5f"
            },
            "error_y": {
             "color": "#2a3f5f"
            },
            "marker": {
             "line": {
              "color": "#E5ECF6",
              "width": 0.5
             },
             "pattern": {
              "fillmode": "overlay",
              "size": 10,
              "solidity": 0.2
             }
            },
            "type": "bar"
           }
          ],
          "barpolar": [
           {
            "marker": {
             "line": {
              "color": "#E5ECF6",
              "width": 0.5
             },
             "pattern": {
              "fillmode": "overlay",
              "size": 10,
              "solidity": 0.2
             }
            },
            "type": "barpolar"
           }
          ],
          "carpet": [
           {
            "aaxis": {
             "endlinecolor": "#2a3f5f",
             "gridcolor": "white",
             "linecolor": "white",
             "minorgridcolor": "white",
             "startlinecolor": "#2a3f5f"
            },
            "baxis": {
             "endlinecolor": "#2a3f5f",
             "gridcolor": "white",
             "linecolor": "white",
             "minorgridcolor": "white",
             "startlinecolor": "#2a3f5f"
            },
            "type": "carpet"
           }
          ],
          "choropleth": [
           {
            "colorbar": {
             "outlinewidth": 0,
             "ticks": ""
            },
            "type": "choropleth"
           }
          ],
          "contour": [
           {
            "colorbar": {
             "outlinewidth": 0,
             "ticks": ""
            },
            "colorscale": [
             [
              0,
              "#0d0887"
             ],
             [
              0.1111111111111111,
              "#46039f"
             ],
             [
              0.2222222222222222,
              "#7201a8"
             ],
             [
              0.3333333333333333,
              "#9c179e"
             ],
             [
              0.4444444444444444,
              "#bd3786"
             ],
             [
              0.5555555555555556,
              "#d8576b"
             ],
             [
              0.6666666666666666,
              "#ed7953"
             ],
             [
              0.7777777777777778,
              "#fb9f3a"
             ],
             [
              0.8888888888888888,
              "#fdca26"
             ],
             [
              1,
              "#f0f921"
             ]
            ],
            "type": "contour"
           }
          ],
          "contourcarpet": [
           {
            "colorbar": {
             "outlinewidth": 0,
             "ticks": ""
            },
            "type": "contourcarpet"
           }
          ],
          "heatmap": [
           {
            "colorbar": {
             "outlinewidth": 0,
             "ticks": ""
            },
            "colorscale": [
             [
              0,
              "#0d0887"
             ],
             [
              0.1111111111111111,
              "#46039f"
             ],
             [
              0.2222222222222222,
              "#7201a8"
             ],
             [
              0.3333333333333333,
              "#9c179e"
             ],
             [
              0.4444444444444444,
              "#bd3786"
             ],
             [
              0.5555555555555556,
              "#d8576b"
             ],
             [
              0.6666666666666666,
              "#ed7953"
             ],
             [
              0.7777777777777778,
              "#fb9f3a"
             ],
             [
              0.8888888888888888,
              "#fdca26"
             ],
             [
              1,
              "#f0f921"
             ]
            ],
            "type": "heatmap"
           }
          ],
          "histogram": [
           {
            "marker": {
             "pattern": {
              "fillmode": "overlay",
              "size": 10,
              "solidity": 0.2
             }
            },
            "type": "histogram"
           }
          ],
          "histogram2d": [
           {
            "colorbar": {
             "outlinewidth": 0,
             "ticks": ""
            },
            "colorscale": [
             [
              0,
              "#0d0887"
             ],
             [
              0.1111111111111111,
              "#46039f"
             ],
             [
              0.2222222222222222,
              "#7201a8"
             ],
             [
              0.3333333333333333,
              "#9c179e"
             ],
             [
              0.4444444444444444,
              "#bd3786"
             ],
             [
              0.5555555555555556,
              "#d8576b"
             ],
             [
              0.6666666666666666,
              "#ed7953"
             ],
             [
              0.7777777777777778,
              "#fb9f3a"
             ],
             [
              0.8888888888888888,
              "#fdca26"
             ],
             [
              1,
              "#f0f921"
             ]
            ],
            "type": "histogram2d"
           }
          ],
          "histogram2dcontour": [
           {
            "colorbar": {
             "outlinewidth": 0,
             "ticks": ""
            },
            "colorscale": [
             [
              0,
              "#0d0887"
             ],
             [
              0.1111111111111111,
              "#46039f"
             ],
             [
              0.2222222222222222,
              "#7201a8"
             ],
             [
              0.3333333333333333,
              "#9c179e"
             ],
             [
              0.4444444444444444,
              "#bd3786"
             ],
             [
              0.5555555555555556,
              "#d8576b"
             ],
             [
              0.6666666666666666,
              "#ed7953"
             ],
             [
              0.7777777777777778,
              "#fb9f3a"
             ],
             [
              0.8888888888888888,
              "#fdca26"
             ],
             [
              1,
              "#f0f921"
             ]
            ],
            "type": "histogram2dcontour"
           }
          ],
          "mesh3d": [
           {
            "colorbar": {
             "outlinewidth": 0,
             "ticks": ""
            },
            "type": "mesh3d"
           }
          ],
          "parcoords": [
           {
            "line": {
             "colorbar": {
              "outlinewidth": 0,
              "ticks": ""
             }
            },
            "type": "parcoords"
           }
          ],
          "pie": [
           {
            "automargin": true,
            "type": "pie"
           }
          ],
          "scatter": [
           {
            "fillpattern": {
             "fillmode": "overlay",
             "size": 10,
             "solidity": 0.2
            },
            "type": "scatter"
           }
          ],
          "scatter3d": [
           {
            "line": {
             "colorbar": {
              "outlinewidth": 0,
              "ticks": ""
             }
            },
            "marker": {
             "colorbar": {
              "outlinewidth": 0,
              "ticks": ""
             }
            },
            "type": "scatter3d"
           }
          ],
          "scattercarpet": [
           {
            "marker": {
             "colorbar": {
              "outlinewidth": 0,
              "ticks": ""
             }
            },
            "type": "scattercarpet"
           }
          ],
          "scattergeo": [
           {
            "marker": {
             "colorbar": {
              "outlinewidth": 0,
              "ticks": ""
             }
            },
            "type": "scattergeo"
           }
          ],
          "scattergl": [
           {
            "marker": {
             "colorbar": {
              "outlinewidth": 0,
              "ticks": ""
             }
            },
            "type": "scattergl"
           }
          ],
          "scattermap": [
           {
            "marker": {
             "colorbar": {
              "outlinewidth": 0,
              "ticks": ""
             }
            },
            "type": "scattermap"
           }
          ],
          "scattermapbox": [
           {
            "marker": {
             "colorbar": {
              "outlinewidth": 0,
              "ticks": ""
             }
            },
            "type": "scattermapbox"
           }
          ],
          "scatterpolar": [
           {
            "marker": {
             "colorbar": {
              "outlinewidth": 0,
              "ticks": ""
             }
            },
            "type": "scatterpolar"
           }
          ],
          "scatterpolargl": [
           {
            "marker": {
             "colorbar": {
              "outlinewidth": 0,
              "ticks": ""
             }
            },
            "type": "scatterpolargl"
           }
          ],
          "scatterternary": [
           {
            "marker": {
             "colorbar": {
              "outlinewidth": 0,
              "ticks": ""
             }
            },
            "type": "scatterternary"
           }
          ],
          "surface": [
           {
            "colorbar": {
             "outlinewidth": 0,
             "ticks": ""
            },
            "colorscale": [
             [
              0,
              "#0d0887"
             ],
             [
              0.1111111111111111,
              "#46039f"
             ],
             [
              0.2222222222222222,
              "#7201a8"
             ],
             [
              0.3333333333333333,
              "#9c179e"
             ],
             [
              0.4444444444444444,
              "#bd3786"
             ],
             [
              0.5555555555555556,
              "#d8576b"
             ],
             [
              0.6666666666666666,
              "#ed7953"
             ],
             [
              0.7777777777777778,
              "#fb9f3a"
             ],
             [
              0.8888888888888888,
              "#fdca26"
             ],
             [
              1,
              "#f0f921"
             ]
            ],
            "type": "surface"
           }
          ],
          "table": [
           {
            "cells": {
             "fill": {
              "color": "#EBF0F8"
             },
             "line": {
              "color": "white"
             }
            },
            "header": {
             "fill": {
              "color": "#C8D4E3"
             },
             "line": {
              "color": "white"
             }
            },
            "type": "table"
           }
          ]
         },
         "layout": {
          "annotationdefaults": {
           "arrowcolor": "#2a3f5f",
           "arrowhead": 0,
           "arrowwidth": 1
          },
          "autotypenumbers": "strict",
          "coloraxis": {
           "colorbar": {
            "outlinewidth": 0,
            "ticks": ""
           }
          },
          "colorscale": {
           "diverging": [
            [
             0,
             "#8e0152"
            ],
            [
             0.1,
             "#c51b7d"
            ],
            [
             0.2,
             "#de77ae"
            ],
            [
             0.3,
             "#f1b6da"
            ],
            [
             0.4,
             "#fde0ef"
            ],
            [
             0.5,
             "#f7f7f7"
            ],
            [
             0.6,
             "#e6f5d0"
            ],
            [
             0.7,
             "#b8e186"
            ],
            [
             0.8,
             "#7fbc41"
            ],
            [
             0.9,
             "#4d9221"
            ],
            [
             1,
             "#276419"
            ]
           ],
           "sequential": [
            [
             0,
             "#0d0887"
            ],
            [
             0.1111111111111111,
             "#46039f"
            ],
            [
             0.2222222222222222,
             "#7201a8"
            ],
            [
             0.3333333333333333,
             "#9c179e"
            ],
            [
             0.4444444444444444,
             "#bd3786"
            ],
            [
             0.5555555555555556,
             "#d8576b"
            ],
            [
             0.6666666666666666,
             "#ed7953"
            ],
            [
             0.7777777777777778,
             "#fb9f3a"
            ],
            [
             0.8888888888888888,
             "#fdca26"
            ],
            [
             1,
             "#f0f921"
            ]
           ],
           "sequentialminus": [
            [
             0,
             "#0d0887"
            ],
            [
             0.1111111111111111,
             "#46039f"
            ],
            [
             0.2222222222222222,
             "#7201a8"
            ],
            [
             0.3333333333333333,
             "#9c179e"
            ],
            [
             0.4444444444444444,
             "#bd3786"
            ],
            [
             0.5555555555555556,
             "#d8576b"
            ],
            [
             0.6666666666666666,
             "#ed7953"
            ],
            [
             0.7777777777777778,
             "#fb9f3a"
            ],
            [
             0.8888888888888888,
             "#fdca26"
            ],
            [
             1,
             "#f0f921"
            ]
           ]
          },
          "colorway": [
           "#636efa",
           "#EF553B",
           "#00cc96",
           "#ab63fa",
           "#FFA15A",
           "#19d3f3",
           "#FF6692",
           "#B6E880",
           "#FF97FF",
           "#FECB52"
          ],
          "font": {
           "color": "#2a3f5f"
          },
          "geo": {
           "bgcolor": "white",
           "lakecolor": "white",
           "landcolor": "#E5ECF6",
           "showlakes": true,
           "showland": true,
           "subunitcolor": "white"
          },
          "hoverlabel": {
           "align": "left"
          },
          "hovermode": "closest",
          "mapbox": {
           "style": "light"
          },
          "paper_bgcolor": "white",
          "plot_bgcolor": "#E5ECF6",
          "polar": {
           "angularaxis": {
            "gridcolor": "white",
            "linecolor": "white",
            "ticks": ""
           },
           "bgcolor": "#E5ECF6",
           "radialaxis": {
            "gridcolor": "white",
            "linecolor": "white",
            "ticks": ""
           }
          },
          "scene": {
           "xaxis": {
            "backgroundcolor": "#E5ECF6",
            "gridcolor": "white",
            "gridwidth": 2,
            "linecolor": "white",
            "showbackground": true,
            "ticks": "",
            "zerolinecolor": "white"
           },
           "yaxis": {
            "backgroundcolor": "#E5ECF6",
            "gridcolor": "white",
            "gridwidth": 2,
            "linecolor": "white",
            "showbackground": true,
            "ticks": "",
            "zerolinecolor": "white"
           },
           "zaxis": {
            "backgroundcolor": "#E5ECF6",
            "gridcolor": "white",
            "gridwidth": 2,
            "linecolor": "white",
            "showbackground": true,
            "ticks": "",
            "zerolinecolor": "white"
           }
          },
          "shapedefaults": {
           "line": {
            "color": "#2a3f5f"
           }
          },
          "ternary": {
           "aaxis": {
            "gridcolor": "white",
            "linecolor": "white",
            "ticks": ""
           },
           "baxis": {
            "gridcolor": "white",
            "linecolor": "white",
            "ticks": ""
           },
           "bgcolor": "#E5ECF6",
           "caxis": {
            "gridcolor": "white",
            "linecolor": "white",
            "ticks": ""
           }
          },
          "title": {
           "x": 0.05
          },
          "xaxis": {
           "automargin": true,
           "gridcolor": "white",
           "linecolor": "white",
           "ticks": "",
           "title": {
            "standoff": 15
           },
           "zerolinecolor": "white",
           "zerolinewidth": 2
          },
          "yaxis": {
           "automargin": true,
           "gridcolor": "white",
           "linecolor": "white",
           "ticks": "",
           "title": {
            "standoff": 15
           },
           "zerolinecolor": "white",
           "zerolinewidth": 2
          }
         }
        },
        "xaxis": {
         "anchor": "y",
         "domain": [
          0,
          1
         ]
        },
        "yaxis": {
         "anchor": "x",
         "domain": [
          0,
          1
         ],
         "title": {
          "text": "SalePrice"
         }
        }
       }
      }
     },
     "metadata": {},
     "output_type": "display_data"
    },
    {
     "data": {
      "application/vnd.plotly.v1+json": {
       "config": {
        "plotlyServerURL": "https://plot.ly"
       },
       "data": [
        {
         "alignmentgroup": "True",
         "hovertemplate": "Alley=unknown<br>SalePrice=%{y}<extra></extra>",
         "legendgroup": "unknown",
         "marker": {
          "color": "#636efa"
         },
         "name": "unknown",
         "notched": false,
         "offsetgroup": "unknown",
         "orientation": "v",
         "showlegend": true,
         "type": "box",
         "x0": " ",
         "xaxis": "x",
         "y": {
          "bdata": "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",
          "dtype": "i4"
         },
         "y0": " ",
         "yaxis": "y"
        },
        {
         "alignmentgroup": "True",
         "hovertemplate": "Alley=Grvl<br>SalePrice=%{y}<extra></extra>",
         "legendgroup": "Grvl",
         "marker": {
          "color": "#EF553B"
         },
         "name": "Grvl",
         "notched": false,
         "offsetgroup": "Grvl",
         "orientation": "v",
         "showlegend": true,
         "type": "box",
         "x0": " ",
         "xaxis": "x",
         "y": {
          "bdata": "iCACALCtAQCsfgIAoIYBALCtAQD4oQEAKBcCACgdAQDcEgIAnF0BAFC3AgDY0AEAOMEBAFgPAgCwrQEA0H4BAOh0AgBU5gEACp8BAKwBAgBIvwEAuAUBAGDkAQBYDwIA2FMBAAxvAgBYkgEAoAMCAPR4AQAA9AEAIMUBADxnAgAsWQIABKABAECQAgCQXwEAEJgCAOAiAgA4wQEAwNQBAEjoAQDc+QEAAOgDABTNAAAIyQEAhOQAAEATAgAomgEA4CICAPT7AAA=",
          "dtype": "i4"
         },
         "y0": " ",
         "yaxis": "y"
        },
        {
         "alignmentgroup": "True",
         "hovertemplate": "Alley=Pave<br>SalePrice=%{y}<extra></extra>",
         "legendgroup": "Pave",
         "marker": {
          "color": "#00cc96"
         },
         "name": "Pave",
         "notched": false,
         "offsetgroup": "Pave",
         "orientation": "v",
         "showlegend": true,
         "type": "box",
         "x0": " ",
         "xaxis": "x",
         "y": {
          "bdata": "QJwAANShAgCUggIAgK8CAMBRAgCo0gIAXIMCAJilAwDkRQMAaDYCABjwAQBm3QIAeF0CAMDOAgCArwIAUDoCANhNAgBADQMAym4CAKD9AgB4kQEA+w4EANShAgDIvAIASGsBAMg/AgDYTQIAnFcCAKWmAgDcDAMAiAEDAABxAgB8nwIAsKcCABTBAgAEMAMAkNwBABgzAgC4fAIAmCgDAKjSAgA=",
          "dtype": "i4"
         },
         "y0": " ",
         "yaxis": "y"
        }
       ],
       "layout": {
        "boxmode": "group",
        "legend": {
         "title": {
          "text": "Alley"
         },
         "tracegroupgap": 0
        },
        "margin": {
         "t": 60
        },
        "template": {
         "data": {
          "bar": [
           {
            "error_x": {
             "color": "#2a3f5f"
            },
            "error_y": {
             "color": "#2a3f5f"
            },
            "marker": {
             "line": {
              "color": "#E5ECF6",
              "width": 0.5
             },
             "pattern": {
              "fillmode": "overlay",
              "size": 10,
              "solidity": 0.2
             }
            },
            "type": "bar"
           }
          ],
          "barpolar": [
           {
            "marker": {
             "line": {
              "color": "#E5ECF6",
              "width": 0.5
             },
             "pattern": {
              "fillmode": "overlay",
              "size": 10,
              "solidity": 0.2
             }
            },
            "type": "barpolar"
           }
          ],
          "carpet": [
           {
            "aaxis": {
             "endlinecolor": "#2a3f5f",
             "gridcolor": "white",
             "linecolor": "white",
             "minorgridcolor": "white",
             "startlinecolor": "#2a3f5f"
            },
            "baxis": {
             "endlinecolor": "#2a3f5f",
             "gridcolor": "white",
             "linecolor": "white",
             "minorgridcolor": "white",
             "startlinecolor": "#2a3f5f"
            },
            "type": "carpet"
           }
          ],
          "choropleth": [
           {
            "colorbar": {
             "outlinewidth": 0,
             "ticks": ""
            },
            "type": "choropleth"
           }
          ],
          "contour": [
           {
            "colorbar": {
             "outlinewidth": 0,
             "ticks": ""
            },
            "colorscale": [
             [
              0,
              "#0d0887"
             ],
             [
              0.1111111111111111,
              "#46039f"
             ],
             [
              0.2222222222222222,
              "#7201a8"
             ],
             [
              0.3333333333333333,
              "#9c179e"
             ],
             [
              0.4444444444444444,
              "#bd3786"
             ],
             [
              0.5555555555555556,
              "#d8576b"
             ],
             [
              0.6666666666666666,
              "#ed7953"
             ],
             [
              0.7777777777777778,
              "#fb9f3a"
             ],
             [
              0.8888888888888888,
              "#fdca26"
             ],
             [
              1,
              "#f0f921"
             ]
            ],
            "type": "contour"
           }
          ],
          "contourcarpet": [
           {
            "colorbar": {
             "outlinewidth": 0,
             "ticks": ""
            },
            "type": "contourcarpet"
           }
          ],
          "heatmap": [
           {
            "colorbar": {
             "outlinewidth": 0,
             "ticks": ""
            },
            "colorscale": [
             [
              0,
              "#0d0887"
             ],
             [
              0.1111111111111111,
              "#46039f"
             ],
             [
              0.2222222222222222,
              "#7201a8"
             ],
             [
              0.3333333333333333,
              "#9c179e"
             ],
             [
              0.4444444444444444,
              "#bd3786"
             ],
             [
              0.5555555555555556,
              "#d8576b"
             ],
             [
              0.6666666666666666,
              "#ed7953"
             ],
             [
              0.7777777777777778,
              "#fb9f3a"
             ],
             [
              0.8888888888888888,
              "#fdca26"
             ],
             [
              1,
              "#f0f921"
             ]
            ],
            "type": "heatmap"
           }
          ],
          "histogram": [
           {
            "marker": {
             "pattern": {
              "fillmode": "overlay",
              "size": 10,
              "solidity": 0.2
             }
            },
            "type": "histogram"
           }
          ],
          "histogram2d": [
           {
            "colorbar": {
             "outlinewidth": 0,
             "ticks": ""
            },
            "colorscale": [
             [
              0,
              "#0d0887"
             ],
             [
              0.1111111111111111,
              "#46039f"
             ],
             [
              0.2222222222222222,
              "#7201a8"
             ],
             [
              0.3333333333333333,
              "#9c179e"
             ],
             [
              0.4444444444444444,
              "#bd3786"
             ],
             [
              0.5555555555555556,
              "#d8576b"
             ],
             [
              0.6666666666666666,
              "#ed7953"
             ],
             [
              0.7777777777777778,
              "#fb9f3a"
             ],
             [
              0.8888888888888888,
              "#fdca26"
             ],
             [
              1,
              "#f0f921"
             ]
            ],
            "type": "histogram2d"
           }
          ],
          "histogram2dcontour": [
           {
            "colorbar": {
             "outlinewidth": 0,
             "ticks": ""
            },
            "colorscale": [
             [
              0,
              "#0d0887"
             ],
             [
              0.1111111111111111,
              "#46039f"
             ],
             [
              0.2222222222222222,
              "#7201a8"
             ],
             [
              0.3333333333333333,
              "#9c179e"
             ],
             [
              0.4444444444444444,
              "#bd3786"
             ],
             [
              0.5555555555555556,
              "#d8576b"
             ],
             [
              0.6666666666666666,
              "#ed7953"
             ],
             [
              0.7777777777777778,
              "#fb9f3a"
             ],
             [
              0.8888888888888888,
              "#fdca26"
             ],
             [
              1,
              "#f0f921"
             ]
            ],
            "type": "histogram2dcontour"
           }
          ],
          "mesh3d": [
           {
            "colorbar": {
             "outlinewidth": 0,
             "ticks": ""
            },
            "type": "mesh3d"
           }
          ],
          "parcoords": [
           {
            "line": {
             "colorbar": {
              "outlinewidth": 0,
              "ticks": ""
             }
            },
            "type": "parcoords"
           }
          ],
          "pie": [
           {
            "automargin": true,
            "type": "pie"
           }
          ],
          "scatter": [
           {
            "fillpattern": {
             "fillmode": "overlay",
             "size": 10,
             "solidity": 0.2
            },
            "type": "scatter"
           }
          ],
          "scatter3d": [
           {
            "line": {
             "colorbar": {
              "outlinewidth": 0,
              "ticks": ""
             }
            },
            "marker": {
             "colorbar": {
              "outlinewidth": 0,
              "ticks": ""
             }
            },
            "type": "scatter3d"
           }
          ],
          "scattercarpet": [
           {
            "marker": {
             "colorbar": {
              "outlinewidth": 0,
              "ticks": ""
             }
            },
            "type": "scattercarpet"
           }
          ],
          "scattergeo": [
           {
            "marker": {
             "colorbar": {
              "outlinewidth": 0,
              "ticks": ""
             }
            },
            "type": "scattergeo"
           }
          ],
          "scattergl": [
           {
            "marker": {
             "colorbar": {
              "outlinewidth": 0,
              "ticks": ""
             }
            },
            "type": "scattergl"
           }
          ],
          "scattermap": [
           {
            "marker": {
             "colorbar": {
              "outlinewidth": 0,
              "ticks": ""
             }
            },
            "type": "scattermap"
           }
          ],
          "scattermapbox": [
           {
            "marker": {
             "colorbar": {
              "outlinewidth": 0,
              "ticks": ""
             }
            },
            "type": "scattermapbox"
           }
          ],
          "scatterpolar": [
           {
            "marker": {
             "colorbar": {
              "outlinewidth": 0,
              "ticks": ""
             }
            },
            "type": "scatterpolar"
           }
          ],
          "scatterpolargl": [
           {
            "marker": {
             "colorbar": {
              "outlinewidth": 0,
              "ticks": ""
             }
            },
            "type": "scatterpolargl"
           }
          ],
          "scatterternary": [
           {
            "marker": {
             "colorbar": {
              "outlinewidth": 0,
              "ticks": ""
             }
            },
            "type": "scatterternary"
           }
          ],
          "surface": [
           {
            "colorbar": {
             "outlinewidth": 0,
             "ticks": ""
            },
            "colorscale": [
             [
              0,
              "#0d0887"
             ],
             [
              0.1111111111111111,
              "#46039f"
             ],
             [
              0.2222222222222222,
              "#7201a8"
             ],
             [
              0.3333333333333333,
              "#9c179e"
             ],
             [
              0.4444444444444444,
              "#bd3786"
             ],
             [
              0.5555555555555556,
              "#d8576b"
             ],
             [
              0.6666666666666666,
              "#ed7953"
             ],
             [
              0.7777777777777778,
              "#fb9f3a"
             ],
             [
              0.8888888888888888,
              "#fdca26"
             ],
             [
              1,
              "#f0f921"
             ]
            ],
            "type": "surface"
           }
          ],
          "table": [
           {
            "cells": {
             "fill": {
              "color": "#EBF0F8"
             },
             "line": {
              "color": "white"
             }
            },
            "header": {
             "fill": {
              "color": "#C8D4E3"
             },
             "line": {
              "color": "white"
             }
            },
            "type": "table"
           }
          ]
         },
         "layout": {
          "annotationdefaults": {
           "arrowcolor": "#2a3f5f",
           "arrowhead": 0,
           "arrowwidth": 1
          },
          "autotypenumbers": "strict",
          "coloraxis": {
           "colorbar": {
            "outlinewidth": 0,
            "ticks": ""
           }
          },
          "colorscale": {
           "diverging": [
            [
             0,
             "#8e0152"
            ],
            [
             0.1,
             "#c51b7d"
            ],
            [
             0.2,
             "#de77ae"
            ],
            [
             0.3,
             "#f1b6da"
            ],
            [
             0.4,
             "#fde0ef"
            ],
            [
             0.5,
             "#f7f7f7"
            ],
            [
             0.6,
             "#e6f5d0"
            ],
            [
             0.7,
             "#b8e186"
            ],
            [
             0.8,
             "#7fbc41"
            ],
            [
             0.9,
             "#4d9221"
            ],
            [
             1,
             "#276419"
            ]
           ],
           "sequential": [
            [
             0,
             "#0d0887"
            ],
            [
             0.1111111111111111,
             "#46039f"
            ],
            [
             0.2222222222222222,
             "#7201a8"
            ],
            [
             0.3333333333333333,
             "#9c179e"
            ],
            [
             0.4444444444444444,
             "#bd3786"
            ],
            [
             0.5555555555555556,
             "#d8576b"
            ],
            [
             0.6666666666666666,
             "#ed7953"
            ],
            [
             0.7777777777777778,
             "#fb9f3a"
            ],
            [
             0.8888888888888888,
             "#fdca26"
            ],
            [
             1,
             "#f0f921"
            ]
           ],
           "sequentialminus": [
            [
             0,
             "#0d0887"
            ],
            [
             0.1111111111111111,
             "#46039f"
            ],
            [
             0.2222222222222222,
             "#7201a8"
            ],
            [
             0.3333333333333333,
             "#9c179e"
            ],
            [
             0.4444444444444444,
             "#bd3786"
            ],
            [
             0.5555555555555556,
             "#d8576b"
            ],
            [
             0.6666666666666666,
             "#ed7953"
            ],
            [
             0.7777777777777778,
             "#fb9f3a"
            ],
            [
             0.8888888888888888,
             "#fdca26"
            ],
            [
             1,
             "#f0f921"
            ]
           ]
          },
          "colorway": [
           "#636efa",
           "#EF553B",
           "#00cc96",
           "#ab63fa",
           "#FFA15A",
           "#19d3f3",
           "#FF6692",
           "#B6E880",
           "#FF97FF",
           "#FECB52"
          ],
          "font": {
           "color": "#2a3f5f"
          },
          "geo": {
           "bgcolor": "white",
           "lakecolor": "white",
           "landcolor": "#E5ECF6",
           "showlakes": true,
           "showland": true,
           "subunitcolor": "white"
          },
          "hoverlabel": {
           "align": "left"
          },
          "hovermode": "closest",
          "mapbox": {
           "style": "light"
          },
          "paper_bgcolor": "white",
          "plot_bgcolor": "#E5ECF6",
          "polar": {
           "angularaxis": {
            "gridcolor": "white",
            "linecolor": "white",
            "ticks": ""
           },
           "bgcolor": "#E5ECF6",
           "radialaxis": {
            "gridcolor": "white",
            "linecolor": "white",
            "ticks": ""
           }
          },
          "scene": {
           "xaxis": {
            "backgroundcolor": "#E5ECF6",
            "gridcolor": "white",
            "gridwidth": 2,
            "linecolor": "white",
            "showbackground": true,
            "ticks": "",
            "zerolinecolor": "white"
           },
           "yaxis": {
            "backgroundcolor": "#E5ECF6",
            "gridcolor": "white",
            "gridwidth": 2,
            "linecolor": "white",
            "showbackground": true,
            "ticks": "",
            "zerolinecolor": "white"
           },
           "zaxis": {
            "backgroundcolor": "#E5ECF6",
            "gridcolor": "white",
            "gridwidth": 2,
            "linecolor": "white",
            "showbackground": true,
            "ticks": "",
            "zerolinecolor": "white"
           }
          },
          "shapedefaults": {
           "line": {
            "color": "#2a3f5f"
           }
          },
          "ternary": {
           "aaxis": {
            "gridcolor": "white",
            "linecolor": "white",
            "ticks": ""
           },
           "baxis": {
            "gridcolor": "white",
            "linecolor": "white",
            "ticks": ""
           },
           "bgcolor": "#E5ECF6",
           "caxis": {
            "gridcolor": "white",
            "linecolor": "white",
            "ticks": ""
           }
          },
          "title": {
           "x": 0.05
          },
          "xaxis": {
           "automargin": true,
           "gridcolor": "white",
           "linecolor": "white",
           "ticks": "",
           "title": {
            "standoff": 15
           },
           "zerolinecolor": "white",
           "zerolinewidth": 2
          },
          "yaxis": {
           "automargin": true,
           "gridcolor": "white",
           "linecolor": "white",
           "ticks": "",
           "title": {
            "standoff": 15
           },
           "zerolinecolor": "white",
           "zerolinewidth": 2
          }
         }
        },
        "xaxis": {
         "anchor": "y",
         "domain": [
          0,
          1
         ]
        },
        "yaxis": {
         "anchor": "x",
         "domain": [
          0,
          1
         ],
         "title": {
          "text": "SalePrice"
         }
        }
       }
      }
     },
     "metadata": {},
     "output_type": "display_data"
    },
    {
     "data": {
      "application/vnd.plotly.v1+json": {
       "config": {
        "plotlyServerURL": "https://plot.ly"
       },
       "data": [
        {
         "alignmentgroup": "True",
         "hovertemplate": "Fence=unknown<br>SalePrice=%{y}<extra></extra>",
         "legendgroup": "unknown",
         "marker": {
          "color": "#636efa"
         },
         "name": "unknown",
         "notched": false,
         "offsetgroup": "unknown",
         "orientation": "v",
         "showlegend": true,
         "type": "box",
         "x0": " ",
         "xaxis": "x",
         "y": {
          "bdata": "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",
          "dtype": "i4"
         },
         "y0": " ",
         "yaxis": "y"
        },
        {
         "alignmentgroup": "True",
         "hovertemplate": "Fence=MnPrv<br>SalePrice=%{y}<extra></extra>",
         "legendgroup": "MnPrv",
         "marker": {
          "color": "#EF553B"
         },
         "name": "MnPrv",
         "notched": false,
         "offsetgroup": "MnPrv",
         "orientation": "v",
         "showlegend": true,
         "type": "box",
         "x0": " ",
         "xaxis": "x",
         "y": {
          "bdata": "mC4CAPgeAgCQWQIAQJwAAGZHAgCAMgIAyvwBABjwAQBEvwEA0PsBAOTnAQAY8AEAsK0BAAhMAQAw5gIAqE8DAKz1AwCghgEAIL8CALCnAgBMiAMAcIgCAJDcAQAgkwEAOLUDAMDUAQAY8AEAWA8CAECWAQDsnQIAaDYCANZ3AgAyDQIAvL4CAEjoAQDI9AEAaLkBADBpAgD4HgIAkNwBAMBRAgCcXQEAXNQBAMiXBABwCwIAYGECAEjoAQDY0AEABKABABw4AQDuYAEADPIBAOh0AgB4XQIAf10BAIgHAgDQ+wEAVOYBAPR4AQA4OAMAEJIDAIAmBABI6AEA4KUBALCtAQAgQgIAHBkCAGDkAQAITAEAqEMFABRKAQDgpQEAWA8CAFw4AgAIRgIAWIwCABwZAgC8KAIABB0CAOAiAgBMrQEAiIQCAEhlAgCU/wIA+KEBAKQsAgD4mwIAjDACAJirAgAQngEAeF0CAKCAAgAwaQIAOD4CAMBRAgAURAIAIEICAFC3AgAU4AEAhFsCADzqAQAA9AEAuP8BAMBXAQBc1AEADAsCAOCfAgD4HgIAANsBAHS3AQDG0wEA8D0EACC/AgCkrwEAkFkCAAxvAgCIBwIAAHECAFA6AgAIyQEAgM4BAIC1AQBYDwIAPG0BAIA4AQC8vgIANA8DAMzSAQAoXgsAMGkCAJxXAgD4oQEASOgBAKwaAgCwKgIAEJgCAHB8BACQ3AEAKBcCAHhdAgDY1gAAxP0BAADoAwA86gEAfIYCACiaAQA86gEAkNADAOoYAgAomgEAiAcCAIC1AQDYRwMA4CICANjQAQDESAIAUDQDAA==",
          "dtype": "i4"
         },
         "y0": " ",
         "yaxis": "y"
        },
        {
         "alignmentgroup": "True",
         "hovertemplate": "Fence=GdWo<br>SalePrice=%{y}<extra></extra>",
         "legendgroup": "GdWo",
         "marker": {
          "color": "#00cc96"
         },
         "name": "GdWo",
         "notched": false,
         "offsetgroup": "GdWo",
         "orientation": "v",
         "showlegend": true,
         "type": "box",
         "x0": " ",
         "xaxis": "x",
         "y": {
          "bdata": "SGUCAABxAgAENgIAeGMBACiBAQAw5gIAtOMDADDmAgDIJgIA1CoBAICvAgDYTQIAjEkCALAwAQB44AEASOgBAKCGAQDwSQIAr/MAAFiMAgBUiAAA6GgEAPgeAgB8IgIAwFECAEgBAgDwzAEAznACAOwgAgCuIgIAnFcCACDFAQA0FQIAoIYBAPzKAQAMlAAARAoCAEjoAQCYLgIAGPABAJQFAgDQ+wEASNAFAIAyAgBUfAIABB0CADg+AgAAvAIAeOABALCtAQBAEwIAgDICALTWAQCAtQEA",
          "dtype": "i4"
         },
         "y0": " ",
         "yaxis": "y"
        },
        {
         "alignmentgroup": "True",
         "hovertemplate": "Fence=GdPrv<br>SalePrice=%{y}<extra></extra>",
         "legendgroup": "GdPrv",
         "marker": {
          "color": "#ab63fa"
         },
         "name": "GdPrv",
         "notched": false,
         "offsetgroup": "GdPrv",
         "orientation": "v",
         "showlegend": true,
         "type": "box",
         "x0": " ",
         "xaxis": "x",
         "y": {
          "bdata": "oAMCAIggAgDgIgIAbFkDANByAwBwggMAeD8HAMijAgD4lQMAjK0CACBCAgAYbQIApCwCACRrAgCg9wMA4KUBALCtAQDAzgIA4CICADBpAgDYTQIAwFECADSSAgCAMgIAoAMCALAqAgA4uwIAtGwCAAjDAgA0qwIA/uUCAMBRAgCUBQIA4JkDAIiEAgCwoQMA7DkCAICvAgDwQwMAYOQBAEyOAgB4XQIAOMEBAIiEAgBoTwIAYOQBAEgUAwD4mwIAkNADAHD/AwBI4gIAFMECAGizAgCQWQIAEJgCABAbAgAaMgQAsKcCAAQRBAA=",
          "dtype": "i4"
         },
         "y0": " ",
         "yaxis": "y"
        },
        {
         "alignmentgroup": "True",
         "hovertemplate": "Fence=MnWw<br>SalePrice=%{y}<extra></extra>",
         "legendgroup": "MnWw",
         "marker": {
          "color": "#FFA15A"
         },
         "name": "MnWw",
         "notched": false,
         "offsetgroup": "MnWw",
         "orientation": "v",
         "showlegend": true,
         "type": "box",
         "x0": " ",
         "xaxis": "x",
         "y": {
          "bdata": "8EkCALCtAQDA1AEAkrIBAMgmAgDQ+wEA5OcBAHjaAgBYDwIAaDYCAHjgAQA=",
          "dtype": "i4"
         },
         "y0": " ",
         "yaxis": "y"
        }
       ],
       "layout": {
        "boxmode": "group",
        "legend": {
         "title": {
          "text": "Fence"
         },
         "tracegroupgap": 0
        },
        "margin": {
         "t": 60
        },
        "template": {
         "data": {
          "bar": [
           {
            "error_x": {
             "color": "#2a3f5f"
            },
            "error_y": {
             "color": "#2a3f5f"
            },
            "marker": {
             "line": {
              "color": "#E5ECF6",
              "width": 0.5
             },
             "pattern": {
              "fillmode": "overlay",
              "size": 10,
              "solidity": 0.2
             }
            },
            "type": "bar"
           }
          ],
          "barpolar": [
           {
            "marker": {
             "line": {
              "color": "#E5ECF6",
              "width": 0.5
             },
             "pattern": {
              "fillmode": "overlay",
              "size": 10,
              "solidity": 0.2
             }
            },
            "type": "barpolar"
           }
          ],
          "carpet": [
           {
            "aaxis": {
             "endlinecolor": "#2a3f5f",
             "gridcolor": "white",
             "linecolor": "white",
             "minorgridcolor": "white",
             "startlinecolor": "#2a3f5f"
            },
            "baxis": {
             "endlinecolor": "#2a3f5f",
             "gridcolor": "white",
             "linecolor": "white",
             "minorgridcolor": "white",
             "startlinecolor": "#2a3f5f"
            },
            "type": "carpet"
           }
          ],
          "choropleth": [
           {
            "colorbar": {
             "outlinewidth": 0,
             "ticks": ""
            },
            "type": "choropleth"
           }
          ],
          "contour": [
           {
            "colorbar": {
             "outlinewidth": 0,
             "ticks": ""
            },
            "colorscale": [
             [
              0,
              "#0d0887"
             ],
             [
              0.1111111111111111,
              "#46039f"
             ],
             [
              0.2222222222222222,
              "#7201a8"
             ],
             [
              0.3333333333333333,
              "#9c179e"
             ],
             [
              0.4444444444444444,
              "#bd3786"
             ],
             [
              0.5555555555555556,
              "#d8576b"
             ],
             [
              0.6666666666666666,
              "#ed7953"
             ],
             [
              0.7777777777777778,
              "#fb9f3a"
             ],
             [
              0.8888888888888888,
              "#fdca26"
             ],
             [
              1,
              "#f0f921"
             ]
            ],
            "type": "contour"
           }
          ],
          "contourcarpet": [
           {
            "colorbar": {
             "outlinewidth": 0,
             "ticks": ""
            },
            "type": "contourcarpet"
           }
          ],
          "heatmap": [
           {
            "colorbar": {
             "outlinewidth": 0,
             "ticks": ""
            },
            "colorscale": [
             [
              0,
              "#0d0887"
             ],
             [
              0.1111111111111111,
              "#46039f"
             ],
             [
              0.2222222222222222,
              "#7201a8"
             ],
             [
              0.3333333333333333,
              "#9c179e"
             ],
             [
              0.4444444444444444,
              "#bd3786"
             ],
             [
              0.5555555555555556,
              "#d8576b"
             ],
             [
              0.6666666666666666,
              "#ed7953"
             ],
             [
              0.7777777777777778,
              "#fb9f3a"
             ],
             [
              0.8888888888888888,
              "#fdca26"
             ],
             [
              1,
              "#f0f921"
             ]
            ],
            "type": "heatmap"
           }
          ],
          "histogram": [
           {
            "marker": {
             "pattern": {
              "fillmode": "overlay",
              "size": 10,
              "solidity": 0.2
             }
            },
            "type": "histogram"
           }
          ],
          "histogram2d": [
           {
            "colorbar": {
             "outlinewidth": 0,
             "ticks": ""
            },
            "colorscale": [
             [
              0,
              "#0d0887"
             ],
             [
              0.1111111111111111,
              "#46039f"
             ],
             [
              0.2222222222222222,
              "#7201a8"
             ],
             [
              0.3333333333333333,
              "#9c179e"
             ],
             [
              0.4444444444444444,
              "#bd3786"
             ],
             [
              0.5555555555555556,
              "#d8576b"
             ],
             [
              0.6666666666666666,
              "#ed7953"
             ],
             [
              0.7777777777777778,
              "#fb9f3a"
             ],
             [
              0.8888888888888888,
              "#fdca26"
             ],
             [
              1,
              "#f0f921"
             ]
            ],
            "type": "histogram2d"
           }
          ],
          "histogram2dcontour": [
           {
            "colorbar": {
             "outlinewidth": 0,
             "ticks": ""
            },
            "colorscale": [
             [
              0,
              "#0d0887"
             ],
             [
              0.1111111111111111,
              "#46039f"
             ],
             [
              0.2222222222222222,
              "#7201a8"
             ],
             [
              0.3333333333333333,
              "#9c179e"
             ],
             [
              0.4444444444444444,
              "#bd3786"
             ],
             [
              0.5555555555555556,
              "#d8576b"
             ],
             [
              0.6666666666666666,
              "#ed7953"
             ],
             [
              0.7777777777777778,
              "#fb9f3a"
             ],
             [
              0.8888888888888888,
              "#fdca26"
             ],
             [
              1,
              "#f0f921"
             ]
            ],
            "type": "histogram2dcontour"
           }
          ],
          "mesh3d": [
           {
            "colorbar": {
             "outlinewidth": 0,
             "ticks": ""
            },
            "type": "mesh3d"
           }
          ],
          "parcoords": [
           {
            "line": {
             "colorbar": {
              "outlinewidth": 0,
              "ticks": ""
             }
            },
            "type": "parcoords"
           }
          ],
          "pie": [
           {
            "automargin": true,
            "type": "pie"
           }
          ],
          "scatter": [
           {
            "fillpattern": {
             "fillmode": "overlay",
             "size": 10,
             "solidity": 0.2
            },
            "type": "scatter"
           }
          ],
          "scatter3d": [
           {
            "line": {
             "colorbar": {
              "outlinewidth": 0,
              "ticks": ""
             }
            },
            "marker": {
             "colorbar": {
              "outlinewidth": 0,
              "ticks": ""
             }
            },
            "type": "scatter3d"
           }
          ],
          "scattercarpet": [
           {
            "marker": {
             "colorbar": {
              "outlinewidth": 0,
              "ticks": ""
             }
            },
            "type": "scattercarpet"
           }
          ],
          "scattergeo": [
           {
            "marker": {
             "colorbar": {
              "outlinewidth": 0,
              "ticks": ""
             }
            },
            "type": "scattergeo"
           }
          ],
          "scattergl": [
           {
            "marker": {
             "colorbar": {
              "outlinewidth": 0,
              "ticks": ""
             }
            },
            "type": "scattergl"
           }
          ],
          "scattermap": [
           {
            "marker": {
             "colorbar": {
              "outlinewidth": 0,
              "ticks": ""
             }
            },
            "type": "scattermap"
           }
          ],
          "scattermapbox": [
           {
            "marker": {
             "colorbar": {
              "outlinewidth": 0,
              "ticks": ""
             }
            },
            "type": "scattermapbox"
           }
          ],
          "scatterpolar": [
           {
            "marker": {
             "colorbar": {
              "outlinewidth": 0,
              "ticks": ""
             }
            },
            "type": "scatterpolar"
           }
          ],
          "scatterpolargl": [
           {
            "marker": {
             "colorbar": {
              "outlinewidth": 0,
              "ticks": ""
             }
            },
            "type": "scatterpolargl"
           }
          ],
          "scatterternary": [
           {
            "marker": {
             "colorbar": {
              "outlinewidth": 0,
              "ticks": ""
             }
            },
            "type": "scatterternary"
           }
          ],
          "surface": [
           {
            "colorbar": {
             "outlinewidth": 0,
             "ticks": ""
            },
            "colorscale": [
             [
              0,
              "#0d0887"
             ],
             [
              0.1111111111111111,
              "#46039f"
             ],
             [
              0.2222222222222222,
              "#7201a8"
             ],
             [
              0.3333333333333333,
              "#9c179e"
             ],
             [
              0.4444444444444444,
              "#bd3786"
             ],
             [
              0.5555555555555556,
              "#d8576b"
             ],
             [
              0.6666666666666666,
              "#ed7953"
             ],
             [
              0.7777777777777778,
              "#fb9f3a"
             ],
             [
              0.8888888888888888,
              "#fdca26"
             ],
             [
              1,
              "#f0f921"
             ]
            ],
            "type": "surface"
           }
          ],
          "table": [
           {
            "cells": {
             "fill": {
              "color": "#EBF0F8"
             },
             "line": {
              "color": "white"
             }
            },
            "header": {
             "fill": {
              "color": "#C8D4E3"
             },
             "line": {
              "color": "white"
             }
            },
            "type": "table"
           }
          ]
         },
         "layout": {
          "annotationdefaults": {
           "arrowcolor": "#2a3f5f",
           "arrowhead": 0,
           "arrowwidth": 1
          },
          "autotypenumbers": "strict",
          "coloraxis": {
           "colorbar": {
            "outlinewidth": 0,
            "ticks": ""
           }
          },
          "colorscale": {
           "diverging": [
            [
             0,
             "#8e0152"
            ],
            [
             0.1,
             "#c51b7d"
            ],
            [
             0.2,
             "#de77ae"
            ],
            [
             0.3,
             "#f1b6da"
            ],
            [
             0.4,
             "#fde0ef"
            ],
            [
             0.5,
             "#f7f7f7"
            ],
            [
             0.6,
             "#e6f5d0"
            ],
            [
             0.7,
             "#b8e186"
            ],
            [
             0.8,
             "#7fbc41"
            ],
            [
             0.9,
             "#4d9221"
            ],
            [
             1,
             "#276419"
            ]
           ],
           "sequential": [
            [
             0,
             "#0d0887"
            ],
            [
             0.1111111111111111,
             "#46039f"
            ],
            [
             0.2222222222222222,
             "#7201a8"
            ],
            [
             0.3333333333333333,
             "#9c179e"
            ],
            [
             0.4444444444444444,
             "#bd3786"
            ],
            [
             0.5555555555555556,
             "#d8576b"
            ],
            [
             0.6666666666666666,
             "#ed7953"
            ],
            [
             0.7777777777777778,
             "#fb9f3a"
            ],
            [
             0.8888888888888888,
             "#fdca26"
            ],
            [
             1,
             "#f0f921"
            ]
           ],
           "sequentialminus": [
            [
             0,
             "#0d0887"
            ],
            [
             0.1111111111111111,
             "#46039f"
            ],
            [
             0.2222222222222222,
             "#7201a8"
            ],
            [
             0.3333333333333333,
             "#9c179e"
            ],
            [
             0.4444444444444444,
             "#bd3786"
            ],
            [
             0.5555555555555556,
             "#d8576b"
            ],
            [
             0.6666666666666666,
             "#ed7953"
            ],
            [
             0.7777777777777778,
             "#fb9f3a"
            ],
            [
             0.8888888888888888,
             "#fdca26"
            ],
            [
             1,
             "#f0f921"
            ]
           ]
          },
          "colorway": [
           "#636efa",
           "#EF553B",
           "#00cc96",
           "#ab63fa",
           "#FFA15A",
           "#19d3f3",
           "#FF6692",
           "#B6E880",
           "#FF97FF",
           "#FECB52"
          ],
          "font": {
           "color": "#2a3f5f"
          },
          "geo": {
           "bgcolor": "white",
           "lakecolor": "white",
           "landcolor": "#E5ECF6",
           "showlakes": true,
           "showland": true,
           "subunitcolor": "white"
          },
          "hoverlabel": {
           "align": "left"
          },
          "hovermode": "closest",
          "mapbox": {
           "style": "light"
          },
          "paper_bgcolor": "white",
          "plot_bgcolor": "#E5ECF6",
          "polar": {
           "angularaxis": {
            "gridcolor": "white",
            "linecolor": "white",
            "ticks": ""
           },
           "bgcolor": "#E5ECF6",
           "radialaxis": {
            "gridcolor": "white",
            "linecolor": "white",
            "ticks": ""
           }
          },
          "scene": {
           "xaxis": {
            "backgroundcolor": "#E5ECF6",
            "gridcolor": "white",
            "gridwidth": 2,
            "linecolor": "white",
            "showbackground": true,
            "ticks": "",
            "zerolinecolor": "white"
           },
           "yaxis": {
            "backgroundcolor": "#E5ECF6",
            "gridcolor": "white",
            "gridwidth": 2,
            "linecolor": "white",
            "showbackground": true,
            "ticks": "",
            "zerolinecolor": "white"
           },
           "zaxis": {
            "backgroundcolor": "#E5ECF6",
            "gridcolor": "white",
            "gridwidth": 2,
            "linecolor": "white",
            "showbackground": true,
            "ticks": "",
            "zerolinecolor": "white"
           }
          },
          "shapedefaults": {
           "line": {
            "color": "#2a3f5f"
           }
          },
          "ternary": {
           "aaxis": {
            "gridcolor": "white",
            "linecolor": "white",
            "ticks": ""
           },
           "baxis": {
            "gridcolor": "white",
            "linecolor": "white",
            "ticks": ""
           },
           "bgcolor": "#E5ECF6",
           "caxis": {
            "gridcolor": "white",
            "linecolor": "white",
            "ticks": ""
           }
          },
          "title": {
           "x": 0.05
          },
          "xaxis": {
           "automargin": true,
           "gridcolor": "white",
           "linecolor": "white",
           "ticks": "",
           "title": {
            "standoff": 15
           },
           "zerolinecolor": "white",
           "zerolinewidth": 2
          },
          "yaxis": {
           "automargin": true,
           "gridcolor": "white",
           "linecolor": "white",
           "ticks": "",
           "title": {
            "standoff": 15
           },
           "zerolinecolor": "white",
           "zerolinewidth": 2
          }
         }
        },
        "xaxis": {
         "anchor": "y",
         "domain": [
          0,
          1
         ]
        },
        "yaxis": {
         "anchor": "x",
         "domain": [
          0,
          1
         ],
         "title": {
          "text": "SalePrice"
         }
        }
       }
      }
     },
     "metadata": {},
     "output_type": "display_data"
    },
    {
     "data": {
      "application/vnd.plotly.v1+json": {
       "config": {
        "plotlyServerURL": "https://plot.ly"
       },
       "data": [
        {
         "alignmentgroup": "True",
         "hovertemplate": "MasVnrType=BrkFace<br>SalePrice=%{y}<extra></extra>",
         "legendgroup": "BrkFace",
         "marker": {
          "color": "#636efa"
         },
         "name": "BrkFace",
         "notched": false,
         "offsetgroup": "BrkFace",
         "orientation": "v",
         "showlegend": true,
         "type": "box",
         "x0": " ",
         "xaxis": "x",
         "y": {
          "bdata": "dC4DAAxpAwCQ0AMASGUCAAhGAgC09gQAcIIDAPw7BACoVQIAAHECAJzhBAAUwQIA1KECAPyxBgBsWQMASNYEACC/AgDQcgMAILkDAKjSAgAENgIA3PMCAJxXAgA0kgIAoPcDAKjSAgDwQwMAHnIBAMggAwBQtwIAHJYCAJDQAwAw5gIAqE8DAICvAgD4HgIAQBMCAHhdAgDwSQIA0HIDACC5AwBgWwMAsKcCAJguAgD4mwIAcIIDAOAcAwBI6AEAJGUDAMgmAgAw5gIAvBwEAADiBABUSwYAYFsDAKB6AwA4OAMAaLMCAMDUAQDAzgIA1DEEAAhGAgAIOgQA1ncCADINAgBQNAMAzMAEAEiNAgDK5AUAgLUBANBsBAAQngEA9O8CACBCAgA4JgYAJHEBAJxdAQCc1AIAMNoEAFyvAwAgvwIAMGkCAHCCAwBMiAMAgK8CANhNAgCMrQIAIEICANBsBABCVgYAAO4CAJR8AwCQ3AEA+JUDAJilAwCYqwIASGUCAMggAwDobgMA4IYCAKD3AwCg9wMAbNwCANBmBQDIlwQAULEDAGI3AgDY0AEAYFUEAPBDAwB4XQIAzFUBABAPBAA8ZwIAoqsGAG3aBADIowIA0PsBAMBFBABkBwMA8MwBADDmAgAYbQIAiIQCAKADAgA4uwIAAO4CAEjoAQAY6gIAHJYCANDvAwDARQQA/EcCANwlAwB4zgQA+B4CADgyBABI+wIAmE0BAITeAQDwzAEA1KECAOAcAwCMrQIAYOQBADS6AgB42gIAIEICAMC2BgAEMAMAYMwFAHD5BADwtAUAoIACAGBhAgDQ+wEAaLkBAFTmAQDYRwMAVOYBAK0lBgAwaQIAKAsEAGbRBACYqwIAMGkCAIAmBAB4zgQAwMgDAIgHAgCIfgMAYFUEABCSAwCc2gEAiPUEAPBDAwAILQIAwNQBAPgeAgCUggIArAECAIzGAgBt3QMA5M4BAOykBQDgIgIAGN4EAJn2AgCcUQMAODIEAEhfAwDIIAMAqMYEACBCAgB8/QMAHBkCAL3NBABYDwIANJICAABxAgCoVQIAWA8CADSSAgBEQgEAUC4EAMBRAgB4XQIAMFcFAMBXAQBcOAIADAUDAFAiBgCwrQEAZIQDANzzAgDc7QMA9PUBAEhfAwBA+wUAyCYCADiFCwCYHAUAgK8CALTEBADgIgIAv4UFAAhAAwAw4AMA6PcBAMT9AQCIhAIACDQFAJguAgAwYwMAsK0BAGzcAgAkZQMAOLsCABiTBAAw+QMALDQEANShAgDIvAIA0GwEAGgkBQCU/wIAkDUIAPgGBgDQeAIAPGEDAIAyAgBYDwIAgK8CAHyGAgBs3AIAyHECAPibAgCMMAIAmKsCAM5wAgAIwwIAdDQCAMxoAgCEbgMAmCIEAHhdAgDo3wUAcIgCAMidAwBYjAIAriICAKCGAQA0qwIACEADAHjaAgCsAQIA2EcDADBpAgDAUQIAkNADABREAgDgmQMANA8DADQVAgBs3AIAoIYBAMQEBQBoNgIA/EcCANShAgDgIgIAgKkDADzqAQC8WgIA+CQBACgRAwCMKgMASFkEAICvAgAwYwMAMOYCABw4AQDwQwMAHBkCAJguAgCwHgQA9O8CAOCfAgAM8gEAaDYCAIAmBAB0RwMAWA8CAOAiAgCAIAUAl3ACALj5AgBgTwUAeNoCAKjSAgBAigMAyRYCAAjDAgCMSQIAoNEBAPgYAwAAcQIA8kEDABjqAgBMjgIA8MwBABhhBADIowIAiAAEADjBAQAY5AMAIL8CAGBbAwCQWQIA3I8CAFgPAgAMbwIA/GACAGg2AgAA7gIAAHECAABxAgBQOgIASGUCAFgPAgAQngEAiPUEAMggAwCkPwMAPIACALCnAgDgIgIAfAMDACC/AgCMSQIAqNICAABrAwBoiQkASFkEAEzZAgC4+QIAsKcCAIiEAgAgQgIACEADABwmBABADQMAbGUBAJguAgCsGgIAaDYCADg+AgC+mgUAlAUCALAqAgCsDgQAhG4DABCYAgBQtwIArJcCALyZBABczgIASNAFAIAyAgAoFwIAaLMCAAwFAwC4dgMAIL8CAJguAgAUwQIAzNIBAAQdAgB4XQIA4CICANBsBABAigMAALwCAPgYAwCwmwQAcBUFADgyBACYsQEAOD4CANyPAgBYDwIAlHwDAEANAwD4mwIAkEEGABCYAgCwrQEAXLUCAHjOBADo8QIAgDICAECKAwBEHgcAmKUDADhEAQCQ0AMA+JUDADLDAwB9SgQA2EcDAByvAgAgMAUAGGcDALy+AgA0FQIAmCIEAHTKAgCE2AIAsKcCAIgBAwA0RwIAkL0CAMxoAgCAqQMAaDYCAA==",
          "dtype": "i4"
         },
         "y0": " ",
         "yaxis": "y"
        },
        {
         "alignmentgroup": "True",
         "hovertemplate": "MasVnrType=unknown<br>SalePrice=%{y}<extra></extra>",
         "legendgroup": "unknown",
         "marker": {
          "color": "#EF553B"
         },
         "name": "unknown",
         "notched": false,
         "offsetgroup": "unknown",
         "orientation": "v",
         "showlegend": true,
         "type": "box",
         "x0": " ",
         "xaxis": "x",
         "y": {
          "bdata": "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",
          "dtype": "i4"
         },
         "y0": " ",
         "yaxis": "y"
        },
        {
         "alignmentgroup": "True",
         "hovertemplate": "MasVnrType=Stone<br>SalePrice=%{y}<extra></extra>",
         "legendgroup": "Stone",
         "marker": {
          "color": "#00cc96"
         },
         "name": "Stone",
         "notched": false,
         "offsetgroup": "Stone",
         "orientation": "v",
         "showlegend": true,
         "type": "box",
         "x0": " ",
         "xaxis": "x",
         "y": {
          "bdata": "OK8EAEANAwCoQwUAzEMEACzpAwBQqwQACLcEAAQXAwAIvQMAlIICAOLbBQDQ+wEAsq4FAPj3BADYRwMAwM4CAE2oBwD5VgIA0PsBAEDCBABoNgIAZAEEAPiVAwBgWwMAIDYEAKjSAgCMKgMAeLsDAFiMAgDsqgQAczoFAJgoAwBSwgUAkFkCAMAEBgAQgAYAaK0DACYvBQAwYwMA2EcDAPh3CAALBQQARDwCAJDQAwAoiAQAqRcDAK7RAgA1zwYADOYDAG7lBgBopwQAXDIDAL6oBQB4XQIAFK8FAEhZBACM+AIAsJsEAADiBADE9wIAxAcEAOhuAwCIZgcAFeUIAGB5AwAAawMARMwDADBXBQBJVQkAAPQBABjkAwClpgIAAOIEAMijAgDguAIAuAcGAFwmBQCwJAMAgKkDAND1AgDVeAQAcIIDAGzQBACg/QIAJX4IAHQ0AgD61QIAmBwFABwZAgDARQQAMNoEAKZ7BgBIFAMAcIIDAHiWAwDSjgMAZr4DADT9BQBAkAIAMGkCANBsBABQgAMA8EMDAIytAgAIygMA5p4CABiGAgAw5gIAKBcCAKhJBAAAcQIA0PsBAIj1BAAEFwMARYIEALh2AwBHUwQAoPcDAJzCBQAqUQQAODIEAOjrAwCwKgIA2NABAHkFBgDwugQAcmEEAFA0AwA=",
          "dtype": "i4"
         },
         "y0": " ",
         "yaxis": "y"
        },
        {
         "alignmentgroup": "True",
         "hovertemplate": "MasVnrType=BrkCmn<br>SalePrice=%{y}<extra></extra>",
         "legendgroup": "BrkCmn",
         "marker": {
          "color": "#ab63fa"
         },
         "name": "BrkCmn",
         "notched": false,
         "offsetgroup": "BrkCmn",
         "orientation": "v",
         "showlegend": true,
         "type": "box",
         "x0": " ",
         "xaxis": "x",
         "y": {
          "bdata": "JO4BACiBAQC4fAIACDoEAPgeAgCwrQEAf10BACSEAgDkzgEA6PcBAEytAQC0bAIAeF0CAIiEAgAw5gIA",
          "dtype": "i4"
         },
         "y0": " ",
         "yaxis": "y"
        }
       ],
       "layout": {
        "boxmode": "group",
        "legend": {
         "title": {
          "text": "MasVnrType"
         },
         "tracegroupgap": 0
        },
        "margin": {
         "t": 60
        },
        "template": {
         "data": {
          "bar": [
           {
            "error_x": {
             "color": "#2a3f5f"
            },
            "error_y": {
             "color": "#2a3f5f"
            },
            "marker": {
             "line": {
              "color": "#E5ECF6",
              "width": 0.5
             },
             "pattern": {
              "fillmode": "overlay",
              "size": 10,
              "solidity": 0.2
             }
            },
            "type": "bar"
           }
          ],
          "barpolar": [
           {
            "marker": {
             "line": {
              "color": "#E5ECF6",
              "width": 0.5
             },
             "pattern": {
              "fillmode": "overlay",
              "size": 10,
              "solidity": 0.2
             }
            },
            "type": "barpolar"
           }
          ],
          "carpet": [
           {
            "aaxis": {
             "endlinecolor": "#2a3f5f",
             "gridcolor": "white",
             "linecolor": "white",
             "minorgridcolor": "white",
             "startlinecolor": "#2a3f5f"
            },
            "baxis": {
             "endlinecolor": "#2a3f5f",
             "gridcolor": "white",
             "linecolor": "white",
             "minorgridcolor": "white",
             "startlinecolor": "#2a3f5f"
            },
            "type": "carpet"
           }
          ],
          "choropleth": [
           {
            "colorbar": {
             "outlinewidth": 0,
             "ticks": ""
            },
            "type": "choropleth"
           }
          ],
          "contour": [
           {
            "colorbar": {
             "outlinewidth": 0,
             "ticks": ""
            },
            "colorscale": [
             [
              0,
              "#0d0887"
             ],
             [
              0.1111111111111111,
              "#46039f"
             ],
             [
              0.2222222222222222,
              "#7201a8"
             ],
             [
              0.3333333333333333,
              "#9c179e"
             ],
             [
              0.4444444444444444,
              "#bd3786"
             ],
             [
              0.5555555555555556,
              "#d8576b"
             ],
             [
              0.6666666666666666,
              "#ed7953"
             ],
             [
              0.7777777777777778,
              "#fb9f3a"
             ],
             [
              0.8888888888888888,
              "#fdca26"
             ],
             [
              1,
              "#f0f921"
             ]
            ],
            "type": "contour"
           }
          ],
          "contourcarpet": [
           {
            "colorbar": {
             "outlinewidth": 0,
             "ticks": ""
            },
            "type": "contourcarpet"
           }
          ],
          "heatmap": [
           {
            "colorbar": {
             "outlinewidth": 0,
             "ticks": ""
            },
            "colorscale": [
             [
              0,
              "#0d0887"
             ],
             [
              0.1111111111111111,
              "#46039f"
             ],
             [
              0.2222222222222222,
              "#7201a8"
             ],
             [
              0.3333333333333333,
              "#9c179e"
             ],
             [
              0.4444444444444444,
              "#bd3786"
             ],
             [
              0.5555555555555556,
              "#d8576b"
             ],
             [
              0.6666666666666666,
              "#ed7953"
             ],
             [
              0.7777777777777778,
              "#fb9f3a"
             ],
             [
              0.8888888888888888,
              "#fdca26"
             ],
             [
              1,
              "#f0f921"
             ]
            ],
            "type": "heatmap"
           }
          ],
          "histogram": [
           {
            "marker": {
             "pattern": {
              "fillmode": "overlay",
              "size": 10,
              "solidity": 0.2
             }
            },
            "type": "histogram"
           }
          ],
          "histogram2d": [
           {
            "colorbar": {
             "outlinewidth": 0,
             "ticks": ""
            },
            "colorscale": [
             [
              0,
              "#0d0887"
             ],
             [
              0.1111111111111111,
              "#46039f"
             ],
             [
              0.2222222222222222,
              "#7201a8"
             ],
             [
              0.3333333333333333,
              "#9c179e"
             ],
             [
              0.4444444444444444,
              "#bd3786"
             ],
             [
              0.5555555555555556,
              "#d8576b"
             ],
             [
              0.6666666666666666,
              "#ed7953"
             ],
             [
              0.7777777777777778,
              "#fb9f3a"
             ],
             [
              0.8888888888888888,
              "#fdca26"
             ],
             [
              1,
              "#f0f921"
             ]
            ],
            "type": "histogram2d"
           }
          ],
          "histogram2dcontour": [
           {
            "colorbar": {
             "outlinewidth": 0,
             "ticks": ""
            },
            "colorscale": [
             [
              0,
              "#0d0887"
             ],
             [
              0.1111111111111111,
              "#46039f"
             ],
             [
              0.2222222222222222,
              "#7201a8"
             ],
             [
              0.3333333333333333,
              "#9c179e"
             ],
             [
              0.4444444444444444,
              "#bd3786"
             ],
             [
              0.5555555555555556,
              "#d8576b"
             ],
             [
              0.6666666666666666,
              "#ed7953"
             ],
             [
              0.7777777777777778,
              "#fb9f3a"
             ],
             [
              0.8888888888888888,
              "#fdca26"
             ],
             [
              1,
              "#f0f921"
             ]
            ],
            "type": "histogram2dcontour"
           }
          ],
          "mesh3d": [
           {
            "colorbar": {
             "outlinewidth": 0,
             "ticks": ""
            },
            "type": "mesh3d"
           }
          ],
          "parcoords": [
           {
            "line": {
             "colorbar": {
              "outlinewidth": 0,
              "ticks": ""
             }
            },
            "type": "parcoords"
           }
          ],
          "pie": [
           {
            "automargin": true,
            "type": "pie"
           }
          ],
          "scatter": [
           {
            "fillpattern": {
             "fillmode": "overlay",
             "size": 10,
             "solidity": 0.2
            },
            "type": "scatter"
           }
          ],
          "scatter3d": [
           {
            "line": {
             "colorbar": {
              "outlinewidth": 0,
              "ticks": ""
             }
            },
            "marker": {
             "colorbar": {
              "outlinewidth": 0,
              "ticks": ""
             }
            },
            "type": "scatter3d"
           }
          ],
          "scattercarpet": [
           {
            "marker": {
             "colorbar": {
              "outlinewidth": 0,
              "ticks": ""
             }
            },
            "type": "scattercarpet"
           }
          ],
          "scattergeo": [
           {
            "marker": {
             "colorbar": {
              "outlinewidth": 0,
              "ticks": ""
             }
            },
            "type": "scattergeo"
           }
          ],
          "scattergl": [
           {
            "marker": {
             "colorbar": {
              "outlinewidth": 0,
              "ticks": ""
             }
            },
            "type": "scattergl"
           }
          ],
          "scattermap": [
           {
            "marker": {
             "colorbar": {
              "outlinewidth": 0,
              "ticks": ""
             }
            },
            "type": "scattermap"
           }
          ],
          "scattermapbox": [
           {
            "marker": {
             "colorbar": {
              "outlinewidth": 0,
              "ticks": ""
             }
            },
            "type": "scattermapbox"
           }
          ],
          "scatterpolar": [
           {
            "marker": {
             "colorbar": {
              "outlinewidth": 0,
              "ticks": ""
             }
            },
            "type": "scatterpolar"
           }
          ],
          "scatterpolargl": [
           {
            "marker": {
             "colorbar": {
              "outlinewidth": 0,
              "ticks": ""
             }
            },
            "type": "scatterpolargl"
           }
          ],
          "scatterternary": [
           {
            "marker": {
             "colorbar": {
              "outlinewidth": 0,
              "ticks": ""
             }
            },
            "type": "scatterternary"
           }
          ],
          "surface": [
           {
            "colorbar": {
             "outlinewidth": 0,
             "ticks": ""
            },
            "colorscale": [
             [
              0,
              "#0d0887"
             ],
             [
              0.1111111111111111,
              "#46039f"
             ],
             [
              0.2222222222222222,
              "#7201a8"
             ],
             [
              0.3333333333333333,
              "#9c179e"
             ],
             [
              0.4444444444444444,
              "#bd3786"
             ],
             [
              0.5555555555555556,
              "#d8576b"
             ],
             [
              0.6666666666666666,
              "#ed7953"
             ],
             [
              0.7777777777777778,
              "#fb9f3a"
             ],
             [
              0.8888888888888888,
              "#fdca26"
             ],
             [
              1,
              "#f0f921"
             ]
            ],
            "type": "surface"
           }
          ],
          "table": [
           {
            "cells": {
             "fill": {
              "color": "#EBF0F8"
             },
             "line": {
              "color": "white"
             }
            },
            "header": {
             "fill": {
              "color": "#C8D4E3"
             },
             "line": {
              "color": "white"
             }
            },
            "type": "table"
           }
          ]
         },
         "layout": {
          "annotationdefaults": {
           "arrowcolor": "#2a3f5f",
           "arrowhead": 0,
           "arrowwidth": 1
          },
          "autotypenumbers": "strict",
          "coloraxis": {
           "colorbar": {
            "outlinewidth": 0,
            "ticks": ""
           }
          },
          "colorscale": {
           "diverging": [
            [
             0,
             "#8e0152"
            ],
            [
             0.1,
             "#c51b7d"
            ],
            [
             0.2,
             "#de77ae"
            ],
            [
             0.3,
             "#f1b6da"
            ],
            [
             0.4,
             "#fde0ef"
            ],
            [
             0.5,
             "#f7f7f7"
            ],
            [
             0.6,
             "#e6f5d0"
            ],
            [
             0.7,
             "#b8e186"
            ],
            [
             0.8,
             "#7fbc41"
            ],
            [
             0.9,
             "#4d9221"
            ],
            [
             1,
             "#276419"
            ]
           ],
           "sequential": [
            [
             0,
             "#0d0887"
            ],
            [
             0.1111111111111111,
             "#46039f"
            ],
            [
             0.2222222222222222,
             "#7201a8"
            ],
            [
             0.3333333333333333,
             "#9c179e"
            ],
            [
             0.4444444444444444,
             "#bd3786"
            ],
            [
             0.5555555555555556,
             "#d8576b"
            ],
            [
             0.6666666666666666,
             "#ed7953"
            ],
            [
             0.7777777777777778,
             "#fb9f3a"
            ],
            [
             0.8888888888888888,
             "#fdca26"
            ],
            [
             1,
             "#f0f921"
            ]
           ],
           "sequentialminus": [
            [
             0,
             "#0d0887"
            ],
            [
             0.1111111111111111,
             "#46039f"
            ],
            [
             0.2222222222222222,
             "#7201a8"
            ],
            [
             0.3333333333333333,
             "#9c179e"
            ],
            [
             0.4444444444444444,
             "#bd3786"
            ],
            [
             0.5555555555555556,
             "#d8576b"
            ],
            [
             0.6666666666666666,
             "#ed7953"
            ],
            [
             0.7777777777777778,
             "#fb9f3a"
            ],
            [
             0.8888888888888888,
             "#fdca26"
            ],
            [
             1,
             "#f0f921"
            ]
           ]
          },
          "colorway": [
           "#636efa",
           "#EF553B",
           "#00cc96",
           "#ab63fa",
           "#FFA15A",
           "#19d3f3",
           "#FF6692",
           "#B6E880",
           "#FF97FF",
           "#FECB52"
          ],
          "font": {
           "color": "#2a3f5f"
          },
          "geo": {
           "bgcolor": "white",
           "lakecolor": "white",
           "landcolor": "#E5ECF6",
           "showlakes": true,
           "showland": true,
           "subunitcolor": "white"
          },
          "hoverlabel": {
           "align": "left"
          },
          "hovermode": "closest",
          "mapbox": {
           "style": "light"
          },
          "paper_bgcolor": "white",
          "plot_bgcolor": "#E5ECF6",
          "polar": {
           "angularaxis": {
            "gridcolor": "white",
            "linecolor": "white",
            "ticks": ""
           },
           "bgcolor": "#E5ECF6",
           "radialaxis": {
            "gridcolor": "white",
            "linecolor": "white",
            "ticks": ""
           }
          },
          "scene": {
           "xaxis": {
            "backgroundcolor": "#E5ECF6",
            "gridcolor": "white",
            "gridwidth": 2,
            "linecolor": "white",
            "showbackground": true,
            "ticks": "",
            "zerolinecolor": "white"
           },
           "yaxis": {
            "backgroundcolor": "#E5ECF6",
            "gridcolor": "white",
            "gridwidth": 2,
            "linecolor": "white",
            "showbackground": true,
            "ticks": "",
            "zerolinecolor": "white"
           },
           "zaxis": {
            "backgroundcolor": "#E5ECF6",
            "gridcolor": "white",
            "gridwidth": 2,
            "linecolor": "white",
            "showbackground": true,
            "ticks": "",
            "zerolinecolor": "white"
           }
          },
          "shapedefaults": {
           "line": {
            "color": "#2a3f5f"
           }
          },
          "ternary": {
           "aaxis": {
            "gridcolor": "white",
            "linecolor": "white",
            "ticks": ""
           },
           "baxis": {
            "gridcolor": "white",
            "linecolor": "white",
            "ticks": ""
           },
           "bgcolor": "#E5ECF6",
           "caxis": {
            "gridcolor": "white",
            "linecolor": "white",
            "ticks": ""
           }
          },
          "title": {
           "x": 0.05
          },
          "xaxis": {
           "automargin": true,
           "gridcolor": "white",
           "linecolor": "white",
           "ticks": "",
           "title": {
            "standoff": 15
           },
           "zerolinecolor": "white",
           "zerolinewidth": 2
          },
          "yaxis": {
           "automargin": true,
           "gridcolor": "white",
           "linecolor": "white",
           "ticks": "",
           "title": {
            "standoff": 15
           },
           "zerolinecolor": "white",
           "zerolinewidth": 2
          }
         }
        },
        "xaxis": {
         "anchor": "y",
         "domain": [
          0,
          1
         ]
        },
        "yaxis": {
         "anchor": "x",
         "domain": [
          0,
          1
         ],
         "title": {
          "text": "SalePrice"
         }
        }
       }
      }
     },
     "metadata": {},
     "output_type": "display_data"
    },
    {
     "data": {
      "application/vnd.plotly.v1+json": {
       "config": {
        "plotlyServerURL": "https://plot.ly"
       },
       "data": [
        {
         "alignmentgroup": "True",
         "hovertemplate": "FireplaceQu=unknown<br>SalePrice=%{y}<extra></extra>",
         "legendgroup": "unknown",
         "marker": {
          "color": "#636efa"
         },
         "name": "unknown",
         "notched": false,
         "offsetgroup": "unknown",
         "orientation": "v",
         "showlegend": true,
         "type": "box",
         "x0": " ",
         "xaxis": "x",
         "y": {
          "bdata": "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",
          "dtype": "i4"
         },
         "y0": " ",
         "yaxis": "y"
        },
        {
         "alignmentgroup": "True",
         "hovertemplate": "FireplaceQu=TA<br>SalePrice=%{y}<extra></extra>",
         "legendgroup": "TA",
         "marker": {
          "color": "#EF553B"
         },
         "name": "TA",
         "notched": false,
         "offsetgroup": "TA",
         "orientation": "v",
         "showlegend": true,
         "type": "box",
         "x0": " ",
         "xaxis": "x",
         "y": {
          "bdata": "/MQCAAxpAwCQ0AMAQA0DAGz7AQDwzAEACEYCAGz7AQCQWQIAqFUCAABxAgDQ+wEA6G4DAKjSAgA0kgIAoPcDAKjSAgDIIAMAULcCAByWAgAw5gIAIL8CAKz1AwAA4gQAIL8CAAjDAgAA9AEA2FMBACC5AwAgvwIAcIIDAKB6AwCYpQMAuHwCAMDOAgA4OAMAaLMCAHg/BwD5VgIAeM4EABREAgAcMgIABtsDAMzABABADQMAvL4CANBsBAD07wIAOCYGALRNAwDA1AEAXK8DAOAiAgAIOgQAcIIDAEyIAwCArwIA2E0CAIytAgCo0gIAXK8DAADuAgCUfAMA+JUDAJilAwD4EgQAyCADAOhuAwDghgIAoPcDAKD3AwBs3AIAyJcEAADuAgAw5gIAwEUEAGBhAgAw5gIAcKECADi7AgAA7gIA2EcDAKCGAQAclgIA0O8DAECQAgDwSQIAoHoDAPxHAgDYRwMAeM4EADgyBACYqwIACMMCACA8AwBQNAMA3AwDAMBFBACMrQIAsK0BADS6AgAEMAMAmKsCAIgHAgDoaAQA2EcDACSEAgAwaQIAKAsEAGbRBACArwIAsA8DAIAmBADAyAMAAkEDAMgmAgCYqwIAEJIDABCYAgDgFgQAGBMCABCYAgAY3gQAnFEDANhNAgBgWwMASF8DACBCAgB8/QMAgKkDADSSAgAehQIAfCICAFgPAgBEQgEA0HIDAKhDBQB4XQIAGOoCADBXBQAMBQMAUCIGALCtAQBkhAMAQJACAIiEAgDc7QMAFEQCAJguAgBIWQQAjCoDAMgmAgCArwIAsJsEAIiEAgAINAUAODIEANSbAwAkZQMASAECALh8AgCYqwIAIL8CABiTBADgmQMAMPkDALRsAgDQbAQAlP8CAPihAQCAMgIAgK8CAHyGAgBwPQIA3h0EAMT3AgD4mwIAjDACAJirAgAMaQMASOICAMidAwD4mwIACEADAHjaAgDYRwMAsKcCAMBRAgAolAIA4JkDAGzcAgBQtwIAxAQFAOAWBAD8RwIA1KECAOAiAgBYDwIAsKEDAHSxAgCMKgMA1JsDADBjAwCwugMA8EMDAJguAgD07wIAfAMDAGDkAQCAJgQAeF0CAABxAgCshAEAgCAFALj5AgBgTwUAqNICAKx+AgCIhAIA+BgDAABxAgCIAQMA8LoEABhhBADoegEAeF0CADjBAQCIhAIAIL8CAFC3AgBsZQEAEJgCAGzcAgBIZQIAiPUEALy+AgAIwwIAYN4CACTPAgA8gAIAOMEBALCnAgBYDwIAjKcDACiUAgCg/QIAfAMDAKZ7BgAgvwIAqNICAFA6AgDQ9QIAyKMCAPiVAwBoiQkAuHwCAEhZBAAoXgsATNkCAEjiAgBAkAIACEADABwmBABI4gIAcAsCADDmAgAQmAIAULcCACC5AwC8mQQACMMCANx2AgCg9wMA0HgCACC/AgBUfAIA6G4DANBsBACYHAUAcBUFANjQAQA4MgQAMOYCAADoAwB0sQIA3I8CAGizAgC7YAIA+JUDABCYAgAY8AEAQIoDAHyGAgB8LwQAkNADALh8AgAAcQIA6PECANhHAwAcrwIAIDAFABhnAwC8vgIAgDICAJgiBADgIgIAdMoCAITYAgCIAQMANEcCAICpAwCYqwIAUDQDAA==",
          "dtype": "i4"
         },
         "y0": " ",
         "yaxis": "y"
        },
        {
         "alignmentgroup": "True",
         "hovertemplate": "FireplaceQu=Gd<br>SalePrice=%{y}<extra></extra>",
         "legendgroup": "Gd",
         "marker": {
          "color": "#00cc96"
         },
         "name": "Gd",
         "notched": false,
         "offsetgroup": "Gd",
         "orientation": "v",
         "showlegend": true,
         "type": "box",
         "x0": " ",
         "xaxis": "x",
         "y": {
          "bdata": "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",
          "dtype": "i4"
         },
         "y0": " ",
         "yaxis": "y"
        },
        {
         "alignmentgroup": "True",
         "hovertemplate": "FireplaceQu=Fa<br>SalePrice=%{y}<extra></extra>",
         "legendgroup": "Fa",
         "marker": {
          "color": "#ab63fa"
         },
         "name": "Fa",
         "notched": false,
         "offsetgroup": "Fa",
         "orientation": "v",
         "showlegend": true,
         "type": "box",
         "x0": " ",
         "xaxis": "x",
         "y": {
          "bdata": "SGUCAICvAgB4XQIAmC4CAOydAgAyDQIASOgBAMggAwAgQgIAgKkDAEjoAQCwKgIAeF0CADg+AgCYqwIAMGkCAJSCAgDIIAMA3PMCAEhlAgCkLAIACMMCAHwJAgAwaQIA6PECAHjaAgAMbwIAkFMDAHD/AwAIyQEA2EcDAIxJAgAM8gEA",
          "dtype": "i4"
         },
         "y0": " ",
         "yaxis": "y"
        },
        {
         "alignmentgroup": "True",
         "hovertemplate": "FireplaceQu=Ex<br>SalePrice=%{y}<extra></extra>",
         "legendgroup": "Ex",
         "marker": {
          "color": "#FFA15A"
         },
         "name": "Ex",
         "notched": false,
         "offsetgroup": "Ex",
         "orientation": "v",
         "showlegend": true,
         "type": "box",
         "x0": " ",
         "xaxis": "x",
         "y": {
          "bdata": "RqgDAPiVAwDK5AUAQlYGAFiABABAfgUAEA8EAKKrBgBkBwMAwAQGABCABgDAtgYAqMYEAFh0BgA4hQsAbNwCAGzQBACIAAQA8D0EAIj1BACwmwQAxP0BAJBBBgDwugQA",
          "dtype": "i4"
         },
         "y0": " ",
         "yaxis": "y"
        },
        {
         "alignmentgroup": "True",
         "hovertemplate": "FireplaceQu=Po<br>SalePrice=%{y}<extra></extra>",
         "legendgroup": "Po",
         "marker": {
          "color": "#19d3f3"
         },
         "name": "Po",
         "notched": false,
         "offsetgroup": "Po",
         "orientation": "v",
         "showlegend": true,
         "type": "box",
         "x0": " ",
         "xaxis": "x",
         "y": {
          "bdata": "+B4CADjBAQDIJgIAJHEBAHALAgCv8wAAWIwCAOyjAQBg6gAA6PcBAOAiAgD09QEAPGcCABTgAQDgnwIAkFkCAOj3AQD4mwIAIEICAHjgAQA=",
          "dtype": "i4"
         },
         "y0": " ",
         "yaxis": "y"
        }
       ],
       "layout": {
        "boxmode": "group",
        "legend": {
         "title": {
          "text": "FireplaceQu"
         },
         "tracegroupgap": 0
        },
        "margin": {
         "t": 60
        },
        "template": {
         "data": {
          "bar": [
           {
            "error_x": {
             "color": "#2a3f5f"
            },
            "error_y": {
             "color": "#2a3f5f"
            },
            "marker": {
             "line": {
              "color": "#E5ECF6",
              "width": 0.5
             },
             "pattern": {
              "fillmode": "overlay",
              "size": 10,
              "solidity": 0.2
             }
            },
            "type": "bar"
           }
          ],
          "barpolar": [
           {
            "marker": {
             "line": {
              "color": "#E5ECF6",
              "width": 0.5
             },
             "pattern": {
              "fillmode": "overlay",
              "size": 10,
              "solidity": 0.2
             }
            },
            "type": "barpolar"
           }
          ],
          "carpet": [
           {
            "aaxis": {
             "endlinecolor": "#2a3f5f",
             "gridcolor": "white",
             "linecolor": "white",
             "minorgridcolor": "white",
             "startlinecolor": "#2a3f5f"
            },
            "baxis": {
             "endlinecolor": "#2a3f5f",
             "gridcolor": "white",
             "linecolor": "white",
             "minorgridcolor": "white",
             "startlinecolor": "#2a3f5f"
            },
            "type": "carpet"
           }
          ],
          "choropleth": [
           {
            "colorbar": {
             "outlinewidth": 0,
             "ticks": ""
            },
            "type": "choropleth"
           }
          ],
          "contour": [
           {
            "colorbar": {
             "outlinewidth": 0,
             "ticks": ""
            },
            "colorscale": [
             [
              0,
              "#0d0887"
             ],
             [
              0.1111111111111111,
              "#46039f"
             ],
             [
              0.2222222222222222,
              "#7201a8"
             ],
             [
              0.3333333333333333,
              "#9c179e"
             ],
             [
              0.4444444444444444,
              "#bd3786"
             ],
             [
              0.5555555555555556,
              "#d8576b"
             ],
             [
              0.6666666666666666,
              "#ed7953"
             ],
             [
              0.7777777777777778,
              "#fb9f3a"
             ],
             [
              0.8888888888888888,
              "#fdca26"
             ],
             [
              1,
              "#f0f921"
             ]
            ],
            "type": "contour"
           }
          ],
          "contourcarpet": [
           {
            "colorbar": {
             "outlinewidth": 0,
             "ticks": ""
            },
            "type": "contourcarpet"
           }
          ],
          "heatmap": [
           {
            "colorbar": {
             "outlinewidth": 0,
             "ticks": ""
            },
            "colorscale": [
             [
              0,
              "#0d0887"
             ],
             [
              0.1111111111111111,
              "#46039f"
             ],
             [
              0.2222222222222222,
              "#7201a8"
             ],
             [
              0.3333333333333333,
              "#9c179e"
             ],
             [
              0.4444444444444444,
              "#bd3786"
             ],
             [
              0.5555555555555556,
              "#d8576b"
             ],
             [
              0.6666666666666666,
              "#ed7953"
             ],
             [
              0.7777777777777778,
              "#fb9f3a"
             ],
             [
              0.8888888888888888,
              "#fdca26"
             ],
             [
              1,
              "#f0f921"
             ]
            ],
            "type": "heatmap"
           }
          ],
          "histogram": [
           {
            "marker": {
             "pattern": {
              "fillmode": "overlay",
              "size": 10,
              "solidity": 0.2
             }
            },
            "type": "histogram"
           }
          ],
          "histogram2d": [
           {
            "colorbar": {
             "outlinewidth": 0,
             "ticks": ""
            },
            "colorscale": [
             [
              0,
              "#0d0887"
             ],
             [
              0.1111111111111111,
              "#46039f"
             ],
             [
              0.2222222222222222,
              "#7201a8"
             ],
             [
              0.3333333333333333,
              "#9c179e"
             ],
             [
              0.4444444444444444,
              "#bd3786"
             ],
             [
              0.5555555555555556,
              "#d8576b"
             ],
             [
              0.6666666666666666,
              "#ed7953"
             ],
             [
              0.7777777777777778,
              "#fb9f3a"
             ],
             [
              0.8888888888888888,
              "#fdca26"
             ],
             [
              1,
              "#f0f921"
             ]
            ],
            "type": "histogram2d"
           }
          ],
          "histogram2dcontour": [
           {
            "colorbar": {
             "outlinewidth": 0,
             "ticks": ""
            },
            "colorscale": [
             [
              0,
              "#0d0887"
             ],
             [
              0.1111111111111111,
              "#46039f"
             ],
             [
              0.2222222222222222,
              "#7201a8"
             ],
             [
              0.3333333333333333,
              "#9c179e"
             ],
             [
              0.4444444444444444,
              "#bd3786"
             ],
             [
              0.5555555555555556,
              "#d8576b"
             ],
             [
              0.6666666666666666,
              "#ed7953"
             ],
             [
              0.7777777777777778,
              "#fb9f3a"
             ],
             [
              0.8888888888888888,
              "#fdca26"
             ],
             [
              1,
              "#f0f921"
             ]
            ],
            "type": "histogram2dcontour"
           }
          ],
          "mesh3d": [
           {
            "colorbar": {
             "outlinewidth": 0,
             "ticks": ""
            },
            "type": "mesh3d"
           }
          ],
          "parcoords": [
           {
            "line": {
             "colorbar": {
              "outlinewidth": 0,
              "ticks": ""
             }
            },
            "type": "parcoords"
           }
          ],
          "pie": [
           {
            "automargin": true,
            "type": "pie"
           }
          ],
          "scatter": [
           {
            "fillpattern": {
             "fillmode": "overlay",
             "size": 10,
             "solidity": 0.2
            },
            "type": "scatter"
           }
          ],
          "scatter3d": [
           {
            "line": {
             "colorbar": {
              "outlinewidth": 0,
              "ticks": ""
             }
            },
            "marker": {
             "colorbar": {
              "outlinewidth": 0,
              "ticks": ""
             }
            },
            "type": "scatter3d"
           }
          ],
          "scattercarpet": [
           {
            "marker": {
             "colorbar": {
              "outlinewidth": 0,
              "ticks": ""
             }
            },
            "type": "scattercarpet"
           }
          ],
          "scattergeo": [
           {
            "marker": {
             "colorbar": {
              "outlinewidth": 0,
              "ticks": ""
             }
            },
            "type": "scattergeo"
           }
          ],
          "scattergl": [
           {
            "marker": {
             "colorbar": {
              "outlinewidth": 0,
              "ticks": ""
             }
            },
            "type": "scattergl"
           }
          ],
          "scattermap": [
           {
            "marker": {
             "colorbar": {
              "outlinewidth": 0,
              "ticks": ""
             }
            },
            "type": "scattermap"
           }
          ],
          "scattermapbox": [
           {
            "marker": {
             "colorbar": {
              "outlinewidth": 0,
              "ticks": ""
             }
            },
            "type": "scattermapbox"
           }
          ],
          "scatterpolar": [
           {
            "marker": {
             "colorbar": {
              "outlinewidth": 0,
              "ticks": ""
             }
            },
            "type": "scatterpolar"
           }
          ],
          "scatterpolargl": [
           {
            "marker": {
             "colorbar": {
              "outlinewidth": 0,
              "ticks": ""
             }
            },
            "type": "scatterpolargl"
           }
          ],
          "scatterternary": [
           {
            "marker": {
             "colorbar": {
              "outlinewidth": 0,
              "ticks": ""
             }
            },
            "type": "scatterternary"
           }
          ],
          "surface": [
           {
            "colorbar": {
             "outlinewidth": 0,
             "ticks": ""
            },
            "colorscale": [
             [
              0,
              "#0d0887"
             ],
             [
              0.1111111111111111,
              "#46039f"
             ],
             [
              0.2222222222222222,
              "#7201a8"
             ],
             [
              0.3333333333333333,
              "#9c179e"
             ],
             [
              0.4444444444444444,
              "#bd3786"
             ],
             [
              0.5555555555555556,
              "#d8576b"
             ],
             [
              0.6666666666666666,
              "#ed7953"
             ],
             [
              0.7777777777777778,
              "#fb9f3a"
             ],
             [
              0.8888888888888888,
              "#fdca26"
             ],
             [
              1,
              "#f0f921"
             ]
            ],
            "type": "surface"
           }
          ],
          "table": [
           {
            "cells": {
             "fill": {
              "color": "#EBF0F8"
             },
             "line": {
              "color": "white"
             }
            },
            "header": {
             "fill": {
              "color": "#C8D4E3"
             },
             "line": {
              "color": "white"
             }
            },
            "type": "table"
           }
          ]
         },
         "layout": {
          "annotationdefaults": {
           "arrowcolor": "#2a3f5f",
           "arrowhead": 0,
           "arrowwidth": 1
          },
          "autotypenumbers": "strict",
          "coloraxis": {
           "colorbar": {
            "outlinewidth": 0,
            "ticks": ""
           }
          },
          "colorscale": {
           "diverging": [
            [
             0,
             "#8e0152"
            ],
            [
             0.1,
             "#c51b7d"
            ],
            [
             0.2,
             "#de77ae"
            ],
            [
             0.3,
             "#f1b6da"
            ],
            [
             0.4,
             "#fde0ef"
            ],
            [
             0.5,
             "#f7f7f7"
            ],
            [
             0.6,
             "#e6f5d0"
            ],
            [
             0.7,
             "#b8e186"
            ],
            [
             0.8,
             "#7fbc41"
            ],
            [
             0.9,
             "#4d9221"
            ],
            [
             1,
             "#276419"
            ]
           ],
           "sequential": [
            [
             0,
             "#0d0887"
            ],
            [
             0.1111111111111111,
             "#46039f"
            ],
            [
             0.2222222222222222,
             "#7201a8"
            ],
            [
             0.3333333333333333,
             "#9c179e"
            ],
            [
             0.4444444444444444,
             "#bd3786"
            ],
            [
             0.5555555555555556,
             "#d8576b"
            ],
            [
             0.6666666666666666,
             "#ed7953"
            ],
            [
             0.7777777777777778,
             "#fb9f3a"
            ],
            [
             0.8888888888888888,
             "#fdca26"
            ],
            [
             1,
             "#f0f921"
            ]
           ],
           "sequentialminus": [
            [
             0,
             "#0d0887"
            ],
            [
             0.1111111111111111,
             "#46039f"
            ],
            [
             0.2222222222222222,
             "#7201a8"
            ],
            [
             0.3333333333333333,
             "#9c179e"
            ],
            [
             0.4444444444444444,
             "#bd3786"
            ],
            [
             0.5555555555555556,
             "#d8576b"
            ],
            [
             0.6666666666666666,
             "#ed7953"
            ],
            [
             0.7777777777777778,
             "#fb9f3a"
            ],
            [
             0.8888888888888888,
             "#fdca26"
            ],
            [
             1,
             "#f0f921"
            ]
           ]
          },
          "colorway": [
           "#636efa",
           "#EF553B",
           "#00cc96",
           "#ab63fa",
           "#FFA15A",
           "#19d3f3",
           "#FF6692",
           "#B6E880",
           "#FF97FF",
           "#FECB52"
          ],
          "font": {
           "color": "#2a3f5f"
          },
          "geo": {
           "bgcolor": "white",
           "lakecolor": "white",
           "landcolor": "#E5ECF6",
           "showlakes": true,
           "showland": true,
           "subunitcolor": "white"
          },
          "hoverlabel": {
           "align": "left"
          },
          "hovermode": "closest",
          "mapbox": {
           "style": "light"
          },
          "paper_bgcolor": "white",
          "plot_bgcolor": "#E5ECF6",
          "polar": {
           "angularaxis": {
            "gridcolor": "white",
            "linecolor": "white",
            "ticks": ""
           },
           "bgcolor": "#E5ECF6",
           "radialaxis": {
            "gridcolor": "white",
            "linecolor": "white",
            "ticks": ""
           }
          },
          "scene": {
           "xaxis": {
            "backgroundcolor": "#E5ECF6",
            "gridcolor": "white",
            "gridwidth": 2,
            "linecolor": "white",
            "showbackground": true,
            "ticks": "",
            "zerolinecolor": "white"
           },
           "yaxis": {
            "backgroundcolor": "#E5ECF6",
            "gridcolor": "white",
            "gridwidth": 2,
            "linecolor": "white",
            "showbackground": true,
            "ticks": "",
            "zerolinecolor": "white"
           },
           "zaxis": {
            "backgroundcolor": "#E5ECF6",
            "gridcolor": "white",
            "gridwidth": 2,
            "linecolor": "white",
            "showbackground": true,
            "ticks": "",
            "zerolinecolor": "white"
           }
          },
          "shapedefaults": {
           "line": {
            "color": "#2a3f5f"
           }
          },
          "ternary": {
           "aaxis": {
            "gridcolor": "white",
            "linecolor": "white",
            "ticks": ""
           },
           "baxis": {
            "gridcolor": "white",
            "linecolor": "white",
            "ticks": ""
           },
           "bgcolor": "#E5ECF6",
           "caxis": {
            "gridcolor": "white",
            "linecolor": "white",
            "ticks": ""
           }
          },
          "title": {
           "x": 0.05
          },
          "xaxis": {
           "automargin": true,
           "gridcolor": "white",
           "linecolor": "white",
           "ticks": "",
           "title": {
            "standoff": 15
           },
           "zerolinecolor": "white",
           "zerolinewidth": 2
          },
          "yaxis": {
           "automargin": true,
           "gridcolor": "white",
           "linecolor": "white",
           "ticks": "",
           "title": {
            "standoff": 15
           },
           "zerolinecolor": "white",
           "zerolinewidth": 2
          }
         }
        },
        "xaxis": {
         "anchor": "y",
         "domain": [
          0,
          1
         ]
        },
        "yaxis": {
         "anchor": "x",
         "domain": [
          0,
          1
         ],
         "title": {
          "text": "SalePrice"
         }
        }
       }
      }
     },
     "metadata": {},
     "output_type": "display_data"
    },
    {
     "data": {
      "application/vnd.plotly.v1+json": {
       "config": {
        "plotlyServerURL": "https://plot.ly"
       },
       "data": [
        {
         "alignmentgroup": "True",
         "hovertemplate": "FireplaceQu=unknown<br>SalePrice=%{y}<extra></extra>",
         "legendgroup": "unknown",
         "marker": {
          "color": "#636efa"
         },
         "name": "unknown",
         "notched": false,
         "offsetgroup": "unknown",
         "orientation": "v",
         "showlegend": true,
         "type": "box",
         "x0": " ",
         "xaxis": "x",
         "y": {
          "bdata": "dC4DAJguAgDc+QEAgDICAKADAgCQXwEAGG0CAPgeAgCQDgIAlAsBAECcAABmRwIAvL4CAGg2AgDIqQEAUEABAIAyAgDK/AEAyCYCAGTPAwBouQEAGPABAGizAgCwrQEA1KECAJT/AgDk5wEAMGkCAIiKAQDgIgIAbFkDANByAwCAOAEA3PkBAAQ2AgCIowEAeGMBAEYSAgAY8AEANBUCALCtAQCcVwIAJO4BAJSCAgAITAEA0OIBAEytAQAogQEArH4CAM4fAwDwQwMAHnIBADhEAQC29wEAtNABAPQIAwCghgEAOMEBADjBAQDEFgIAeF0CAKCGAQBAEwIALFkCABRKAQDwSQIA3kwCAGBbAwD4mwIATIgDAKD3AwBwiAIA4BwDAEjoAQDQ+wEAKJoBAMgmAgA4wQEAkNwBAEjoAQCYNAEAvKsBAMR6AgAgkwEAwFECAAzyAQD09QEAoIYBAEANAwAY8AEAyKMCAFgPAgDAzgIAAO4CAND7AQAY8AEAQJYBAOAiAgCAtQEAsK0BABTBAgBoNgIA0H4BAJDWAgBgYQIA1ncCAFA0AwD4oQEASI0CAGQgAwDoegEAgLUBABCeAQAgQgIAyPQBAJxdAQCc1AIAxPcCADDaBABkAQQApK8BAJg0AQAoFwIAIL8CANQqAQDIowIAMGkCAGg2AgCMKgMA6HoBAND7AQAoHQEAVOYBAMggAwAoEQMAyCYCAKjSAgAAvAIAXIMCAMBXAQCQ3AEA51cCANwSAgCkLAIAwFECAIxJAgDsqgQAnF0BAERCAQBzOgUA3+wBANhTAQBiNwIA5EUDALAwAQDY0AEA+B4CAPBDAwAEFwMAeF0CAJQYAwBQQAEAzFUBAAhMAQDMTwIAkFkCABhzAQCsnQEAXLUCAMijAgDQ+wEAaDYCAPDMAQA4PgIASOgBAHjgAQBI7gAAIEICAPxBAwDgKAEAaDwBABjqAgDY0AEABKABAMipAQDo9wEAeOABALgFAQBorQMA4KUBADjBAQBoswIAYOoAAGg2AgCOwwIAMOwBANwlAwBouQEA0KkBAEj7AgCYTQEAHDgBAITeAQBoPAEAIMUBANjQAQCwrQEA8MwBAMDUAQCwrQEA4BwDAFA0AwBg3gIA0H4BAAsFBAB4XQIAYOQBAHjaAgAgPAMAIEICAHjUAwCUBQIAf10BAKCAAgCUBQIAYGECAPBPAQDxogIApGQBAFSIAADAzgIA0PsBAMDUAQBouQEAjHUDAOAiAgBU5gEArC0DAFTmAQBs+wEAcAsCAPR4AQA4OAMACp8BAKADAgDwTwEAAPQBAISZAADsowEAYN4CAJKyAQCIBwIAiH4DANz5AQBI6AEA4CICAHS3AQDgpQEA4KUBAAD0AQDwQwMACC0CAMDUAQD0bAMA+B4CAOTOAQBQOgIArAECAOTOAQCIBwIA0PsBACgXAgCMNgEALNYCABAbAgDgIgIAsK0BAEi/AQDYTQIAwFECAOhuAwDkzgEAOD4CAOwmAQAcGQIAHJwBALgFAQBYDwIAAHECADSSAgBg5AEAiCACAIAyAgBADQMASGsBAAhMAQDAUQIAki8CAPx/AQAUSgEAfiQDAFgPAgDAVwEAXDgCAFiMAgAcGQIAvKUCALCUAQDYUwEAvKsBAPT1AQDKbgIASF8DACN6AwBARQIAwKcBALwoAgCoWwEAbOIBAKD9AgDgIgIACEADANjWAABMrQEAIMsAAHiRAQDo9wEAxP0BAAxvAgCYLgIAVOYBAFgPAgC01gEAxPcCALCtAQBYkgEA4KUBADxtAQA4uwIAMOYCAKADAgCwKgIAOLsCANB+AQD0eAEA0HgCAKhPAwBgYQIA1KECACA8AwDIvAIADPIBAKCGAQCgSAMAAHECAPQOAgBwjgEARL8BANB4AgA8YQMAWA8CAByvAgDc2gIA+B4CACiOAwB8pQEAbNwCAOhuAwCwrQEAQA0DAEytAQDwzAEAYHkDAEwRAgAQngEAudoAAMxoAgAgxQEAhG4DAHhdAgDYygIASGsBALyrAQCo0gIAyD8CANhNAgBYjAIAriICAAD0AQCcVwIAoIYBAIAyAgDE/QEA4CICADSrAgDIJgIArAECABjwAQA4PgIArAECAMBRAgCUBQIA1NIDABREAgDo9wEAvKsBADQPAwAgxQEAxAMBAJoEAgAgQgIANBUCAEhlAgDkzgEAoIYBAGg2AgBMEQIAhFsCAErQAQAEoAEAaS4CALCtAQCoVQIAPOoBAAD0AQC4/wEAvFoCAIwwAgDAVwEAaDYCAKWmAgD4JAEA74kAAFgPAgAoEQMA7DkCAJirAgAoEQMA/MoBADDmAgAcOAEARNICALeoAwB0TQIA8EkCAJguAgDk5wEA6PcBAFzUAQAMCwIADPIBAGg2AgCgAwIAqNICAHhdAgAUxwEAmKUDAFgPAgAMlAAA4CICAFgPAgDIowIA8MYCAEyOAgCIhAIA/E0BANwMAwCwrQEA+B4CAOC4AgAw7AEASOgBAAjJAQCIAQMATKcCAADbAQA0FQIAsCQDAFBAAQDwTwEAyRYCAIxJAgDAVwEAcI4BAKCGAQAITAEAuHYDAICvAgDQ9QIA2FMBAHS3AQDwzAEAAHECAHCCAwAgSAEAgDgBAMijAgBoNgIApEsBAGWxAgD8QQMAaDwBAJBfAQBAAQUA3I8CAFgPAgBYDwIAkFkCAAxvAgDQ9QIAMB4CADDsAQBoNgIAiAcCADg+AgAsRgEAHBkCAORqAQAAcQIAUDoCAOj3AQAY8AEAEJgCAAD0AQBg6gAAzNIBAFgPAgAQngEAbPsBAGQNAgAIyQEA0PsBAOAiAgBECgIApD8DAIC1AQDwzAEA4CICADxtAQD8ygEA2NABADBvAQD4HgIAgDgBAIA4AQCYLgIAtNYBAHiWAwCfqQEA0o4DAGa+AwB8nwIAzNIBADjBAQCQ0AMAxJkBABhzAQC4+QIAsKcCAEjoAQCIhAIAMGkCAICvAgBQtwIAUsUBAAwFAwCcVwIA+KEBAEANAwDgIgIAoIACAGi5AQBoNgIAZA0CAEjoAQCAtQEAUIADAHQ6AQBsZQEAOMEBAKwaAgBoNgIAOD4CABjwAQCUBQIAqI0BALAqAgDQ+wEAhx4CAIytAgCkLAIAhG4DAAjKAwCE2AIArJcCANjQAQDQ+wEAPIYBADDmAgDYTQIAhPcBAAjDAgBczgIAgDICACgXAgAoFwIAMAsBALh2AwDkSwIA+B4CADDmAgDM0gEA7KMBADjBAQAEHQIAeF0CAOAiAgCQWQIAQIoDAND7AQAQGwIAOD4CAAC8AgD4GAMAmLEBADQbAQBEQgEA2NYAAJg0AQCUBQIAPOoBAEjoAQBYDwIAFM0AAEANAwD09QEAeOABAHhdAgDUpwEAkNwBAEANAwD0DgIAsK0BAFy1AgBI4gIAGDMCAMBLAwDo8QIAgDICACiaAQB4YwEACMkBADhEAQBMjgIAhOQAAEhlAgCAtQEAKJoBADzqAQD4lQMAYOQBABwZAgAQGwIAKlEEACiaAQCIBwIAgLUBADzqAQBwggMA4CICAJBfAQCE3gEAYOQBADQVAgCwKgIAhjECAPT7AAC01gEAxEgCAJC9AgDo9wEAzGgCAIC1AQBgZwEAQBMCAGg2AgAUSgEAqNICAC0rAgAsQAIA",
          "dtype": "i4"
         },
         "y0": " ",
         "yaxis": "y"
        },
        {
         "alignmentgroup": "True",
         "hovertemplate": "FireplaceQu=TA<br>SalePrice=%{y}<extra></extra>",
         "legendgroup": "TA",
         "marker": {
          "color": "#EF553B"
         },
         "name": "TA",
         "notched": false,
         "offsetgroup": "TA",
         "orientation": "v",
         "showlegend": true,
         "type": "box",
         "x0": " ",
         "xaxis": "x",
         "y": {
          "bdata": "/MQCAAxpAwCQ0AMAQA0DAGz7AQDwzAEACEYCAGz7AQCQWQIAqFUCAABxAgDQ+wEA6G4DAKjSAgA0kgIAoPcDAKjSAgDIIAMAULcCAByWAgAw5gIAIL8CAKz1AwAA4gQAIL8CAAjDAgAA9AEA2FMBACC5AwAgvwIAcIIDAKB6AwCYpQMAuHwCAMDOAgA4OAMAaLMCAHg/BwD5VgIAeM4EABREAgAcMgIABtsDAMzABABADQMAvL4CANBsBAD07wIAOCYGALRNAwDA1AEAXK8DAOAiAgAIOgQAcIIDAEyIAwCArwIA2E0CAIytAgCo0gIAXK8DAADuAgCUfAMA+JUDAJilAwD4EgQAyCADAOhuAwDghgIAoPcDAKD3AwBs3AIAyJcEAADuAgAw5gIAwEUEAGBhAgAw5gIAcKECADi7AgAA7gIA2EcDAKCGAQAclgIA0O8DAECQAgDwSQIAoHoDAPxHAgDYRwMAeM4EADgyBACYqwIACMMCACA8AwBQNAMA3AwDAMBFBACMrQIAsK0BADS6AgAEMAMAmKsCAIgHAgDoaAQA2EcDACSEAgAwaQIAKAsEAGbRBACArwIAsA8DAIAmBADAyAMAAkEDAMgmAgCYqwIAEJIDABCYAgDgFgQAGBMCABCYAgAY3gQAnFEDANhNAgBgWwMASF8DACBCAgB8/QMAgKkDADSSAgAehQIAfCICAFgPAgBEQgEA0HIDAKhDBQB4XQIAGOoCADBXBQAMBQMAUCIGALCtAQBkhAMAQJACAIiEAgDc7QMAFEQCAJguAgBIWQQAjCoDAMgmAgCArwIAsJsEAIiEAgAINAUAODIEANSbAwAkZQMASAECALh8AgCYqwIAIL8CABiTBADgmQMAMPkDALRsAgDQbAQAlP8CAPihAQCAMgIAgK8CAHyGAgBwPQIA3h0EAMT3AgD4mwIAjDACAJirAgAMaQMASOICAMidAwD4mwIACEADAHjaAgDYRwMAsKcCAMBRAgAolAIA4JkDAGzcAgBQtwIAxAQFAOAWBAD8RwIA1KECAOAiAgBYDwIAsKEDAHSxAgCMKgMA1JsDADBjAwCwugMA8EMDAJguAgD07wIAfAMDAGDkAQCAJgQAeF0CAABxAgCshAEAgCAFALj5AgBgTwUAqNICAKx+AgCIhAIA+BgDAABxAgCIAQMA8LoEABhhBADoegEAeF0CADjBAQCIhAIAIL8CAFC3AgBsZQEAEJgCAGzcAgBIZQIAiPUEALy+AgAIwwIAYN4CACTPAgA8gAIAOMEBALCnAgBYDwIAjKcDACiUAgCg/QIAfAMDAKZ7BgAgvwIAqNICAFA6AgDQ9QIAyKMCAPiVAwBoiQkAuHwCAEhZBAAoXgsATNkCAEjiAgBAkAIACEADABwmBABI4gIAcAsCADDmAgAQmAIAULcCACC5AwC8mQQACMMCANx2AgCg9wMA0HgCACC/AgBUfAIA6G4DANBsBACYHAUAcBUFANjQAQA4MgQAMOYCAADoAwB0sQIA3I8CAGizAgC7YAIA+JUDABCYAgAY8AEAQIoDAHyGAgB8LwQAkNADALh8AgAAcQIA6PECANhHAwAcrwIAIDAFABhnAwC8vgIAgDICAJgiBADgIgIAdMoCAITYAgCIAQMANEcCAICpAwCYqwIAUDQDAA==",
          "dtype": "i4"
         },
         "y0": " ",
         "yaxis": "y"
        },
        {
         "alignmentgroup": "True",
         "hovertemplate": "FireplaceQu=Gd<br>SalePrice=%{y}<extra></extra>",
         "legendgroup": "Gd",
         "marker": {
          "color": "#00cc96"
         },
         "name": "Gd",
         "notched": false,
         "offsetgroup": "Gd",
         "orientation": "v",
         "showlegend": true,
         "type": "box",
         "x0": " ",
         "xaxis": "x",
         "y": {
          "bdata": "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",
          "dtype": "i4"
         },
         "y0": " ",
         "yaxis": "y"
        },
        {
         "alignmentgroup": "True",
         "hovertemplate": "FireplaceQu=Fa<br>SalePrice=%{y}<extra></extra>",
         "legendgroup": "Fa",
         "marker": {
          "color": "#ab63fa"
         },
         "name": "Fa",
         "notched": false,
         "offsetgroup": "Fa",
         "orientation": "v",
         "showlegend": true,
         "type": "box",
         "x0": " ",
         "xaxis": "x",
         "y": {
          "bdata": "SGUCAICvAgB4XQIAmC4CAOydAgAyDQIASOgBAMggAwAgQgIAgKkDAEjoAQCwKgIAeF0CADg+AgCYqwIAMGkCAJSCAgDIIAMA3PMCAEhlAgCkLAIACMMCAHwJAgAwaQIA6PECAHjaAgAMbwIAkFMDAHD/AwAIyQEA2EcDAIxJAgAM8gEA",
          "dtype": "i4"
         },
         "y0": " ",
         "yaxis": "y"
        },
        {
         "alignmentgroup": "True",
         "hovertemplate": "FireplaceQu=Ex<br>SalePrice=%{y}<extra></extra>",
         "legendgroup": "Ex",
         "marker": {
          "color": "#FFA15A"
         },
         "name": "Ex",
         "notched": false,
         "offsetgroup": "Ex",
         "orientation": "v",
         "showlegend": true,
         "type": "box",
         "x0": " ",
         "xaxis": "x",
         "y": {
          "bdata": "RqgDAPiVAwDK5AUAQlYGAFiABABAfgUAEA8EAKKrBgBkBwMAwAQGABCABgDAtgYAqMYEAFh0BgA4hQsAbNwCAGzQBACIAAQA8D0EAIj1BACwmwQAxP0BAJBBBgDwugQA",
          "dtype": "i4"
         },
         "y0": " ",
         "yaxis": "y"
        },
        {
         "alignmentgroup": "True",
         "hovertemplate": "FireplaceQu=Po<br>SalePrice=%{y}<extra></extra>",
         "legendgroup": "Po",
         "marker": {
          "color": "#19d3f3"
         },
         "name": "Po",
         "notched": false,
         "offsetgroup": "Po",
         "orientation": "v",
         "showlegend": true,
         "type": "box",
         "x0": " ",
         "xaxis": "x",
         "y": {
          "bdata": "+B4CADjBAQDIJgIAJHEBAHALAgCv8wAAWIwCAOyjAQBg6gAA6PcBAOAiAgD09QEAPGcCABTgAQDgnwIAkFkCAOj3AQD4mwIAIEICAHjgAQA=",
          "dtype": "i4"
         },
         "y0": " ",
         "yaxis": "y"
        }
       ],
       "layout": {
        "boxmode": "group",
        "legend": {
         "title": {
          "text": "FireplaceQu"
         },
         "tracegroupgap": 0
        },
        "margin": {
         "t": 60
        },
        "template": {
         "data": {
          "bar": [
           {
            "error_x": {
             "color": "#2a3f5f"
            },
            "error_y": {
             "color": "#2a3f5f"
            },
            "marker": {
             "line": {
              "color": "#E5ECF6",
              "width": 0.5
             },
             "pattern": {
              "fillmode": "overlay",
              "size": 10,
              "solidity": 0.2
             }
            },
            "type": "bar"
           }
          ],
          "barpolar": [
           {
            "marker": {
             "line": {
              "color": "#E5ECF6",
              "width": 0.5
             },
             "pattern": {
              "fillmode": "overlay",
              "size": 10,
              "solidity": 0.2
             }
            },
            "type": "barpolar"
           }
          ],
          "carpet": [
           {
            "aaxis": {
             "endlinecolor": "#2a3f5f",
             "gridcolor": "white",
             "linecolor": "white",
             "minorgridcolor": "white",
             "startlinecolor": "#2a3f5f"
            },
            "baxis": {
             "endlinecolor": "#2a3f5f",
             "gridcolor": "white",
             "linecolor": "white",
             "minorgridcolor": "white",
             "startlinecolor": "#2a3f5f"
            },
            "type": "carpet"
           }
          ],
          "choropleth": [
           {
            "colorbar": {
             "outlinewidth": 0,
             "ticks": ""
            },
            "type": "choropleth"
           }
          ],
          "contour": [
           {
            "colorbar": {
             "outlinewidth": 0,
             "ticks": ""
            },
            "colorscale": [
             [
              0,
              "#0d0887"
             ],
             [
              0.1111111111111111,
              "#46039f"
             ],
             [
              0.2222222222222222,
              "#7201a8"
             ],
             [
              0.3333333333333333,
              "#9c179e"
             ],
             [
              0.4444444444444444,
              "#bd3786"
             ],
             [
              0.5555555555555556,
              "#d8576b"
             ],
             [
              0.6666666666666666,
              "#ed7953"
             ],
             [
              0.7777777777777778,
              "#fb9f3a"
             ],
             [
              0.8888888888888888,
              "#fdca26"
             ],
             [
              1,
              "#f0f921"
             ]
            ],
            "type": "contour"
           }
          ],
          "contourcarpet": [
           {
            "colorbar": {
             "outlinewidth": 0,
             "ticks": ""
            },
            "type": "contourcarpet"
           }
          ],
          "heatmap": [
           {
            "colorbar": {
             "outlinewidth": 0,
             "ticks": ""
            },
            "colorscale": [
             [
              0,
              "#0d0887"
             ],
             [
              0.1111111111111111,
              "#46039f"
             ],
             [
              0.2222222222222222,
              "#7201a8"
             ],
             [
              0.3333333333333333,
              "#9c179e"
             ],
             [
              0.4444444444444444,
              "#bd3786"
             ],
             [
              0.5555555555555556,
              "#d8576b"
             ],
             [
              0.6666666666666666,
              "#ed7953"
             ],
             [
              0.7777777777777778,
              "#fb9f3a"
             ],
             [
              0.8888888888888888,
              "#fdca26"
             ],
             [
              1,
              "#f0f921"
             ]
            ],
            "type": "heatmap"
           }
          ],
          "histogram": [
           {
            "marker": {
             "pattern": {
              "fillmode": "overlay",
              "size": 10,
              "solidity": 0.2
             }
            },
            "type": "histogram"
           }
          ],
          "histogram2d": [
           {
            "colorbar": {
             "outlinewidth": 0,
             "ticks": ""
            },
            "colorscale": [
             [
              0,
              "#0d0887"
             ],
             [
              0.1111111111111111,
              "#46039f"
             ],
             [
              0.2222222222222222,
              "#7201a8"
             ],
             [
              0.3333333333333333,
              "#9c179e"
             ],
             [
              0.4444444444444444,
              "#bd3786"
             ],
             [
              0.5555555555555556,
              "#d8576b"
             ],
             [
              0.6666666666666666,
              "#ed7953"
             ],
             [
              0.7777777777777778,
              "#fb9f3a"
             ],
             [
              0.8888888888888888,
              "#fdca26"
             ],
             [
              1,
              "#f0f921"
             ]
            ],
            "type": "histogram2d"
           }
          ],
          "histogram2dcontour": [
           {
            "colorbar": {
             "outlinewidth": 0,
             "ticks": ""
            },
            "colorscale": [
             [
              0,
              "#0d0887"
             ],
             [
              0.1111111111111111,
              "#46039f"
             ],
             [
              0.2222222222222222,
              "#7201a8"
             ],
             [
              0.3333333333333333,
              "#9c179e"
             ],
             [
              0.4444444444444444,
              "#bd3786"
             ],
             [
              0.5555555555555556,
              "#d8576b"
             ],
             [
              0.6666666666666666,
              "#ed7953"
             ],
             [
              0.7777777777777778,
              "#fb9f3a"
             ],
             [
              0.8888888888888888,
              "#fdca26"
             ],
             [
              1,
              "#f0f921"
             ]
            ],
            "type": "histogram2dcontour"
           }
          ],
          "mesh3d": [
           {
            "colorbar": {
             "outlinewidth": 0,
             "ticks": ""
            },
            "type": "mesh3d"
           }
          ],
          "parcoords": [
           {
            "line": {
             "colorbar": {
              "outlinewidth": 0,
              "ticks": ""
             }
            },
            "type": "parcoords"
           }
          ],
          "pie": [
           {
            "automargin": true,
            "type": "pie"
           }
          ],
          "scatter": [
           {
            "fillpattern": {
             "fillmode": "overlay",
             "size": 10,
             "solidity": 0.2
            },
            "type": "scatter"
           }
          ],
          "scatter3d": [
           {
            "line": {
             "colorbar": {
              "outlinewidth": 0,
              "ticks": ""
             }
            },
            "marker": {
             "colorbar": {
              "outlinewidth": 0,
              "ticks": ""
             }
            },
            "type": "scatter3d"
           }
          ],
          "scattercarpet": [
           {
            "marker": {
             "colorbar": {
              "outlinewidth": 0,
              "ticks": ""
             }
            },
            "type": "scattercarpet"
           }
          ],
          "scattergeo": [
           {
            "marker": {
             "colorbar": {
              "outlinewidth": 0,
              "ticks": ""
             }
            },
            "type": "scattergeo"
           }
          ],
          "scattergl": [
           {
            "marker": {
             "colorbar": {
              "outlinewidth": 0,
              "ticks": ""
             }
            },
            "type": "scattergl"
           }
          ],
          "scattermap": [
           {
            "marker": {
             "colorbar": {
              "outlinewidth": 0,
              "ticks": ""
             }
            },
            "type": "scattermap"
           }
          ],
          "scattermapbox": [
           {
            "marker": {
             "colorbar": {
              "outlinewidth": 0,
              "ticks": ""
             }
            },
            "type": "scattermapbox"
           }
          ],
          "scatterpolar": [
           {
            "marker": {
             "colorbar": {
              "outlinewidth": 0,
              "ticks": ""
             }
            },
            "type": "scatterpolar"
           }
          ],
          "scatterpolargl": [
           {
            "marker": {
             "colorbar": {
              "outlinewidth": 0,
              "ticks": ""
             }
            },
            "type": "scatterpolargl"
           }
          ],
          "scatterternary": [
           {
            "marker": {
             "colorbar": {
              "outlinewidth": 0,
              "ticks": ""
             }
            },
            "type": "scatterternary"
           }
          ],
          "surface": [
           {
            "colorbar": {
             "outlinewidth": 0,
             "ticks": ""
            },
            "colorscale": [
             [
              0,
              "#0d0887"
             ],
             [
              0.1111111111111111,
              "#46039f"
             ],
             [
              0.2222222222222222,
              "#7201a8"
             ],
             [
              0.3333333333333333,
              "#9c179e"
             ],
             [
              0.4444444444444444,
              "#bd3786"
             ],
             [
              0.5555555555555556,
              "#d8576b"
             ],
             [
              0.6666666666666666,
              "#ed7953"
             ],
             [
              0.7777777777777778,
              "#fb9f3a"
             ],
             [
              0.8888888888888888,
              "#fdca26"
             ],
             [
              1,
              "#f0f921"
             ]
            ],
            "type": "surface"
           }
          ],
          "table": [
           {
            "cells": {
             "fill": {
              "color": "#EBF0F8"
             },
             "line": {
              "color": "white"
             }
            },
            "header": {
             "fill": {
              "color": "#C8D4E3"
             },
             "line": {
              "color": "white"
             }
            },
            "type": "table"
           }
          ]
         },
         "layout": {
          "annotationdefaults": {
           "arrowcolor": "#2a3f5f",
           "arrowhead": 0,
           "arrowwidth": 1
          },
          "autotypenumbers": "strict",
          "coloraxis": {
           "colorbar": {
            "outlinewidth": 0,
            "ticks": ""
           }
          },
          "colorscale": {
           "diverging": [
            [
             0,
             "#8e0152"
            ],
            [
             0.1,
             "#c51b7d"
            ],
            [
             0.2,
             "#de77ae"
            ],
            [
             0.3,
             "#f1b6da"
            ],
            [
             0.4,
             "#fde0ef"
            ],
            [
             0.5,
             "#f7f7f7"
            ],
            [
             0.6,
             "#e6f5d0"
            ],
            [
             0.7,
             "#b8e186"
            ],
            [
             0.8,
             "#7fbc41"
            ],
            [
             0.9,
             "#4d9221"
            ],
            [
             1,
             "#276419"
            ]
           ],
           "sequential": [
            [
             0,
             "#0d0887"
            ],
            [
             0.1111111111111111,
             "#46039f"
            ],
            [
             0.2222222222222222,
             "#7201a8"
            ],
            [
             0.3333333333333333,
             "#9c179e"
            ],
            [
             0.4444444444444444,
             "#bd3786"
            ],
            [
             0.5555555555555556,
             "#d8576b"
            ],
            [
             0.6666666666666666,
             "#ed7953"
            ],
            [
             0.7777777777777778,
             "#fb9f3a"
            ],
            [
             0.8888888888888888,
             "#fdca26"
            ],
            [
             1,
             "#f0f921"
            ]
           ],
           "sequentialminus": [
            [
             0,
             "#0d0887"
            ],
            [
             0.1111111111111111,
             "#46039f"
            ],
            [
             0.2222222222222222,
             "#7201a8"
            ],
            [
             0.3333333333333333,
             "#9c179e"
            ],
            [
             0.4444444444444444,
             "#bd3786"
            ],
            [
             0.5555555555555556,
             "#d8576b"
            ],
            [
             0.6666666666666666,
             "#ed7953"
            ],
            [
             0.7777777777777778,
             "#fb9f3a"
            ],
            [
             0.8888888888888888,
             "#fdca26"
            ],
            [
             1,
             "#f0f921"
            ]
           ]
          },
          "colorway": [
           "#636efa",
           "#EF553B",
           "#00cc96",
           "#ab63fa",
           "#FFA15A",
           "#19d3f3",
           "#FF6692",
           "#B6E880",
           "#FF97FF",
           "#FECB52"
          ],
          "font": {
           "color": "#2a3f5f"
          },
          "geo": {
           "bgcolor": "white",
           "lakecolor": "white",
           "landcolor": "#E5ECF6",
           "showlakes": true,
           "showland": true,
           "subunitcolor": "white"
          },
          "hoverlabel": {
           "align": "left"
          },
          "hovermode": "closest",
          "mapbox": {
           "style": "light"
          },
          "paper_bgcolor": "white",
          "plot_bgcolor": "#E5ECF6",
          "polar": {
           "angularaxis": {
            "gridcolor": "white",
            "linecolor": "white",
            "ticks": ""
           },
           "bgcolor": "#E5ECF6",
           "radialaxis": {
            "gridcolor": "white",
            "linecolor": "white",
            "ticks": ""
           }
          },
          "scene": {
           "xaxis": {
            "backgroundcolor": "#E5ECF6",
            "gridcolor": "white",
            "gridwidth": 2,
            "linecolor": "white",
            "showbackground": true,
            "ticks": "",
            "zerolinecolor": "white"
           },
           "yaxis": {
            "backgroundcolor": "#E5ECF6",
            "gridcolor": "white",
            "gridwidth": 2,
            "linecolor": "white",
            "showbackground": true,
            "ticks": "",
            "zerolinecolor": "white"
           },
           "zaxis": {
            "backgroundcolor": "#E5ECF6",
            "gridcolor": "white",
            "gridwidth": 2,
            "linecolor": "white",
            "showbackground": true,
            "ticks": "",
            "zerolinecolor": "white"
           }
          },
          "shapedefaults": {
           "line": {
            "color": "#2a3f5f"
           }
          },
          "ternary": {
           "aaxis": {
            "gridcolor": "white",
            "linecolor": "white",
            "ticks": ""
           },
           "baxis": {
            "gridcolor": "white",
            "linecolor": "white",
            "ticks": ""
           },
           "bgcolor": "#E5ECF6",
           "caxis": {
            "gridcolor": "white",
            "linecolor": "white",
            "ticks": ""
           }
          },
          "title": {
           "x": 0.05
          },
          "xaxis": {
           "automargin": true,
           "gridcolor": "white",
           "linecolor": "white",
           "ticks": "",
           "title": {
            "standoff": 15
           },
           "zerolinecolor": "white",
           "zerolinewidth": 2
          },
          "yaxis": {
           "automargin": true,
           "gridcolor": "white",
           "linecolor": "white",
           "ticks": "",
           "title": {
            "standoff": 15
           },
           "zerolinecolor": "white",
           "zerolinewidth": 2
          }
         }
        },
        "xaxis": {
         "anchor": "y",
         "domain": [
          0,
          1
         ]
        },
        "yaxis": {
         "anchor": "x",
         "domain": [
          0,
          1
         ],
         "title": {
          "text": "SalePrice"
         }
        }
       }
      }
     },
     "metadata": {},
     "output_type": "display_data"
    }
   ],
   "source": [
    "for col in cols:\n",
    "    if df[col].dtype == 'object':\n",
    "        fig = px.box(df.fillna(\"unknown\"), y='SalePrice', color=col)\n",
    "    elif df[col].dtype == 'number':\n",
    "        fig = px.scatter(df, y='SalePrice', x=col)\n",
    "    fig.show()"
   ]
  },
  {
   "cell_type": "markdown",
   "id": "c06b2a65",
   "metadata": {},
   "source": [
    "Overall thought: Many of the features with lots of nulls also have very few examples of positives (100-200). What this means is that these features will only bring a relevant change in price for 100-200 houses. I could discard the features that have very few positive examples for a baseline model and see if the performance changes *drastically* when I add them to the model. Or the other way round, do a model with all features, then discard them and see how much the performance drops."
   ]
  },
  {
   "cell_type": "markdown",
   "id": "98c96e4d",
   "metadata": {},
   "source": [
    "#### <a id='toc1_1_1_3_'></a>[What to do about the rest of the nulls?](#toc0_)"
   ]
  },
  {
   "cell_type": "code",
   "execution_count": 15,
   "id": "34022299",
   "metadata": {},
   "outputs": [
    {
     "data": {
      "text/plain": [
       "is_null\n",
       "False    1338\n",
       "True      122\n",
       "Name: count, dtype: int64"
      ]
     },
     "execution_count": 15,
     "metadata": {},
     "output_type": "execute_result"
    }
   ],
   "source": [
    "null_series = df.isna().mean().sort_values(ascending=False)\n",
    "cols = null_series[null_series < 0.06].index.to_list()\n",
    "\n",
    "df['is_null'] = df[cols].isna().any(axis=1)\n",
    "df['is_null'].value_counts()"
   ]
  },
  {
   "cell_type": "code",
   "execution_count": null,
   "id": "58ef16b2",
   "metadata": {},
   "outputs": [
    {
     "data": {
      "text/plain": [
       "0.08356164383561644"
      ]
     },
     "execution_count": 16,
     "metadata": {},
     "output_type": "execute_result"
    }
   ],
   "source": [
    "122/(122+1338) # We'd lose 8% of our data if we removed the nulls"
   ]
  },
  {
   "cell_type": "code",
   "execution_count": 17,
   "id": "c24e4cde",
   "metadata": {},
   "outputs": [
    {
     "data": {
      "application/vnd.plotly.v1+json": {
       "config": {
        "plotlyServerURL": "https://plot.ly"
       },
       "data": [
        {
         "alignmentgroup": "True",
         "hovertemplate": "is_null=False<br>SalePrice=%{y}<extra></extra>",
         "legendgroup": "False",
         "marker": {
          "color": "#636efa"
         },
         "name": "False",
         "notched": false,
         "offsetgroup": "False",
         "orientation": "v",
         "showlegend": true,
         "type": "box",
         "x0": " ",
         "xaxis": "x",
         "y": {
          "bdata": "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",
          "dtype": "i4"
         },
         "y0": " ",
         "yaxis": "y"
        },
        {
         "alignmentgroup": "True",
         "hovertemplate": "is_null=True<br>SalePrice=%{y}<extra></extra>",
         "legendgroup": "True",
         "marker": {
          "color": "#EF553B"
         },
         "name": "True",
         "notched": false,
         "offsetgroup": "True",
         "orientation": "v",
         "showlegend": true,
         "type": "box",
         "x0": " ",
         "xaxis": "x",
         "y": {
          "bdata": "kF8BAFBAAQBouQEANBUCAAhMAQDQ4gEATK0BALb3AQC00AEAOMEBABRKAQDYUwEAOMEBAMgmAgCYNAEAvKsBACCTAQAM8gEAwNQBAECWAQDQfgEAtE0DAKSvAQDUKgEA6HoBAMBXAQDcEgIAnF0BAGBVBADMVQEAZAcDACANAgBI7gAAaDwBAASgAQCghgEAHDgBAGg8AQDwzAEAYOQBAFSIAAAKnwEA8E8BALAPAwDsowEAhJkAAOyjAQDgpQEA4KUBAOTOAQA4PgIA7CYBALgFAQBADQMAYOoAAAhMAQD8fwEAFEoBAH4kAwDY1gAAIMsAADxtAQA4uwIA0H4BAPR4AQCAMgIAAPQBALyrAQDIJgIAKJQCAErQAQBpLgIA7DkCAETSAgDwSQIA9O8CAAzyAQAUxwEADJQAAFgPAgDwxgIA/E0BANwMAwAw7AEAUEABAHCOAQCghgEAAHECACBIAQDoegEAUCECADjBAQCkSwEA5GoBABjwAQDwzAEAPG0BADBvAQCAOAEANA8DAEhrAQCAtQEAdDoBAGxlAQCojQEA0PsBAGgYBwA8hgEAyJ0DAPgeAgA0GwEAREIBANjWAACYNAEAFM0AAJDcAQBMjgIAgLUBAJBfAQBgZwEAQBMCABRKAQA=",
          "dtype": "i4"
         },
         "y0": " ",
         "yaxis": "y"
        }
       ],
       "layout": {
        "boxmode": "group",
        "legend": {
         "title": {
          "text": "is_null"
         },
         "tracegroupgap": 0
        },
        "margin": {
         "t": 60
        },
        "template": {
         "data": {
          "bar": [
           {
            "error_x": {
             "color": "#2a3f5f"
            },
            "error_y": {
             "color": "#2a3f5f"
            },
            "marker": {
             "line": {
              "color": "#E5ECF6",
              "width": 0.5
             },
             "pattern": {
              "fillmode": "overlay",
              "size": 10,
              "solidity": 0.2
             }
            },
            "type": "bar"
           }
          ],
          "barpolar": [
           {
            "marker": {
             "line": {
              "color": "#E5ECF6",
              "width": 0.5
             },
             "pattern": {
              "fillmode": "overlay",
              "size": 10,
              "solidity": 0.2
             }
            },
            "type": "barpolar"
           }
          ],
          "carpet": [
           {
            "aaxis": {
             "endlinecolor": "#2a3f5f",
             "gridcolor": "white",
             "linecolor": "white",
             "minorgridcolor": "white",
             "startlinecolor": "#2a3f5f"
            },
            "baxis": {
             "endlinecolor": "#2a3f5f",
             "gridcolor": "white",
             "linecolor": "white",
             "minorgridcolor": "white",
             "startlinecolor": "#2a3f5f"
            },
            "type": "carpet"
           }
          ],
          "choropleth": [
           {
            "colorbar": {
             "outlinewidth": 0,
             "ticks": ""
            },
            "type": "choropleth"
           }
          ],
          "contour": [
           {
            "colorbar": {
             "outlinewidth": 0,
             "ticks": ""
            },
            "colorscale": [
             [
              0,
              "#0d0887"
             ],
             [
              0.1111111111111111,
              "#46039f"
             ],
             [
              0.2222222222222222,
              "#7201a8"
             ],
             [
              0.3333333333333333,
              "#9c179e"
             ],
             [
              0.4444444444444444,
              "#bd3786"
             ],
             [
              0.5555555555555556,
              "#d8576b"
             ],
             [
              0.6666666666666666,
              "#ed7953"
             ],
             [
              0.7777777777777778,
              "#fb9f3a"
             ],
             [
              0.8888888888888888,
              "#fdca26"
             ],
             [
              1,
              "#f0f921"
             ]
            ],
            "type": "contour"
           }
          ],
          "contourcarpet": [
           {
            "colorbar": {
             "outlinewidth": 0,
             "ticks": ""
            },
            "type": "contourcarpet"
           }
          ],
          "heatmap": [
           {
            "colorbar": {
             "outlinewidth": 0,
             "ticks": ""
            },
            "colorscale": [
             [
              0,
              "#0d0887"
             ],
             [
              0.1111111111111111,
              "#46039f"
             ],
             [
              0.2222222222222222,
              "#7201a8"
             ],
             [
              0.3333333333333333,
              "#9c179e"
             ],
             [
              0.4444444444444444,
              "#bd3786"
             ],
             [
              0.5555555555555556,
              "#d8576b"
             ],
             [
              0.6666666666666666,
              "#ed7953"
             ],
             [
              0.7777777777777778,
              "#fb9f3a"
             ],
             [
              0.8888888888888888,
              "#fdca26"
             ],
             [
              1,
              "#f0f921"
             ]
            ],
            "type": "heatmap"
           }
          ],
          "histogram": [
           {
            "marker": {
             "pattern": {
              "fillmode": "overlay",
              "size": 10,
              "solidity": 0.2
             }
            },
            "type": "histogram"
           }
          ],
          "histogram2d": [
           {
            "colorbar": {
             "outlinewidth": 0,
             "ticks": ""
            },
            "colorscale": [
             [
              0,
              "#0d0887"
             ],
             [
              0.1111111111111111,
              "#46039f"
             ],
             [
              0.2222222222222222,
              "#7201a8"
             ],
             [
              0.3333333333333333,
              "#9c179e"
             ],
             [
              0.4444444444444444,
              "#bd3786"
             ],
             [
              0.5555555555555556,
              "#d8576b"
             ],
             [
              0.6666666666666666,
              "#ed7953"
             ],
             [
              0.7777777777777778,
              "#fb9f3a"
             ],
             [
              0.8888888888888888,
              "#fdca26"
             ],
             [
              1,
              "#f0f921"
             ]
            ],
            "type": "histogram2d"
           }
          ],
          "histogram2dcontour": [
           {
            "colorbar": {
             "outlinewidth": 0,
             "ticks": ""
            },
            "colorscale": [
             [
              0,
              "#0d0887"
             ],
             [
              0.1111111111111111,
              "#46039f"
             ],
             [
              0.2222222222222222,
              "#7201a8"
             ],
             [
              0.3333333333333333,
              "#9c179e"
             ],
             [
              0.4444444444444444,
              "#bd3786"
             ],
             [
              0.5555555555555556,
              "#d8576b"
             ],
             [
              0.6666666666666666,
              "#ed7953"
             ],
             [
              0.7777777777777778,
              "#fb9f3a"
             ],
             [
              0.8888888888888888,
              "#fdca26"
             ],
             [
              1,
              "#f0f921"
             ]
            ],
            "type": "histogram2dcontour"
           }
          ],
          "mesh3d": [
           {
            "colorbar": {
             "outlinewidth": 0,
             "ticks": ""
            },
            "type": "mesh3d"
           }
          ],
          "parcoords": [
           {
            "line": {
             "colorbar": {
              "outlinewidth": 0,
              "ticks": ""
             }
            },
            "type": "parcoords"
           }
          ],
          "pie": [
           {
            "automargin": true,
            "type": "pie"
           }
          ],
          "scatter": [
           {
            "fillpattern": {
             "fillmode": "overlay",
             "size": 10,
             "solidity": 0.2
            },
            "type": "scatter"
           }
          ],
          "scatter3d": [
           {
            "line": {
             "colorbar": {
              "outlinewidth": 0,
              "ticks": ""
             }
            },
            "marker": {
             "colorbar": {
              "outlinewidth": 0,
              "ticks": ""
             }
            },
            "type": "scatter3d"
           }
          ],
          "scattercarpet": [
           {
            "marker": {
             "colorbar": {
              "outlinewidth": 0,
              "ticks": ""
             }
            },
            "type": "scattercarpet"
           }
          ],
          "scattergeo": [
           {
            "marker": {
             "colorbar": {
              "outlinewidth": 0,
              "ticks": ""
             }
            },
            "type": "scattergeo"
           }
          ],
          "scattergl": [
           {
            "marker": {
             "colorbar": {
              "outlinewidth": 0,
              "ticks": ""
             }
            },
            "type": "scattergl"
           }
          ],
          "scattermap": [
           {
            "marker": {
             "colorbar": {
              "outlinewidth": 0,
              "ticks": ""
             }
            },
            "type": "scattermap"
           }
          ],
          "scattermapbox": [
           {
            "marker": {
             "colorbar": {
              "outlinewidth": 0,
              "ticks": ""
             }
            },
            "type": "scattermapbox"
           }
          ],
          "scatterpolar": [
           {
            "marker": {
             "colorbar": {
              "outlinewidth": 0,
              "ticks": ""
             }
            },
            "type": "scatterpolar"
           }
          ],
          "scatterpolargl": [
           {
            "marker": {
             "colorbar": {
              "outlinewidth": 0,
              "ticks": ""
             }
            },
            "type": "scatterpolargl"
           }
          ],
          "scatterternary": [
           {
            "marker": {
             "colorbar": {
              "outlinewidth": 0,
              "ticks": ""
             }
            },
            "type": "scatterternary"
           }
          ],
          "surface": [
           {
            "colorbar": {
             "outlinewidth": 0,
             "ticks": ""
            },
            "colorscale": [
             [
              0,
              "#0d0887"
             ],
             [
              0.1111111111111111,
              "#46039f"
             ],
             [
              0.2222222222222222,
              "#7201a8"
             ],
             [
              0.3333333333333333,
              "#9c179e"
             ],
             [
              0.4444444444444444,
              "#bd3786"
             ],
             [
              0.5555555555555556,
              "#d8576b"
             ],
             [
              0.6666666666666666,
              "#ed7953"
             ],
             [
              0.7777777777777778,
              "#fb9f3a"
             ],
             [
              0.8888888888888888,
              "#fdca26"
             ],
             [
              1,
              "#f0f921"
             ]
            ],
            "type": "surface"
           }
          ],
          "table": [
           {
            "cells": {
             "fill": {
              "color": "#EBF0F8"
             },
             "line": {
              "color": "white"
             }
            },
            "header": {
             "fill": {
              "color": "#C8D4E3"
             },
             "line": {
              "color": "white"
             }
            },
            "type": "table"
           }
          ]
         },
         "layout": {
          "annotationdefaults": {
           "arrowcolor": "#2a3f5f",
           "arrowhead": 0,
           "arrowwidth": 1
          },
          "autotypenumbers": "strict",
          "coloraxis": {
           "colorbar": {
            "outlinewidth": 0,
            "ticks": ""
           }
          },
          "colorscale": {
           "diverging": [
            [
             0,
             "#8e0152"
            ],
            [
             0.1,
             "#c51b7d"
            ],
            [
             0.2,
             "#de77ae"
            ],
            [
             0.3,
             "#f1b6da"
            ],
            [
             0.4,
             "#fde0ef"
            ],
            [
             0.5,
             "#f7f7f7"
            ],
            [
             0.6,
             "#e6f5d0"
            ],
            [
             0.7,
             "#b8e186"
            ],
            [
             0.8,
             "#7fbc41"
            ],
            [
             0.9,
             "#4d9221"
            ],
            [
             1,
             "#276419"
            ]
           ],
           "sequential": [
            [
             0,
             "#0d0887"
            ],
            [
             0.1111111111111111,
             "#46039f"
            ],
            [
             0.2222222222222222,
             "#7201a8"
            ],
            [
             0.3333333333333333,
             "#9c179e"
            ],
            [
             0.4444444444444444,
             "#bd3786"
            ],
            [
             0.5555555555555556,
             "#d8576b"
            ],
            [
             0.6666666666666666,
             "#ed7953"
            ],
            [
             0.7777777777777778,
             "#fb9f3a"
            ],
            [
             0.8888888888888888,
             "#fdca26"
            ],
            [
             1,
             "#f0f921"
            ]
           ],
           "sequentialminus": [
            [
             0,
             "#0d0887"
            ],
            [
             0.1111111111111111,
             "#46039f"
            ],
            [
             0.2222222222222222,
             "#7201a8"
            ],
            [
             0.3333333333333333,
             "#9c179e"
            ],
            [
             0.4444444444444444,
             "#bd3786"
            ],
            [
             0.5555555555555556,
             "#d8576b"
            ],
            [
             0.6666666666666666,
             "#ed7953"
            ],
            [
             0.7777777777777778,
             "#fb9f3a"
            ],
            [
             0.8888888888888888,
             "#fdca26"
            ],
            [
             1,
             "#f0f921"
            ]
           ]
          },
          "colorway": [
           "#636efa",
           "#EF553B",
           "#00cc96",
           "#ab63fa",
           "#FFA15A",
           "#19d3f3",
           "#FF6692",
           "#B6E880",
           "#FF97FF",
           "#FECB52"
          ],
          "font": {
           "color": "#2a3f5f"
          },
          "geo": {
           "bgcolor": "white",
           "lakecolor": "white",
           "landcolor": "#E5ECF6",
           "showlakes": true,
           "showland": true,
           "subunitcolor": "white"
          },
          "hoverlabel": {
           "align": "left"
          },
          "hovermode": "closest",
          "mapbox": {
           "style": "light"
          },
          "paper_bgcolor": "white",
          "plot_bgcolor": "#E5ECF6",
          "polar": {
           "angularaxis": {
            "gridcolor": "white",
            "linecolor": "white",
            "ticks": ""
           },
           "bgcolor": "#E5ECF6",
           "radialaxis": {
            "gridcolor": "white",
            "linecolor": "white",
            "ticks": ""
           }
          },
          "scene": {
           "xaxis": {
            "backgroundcolor": "#E5ECF6",
            "gridcolor": "white",
            "gridwidth": 2,
            "linecolor": "white",
            "showbackground": true,
            "ticks": "",
            "zerolinecolor": "white"
           },
           "yaxis": {
            "backgroundcolor": "#E5ECF6",
            "gridcolor": "white",
            "gridwidth": 2,
            "linecolor": "white",
            "showbackground": true,
            "ticks": "",
            "zerolinecolor": "white"
           },
           "zaxis": {
            "backgroundcolor": "#E5ECF6",
            "gridcolor": "white",
            "gridwidth": 2,
            "linecolor": "white",
            "showbackground": true,
            "ticks": "",
            "zerolinecolor": "white"
           }
          },
          "shapedefaults": {
           "line": {
            "color": "#2a3f5f"
           }
          },
          "ternary": {
           "aaxis": {
            "gridcolor": "white",
            "linecolor": "white",
            "ticks": ""
           },
           "baxis": {
            "gridcolor": "white",
            "linecolor": "white",
            "ticks": ""
           },
           "bgcolor": "#E5ECF6",
           "caxis": {
            "gridcolor": "white",
            "linecolor": "white",
            "ticks": ""
           }
          },
          "title": {
           "x": 0.05
          },
          "xaxis": {
           "automargin": true,
           "gridcolor": "white",
           "linecolor": "white",
           "ticks": "",
           "title": {
            "standoff": 15
           },
           "zerolinecolor": "white",
           "zerolinewidth": 2
          },
          "yaxis": {
           "automargin": true,
           "gridcolor": "white",
           "linecolor": "white",
           "ticks": "",
           "title": {
            "standoff": 15
           },
           "zerolinecolor": "white",
           "zerolinewidth": 2
          }
         }
        },
        "xaxis": {
         "anchor": "y",
         "domain": [
          0,
          1
         ]
        },
        "yaxis": {
         "anchor": "x",
         "domain": [
          0,
          1
         ],
         "title": {
          "text": "SalePrice"
         }
        }
       }
      }
     },
     "metadata": {},
     "output_type": "display_data"
    }
   ],
   "source": [
    "px.box(df, y='SalePrice', color='is_null')"
   ]
  },
  {
   "cell_type": "code",
   "execution_count": null,
   "id": "efb0997e",
   "metadata": {},
   "outputs": [
    {
     "data": {
      "application/vnd.plotly.v1+json": {
       "config": {
        "plotlyServerURL": "https://plot.ly"
       },
       "data": [
        {
         "bingroup": "x",
         "hovertemplate": "is_null=False<br>SalePrice=%{x}<br>count=%{y}<extra></extra>",
         "legendgroup": "False",
         "marker": {
          "color": "#636efa",
          "opacity": 0.5,
          "pattern": {
           "shape": ""
          }
         },
         "name": "False",
         "orientation": "v",
         "showlegend": true,
         "type": "histogram",
         "x": {
          "bdata": "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",
          "dtype": "i4"
         },
         "xaxis": "x",
         "yaxis": "y"
        },
        {
         "bingroup": "x",
         "hovertemplate": "is_null=True<br>SalePrice=%{x}<br>count=%{y}<extra></extra>",
         "legendgroup": "True",
         "marker": {
          "color": "#EF553B",
          "opacity": 0.5,
          "pattern": {
           "shape": ""
          }
         },
         "name": "True",
         "orientation": "v",
         "showlegend": true,
         "type": "histogram",
         "x": {
          "bdata": "kF8BAFBAAQBouQEANBUCAAhMAQDQ4gEATK0BALb3AQC00AEAOMEBABRKAQDYUwEAOMEBAMgmAgCYNAEAvKsBACCTAQAM8gEAwNQBAECWAQDQfgEAtE0DAKSvAQDUKgEA6HoBAMBXAQDcEgIAnF0BAGBVBADMVQEAZAcDACANAgBI7gAAaDwBAASgAQCghgEAHDgBAGg8AQDwzAEAYOQBAFSIAAAKnwEA8E8BALAPAwDsowEAhJkAAOyjAQDgpQEA4KUBAOTOAQA4PgIA7CYBALgFAQBADQMAYOoAAAhMAQD8fwEAFEoBAH4kAwDY1gAAIMsAADxtAQA4uwIA0H4BAPR4AQCAMgIAAPQBALyrAQDIJgIAKJQCAErQAQBpLgIA7DkCAETSAgDwSQIA9O8CAAzyAQAUxwEADJQAAFgPAgDwxgIA/E0BANwMAwAw7AEAUEABAHCOAQCghgEAAHECACBIAQDoegEAUCECADjBAQCkSwEA5GoBABjwAQDwzAEAPG0BADBvAQCAOAEANA8DAEhrAQCAtQEAdDoBAGxlAQCojQEA0PsBAGgYBwA8hgEAyJ0DAPgeAgA0GwEAREIBANjWAACYNAEAFM0AAJDcAQBMjgIAgLUBAJBfAQBgZwEAQBMCABRKAQA=",
          "dtype": "i4"
         },
         "xaxis": "x",
         "yaxis": "y"
        }
       ],
       "layout": {
        "barmode": "relative",
        "legend": {
         "title": {
          "text": "is_null"
         },
         "tracegroupgap": 0
        },
        "margin": {
         "t": 60
        },
        "template": {
         "data": {
          "bar": [
           {
            "error_x": {
             "color": "#2a3f5f"
            },
            "error_y": {
             "color": "#2a3f5f"
            },
            "marker": {
             "line": {
              "color": "#E5ECF6",
              "width": 0.5
             },
             "pattern": {
              "fillmode": "overlay",
              "size": 10,
              "solidity": 0.2
             }
            },
            "type": "bar"
           }
          ],
          "barpolar": [
           {
            "marker": {
             "line": {
              "color": "#E5ECF6",
              "width": 0.5
             },
             "pattern": {
              "fillmode": "overlay",
              "size": 10,
              "solidity": 0.2
             }
            },
            "type": "barpolar"
           }
          ],
          "carpet": [
           {
            "aaxis": {
             "endlinecolor": "#2a3f5f",
             "gridcolor": "white",
             "linecolor": "white",
             "minorgridcolor": "white",
             "startlinecolor": "#2a3f5f"
            },
            "baxis": {
             "endlinecolor": "#2a3f5f",
             "gridcolor": "white",
             "linecolor": "white",
             "minorgridcolor": "white",
             "startlinecolor": "#2a3f5f"
            },
            "type": "carpet"
           }
          ],
          "choropleth": [
           {
            "colorbar": {
             "outlinewidth": 0,
             "ticks": ""
            },
            "type": "choropleth"
           }
          ],
          "contour": [
           {
            "colorbar": {
             "outlinewidth": 0,
             "ticks": ""
            },
            "colorscale": [
             [
              0,
              "#0d0887"
             ],
             [
              0.1111111111111111,
              "#46039f"
             ],
             [
              0.2222222222222222,
              "#7201a8"
             ],
             [
              0.3333333333333333,
              "#9c179e"
             ],
             [
              0.4444444444444444,
              "#bd3786"
             ],
             [
              0.5555555555555556,
              "#d8576b"
             ],
             [
              0.6666666666666666,
              "#ed7953"
             ],
             [
              0.7777777777777778,
              "#fb9f3a"
             ],
             [
              0.8888888888888888,
              "#fdca26"
             ],
             [
              1,
              "#f0f921"
             ]
            ],
            "type": "contour"
           }
          ],
          "contourcarpet": [
           {
            "colorbar": {
             "outlinewidth": 0,
             "ticks": ""
            },
            "type": "contourcarpet"
           }
          ],
          "heatmap": [
           {
            "colorbar": {
             "outlinewidth": 0,
             "ticks": ""
            },
            "colorscale": [
             [
              0,
              "#0d0887"
             ],
             [
              0.1111111111111111,
              "#46039f"
             ],
             [
              0.2222222222222222,
              "#7201a8"
             ],
             [
              0.3333333333333333,
              "#9c179e"
             ],
             [
              0.4444444444444444,
              "#bd3786"
             ],
             [
              0.5555555555555556,
              "#d8576b"
             ],
             [
              0.6666666666666666,
              "#ed7953"
             ],
             [
              0.7777777777777778,
              "#fb9f3a"
             ],
             [
              0.8888888888888888,
              "#fdca26"
             ],
             [
              1,
              "#f0f921"
             ]
            ],
            "type": "heatmap"
           }
          ],
          "histogram": [
           {
            "marker": {
             "pattern": {
              "fillmode": "overlay",
              "size": 10,
              "solidity": 0.2
             }
            },
            "type": "histogram"
           }
          ],
          "histogram2d": [
           {
            "colorbar": {
             "outlinewidth": 0,
             "ticks": ""
            },
            "colorscale": [
             [
              0,
              "#0d0887"
             ],
             [
              0.1111111111111111,
              "#46039f"
             ],
             [
              0.2222222222222222,
              "#7201a8"
             ],
             [
              0.3333333333333333,
              "#9c179e"
             ],
             [
              0.4444444444444444,
              "#bd3786"
             ],
             [
              0.5555555555555556,
              "#d8576b"
             ],
             [
              0.6666666666666666,
              "#ed7953"
             ],
             [
              0.7777777777777778,
              "#fb9f3a"
             ],
             [
              0.8888888888888888,
              "#fdca26"
             ],
             [
              1,
              "#f0f921"
             ]
            ],
            "type": "histogram2d"
           }
          ],
          "histogram2dcontour": [
           {
            "colorbar": {
             "outlinewidth": 0,
             "ticks": ""
            },
            "colorscale": [
             [
              0,
              "#0d0887"
             ],
             [
              0.1111111111111111,
              "#46039f"
             ],
             [
              0.2222222222222222,
              "#7201a8"
             ],
             [
              0.3333333333333333,
              "#9c179e"
             ],
             [
              0.4444444444444444,
              "#bd3786"
             ],
             [
              0.5555555555555556,
              "#d8576b"
             ],
             [
              0.6666666666666666,
              "#ed7953"
             ],
             [
              0.7777777777777778,
              "#fb9f3a"
             ],
             [
              0.8888888888888888,
              "#fdca26"
             ],
             [
              1,
              "#f0f921"
             ]
            ],
            "type": "histogram2dcontour"
           }
          ],
          "mesh3d": [
           {
            "colorbar": {
             "outlinewidth": 0,
             "ticks": ""
            },
            "type": "mesh3d"
           }
          ],
          "parcoords": [
           {
            "line": {
             "colorbar": {
              "outlinewidth": 0,
              "ticks": ""
             }
            },
            "type": "parcoords"
           }
          ],
          "pie": [
           {
            "automargin": true,
            "type": "pie"
           }
          ],
          "scatter": [
           {
            "fillpattern": {
             "fillmode": "overlay",
             "size": 10,
             "solidity": 0.2
            },
            "type": "scatter"
           }
          ],
          "scatter3d": [
           {
            "line": {
             "colorbar": {
              "outlinewidth": 0,
              "ticks": ""
             }
            },
            "marker": {
             "colorbar": {
              "outlinewidth": 0,
              "ticks": ""
             }
            },
            "type": "scatter3d"
           }
          ],
          "scattercarpet": [
           {
            "marker": {
             "colorbar": {
              "outlinewidth": 0,
              "ticks": ""
             }
            },
            "type": "scattercarpet"
           }
          ],
          "scattergeo": [
           {
            "marker": {
             "colorbar": {
              "outlinewidth": 0,
              "ticks": ""
             }
            },
            "type": "scattergeo"
           }
          ],
          "scattergl": [
           {
            "marker": {
             "colorbar": {
              "outlinewidth": 0,
              "ticks": ""
             }
            },
            "type": "scattergl"
           }
          ],
          "scattermap": [
           {
            "marker": {
             "colorbar": {
              "outlinewidth": 0,
              "ticks": ""
             }
            },
            "type": "scattermap"
           }
          ],
          "scattermapbox": [
           {
            "marker": {
             "colorbar": {
              "outlinewidth": 0,
              "ticks": ""
             }
            },
            "type": "scattermapbox"
           }
          ],
          "scatterpolar": [
           {
            "marker": {
             "colorbar": {
              "outlinewidth": 0,
              "ticks": ""
             }
            },
            "type": "scatterpolar"
           }
          ],
          "scatterpolargl": [
           {
            "marker": {
             "colorbar": {
              "outlinewidth": 0,
              "ticks": ""
             }
            },
            "type": "scatterpolargl"
           }
          ],
          "scatterternary": [
           {
            "marker": {
             "colorbar": {
              "outlinewidth": 0,
              "ticks": ""
             }
            },
            "type": "scatterternary"
           }
          ],
          "surface": [
           {
            "colorbar": {
             "outlinewidth": 0,
             "ticks": ""
            },
            "colorscale": [
             [
              0,
              "#0d0887"
             ],
             [
              0.1111111111111111,
              "#46039f"
             ],
             [
              0.2222222222222222,
              "#7201a8"
             ],
             [
              0.3333333333333333,
              "#9c179e"
             ],
             [
              0.4444444444444444,
              "#bd3786"
             ],
             [
              0.5555555555555556,
              "#d8576b"
             ],
             [
              0.6666666666666666,
              "#ed7953"
             ],
             [
              0.7777777777777778,
              "#fb9f3a"
             ],
             [
              0.8888888888888888,
              "#fdca26"
             ],
             [
              1,
              "#f0f921"
             ]
            ],
            "type": "surface"
           }
          ],
          "table": [
           {
            "cells": {
             "fill": {
              "color": "#EBF0F8"
             },
             "line": {
              "color": "white"
             }
            },
            "header": {
             "fill": {
              "color": "#C8D4E3"
             },
             "line": {
              "color": "white"
             }
            },
            "type": "table"
           }
          ]
         },
         "layout": {
          "annotationdefaults": {
           "arrowcolor": "#2a3f5f",
           "arrowhead": 0,
           "arrowwidth": 1
          },
          "autotypenumbers": "strict",
          "coloraxis": {
           "colorbar": {
            "outlinewidth": 0,
            "ticks": ""
           }
          },
          "colorscale": {
           "diverging": [
            [
             0,
             "#8e0152"
            ],
            [
             0.1,
             "#c51b7d"
            ],
            [
             0.2,
             "#de77ae"
            ],
            [
             0.3,
             "#f1b6da"
            ],
            [
             0.4,
             "#fde0ef"
            ],
            [
             0.5,
             "#f7f7f7"
            ],
            [
             0.6,
             "#e6f5d0"
            ],
            [
             0.7,
             "#b8e186"
            ],
            [
             0.8,
             "#7fbc41"
            ],
            [
             0.9,
             "#4d9221"
            ],
            [
             1,
             "#276419"
            ]
           ],
           "sequential": [
            [
             0,
             "#0d0887"
            ],
            [
             0.1111111111111111,
             "#46039f"
            ],
            [
             0.2222222222222222,
             "#7201a8"
            ],
            [
             0.3333333333333333,
             "#9c179e"
            ],
            [
             0.4444444444444444,
             "#bd3786"
            ],
            [
             0.5555555555555556,
             "#d8576b"
            ],
            [
             0.6666666666666666,
             "#ed7953"
            ],
            [
             0.7777777777777778,
             "#fb9f3a"
            ],
            [
             0.8888888888888888,
             "#fdca26"
            ],
            [
             1,
             "#f0f921"
            ]
           ],
           "sequentialminus": [
            [
             0,
             "#0d0887"
            ],
            [
             0.1111111111111111,
             "#46039f"
            ],
            [
             0.2222222222222222,
             "#7201a8"
            ],
            [
             0.3333333333333333,
             "#9c179e"
            ],
            [
             0.4444444444444444,
             "#bd3786"
            ],
            [
             0.5555555555555556,
             "#d8576b"
            ],
            [
             0.6666666666666666,
             "#ed7953"
            ],
            [
             0.7777777777777778,
             "#fb9f3a"
            ],
            [
             0.8888888888888888,
             "#fdca26"
            ],
            [
             1,
             "#f0f921"
            ]
           ]
          },
          "colorway": [
           "#636efa",
           "#EF553B",
           "#00cc96",
           "#ab63fa",
           "#FFA15A",
           "#19d3f3",
           "#FF6692",
           "#B6E880",
           "#FF97FF",
           "#FECB52"
          ],
          "font": {
           "color": "#2a3f5f"
          },
          "geo": {
           "bgcolor": "white",
           "lakecolor": "white",
           "landcolor": "#E5ECF6",
           "showlakes": true,
           "showland": true,
           "subunitcolor": "white"
          },
          "hoverlabel": {
           "align": "left"
          },
          "hovermode": "closest",
          "mapbox": {
           "style": "light"
          },
          "paper_bgcolor": "white",
          "plot_bgcolor": "#E5ECF6",
          "polar": {
           "angularaxis": {
            "gridcolor": "white",
            "linecolor": "white",
            "ticks": ""
           },
           "bgcolor": "#E5ECF6",
           "radialaxis": {
            "gridcolor": "white",
            "linecolor": "white",
            "ticks": ""
           }
          },
          "scene": {
           "xaxis": {
            "backgroundcolor": "#E5ECF6",
            "gridcolor": "white",
            "gridwidth": 2,
            "linecolor": "white",
            "showbackground": true,
            "ticks": "",
            "zerolinecolor": "white"
           },
           "yaxis": {
            "backgroundcolor": "#E5ECF6",
            "gridcolor": "white",
            "gridwidth": 2,
            "linecolor": "white",
            "showbackground": true,
            "ticks": "",
            "zerolinecolor": "white"
           },
           "zaxis": {
            "backgroundcolor": "#E5ECF6",
            "gridcolor": "white",
            "gridwidth": 2,
            "linecolor": "white",
            "showbackground": true,
            "ticks": "",
            "zerolinecolor": "white"
           }
          },
          "shapedefaults": {
           "line": {
            "color": "#2a3f5f"
           }
          },
          "ternary": {
           "aaxis": {
            "gridcolor": "white",
            "linecolor": "white",
            "ticks": ""
           },
           "baxis": {
            "gridcolor": "white",
            "linecolor": "white",
            "ticks": ""
           },
           "bgcolor": "#E5ECF6",
           "caxis": {
            "gridcolor": "white",
            "linecolor": "white",
            "ticks": ""
           }
          },
          "title": {
           "x": 0.05
          },
          "xaxis": {
           "automargin": true,
           "gridcolor": "white",
           "linecolor": "white",
           "ticks": "",
           "title": {
            "standoff": 15
           },
           "zerolinecolor": "white",
           "zerolinewidth": 2
          },
          "yaxis": {
           "automargin": true,
           "gridcolor": "white",
           "linecolor": "white",
           "ticks": "",
           "title": {
            "standoff": 15
           },
           "zerolinecolor": "white",
           "zerolinewidth": 2
          }
         }
        },
        "xaxis": {
         "anchor": "y",
         "domain": [
          0,
          1
         ],
         "title": {
          "text": "SalePrice"
         }
        },
        "yaxis": {
         "anchor": "x",
         "domain": [
          0,
          1
         ],
         "title": {
          "text": "count"
         }
        }
       }
      }
     },
     "metadata": {},
     "output_type": "display_data"
    }
   ],
   "source": [
    "px.histogram(df, x='SalePrice', color='is_null')"
   ]
  },
  {
   "cell_type": "markdown",
   "id": "8c0cf8ac",
   "metadata": {},
   "source": [
    "In terms of predicting the `SalePrice`, it looks like we wouldn't lose data relevant to the model."
   ]
  }
 ],
 "metadata": {
  "kernelspec": {
   "display_name": "houses (3.12.11)",
   "language": "python",
   "name": "python3"
  },
  "language_info": {
   "codemirror_mode": {
    "name": "ipython",
    "version": 3
   },
   "file_extension": ".py",
   "mimetype": "text/x-python",
   "name": "python",
   "nbconvert_exporter": "python",
   "pygments_lexer": "ipython3",
   "version": "3.12.11"
  }
 },
 "nbformat": 4,
 "nbformat_minor": 5
}
