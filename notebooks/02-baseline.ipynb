{
 "cells": [
  {
   "cell_type": "markdown",
   "id": "c6f3705e",
   "metadata": {},
   "source": [
    "**Table of contents**<a id='toc0_'></a>    \n",
    "- [Baseline](#toc1_1_)    \n",
    "  - [Predict logarithm](#toc1_2_)    \n",
    "  - [Choose top 10 features](#toc1_3_)    \n",
    "\n",
    "<!-- vscode-jupyter-toc-config\n",
    "\tnumbering=false\n",
    "\tanchor=true\n",
    "\tflat=false\n",
    "\tminLevel=1\n",
    "\tmaxLevel=6\n",
    "\t/vscode-jupyter-toc-config -->\n",
    "<!-- THIS CELL WILL BE REPLACED ON TOC UPDATE. DO NOT WRITE YOUR TEXT IN THIS CELL -->"
   ]
  },
  {
   "cell_type": "markdown",
   "id": "85b2e2f3",
   "metadata": {},
   "source": [
    "To run baseline experiments I will use PyCaret, as it makes this sort of thing easier at the beginning. PyCaret is what's called an AutoML library, i.e. it automates some of the typical ML tasks. Data scaling, null handling, one-hot encoding, train-test split, model training, all of these things are handled by the same library.\n",
    "\n",
    "For a full-on classification tutorial, I recommend checking [their tutorials](https://www.pycaret.org/tutorials/html/CLF101.html). "
   ]
  },
  {
   "cell_type": "code",
   "execution_count": 11,
   "id": "8e1c7e4c",
   "metadata": {},
   "outputs": [],
   "source": [
    "import pandas as pd\n",
    "import plotly.express as px\n",
    "\n",
    "from pycaret.regression import *"
   ]
  },
  {
   "cell_type": "code",
   "execution_count": 2,
   "id": "efeac906",
   "metadata": {},
   "outputs": [],
   "source": [
    "df = pd.read_csv(\"../data/raw/train.csv\")"
   ]
  },
  {
   "cell_type": "markdown",
   "id": "01cca3b9",
   "metadata": {},
   "source": [
    "## <a id='toc1_1_'></a>[Baseline](#toc0_)"
   ]
  },
  {
   "cell_type": "code",
   "execution_count": 6,
   "id": "69e53c33",
   "metadata": {},
   "outputs": [
    {
     "data": {
      "text/html": [
       "<style type=\"text/css\">\n",
       "#T_20cc7_row10_col1 {\n",
       "  background-color: lightgreen;\n",
       "}\n",
       "</style>\n",
       "<table id=\"T_20cc7\">\n",
       "  <thead>\n",
       "    <tr>\n",
       "      <th class=\"blank level0\" >&nbsp;</th>\n",
       "      <th id=\"T_20cc7_level0_col0\" class=\"col_heading level0 col0\" >Description</th>\n",
       "      <th id=\"T_20cc7_level0_col1\" class=\"col_heading level0 col1\" >Value</th>\n",
       "    </tr>\n",
       "  </thead>\n",
       "  <tbody>\n",
       "    <tr>\n",
       "      <th id=\"T_20cc7_level0_row0\" class=\"row_heading level0 row0\" >0</th>\n",
       "      <td id=\"T_20cc7_row0_col0\" class=\"data row0 col0\" >Session id</td>\n",
       "      <td id=\"T_20cc7_row0_col1\" class=\"data row0 col1\" >123</td>\n",
       "    </tr>\n",
       "    <tr>\n",
       "      <th id=\"T_20cc7_level0_row1\" class=\"row_heading level0 row1\" >1</th>\n",
       "      <td id=\"T_20cc7_row1_col0\" class=\"data row1 col0\" >Target</td>\n",
       "      <td id=\"T_20cc7_row1_col1\" class=\"data row1 col1\" >SalePrice</td>\n",
       "    </tr>\n",
       "    <tr>\n",
       "      <th id=\"T_20cc7_level0_row2\" class=\"row_heading level0 row2\" >2</th>\n",
       "      <td id=\"T_20cc7_row2_col0\" class=\"data row2 col0\" >Target type</td>\n",
       "      <td id=\"T_20cc7_row2_col1\" class=\"data row2 col1\" >Regression</td>\n",
       "    </tr>\n",
       "    <tr>\n",
       "      <th id=\"T_20cc7_level0_row3\" class=\"row_heading level0 row3\" >3</th>\n",
       "      <td id=\"T_20cc7_row3_col0\" class=\"data row3 col0\" >Original data shape</td>\n",
       "      <td id=\"T_20cc7_row3_col1\" class=\"data row3 col1\" >(1460, 81)</td>\n",
       "    </tr>\n",
       "    <tr>\n",
       "      <th id=\"T_20cc7_level0_row4\" class=\"row_heading level0 row4\" >4</th>\n",
       "      <td id=\"T_20cc7_row4_col0\" class=\"data row4 col0\" >Transformed data shape</td>\n",
       "      <td id=\"T_20cc7_row4_col1\" class=\"data row4 col1\" >(1460, 279)</td>\n",
       "    </tr>\n",
       "    <tr>\n",
       "      <th id=\"T_20cc7_level0_row5\" class=\"row_heading level0 row5\" >5</th>\n",
       "      <td id=\"T_20cc7_row5_col0\" class=\"data row5 col0\" >Transformed train set shape</td>\n",
       "      <td id=\"T_20cc7_row5_col1\" class=\"data row5 col1\" >(1021, 279)</td>\n",
       "    </tr>\n",
       "    <tr>\n",
       "      <th id=\"T_20cc7_level0_row6\" class=\"row_heading level0 row6\" >6</th>\n",
       "      <td id=\"T_20cc7_row6_col0\" class=\"data row6 col0\" >Transformed test set shape</td>\n",
       "      <td id=\"T_20cc7_row6_col1\" class=\"data row6 col1\" >(439, 279)</td>\n",
       "    </tr>\n",
       "    <tr>\n",
       "      <th id=\"T_20cc7_level0_row7\" class=\"row_heading level0 row7\" >7</th>\n",
       "      <td id=\"T_20cc7_row7_col0\" class=\"data row7 col0\" >Numeric features</td>\n",
       "      <td id=\"T_20cc7_row7_col1\" class=\"data row7 col1\" >37</td>\n",
       "    </tr>\n",
       "    <tr>\n",
       "      <th id=\"T_20cc7_level0_row8\" class=\"row_heading level0 row8\" >8</th>\n",
       "      <td id=\"T_20cc7_row8_col0\" class=\"data row8 col0\" >Categorical features</td>\n",
       "      <td id=\"T_20cc7_row8_col1\" class=\"data row8 col1\" >43</td>\n",
       "    </tr>\n",
       "    <tr>\n",
       "      <th id=\"T_20cc7_level0_row9\" class=\"row_heading level0 row9\" >9</th>\n",
       "      <td id=\"T_20cc7_row9_col0\" class=\"data row9 col0\" >Rows with missing values</td>\n",
       "      <td id=\"T_20cc7_row9_col1\" class=\"data row9 col1\" >100.0%</td>\n",
       "    </tr>\n",
       "    <tr>\n",
       "      <th id=\"T_20cc7_level0_row10\" class=\"row_heading level0 row10\" >10</th>\n",
       "      <td id=\"T_20cc7_row10_col0\" class=\"data row10 col0\" >Preprocess</td>\n",
       "      <td id=\"T_20cc7_row10_col1\" class=\"data row10 col1\" >True</td>\n",
       "    </tr>\n",
       "    <tr>\n",
       "      <th id=\"T_20cc7_level0_row11\" class=\"row_heading level0 row11\" >11</th>\n",
       "      <td id=\"T_20cc7_row11_col0\" class=\"data row11 col0\" >Imputation type</td>\n",
       "      <td id=\"T_20cc7_row11_col1\" class=\"data row11 col1\" >simple</td>\n",
       "    </tr>\n",
       "    <tr>\n",
       "      <th id=\"T_20cc7_level0_row12\" class=\"row_heading level0 row12\" >12</th>\n",
       "      <td id=\"T_20cc7_row12_col0\" class=\"data row12 col0\" >Numeric imputation</td>\n",
       "      <td id=\"T_20cc7_row12_col1\" class=\"data row12 col1\" >mean</td>\n",
       "    </tr>\n",
       "    <tr>\n",
       "      <th id=\"T_20cc7_level0_row13\" class=\"row_heading level0 row13\" >13</th>\n",
       "      <td id=\"T_20cc7_row13_col0\" class=\"data row13 col0\" >Categorical imputation</td>\n",
       "      <td id=\"T_20cc7_row13_col1\" class=\"data row13 col1\" >mode</td>\n",
       "    </tr>\n",
       "    <tr>\n",
       "      <th id=\"T_20cc7_level0_row14\" class=\"row_heading level0 row14\" >14</th>\n",
       "      <td id=\"T_20cc7_row14_col0\" class=\"data row14 col0\" >Maximum one-hot encoding</td>\n",
       "      <td id=\"T_20cc7_row14_col1\" class=\"data row14 col1\" >25</td>\n",
       "    </tr>\n",
       "    <tr>\n",
       "      <th id=\"T_20cc7_level0_row15\" class=\"row_heading level0 row15\" >15</th>\n",
       "      <td id=\"T_20cc7_row15_col0\" class=\"data row15 col0\" >Encoding method</td>\n",
       "      <td id=\"T_20cc7_row15_col1\" class=\"data row15 col1\" >None</td>\n",
       "    </tr>\n",
       "    <tr>\n",
       "      <th id=\"T_20cc7_level0_row16\" class=\"row_heading level0 row16\" >16</th>\n",
       "      <td id=\"T_20cc7_row16_col0\" class=\"data row16 col0\" >Fold Generator</td>\n",
       "      <td id=\"T_20cc7_row16_col1\" class=\"data row16 col1\" >KFold</td>\n",
       "    </tr>\n",
       "    <tr>\n",
       "      <th id=\"T_20cc7_level0_row17\" class=\"row_heading level0 row17\" >17</th>\n",
       "      <td id=\"T_20cc7_row17_col0\" class=\"data row17 col0\" >Fold Number</td>\n",
       "      <td id=\"T_20cc7_row17_col1\" class=\"data row17 col1\" >10</td>\n",
       "    </tr>\n",
       "    <tr>\n",
       "      <th id=\"T_20cc7_level0_row18\" class=\"row_heading level0 row18\" >18</th>\n",
       "      <td id=\"T_20cc7_row18_col0\" class=\"data row18 col0\" >CPU Jobs</td>\n",
       "      <td id=\"T_20cc7_row18_col1\" class=\"data row18 col1\" >-1</td>\n",
       "    </tr>\n",
       "    <tr>\n",
       "      <th id=\"T_20cc7_level0_row19\" class=\"row_heading level0 row19\" >19</th>\n",
       "      <td id=\"T_20cc7_row19_col0\" class=\"data row19 col0\" >Use GPU</td>\n",
       "      <td id=\"T_20cc7_row19_col1\" class=\"data row19 col1\" >False</td>\n",
       "    </tr>\n",
       "    <tr>\n",
       "      <th id=\"T_20cc7_level0_row20\" class=\"row_heading level0 row20\" >20</th>\n",
       "      <td id=\"T_20cc7_row20_col0\" class=\"data row20 col0\" >Log Experiment</td>\n",
       "      <td id=\"T_20cc7_row20_col1\" class=\"data row20 col1\" >False</td>\n",
       "    </tr>\n",
       "    <tr>\n",
       "      <th id=\"T_20cc7_level0_row21\" class=\"row_heading level0 row21\" >21</th>\n",
       "      <td id=\"T_20cc7_row21_col0\" class=\"data row21 col0\" >Experiment Name</td>\n",
       "      <td id=\"T_20cc7_row21_col1\" class=\"data row21 col1\" >reg-default-name</td>\n",
       "    </tr>\n",
       "    <tr>\n",
       "      <th id=\"T_20cc7_level0_row22\" class=\"row_heading level0 row22\" >22</th>\n",
       "      <td id=\"T_20cc7_row22_col0\" class=\"data row22 col0\" >USI</td>\n",
       "      <td id=\"T_20cc7_row22_col1\" class=\"data row22 col1\" >e521</td>\n",
       "    </tr>\n",
       "  </tbody>\n",
       "</table>\n"
      ],
      "text/plain": [
       "<pandas.io.formats.style.Styler at 0x1d3244e6fd0>"
      ]
     },
     "metadata": {},
     "output_type": "display_data"
    }
   ],
   "source": [
    "experiment = setup(data=df, target='SalePrice', session_id=123) "
   ]
  },
  {
   "cell_type": "markdown",
   "id": "41df6778",
   "metadata": {},
   "source": [
    "We see that:\n",
    "- all null values were imputed either with the mean or mode\n",
    "- we use 10-fold cross-validation to get evaluation metrics as close to reality as possible\n",
    "- we use One-Hot Encoding for any categorical feature that has less than 25 categories and otherwise we use Label encoding"
   ]
  },
  {
   "cell_type": "code",
   "execution_count": 8,
   "id": "0be1209c",
   "metadata": {},
   "outputs": [
    {
     "data": {
      "text/html": [],
      "text/plain": [
       "<IPython.core.display.HTML object>"
      ]
     },
     "metadata": {},
     "output_type": "display_data"
    },
    {
     "data": {
      "text/html": [
       "<style type=\"text/css\">\n",
       "#T_eb610 th {\n",
       "  text-align: left;\n",
       "}\n",
       "#T_eb610_row0_col0, #T_eb610_row1_col0, #T_eb610_row1_col1, #T_eb610_row1_col2, #T_eb610_row1_col3, #T_eb610_row1_col4, #T_eb610_row1_col5, #T_eb610_row1_col6, #T_eb610_row2_col0, #T_eb610_row2_col1, #T_eb610_row2_col2, #T_eb610_row2_col3, #T_eb610_row2_col4, #T_eb610_row2_col5, #T_eb610_row2_col6, #T_eb610_row3_col0, #T_eb610_row3_col1, #T_eb610_row3_col2, #T_eb610_row3_col3, #T_eb610_row3_col4, #T_eb610_row3_col5, #T_eb610_row3_col6, #T_eb610_row4_col0, #T_eb610_row4_col1, #T_eb610_row4_col2, #T_eb610_row4_col3, #T_eb610_row4_col4, #T_eb610_row4_col5, #T_eb610_row4_col6, #T_eb610_row5_col0, #T_eb610_row5_col1, #T_eb610_row5_col2, #T_eb610_row5_col3, #T_eb610_row5_col4, #T_eb610_row5_col5, #T_eb610_row5_col6, #T_eb610_row6_col0, #T_eb610_row6_col1, #T_eb610_row6_col2, #T_eb610_row6_col3, #T_eb610_row6_col4, #T_eb610_row6_col5, #T_eb610_row6_col6, #T_eb610_row7_col0, #T_eb610_row7_col1, #T_eb610_row7_col2, #T_eb610_row7_col3, #T_eb610_row7_col4, #T_eb610_row7_col5, #T_eb610_row7_col6, #T_eb610_row8_col0, #T_eb610_row8_col1, #T_eb610_row8_col2, #T_eb610_row8_col3, #T_eb610_row8_col4, #T_eb610_row8_col5, #T_eb610_row8_col6, #T_eb610_row9_col0, #T_eb610_row9_col1, #T_eb610_row9_col2, #T_eb610_row9_col3, #T_eb610_row9_col4, #T_eb610_row9_col5, #T_eb610_row9_col6, #T_eb610_row10_col0, #T_eb610_row10_col1, #T_eb610_row10_col2, #T_eb610_row10_col3, #T_eb610_row10_col4, #T_eb610_row10_col5, #T_eb610_row10_col6, #T_eb610_row11_col0, #T_eb610_row11_col1, #T_eb610_row11_col2, #T_eb610_row11_col3, #T_eb610_row11_col4, #T_eb610_row11_col5, #T_eb610_row11_col6, #T_eb610_row12_col0, #T_eb610_row12_col1, #T_eb610_row12_col2, #T_eb610_row12_col3, #T_eb610_row12_col4, #T_eb610_row12_col5, #T_eb610_row12_col6, #T_eb610_row13_col0, #T_eb610_row13_col1, #T_eb610_row13_col2, #T_eb610_row13_col3, #T_eb610_row13_col4, #T_eb610_row13_col5, #T_eb610_row13_col6, #T_eb610_row14_col0, #T_eb610_row14_col1, #T_eb610_row14_col2, #T_eb610_row14_col3, #T_eb610_row14_col4, #T_eb610_row14_col5, #T_eb610_row14_col6, #T_eb610_row15_col0, #T_eb610_row15_col1, #T_eb610_row15_col2, #T_eb610_row15_col3, #T_eb610_row15_col4, #T_eb610_row15_col5, #T_eb610_row15_col6, #T_eb610_row16_col0, #T_eb610_row16_col1, #T_eb610_row16_col2, #T_eb610_row16_col3, #T_eb610_row16_col4, #T_eb610_row16_col5, #T_eb610_row16_col6, #T_eb610_row17_col0, #T_eb610_row17_col1, #T_eb610_row17_col2, #T_eb610_row17_col3, #T_eb610_row17_col4, #T_eb610_row17_col5, #T_eb610_row17_col6 {\n",
       "  text-align: left;\n",
       "}\n",
       "#T_eb610_row0_col1, #T_eb610_row0_col2, #T_eb610_row0_col3, #T_eb610_row0_col4, #T_eb610_row0_col5, #T_eb610_row0_col6 {\n",
       "  text-align: left;\n",
       "  background-color: yellow;\n",
       "}\n",
       "#T_eb610_row0_col7, #T_eb610_row1_col7, #T_eb610_row2_col7, #T_eb610_row3_col7, #T_eb610_row4_col7, #T_eb610_row5_col7, #T_eb610_row7_col7, #T_eb610_row8_col7, #T_eb610_row9_col7, #T_eb610_row10_col7, #T_eb610_row11_col7, #T_eb610_row12_col7, #T_eb610_row13_col7, #T_eb610_row14_col7, #T_eb610_row15_col7, #T_eb610_row16_col7, #T_eb610_row17_col7 {\n",
       "  text-align: left;\n",
       "  background-color: lightgrey;\n",
       "}\n",
       "#T_eb610_row6_col7 {\n",
       "  text-align: left;\n",
       "  background-color: yellow;\n",
       "  background-color: lightgrey;\n",
       "}\n",
       "</style>\n",
       "<table id=\"T_eb610\">\n",
       "  <thead>\n",
       "    <tr>\n",
       "      <th class=\"blank level0\" >&nbsp;</th>\n",
       "      <th id=\"T_eb610_level0_col0\" class=\"col_heading level0 col0\" >Model</th>\n",
       "      <th id=\"T_eb610_level0_col1\" class=\"col_heading level0 col1\" >MAE</th>\n",
       "      <th id=\"T_eb610_level0_col2\" class=\"col_heading level0 col2\" >MSE</th>\n",
       "      <th id=\"T_eb610_level0_col3\" class=\"col_heading level0 col3\" >RMSE</th>\n",
       "      <th id=\"T_eb610_level0_col4\" class=\"col_heading level0 col4\" >R2</th>\n",
       "      <th id=\"T_eb610_level0_col5\" class=\"col_heading level0 col5\" >RMSLE</th>\n",
       "      <th id=\"T_eb610_level0_col6\" class=\"col_heading level0 col6\" >MAPE</th>\n",
       "      <th id=\"T_eb610_level0_col7\" class=\"col_heading level0 col7\" >TT (Sec)</th>\n",
       "    </tr>\n",
       "  </thead>\n",
       "  <tbody>\n",
       "    <tr>\n",
       "      <th id=\"T_eb610_level0_row0\" class=\"row_heading level0 row0\" >gbr</th>\n",
       "      <td id=\"T_eb610_row0_col0\" class=\"data row0 col0\" >Gradient Boosting Regressor</td>\n",
       "      <td id=\"T_eb610_row0_col1\" class=\"data row0 col1\" >17276.3461</td>\n",
       "      <td id=\"T_eb610_row0_col2\" class=\"data row0 col2\" >847357928.1180</td>\n",
       "      <td id=\"T_eb610_row0_col3\" class=\"data row0 col3\" >28313.9245</td>\n",
       "      <td id=\"T_eb610_row0_col4\" class=\"data row0 col4\" >0.8723</td>\n",
       "      <td id=\"T_eb610_row0_col5\" class=\"data row0 col5\" >0.1377</td>\n",
       "      <td id=\"T_eb610_row0_col6\" class=\"data row0 col6\" >0.1000</td>\n",
       "      <td id=\"T_eb610_row0_col7\" class=\"data row0 col7\" >0.9210</td>\n",
       "    </tr>\n",
       "    <tr>\n",
       "      <th id=\"T_eb610_level0_row1\" class=\"row_heading level0 row1\" >lightgbm</th>\n",
       "      <td id=\"T_eb610_row1_col0\" class=\"data row1 col0\" >Light Gradient Boosting Machine</td>\n",
       "      <td id=\"T_eb610_row1_col1\" class=\"data row1 col1\" >17701.1514</td>\n",
       "      <td id=\"T_eb610_row1_col2\" class=\"data row1 col2\" >1019922835.2337</td>\n",
       "      <td id=\"T_eb610_row1_col3\" class=\"data row1 col3\" >31002.5633</td>\n",
       "      <td id=\"T_eb610_row1_col4\" class=\"data row1 col4\" >0.8484</td>\n",
       "      <td id=\"T_eb610_row1_col5\" class=\"data row1 col5\" >0.1449</td>\n",
       "      <td id=\"T_eb610_row1_col6\" class=\"data row1 col6\" >0.1020</td>\n",
       "      <td id=\"T_eb610_row1_col7\" class=\"data row1 col7\" >0.9450</td>\n",
       "    </tr>\n",
       "    <tr>\n",
       "      <th id=\"T_eb610_level0_row2\" class=\"row_heading level0 row2\" >rf</th>\n",
       "      <td id=\"T_eb610_row2_col0\" class=\"data row2 col0\" >Random Forest Regressor</td>\n",
       "      <td id=\"T_eb610_row2_col1\" class=\"data row2 col1\" >19042.9144</td>\n",
       "      <td id=\"T_eb610_row2_col2\" class=\"data row2 col2\" >1117550843.2233</td>\n",
       "      <td id=\"T_eb610_row2_col3\" class=\"data row2 col3\" >32426.1601</td>\n",
       "      <td id=\"T_eb610_row2_col4\" class=\"data row2 col4\" >0.8345</td>\n",
       "      <td id=\"T_eb610_row2_col5\" class=\"data row2 col5\" >0.1545</td>\n",
       "      <td id=\"T_eb610_row2_col6\" class=\"data row2 col6\" >0.1114</td>\n",
       "      <td id=\"T_eb610_row2_col7\" class=\"data row2 col7\" >1.5250</td>\n",
       "    </tr>\n",
       "    <tr>\n",
       "      <th id=\"T_eb610_level0_row3\" class=\"row_heading level0 row3\" >et</th>\n",
       "      <td id=\"T_eb610_row3_col0\" class=\"data row3 col0\" >Extra Trees Regressor</td>\n",
       "      <td id=\"T_eb610_row3_col1\" class=\"data row3 col1\" >18873.1767</td>\n",
       "      <td id=\"T_eb610_row3_col2\" class=\"data row3 col2\" >1163678875.5551</td>\n",
       "      <td id=\"T_eb610_row3_col3\" class=\"data row3 col3\" >32786.9480</td>\n",
       "      <td id=\"T_eb610_row3_col4\" class=\"data row3 col4\" >0.8327</td>\n",
       "      <td id=\"T_eb610_row3_col5\" class=\"data row3 col5\" >0.1513</td>\n",
       "      <td id=\"T_eb610_row3_col6\" class=\"data row3 col6\" >0.1095</td>\n",
       "      <td id=\"T_eb610_row3_col7\" class=\"data row3 col7\" >1.5840</td>\n",
       "    </tr>\n",
       "    <tr>\n",
       "      <th id=\"T_eb610_level0_row4\" class=\"row_heading level0 row4\" >ada</th>\n",
       "      <td id=\"T_eb610_row4_col0\" class=\"data row4 col0\" >AdaBoost Regressor</td>\n",
       "      <td id=\"T_eb610_row4_col1\" class=\"data row4 col1\" >25963.6459</td>\n",
       "      <td id=\"T_eb610_row4_col2\" class=\"data row4 col2\" >1417400709.1888</td>\n",
       "      <td id=\"T_eb610_row4_col3\" class=\"data row4 col3\" >37051.1993</td>\n",
       "      <td id=\"T_eb610_row4_col4\" class=\"data row4 col4\" >0.7868</td>\n",
       "      <td id=\"T_eb610_row4_col5\" class=\"data row4 col5\" >0.2056</td>\n",
       "      <td id=\"T_eb610_row4_col6\" class=\"data row4 col6\" >0.1679</td>\n",
       "      <td id=\"T_eb610_row4_col7\" class=\"data row4 col7\" >0.8360</td>\n",
       "    </tr>\n",
       "    <tr>\n",
       "      <th id=\"T_eb610_level0_row5\" class=\"row_heading level0 row5\" >llar</th>\n",
       "      <td id=\"T_eb610_row5_col0\" class=\"data row5 col0\" >Lasso Least Angle Regression</td>\n",
       "      <td id=\"T_eb610_row5_col1\" class=\"data row5 col1\" >18774.5227</td>\n",
       "      <td id=\"T_eb610_row5_col2\" class=\"data row5 col2\" >1406152263.2702</td>\n",
       "      <td id=\"T_eb610_row5_col3\" class=\"data row5 col3\" >34868.7879</td>\n",
       "      <td id=\"T_eb610_row5_col4\" class=\"data row5 col4\" >0.7845</td>\n",
       "      <td id=\"T_eb610_row5_col5\" class=\"data row5 col5\" >0.1670</td>\n",
       "      <td id=\"T_eb610_row5_col6\" class=\"data row5 col6\" >0.1124</td>\n",
       "      <td id=\"T_eb610_row5_col7\" class=\"data row5 col7\" >0.5780</td>\n",
       "    </tr>\n",
       "    <tr>\n",
       "      <th id=\"T_eb610_level0_row6\" class=\"row_heading level0 row6\" >ridge</th>\n",
       "      <td id=\"T_eb610_row6_col0\" class=\"data row6 col0\" >Ridge Regression</td>\n",
       "      <td id=\"T_eb610_row6_col1\" class=\"data row6 col1\" >20081.3998</td>\n",
       "      <td id=\"T_eb610_row6_col2\" class=\"data row6 col2\" >1526032661.7945</td>\n",
       "      <td id=\"T_eb610_row6_col3\" class=\"data row6 col3\" >36561.0633</td>\n",
       "      <td id=\"T_eb610_row6_col4\" class=\"data row6 col4\" >0.7668</td>\n",
       "      <td id=\"T_eb610_row6_col5\" class=\"data row6 col5\" >0.2087</td>\n",
       "      <td id=\"T_eb610_row6_col6\" class=\"data row6 col6\" >0.1213</td>\n",
       "      <td id=\"T_eb610_row6_col7\" class=\"data row6 col7\" >0.3490</td>\n",
       "    </tr>\n",
       "    <tr>\n",
       "      <th id=\"T_eb610_level0_row7\" class=\"row_heading level0 row7\" >en</th>\n",
       "      <td id=\"T_eb610_row7_col0\" class=\"data row7 col0\" >Elastic Net</td>\n",
       "      <td id=\"T_eb610_row7_col1\" class=\"data row7 col1\" >21115.3002</td>\n",
       "      <td id=\"T_eb610_row7_col2\" class=\"data row7 col2\" >1782962549.6151</td>\n",
       "      <td id=\"T_eb610_row7_col3\" class=\"data row7 col3\" >38958.8760</td>\n",
       "      <td id=\"T_eb610_row7_col4\" class=\"data row7 col4\" >0.7382</td>\n",
       "      <td id=\"T_eb610_row7_col5\" class=\"data row7 col5\" >0.1739</td>\n",
       "      <td id=\"T_eb610_row7_col6\" class=\"data row7 col6\" >0.1218</td>\n",
       "      <td id=\"T_eb610_row7_col7\" class=\"data row7 col7\" >0.5620</td>\n",
       "    </tr>\n",
       "    <tr>\n",
       "      <th id=\"T_eb610_level0_row8\" class=\"row_heading level0 row8\" >omp</th>\n",
       "      <td id=\"T_eb610_row8_col0\" class=\"data row8 col0\" >Orthogonal Matching Pursuit</td>\n",
       "      <td id=\"T_eb610_row8_col1\" class=\"data row8 col1\" >22617.0267</td>\n",
       "      <td id=\"T_eb610_row8_col2\" class=\"data row8 col2\" >1808808421.5105</td>\n",
       "      <td id=\"T_eb610_row8_col3\" class=\"data row8 col3\" >39503.1460</td>\n",
       "      <td id=\"T_eb610_row8_col4\" class=\"data row8 col4\" >0.7344</td>\n",
       "      <td id=\"T_eb610_row8_col5\" class=\"data row8 col5\" >0.1856</td>\n",
       "      <td id=\"T_eb610_row8_col6\" class=\"data row8 col6\" >0.1343</td>\n",
       "      <td id=\"T_eb610_row8_col7\" class=\"data row8 col7\" >0.5750</td>\n",
       "    </tr>\n",
       "    <tr>\n",
       "      <th id=\"T_eb610_level0_row9\" class=\"row_heading level0 row9\" >lasso</th>\n",
       "      <td id=\"T_eb610_row9_col0\" class=\"data row9 col0\" >Lasso Regression</td>\n",
       "      <td id=\"T_eb610_row9_col1\" class=\"data row9 col1\" >20570.3408</td>\n",
       "      <td id=\"T_eb610_row9_col2\" class=\"data row9 col2\" >1877626177.9343</td>\n",
       "      <td id=\"T_eb610_row9_col3\" class=\"data row9 col3\" >40440.0086</td>\n",
       "      <td id=\"T_eb610_row9_col4\" class=\"data row9 col4\" >0.6892</td>\n",
       "      <td id=\"T_eb610_row9_col5\" class=\"data row9 col5\" >0.1946</td>\n",
       "      <td id=\"T_eb610_row9_col6\" class=\"data row9 col6\" >0.1249</td>\n",
       "      <td id=\"T_eb610_row9_col7\" class=\"data row9 col7\" >0.4730</td>\n",
       "    </tr>\n",
       "    <tr>\n",
       "      <th id=\"T_eb610_level0_row10\" class=\"row_heading level0 row10\" >br</th>\n",
       "      <td id=\"T_eb610_row10_col0\" class=\"data row10 col0\" >Bayesian Ridge</td>\n",
       "      <td id=\"T_eb610_row10_col1\" class=\"data row10 col1\" >25714.2716</td>\n",
       "      <td id=\"T_eb610_row10_col2\" class=\"data row10 col2\" >2249752076.5234</td>\n",
       "      <td id=\"T_eb610_row10_col3\" class=\"data row10 col3\" >44691.0009</td>\n",
       "      <td id=\"T_eb610_row10_col4\" class=\"data row10 col4\" >0.6654</td>\n",
       "      <td id=\"T_eb610_row10_col5\" class=\"data row10 col5\" >0.2089</td>\n",
       "      <td id=\"T_eb610_row10_col6\" class=\"data row10 col6\" >0.1499</td>\n",
       "      <td id=\"T_eb610_row10_col7\" class=\"data row10 col7\" >0.5560</td>\n",
       "    </tr>\n",
       "    <tr>\n",
       "      <th id=\"T_eb610_level0_row11\" class=\"row_heading level0 row11\" >huber</th>\n",
       "      <td id=\"T_eb610_row11_col0\" class=\"data row11 col0\" >Huber Regressor</td>\n",
       "      <td id=\"T_eb610_row11_col1\" class=\"data row11 col1\" >28104.0526</td>\n",
       "      <td id=\"T_eb610_row11_col2\" class=\"data row11 col2\" >2263461839.4656</td>\n",
       "      <td id=\"T_eb610_row11_col3\" class=\"data row11 col3\" >45545.7634</td>\n",
       "      <td id=\"T_eb610_row11_col4\" class=\"data row11 col4\" >0.6556</td>\n",
       "      <td id=\"T_eb610_row11_col5\" class=\"data row11 col5\" >0.2235</td>\n",
       "      <td id=\"T_eb610_row11_col6\" class=\"data row11 col6\" >0.1703</td>\n",
       "      <td id=\"T_eb610_row11_col7\" class=\"data row11 col7\" >0.6950</td>\n",
       "    </tr>\n",
       "    <tr>\n",
       "      <th id=\"T_eb610_level0_row12\" class=\"row_heading level0 row12\" >dt</th>\n",
       "      <td id=\"T_eb610_row12_col0\" class=\"data row12 col0\" >Decision Tree Regressor</td>\n",
       "      <td id=\"T_eb610_row12_col1\" class=\"data row12 col1\" >28297.5840</td>\n",
       "      <td id=\"T_eb610_row12_col2\" class=\"data row12 col2\" >2270977787.3423</td>\n",
       "      <td id=\"T_eb610_row12_col3\" class=\"data row12 col3\" >46416.3614</td>\n",
       "      <td id=\"T_eb610_row12_col4\" class=\"data row12 col4\" >0.6555</td>\n",
       "      <td id=\"T_eb610_row12_col5\" class=\"data row12 col5\" >0.2233</td>\n",
       "      <td id=\"T_eb610_row12_col6\" class=\"data row12 col6\" >0.1623</td>\n",
       "      <td id=\"T_eb610_row12_col7\" class=\"data row12 col7\" >0.4850</td>\n",
       "    </tr>\n",
       "    <tr>\n",
       "      <th id=\"T_eb610_level0_row13\" class=\"row_heading level0 row13\" >knn</th>\n",
       "      <td id=\"T_eb610_row13_col0\" class=\"data row13 col0\" >K Neighbors Regressor</td>\n",
       "      <td id=\"T_eb610_row13_col1\" class=\"data row13 col1\" >30748.5216</td>\n",
       "      <td id=\"T_eb610_row13_col2\" class=\"data row13 col2\" >2304210126.1128</td>\n",
       "      <td id=\"T_eb610_row13_col3\" class=\"data row13 col3\" >47356.9977</td>\n",
       "      <td id=\"T_eb610_row13_col4\" class=\"data row13 col4\" >0.6490</td>\n",
       "      <td id=\"T_eb610_row13_col5\" class=\"data row13 col5\" >0.2339</td>\n",
       "      <td id=\"T_eb610_row13_col6\" class=\"data row13 col6\" >0.1807</td>\n",
       "      <td id=\"T_eb610_row13_col7\" class=\"data row13 col7\" >0.4750</td>\n",
       "    </tr>\n",
       "    <tr>\n",
       "      <th id=\"T_eb610_level0_row14\" class=\"row_heading level0 row14\" >dummy</th>\n",
       "      <td id=\"T_eb610_row14_col0\" class=\"data row14 col0\" >Dummy Regressor</td>\n",
       "      <td id=\"T_eb610_row14_col1\" class=\"data row14 col1\" >58218.1257</td>\n",
       "      <td id=\"T_eb610_row14_col2\" class=\"data row14 col2\" >6558664005.0021</td>\n",
       "      <td id=\"T_eb610_row14_col3\" class=\"data row14 col3\" >80446.7191</td>\n",
       "      <td id=\"T_eb610_row14_col4\" class=\"data row14 col4\" >-0.0065</td>\n",
       "      <td id=\"T_eb610_row14_col5\" class=\"data row14 col5\" >0.4146</td>\n",
       "      <td id=\"T_eb610_row14_col6\" class=\"data row14 col6\" >0.3714</td>\n",
       "      <td id=\"T_eb610_row14_col7\" class=\"data row14 col7\" >0.4950</td>\n",
       "    </tr>\n",
       "    <tr>\n",
       "      <th id=\"T_eb610_level0_row15\" class=\"row_heading level0 row15\" >par</th>\n",
       "      <td id=\"T_eb610_row15_col0\" class=\"data row15 col0\" >Passive Aggressive Regressor</td>\n",
       "      <td id=\"T_eb610_row15_col1\" class=\"data row15 col1\" >47720.8071</td>\n",
       "      <td id=\"T_eb610_row15_col2\" class=\"data row15 col2\" >10382498463.1984</td>\n",
       "      <td id=\"T_eb610_row15_col3\" class=\"data row15 col3\" >76446.7184</td>\n",
       "      <td id=\"T_eb610_row15_col4\" class=\"data row15 col4\" >-0.8692</td>\n",
       "      <td id=\"T_eb610_row15_col5\" class=\"data row15 col5\" >0.3070</td>\n",
       "      <td id=\"T_eb610_row15_col6\" class=\"data row15 col6\" >0.3026</td>\n",
       "      <td id=\"T_eb610_row15_col7\" class=\"data row15 col7\" >0.5030</td>\n",
       "    </tr>\n",
       "    <tr>\n",
       "      <th id=\"T_eb610_level0_row16\" class=\"row_heading level0 row16\" >lr</th>\n",
       "      <td id=\"T_eb610_row16_col0\" class=\"data row16 col0\" >Linear Regression</td>\n",
       "      <td id=\"T_eb610_row16_col1\" class=\"data row16 col1\" >39312569.0012</td>\n",
       "      <td id=\"T_eb610_row16_col2\" class=\"data row16 col2\" >222477607190531808.0000</td>\n",
       "      <td id=\"T_eb610_row16_col3\" class=\"data row16 col3\" >246441124.9222</td>\n",
       "      <td id=\"T_eb610_row16_col4\" class=\"data row16 col4\" >-30259957.0668</td>\n",
       "      <td id=\"T_eb610_row16_col5\" class=\"data row16 col5\" >0.8442</td>\n",
       "      <td id=\"T_eb610_row16_col6\" class=\"data row16 col6\" >350.0721</td>\n",
       "      <td id=\"T_eb610_row16_col7\" class=\"data row16 col7\" >0.3780</td>\n",
       "    </tr>\n",
       "    <tr>\n",
       "      <th id=\"T_eb610_level0_row17\" class=\"row_heading level0 row17\" >lar</th>\n",
       "      <td id=\"T_eb610_row17_col0\" class=\"data row17 col0\" >Least Angle Regression</td>\n",
       "      <td id=\"T_eb610_row17_col1\" class=\"data row17 col1\" >1516799024373579505878769514543962914816.0000</td>\n",
       "      <td id=\"T_eb610_row17_col2\" class=\"data row17 col2\" >815434204655696141595561074217079057248294011386514711630330477674825420770377728.0000</td>\n",
       "      <td id=\"T_eb610_row17_col3\" class=\"data row17 col3\" >9030139562215032808510627921918280335360.0000</td>\n",
       "      <td id=\"T_eb610_row17_col4\" class=\"data row17 col4\" >-99601094557373619053425121425857790625027113956046091633324534907535360.0000</td>\n",
       "      <td id=\"T_eb610_row17_col5\" class=\"data row17 col5\" >27.4116</td>\n",
       "      <td id=\"T_eb610_row17_col6\" class=\"data row17 col6\" >18142275082411613176980644921606144.0000</td>\n",
       "      <td id=\"T_eb610_row17_col7\" class=\"data row17 col7\" >0.4510</td>\n",
       "    </tr>\n",
       "  </tbody>\n",
       "</table>\n"
      ],
      "text/plain": [
       "<pandas.io.formats.style.Styler at 0x1d326e63a50>"
      ]
     },
     "metadata": {},
     "output_type": "display_data"
    },
    {
     "data": {
      "text/html": [],
      "text/plain": [
       "<IPython.core.display.HTML object>"
      ]
     },
     "metadata": {},
     "output_type": "display_data"
    }
   ],
   "source": [
    "model = compare_models() # This is as easy as it gets"
   ]
  },
  {
   "cell_type": "code",
   "execution_count": 9,
   "id": "e40debc6",
   "metadata": {},
   "outputs": [
    {
     "data": {
      "text/html": [
       "<style>#sk-container-id-2 {\n",
       "  /* Definition of color scheme common for light and dark mode */\n",
       "  --sklearn-color-text: black;\n",
       "  --sklearn-color-line: gray;\n",
       "  /* Definition of color scheme for unfitted estimators */\n",
       "  --sklearn-color-unfitted-level-0: #fff5e6;\n",
       "  --sklearn-color-unfitted-level-1: #f6e4d2;\n",
       "  --sklearn-color-unfitted-level-2: #ffe0b3;\n",
       "  --sklearn-color-unfitted-level-3: chocolate;\n",
       "  /* Definition of color scheme for fitted estimators */\n",
       "  --sklearn-color-fitted-level-0: #f0f8ff;\n",
       "  --sklearn-color-fitted-level-1: #d4ebff;\n",
       "  --sklearn-color-fitted-level-2: #b3dbfd;\n",
       "  --sklearn-color-fitted-level-3: cornflowerblue;\n",
       "\n",
       "  /* Specific color for light theme */\n",
       "  --sklearn-color-text-on-default-background: var(--sg-text-color, var(--theme-code-foreground, var(--jp-content-font-color1, black)));\n",
       "  --sklearn-color-background: var(--sg-background-color, var(--theme-background, var(--jp-layout-color0, white)));\n",
       "  --sklearn-color-border-box: var(--sg-text-color, var(--theme-code-foreground, var(--jp-content-font-color1, black)));\n",
       "  --sklearn-color-icon: #696969;\n",
       "\n",
       "  @media (prefers-color-scheme: dark) {\n",
       "    /* Redefinition of color scheme for dark theme */\n",
       "    --sklearn-color-text-on-default-background: var(--sg-text-color, var(--theme-code-foreground, var(--jp-content-font-color1, white)));\n",
       "    --sklearn-color-background: var(--sg-background-color, var(--theme-background, var(--jp-layout-color0, #111)));\n",
       "    --sklearn-color-border-box: var(--sg-text-color, var(--theme-code-foreground, var(--jp-content-font-color1, white)));\n",
       "    --sklearn-color-icon: #878787;\n",
       "  }\n",
       "}\n",
       "\n",
       "#sk-container-id-2 {\n",
       "  color: var(--sklearn-color-text);\n",
       "}\n",
       "\n",
       "#sk-container-id-2 pre {\n",
       "  padding: 0;\n",
       "}\n",
       "\n",
       "#sk-container-id-2 input.sk-hidden--visually {\n",
       "  border: 0;\n",
       "  clip: rect(1px 1px 1px 1px);\n",
       "  clip: rect(1px, 1px, 1px, 1px);\n",
       "  height: 1px;\n",
       "  margin: -1px;\n",
       "  overflow: hidden;\n",
       "  padding: 0;\n",
       "  position: absolute;\n",
       "  width: 1px;\n",
       "}\n",
       "\n",
       "#sk-container-id-2 div.sk-dashed-wrapped {\n",
       "  border: 1px dashed var(--sklearn-color-line);\n",
       "  margin: 0 0.4em 0.5em 0.4em;\n",
       "  box-sizing: border-box;\n",
       "  padding-bottom: 0.4em;\n",
       "  background-color: var(--sklearn-color-background);\n",
       "}\n",
       "\n",
       "#sk-container-id-2 div.sk-container {\n",
       "  /* jupyter's `normalize.less` sets `[hidden] { display: none; }`\n",
       "     but bootstrap.min.css set `[hidden] { display: none !important; }`\n",
       "     so we also need the `!important` here to be able to override the\n",
       "     default hidden behavior on the sphinx rendered scikit-learn.org.\n",
       "     See: https://github.com/scikit-learn/scikit-learn/issues/21755 */\n",
       "  display: inline-block !important;\n",
       "  position: relative;\n",
       "}\n",
       "\n",
       "#sk-container-id-2 div.sk-text-repr-fallback {\n",
       "  display: none;\n",
       "}\n",
       "\n",
       "div.sk-parallel-item,\n",
       "div.sk-serial,\n",
       "div.sk-item {\n",
       "  /* draw centered vertical line to link estimators */\n",
       "  background-image: linear-gradient(var(--sklearn-color-text-on-default-background), var(--sklearn-color-text-on-default-background));\n",
       "  background-size: 2px 100%;\n",
       "  background-repeat: no-repeat;\n",
       "  background-position: center center;\n",
       "}\n",
       "\n",
       "/* Parallel-specific style estimator block */\n",
       "\n",
       "#sk-container-id-2 div.sk-parallel-item::after {\n",
       "  content: \"\";\n",
       "  width: 100%;\n",
       "  border-bottom: 2px solid var(--sklearn-color-text-on-default-background);\n",
       "  flex-grow: 1;\n",
       "}\n",
       "\n",
       "#sk-container-id-2 div.sk-parallel {\n",
       "  display: flex;\n",
       "  align-items: stretch;\n",
       "  justify-content: center;\n",
       "  background-color: var(--sklearn-color-background);\n",
       "  position: relative;\n",
       "}\n",
       "\n",
       "#sk-container-id-2 div.sk-parallel-item {\n",
       "  display: flex;\n",
       "  flex-direction: column;\n",
       "}\n",
       "\n",
       "#sk-container-id-2 div.sk-parallel-item:first-child::after {\n",
       "  align-self: flex-end;\n",
       "  width: 50%;\n",
       "}\n",
       "\n",
       "#sk-container-id-2 div.sk-parallel-item:last-child::after {\n",
       "  align-self: flex-start;\n",
       "  width: 50%;\n",
       "}\n",
       "\n",
       "#sk-container-id-2 div.sk-parallel-item:only-child::after {\n",
       "  width: 0;\n",
       "}\n",
       "\n",
       "/* Serial-specific style estimator block */\n",
       "\n",
       "#sk-container-id-2 div.sk-serial {\n",
       "  display: flex;\n",
       "  flex-direction: column;\n",
       "  align-items: center;\n",
       "  background-color: var(--sklearn-color-background);\n",
       "  padding-right: 1em;\n",
       "  padding-left: 1em;\n",
       "}\n",
       "\n",
       "\n",
       "/* Toggleable style: style used for estimator/Pipeline/ColumnTransformer box that is\n",
       "clickable and can be expanded/collapsed.\n",
       "- Pipeline and ColumnTransformer use this feature and define the default style\n",
       "- Estimators will overwrite some part of the style using the `sk-estimator` class\n",
       "*/\n",
       "\n",
       "/* Pipeline and ColumnTransformer style (default) */\n",
       "\n",
       "#sk-container-id-2 div.sk-toggleable {\n",
       "  /* Default theme specific background. It is overwritten whether we have a\n",
       "  specific estimator or a Pipeline/ColumnTransformer */\n",
       "  background-color: var(--sklearn-color-background);\n",
       "}\n",
       "\n",
       "/* Toggleable label */\n",
       "#sk-container-id-2 label.sk-toggleable__label {\n",
       "  cursor: pointer;\n",
       "  display: block;\n",
       "  width: 100%;\n",
       "  margin-bottom: 0;\n",
       "  padding: 0.5em;\n",
       "  box-sizing: border-box;\n",
       "  text-align: center;\n",
       "}\n",
       "\n",
       "#sk-container-id-2 label.sk-toggleable__label-arrow:before {\n",
       "  /* Arrow on the left of the label */\n",
       "  content: \"▸\";\n",
       "  float: left;\n",
       "  margin-right: 0.25em;\n",
       "  color: var(--sklearn-color-icon);\n",
       "}\n",
       "\n",
       "#sk-container-id-2 label.sk-toggleable__label-arrow:hover:before {\n",
       "  color: var(--sklearn-color-text);\n",
       "}\n",
       "\n",
       "/* Toggleable content - dropdown */\n",
       "\n",
       "#sk-container-id-2 div.sk-toggleable__content {\n",
       "  max-height: 0;\n",
       "  max-width: 0;\n",
       "  overflow: hidden;\n",
       "  text-align: left;\n",
       "  /* unfitted */\n",
       "  background-color: var(--sklearn-color-unfitted-level-0);\n",
       "}\n",
       "\n",
       "#sk-container-id-2 div.sk-toggleable__content.fitted {\n",
       "  /* fitted */\n",
       "  background-color: var(--sklearn-color-fitted-level-0);\n",
       "}\n",
       "\n",
       "#sk-container-id-2 div.sk-toggleable__content pre {\n",
       "  margin: 0.2em;\n",
       "  border-radius: 0.25em;\n",
       "  color: var(--sklearn-color-text);\n",
       "  /* unfitted */\n",
       "  background-color: var(--sklearn-color-unfitted-level-0);\n",
       "}\n",
       "\n",
       "#sk-container-id-2 div.sk-toggleable__content.fitted pre {\n",
       "  /* unfitted */\n",
       "  background-color: var(--sklearn-color-fitted-level-0);\n",
       "}\n",
       "\n",
       "#sk-container-id-2 input.sk-toggleable__control:checked~div.sk-toggleable__content {\n",
       "  /* Expand drop-down */\n",
       "  max-height: 200px;\n",
       "  max-width: 100%;\n",
       "  overflow: auto;\n",
       "}\n",
       "\n",
       "#sk-container-id-2 input.sk-toggleable__control:checked~label.sk-toggleable__label-arrow:before {\n",
       "  content: \"▾\";\n",
       "}\n",
       "\n",
       "/* Pipeline/ColumnTransformer-specific style */\n",
       "\n",
       "#sk-container-id-2 div.sk-label input.sk-toggleable__control:checked~label.sk-toggleable__label {\n",
       "  color: var(--sklearn-color-text);\n",
       "  background-color: var(--sklearn-color-unfitted-level-2);\n",
       "}\n",
       "\n",
       "#sk-container-id-2 div.sk-label.fitted input.sk-toggleable__control:checked~label.sk-toggleable__label {\n",
       "  background-color: var(--sklearn-color-fitted-level-2);\n",
       "}\n",
       "\n",
       "/* Estimator-specific style */\n",
       "\n",
       "/* Colorize estimator box */\n",
       "#sk-container-id-2 div.sk-estimator input.sk-toggleable__control:checked~label.sk-toggleable__label {\n",
       "  /* unfitted */\n",
       "  background-color: var(--sklearn-color-unfitted-level-2);\n",
       "}\n",
       "\n",
       "#sk-container-id-2 div.sk-estimator.fitted input.sk-toggleable__control:checked~label.sk-toggleable__label {\n",
       "  /* fitted */\n",
       "  background-color: var(--sklearn-color-fitted-level-2);\n",
       "}\n",
       "\n",
       "#sk-container-id-2 div.sk-label label.sk-toggleable__label,\n",
       "#sk-container-id-2 div.sk-label label {\n",
       "  /* The background is the default theme color */\n",
       "  color: var(--sklearn-color-text-on-default-background);\n",
       "}\n",
       "\n",
       "/* On hover, darken the color of the background */\n",
       "#sk-container-id-2 div.sk-label:hover label.sk-toggleable__label {\n",
       "  color: var(--sklearn-color-text);\n",
       "  background-color: var(--sklearn-color-unfitted-level-2);\n",
       "}\n",
       "\n",
       "/* Label box, darken color on hover, fitted */\n",
       "#sk-container-id-2 div.sk-label.fitted:hover label.sk-toggleable__label.fitted {\n",
       "  color: var(--sklearn-color-text);\n",
       "  background-color: var(--sklearn-color-fitted-level-2);\n",
       "}\n",
       "\n",
       "/* Estimator label */\n",
       "\n",
       "#sk-container-id-2 div.sk-label label {\n",
       "  font-family: monospace;\n",
       "  font-weight: bold;\n",
       "  display: inline-block;\n",
       "  line-height: 1.2em;\n",
       "}\n",
       "\n",
       "#sk-container-id-2 div.sk-label-container {\n",
       "  text-align: center;\n",
       "}\n",
       "\n",
       "/* Estimator-specific */\n",
       "#sk-container-id-2 div.sk-estimator {\n",
       "  font-family: monospace;\n",
       "  border: 1px dotted var(--sklearn-color-border-box);\n",
       "  border-radius: 0.25em;\n",
       "  box-sizing: border-box;\n",
       "  margin-bottom: 0.5em;\n",
       "  /* unfitted */\n",
       "  background-color: var(--sklearn-color-unfitted-level-0);\n",
       "}\n",
       "\n",
       "#sk-container-id-2 div.sk-estimator.fitted {\n",
       "  /* fitted */\n",
       "  background-color: var(--sklearn-color-fitted-level-0);\n",
       "}\n",
       "\n",
       "/* on hover */\n",
       "#sk-container-id-2 div.sk-estimator:hover {\n",
       "  /* unfitted */\n",
       "  background-color: var(--sklearn-color-unfitted-level-2);\n",
       "}\n",
       "\n",
       "#sk-container-id-2 div.sk-estimator.fitted:hover {\n",
       "  /* fitted */\n",
       "  background-color: var(--sklearn-color-fitted-level-2);\n",
       "}\n",
       "\n",
       "/* Specification for estimator info (e.g. \"i\" and \"?\") */\n",
       "\n",
       "/* Common style for \"i\" and \"?\" */\n",
       "\n",
       ".sk-estimator-doc-link,\n",
       "a:link.sk-estimator-doc-link,\n",
       "a:visited.sk-estimator-doc-link {\n",
       "  float: right;\n",
       "  font-size: smaller;\n",
       "  line-height: 1em;\n",
       "  font-family: monospace;\n",
       "  background-color: var(--sklearn-color-background);\n",
       "  border-radius: 1em;\n",
       "  height: 1em;\n",
       "  width: 1em;\n",
       "  text-decoration: none !important;\n",
       "  margin-left: 1ex;\n",
       "  /* unfitted */\n",
       "  border: var(--sklearn-color-unfitted-level-1) 1pt solid;\n",
       "  color: var(--sklearn-color-unfitted-level-1);\n",
       "}\n",
       "\n",
       ".sk-estimator-doc-link.fitted,\n",
       "a:link.sk-estimator-doc-link.fitted,\n",
       "a:visited.sk-estimator-doc-link.fitted {\n",
       "  /* fitted */\n",
       "  border: var(--sklearn-color-fitted-level-1) 1pt solid;\n",
       "  color: var(--sklearn-color-fitted-level-1);\n",
       "}\n",
       "\n",
       "/* On hover */\n",
       "div.sk-estimator:hover .sk-estimator-doc-link:hover,\n",
       ".sk-estimator-doc-link:hover,\n",
       "div.sk-label-container:hover .sk-estimator-doc-link:hover,\n",
       ".sk-estimator-doc-link:hover {\n",
       "  /* unfitted */\n",
       "  background-color: var(--sklearn-color-unfitted-level-3);\n",
       "  color: var(--sklearn-color-background);\n",
       "  text-decoration: none;\n",
       "}\n",
       "\n",
       "div.sk-estimator.fitted:hover .sk-estimator-doc-link.fitted:hover,\n",
       ".sk-estimator-doc-link.fitted:hover,\n",
       "div.sk-label-container:hover .sk-estimator-doc-link.fitted:hover,\n",
       ".sk-estimator-doc-link.fitted:hover {\n",
       "  /* fitted */\n",
       "  background-color: var(--sklearn-color-fitted-level-3);\n",
       "  color: var(--sklearn-color-background);\n",
       "  text-decoration: none;\n",
       "}\n",
       "\n",
       "/* Span, style for the box shown on hovering the info icon */\n",
       ".sk-estimator-doc-link span {\n",
       "  display: none;\n",
       "  z-index: 9999;\n",
       "  position: relative;\n",
       "  font-weight: normal;\n",
       "  right: .2ex;\n",
       "  padding: .5ex;\n",
       "  margin: .5ex;\n",
       "  width: min-content;\n",
       "  min-width: 20ex;\n",
       "  max-width: 50ex;\n",
       "  color: var(--sklearn-color-text);\n",
       "  box-shadow: 2pt 2pt 4pt #999;\n",
       "  /* unfitted */\n",
       "  background: var(--sklearn-color-unfitted-level-0);\n",
       "  border: .5pt solid var(--sklearn-color-unfitted-level-3);\n",
       "}\n",
       "\n",
       ".sk-estimator-doc-link.fitted span {\n",
       "  /* fitted */\n",
       "  background: var(--sklearn-color-fitted-level-0);\n",
       "  border: var(--sklearn-color-fitted-level-3);\n",
       "}\n",
       "\n",
       ".sk-estimator-doc-link:hover span {\n",
       "  display: block;\n",
       "}\n",
       "\n",
       "/* \"?\"-specific style due to the `<a>` HTML tag */\n",
       "\n",
       "#sk-container-id-2 a.estimator_doc_link {\n",
       "  float: right;\n",
       "  font-size: 1rem;\n",
       "  line-height: 1em;\n",
       "  font-family: monospace;\n",
       "  background-color: var(--sklearn-color-background);\n",
       "  border-radius: 1rem;\n",
       "  height: 1rem;\n",
       "  width: 1rem;\n",
       "  text-decoration: none;\n",
       "  /* unfitted */\n",
       "  color: var(--sklearn-color-unfitted-level-1);\n",
       "  border: var(--sklearn-color-unfitted-level-1) 1pt solid;\n",
       "}\n",
       "\n",
       "#sk-container-id-2 a.estimator_doc_link.fitted {\n",
       "  /* fitted */\n",
       "  border: var(--sklearn-color-fitted-level-1) 1pt solid;\n",
       "  color: var(--sklearn-color-fitted-level-1);\n",
       "}\n",
       "\n",
       "/* On hover */\n",
       "#sk-container-id-2 a.estimator_doc_link:hover {\n",
       "  /* unfitted */\n",
       "  background-color: var(--sklearn-color-unfitted-level-3);\n",
       "  color: var(--sklearn-color-background);\n",
       "  text-decoration: none;\n",
       "}\n",
       "\n",
       "#sk-container-id-2 a.estimator_doc_link.fitted:hover {\n",
       "  /* fitted */\n",
       "  background-color: var(--sklearn-color-fitted-level-3);\n",
       "}\n",
       "</style><div id=\"sk-container-id-2\" class=\"sk-top-container\"><div class=\"sk-text-repr-fallback\"><pre>GradientBoostingRegressor(alpha=0.9, ccp_alpha=0.0, criterion=&#x27;friedman_mse&#x27;,\n",
       "                          init=None, learning_rate=0.1, loss=&#x27;squared_error&#x27;,\n",
       "                          max_depth=3, max_features=None, max_leaf_nodes=None,\n",
       "                          min_impurity_decrease=0.0, min_samples_leaf=1,\n",
       "                          min_samples_split=2, min_weight_fraction_leaf=0.0,\n",
       "                          n_estimators=100, n_iter_no_change=None,\n",
       "                          random_state=123, subsample=1.0, tol=0.0001,\n",
       "                          validation_fraction=0.1, verbose=0, warm_start=False)</pre><b>In a Jupyter environment, please rerun this cell to show the HTML representation or trust the notebook. <br />On GitHub, the HTML representation is unable to render, please try loading this page with nbviewer.org.</b></div><div class=\"sk-container\" hidden><div class=\"sk-item\"><div class=\"sk-estimator fitted sk-toggleable\"><input class=\"sk-toggleable__control sk-hidden--visually\" id=\"sk-estimator-id-2\" type=\"checkbox\" checked><label for=\"sk-estimator-id-2\" class=\"sk-toggleable__label fitted sk-toggleable__label-arrow fitted\">&nbsp;&nbsp;GradientBoostingRegressor<a class=\"sk-estimator-doc-link fitted\" rel=\"noreferrer\" target=\"_blank\" href=\"https://scikit-learn.org/1.4/modules/generated/sklearn.ensemble.GradientBoostingRegressor.html\">?<span>Documentation for GradientBoostingRegressor</span></a><span class=\"sk-estimator-doc-link fitted\">i<span>Fitted</span></span></label><div class=\"sk-toggleable__content fitted\"><pre>GradientBoostingRegressor(alpha=0.9, ccp_alpha=0.0, criterion=&#x27;friedman_mse&#x27;,\n",
       "                          init=None, learning_rate=0.1, loss=&#x27;squared_error&#x27;,\n",
       "                          max_depth=3, max_features=None, max_leaf_nodes=None,\n",
       "                          min_impurity_decrease=0.0, min_samples_leaf=1,\n",
       "                          min_samples_split=2, min_weight_fraction_leaf=0.0,\n",
       "                          n_estimators=100, n_iter_no_change=None,\n",
       "                          random_state=123, subsample=1.0, tol=0.0001,\n",
       "                          validation_fraction=0.1, verbose=0, warm_start=False)</pre></div> </div></div></div></div>"
      ],
      "text/plain": [
       "GradientBoostingRegressor(alpha=0.9, ccp_alpha=0.0, criterion='friedman_mse',\n",
       "                          init=None, learning_rate=0.1, loss='squared_error',\n",
       "                          max_depth=3, max_features=None, max_leaf_nodes=None,\n",
       "                          min_impurity_decrease=0.0, min_samples_leaf=1,\n",
       "                          min_samples_split=2, min_weight_fraction_leaf=0.0,\n",
       "                          n_estimators=100, n_iter_no_change=None,\n",
       "                          random_state=123, subsample=1.0, tol=0.0001,\n",
       "                          validation_fraction=0.1, verbose=0, warm_start=False)"
      ]
     },
     "execution_count": 9,
     "metadata": {},
     "output_type": "execute_result"
    }
   ],
   "source": [
    "model"
   ]
  },
  {
   "cell_type": "markdown",
   "id": "6ecc4fa0",
   "metadata": {},
   "source": [
    "Initial thoughts:\n",
    "- Boosting models, then random forest & some regression models (Lasso Least Angle, Ridge) perform best\n",
    "\n",
    "Questions:\n",
    "- Okay but why? And what are the training scores?\n",
    "- What features are most important?\n",
    "- What is the submission score for this model? (We wouldn't have this in a real-life scenario)"
   ]
  },
  {
   "cell_type": "code",
   "execution_count": 17,
   "id": "95891b4c",
   "metadata": {},
   "outputs": [
    {
     "data": {
      "application/vnd.plotly.v1+json": {
       "config": {
        "plotlyServerURL": "https://plot.ly"
       },
       "data": [
        {
         "bingroup": "y",
         "histfunc": "sum",
         "hovertemplate": "sum of x=%{x}<br>y=%{y}<extra></extra>",
         "legendgroup": "",
         "marker": {
          "color": "#636efa",
          "pattern": {
           "shape": ""
          }
         },
         "name": "",
         "orientation": "h",
         "showlegend": false,
         "type": "histogram",
         "x": {
          "bdata": "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",
          "dtype": "f8"
         },
         "xaxis": "x",
         "y": [
          "Id",
          "MSSubClass",
          "MSZoning_RL",
          "MSZoning_FV",
          "MSZoning_C (all)",
          "MSZoning_RM",
          "MSZoning_RH",
          "LotFrontage",
          "LotArea",
          "Street",
          "Alley",
          "LotShape_IR1",
          "LotShape_Reg",
          "LotShape_IR2",
          "LotShape_IR3",
          "LandContour_Lvl",
          "LandContour_HLS",
          "LandContour_Bnk",
          "LandContour_Low",
          "Utilities",
          "LotConfig_Inside",
          "LotConfig_FR2",
          "LotConfig_Corner",
          "LotConfig_CulDSac",
          "LotConfig_FR3",
          "LandSlope_Gtl",
          "LandSlope_Mod",
          "LandSlope_Sev",
          "Neighborhood_BrkSide",
          "Neighborhood_Sawyer",
          "Neighborhood_NAmes",
          "Neighborhood_CollgCr",
          "Neighborhood_NridgHt",
          "Neighborhood_Somerst",
          "Neighborhood_StoneBr",
          "Neighborhood_Gilbert",
          "Neighborhood_ClearCr",
          "Neighborhood_IDOTRR",
          "Neighborhood_Blmngtn",
          "Neighborhood_BrDale",
          "Neighborhood_Timber",
          "Neighborhood_SWISU",
          "Neighborhood_NWAmes",
          "Neighborhood_Crawfor",
          "Neighborhood_Edwards",
          "Neighborhood_OldTown",
          "Neighborhood_SawyerW",
          "Neighborhood_Blueste",
          "Neighborhood_NoRidge",
          "Neighborhood_NPkVill",
          "Neighborhood_Mitchel",
          "Neighborhood_MeadowV",
          "Neighborhood_Veenker",
          "Condition1_Norm",
          "Condition1_Feedr",
          "Condition1_PosN",
          "Condition1_RRAe",
          "Condition1_RRAn",
          "Condition1_Artery",
          "Condition1_RRNn",
          "Condition1_RRNe",
          "Condition1_PosA",
          "Condition2_Norm",
          "Condition2_PosN",
          "Condition2_Artery",
          "Condition2_RRNn",
          "Condition2_Feedr",
          "Condition2_PosA",
          "Condition2_RRAe",
          "Condition2_RRAn",
          "BldgType_1Fam",
          "BldgType_Twnhs",
          "BldgType_Duplex",
          "BldgType_TwnhsE",
          "BldgType_2fmCon",
          "HouseStyle_1Story",
          "HouseStyle_2Story",
          "HouseStyle_1.5Fin",
          "HouseStyle_1.5Unf",
          "HouseStyle_SLvl",
          "HouseStyle_2.5Fin",
          "HouseStyle_SFoyer",
          "HouseStyle_2.5Unf",
          "OverallQual",
          "OverallCond",
          "YearBuilt",
          "YearRemodAdd",
          "RoofStyle_Gable",
          "RoofStyle_Hip",
          "RoofStyle_Gambrel",
          "RoofStyle_Mansard",
          "RoofStyle_Flat",
          "RoofStyle_Shed",
          "RoofMatl_CompShg",
          "RoofMatl_Tar&Grv",
          "RoofMatl_WdShake",
          "RoofMatl_Roll",
          "RoofMatl_WdShngl",
          "RoofMatl_ClyTile",
          "RoofMatl_Membran",
          "Exterior1st_Wd Sdng",
          "Exterior1st_HdBoard",
          "Exterior1st_VinylSd",
          "Exterior1st_CemntBd",
          "Exterior1st_MetalSd",
          "Exterior1st_Stucco",
          "Exterior1st_BrkFace",
          "Exterior1st_Plywood",
          "Exterior1st_AsbShng",
          "Exterior1st_CBlock",
          "Exterior1st_WdShing",
          "Exterior1st_BrkComm",
          "Exterior1st_Stone",
          "Exterior2nd_Plywood",
          "Exterior2nd_HdBoard",
          "Exterior2nd_Wd Sdng",
          "Exterior2nd_VinylSd",
          "Exterior2nd_CmentBd",
          "Exterior2nd_MetalSd",
          "Exterior2nd_Stone",
          "Exterior2nd_BrkFace",
          "Exterior2nd_Stucco",
          "Exterior2nd_Wd Shng",
          "Exterior2nd_AsbShng",
          "Exterior2nd_CBlock",
          "Exterior2nd_Brk Cmn",
          "Exterior2nd_AsphShn",
          "Exterior2nd_ImStucc",
          "Exterior2nd_Other",
          "MasVnrType_BrkFace",
          "MasVnrType_Stone",
          "MasVnrType_BrkCmn",
          "MasVnrArea",
          "ExterQual_TA",
          "ExterQual_Gd",
          "ExterQual_Ex",
          "ExterQual_Fa",
          "ExterCond_Po",
          "ExterCond_TA",
          "ExterCond_Gd",
          "ExterCond_Fa",
          "ExterCond_Ex",
          "Foundation_CBlock",
          "Foundation_PConc",
          "Foundation_BrkTil",
          "Foundation_Slab",
          "Foundation_Stone",
          "Foundation_Wood",
          "BsmtQual_TA",
          "BsmtQual_Gd",
          "BsmtQual_Ex",
          "BsmtQual_Fa",
          "BsmtCond_TA",
          "BsmtCond_Gd",
          "BsmtCond_Po",
          "BsmtCond_Fa",
          "BsmtExposure_No",
          "BsmtExposure_Gd",
          "BsmtExposure_Mn",
          "BsmtExposure_Av",
          "BsmtFinType1_Unf",
          "BsmtFinType1_ALQ",
          "BsmtFinType1_Rec",
          "BsmtFinType1_GLQ",
          "BsmtFinType1_BLQ",
          "BsmtFinType1_LwQ",
          "BsmtFinSF1",
          "BsmtFinType2_Unf",
          "BsmtFinType2_BLQ",
          "BsmtFinType2_LwQ",
          "BsmtFinType2_GLQ",
          "BsmtFinType2_ALQ",
          "BsmtFinType2_Rec",
          "BsmtFinSF2",
          "BsmtUnfSF",
          "TotalBsmtSF",
          "Heating_GasA",
          "Heating_GasW",
          "Heating_OthW",
          "Heating_Wall",
          "Heating_Grav",
          "HeatingQC_Ex",
          "HeatingQC_TA",
          "HeatingQC_Gd",
          "HeatingQC_Fa",
          "HeatingQC_Po",
          "CentralAir",
          "Electrical_SBrkr",
          "Electrical_FuseF",
          "Electrical_FuseA",
          "Electrical_FuseP",
          "Electrical_Mix",
          "1stFlrSF",
          "2ndFlrSF",
          "LowQualFinSF",
          "GrLivArea",
          "BsmtFullBath",
          "BsmtHalfBath",
          "FullBath",
          "HalfBath",
          "BedroomAbvGr",
          "KitchenAbvGr",
          "KitchenQual_Fa",
          "KitchenQual_TA",
          "KitchenQual_Gd",
          "KitchenQual_Ex",
          "TotRmsAbvGrd",
          "Functional_Mod",
          "Functional_Typ",
          "Functional_Min2",
          "Functional_Min1",
          "Functional_Maj1",
          "Functional_Maj2",
          "Fireplaces",
          "FireplaceQu_Gd",
          "FireplaceQu_Fa",
          "FireplaceQu_TA",
          "FireplaceQu_Ex",
          "FireplaceQu_Po",
          "GarageType_Attchd",
          "GarageType_Detchd",
          "GarageType_BuiltIn",
          "GarageType_CarPort",
          "GarageType_Basment",
          "GarageType_2Types",
          "GarageYrBlt",
          "GarageFinish_Unf",
          "GarageFinish_RFn",
          "GarageFinish_Fin",
          "GarageCars",
          "GarageArea",
          "GarageQual_TA",
          "GarageQual_Fa",
          "GarageQual_Gd",
          "GarageQual_Ex",
          "GarageQual_Po",
          "GarageCond_TA",
          "GarageCond_Fa",
          "GarageCond_Gd",
          "GarageCond_Po",
          "GarageCond_Ex",
          "PavedDrive_Y",
          "PavedDrive_N",
          "PavedDrive_P",
          "WoodDeckSF",
          "OpenPorchSF",
          "EnclosedPorch",
          "3SsnPorch",
          "ScreenPorch",
          "PoolArea",
          "PoolQC_Ex",
          "PoolQC_Fa",
          "PoolQC_Gd",
          "Fence_GdWo",
          "Fence_MnPrv",
          "Fence_GdPrv",
          "Fence_MnWw",
          "MiscFeature_Shed",
          "MiscFeature_TenC",
          "MiscFeature_Gar2",
          "MiscVal",
          "MoSold",
          "YrSold",
          "SaleType_WD",
          "SaleType_New",
          "SaleType_ConLI",
          "SaleType_ConLD",
          "SaleType_COD",
          "SaleType_Con",
          "SaleType_CWD",
          "SaleType_ConLw",
          "SaleType_Oth",
          "SaleCondition_Normal",
          "SaleCondition_Abnorml",
          "SaleCondition_Partial",
          "SaleCondition_Family",
          "SaleCondition_Alloca",
          "SaleCondition_AdjLand"
         ],
         "yaxis": "y"
        }
       ],
       "layout": {
        "barmode": "relative",
        "height": 2000,
        "legend": {
         "tracegroupgap": 0
        },
        "margin": {
         "t": 60
        },
        "template": {
         "data": {
          "bar": [
           {
            "error_x": {
             "color": "#2a3f5f"
            },
            "error_y": {
             "color": "#2a3f5f"
            },
            "marker": {
             "line": {
              "color": "#E5ECF6",
              "width": 0.5
             },
             "pattern": {
              "fillmode": "overlay",
              "size": 10,
              "solidity": 0.2
             }
            },
            "type": "bar"
           }
          ],
          "barpolar": [
           {
            "marker": {
             "line": {
              "color": "#E5ECF6",
              "width": 0.5
             },
             "pattern": {
              "fillmode": "overlay",
              "size": 10,
              "solidity": 0.2
             }
            },
            "type": "barpolar"
           }
          ],
          "carpet": [
           {
            "aaxis": {
             "endlinecolor": "#2a3f5f",
             "gridcolor": "white",
             "linecolor": "white",
             "minorgridcolor": "white",
             "startlinecolor": "#2a3f5f"
            },
            "baxis": {
             "endlinecolor": "#2a3f5f",
             "gridcolor": "white",
             "linecolor": "white",
             "minorgridcolor": "white",
             "startlinecolor": "#2a3f5f"
            },
            "type": "carpet"
           }
          ],
          "choropleth": [
           {
            "colorbar": {
             "outlinewidth": 0,
             "ticks": ""
            },
            "type": "choropleth"
           }
          ],
          "contour": [
           {
            "colorbar": {
             "outlinewidth": 0,
             "ticks": ""
            },
            "colorscale": [
             [
              0,
              "#0d0887"
             ],
             [
              0.1111111111111111,
              "#46039f"
             ],
             [
              0.2222222222222222,
              "#7201a8"
             ],
             [
              0.3333333333333333,
              "#9c179e"
             ],
             [
              0.4444444444444444,
              "#bd3786"
             ],
             [
              0.5555555555555556,
              "#d8576b"
             ],
             [
              0.6666666666666666,
              "#ed7953"
             ],
             [
              0.7777777777777778,
              "#fb9f3a"
             ],
             [
              0.8888888888888888,
              "#fdca26"
             ],
             [
              1,
              "#f0f921"
             ]
            ],
            "type": "contour"
           }
          ],
          "contourcarpet": [
           {
            "colorbar": {
             "outlinewidth": 0,
             "ticks": ""
            },
            "type": "contourcarpet"
           }
          ],
          "heatmap": [
           {
            "colorbar": {
             "outlinewidth": 0,
             "ticks": ""
            },
            "colorscale": [
             [
              0,
              "#0d0887"
             ],
             [
              0.1111111111111111,
              "#46039f"
             ],
             [
              0.2222222222222222,
              "#7201a8"
             ],
             [
              0.3333333333333333,
              "#9c179e"
             ],
             [
              0.4444444444444444,
              "#bd3786"
             ],
             [
              0.5555555555555556,
              "#d8576b"
             ],
             [
              0.6666666666666666,
              "#ed7953"
             ],
             [
              0.7777777777777778,
              "#fb9f3a"
             ],
             [
              0.8888888888888888,
              "#fdca26"
             ],
             [
              1,
              "#f0f921"
             ]
            ],
            "type": "heatmap"
           }
          ],
          "histogram": [
           {
            "marker": {
             "pattern": {
              "fillmode": "overlay",
              "size": 10,
              "solidity": 0.2
             }
            },
            "type": "histogram"
           }
          ],
          "histogram2d": [
           {
            "colorbar": {
             "outlinewidth": 0,
             "ticks": ""
            },
            "colorscale": [
             [
              0,
              "#0d0887"
             ],
             [
              0.1111111111111111,
              "#46039f"
             ],
             [
              0.2222222222222222,
              "#7201a8"
             ],
             [
              0.3333333333333333,
              "#9c179e"
             ],
             [
              0.4444444444444444,
              "#bd3786"
             ],
             [
              0.5555555555555556,
              "#d8576b"
             ],
             [
              0.6666666666666666,
              "#ed7953"
             ],
             [
              0.7777777777777778,
              "#fb9f3a"
             ],
             [
              0.8888888888888888,
              "#fdca26"
             ],
             [
              1,
              "#f0f921"
             ]
            ],
            "type": "histogram2d"
           }
          ],
          "histogram2dcontour": [
           {
            "colorbar": {
             "outlinewidth": 0,
             "ticks": ""
            },
            "colorscale": [
             [
              0,
              "#0d0887"
             ],
             [
              0.1111111111111111,
              "#46039f"
             ],
             [
              0.2222222222222222,
              "#7201a8"
             ],
             [
              0.3333333333333333,
              "#9c179e"
             ],
             [
              0.4444444444444444,
              "#bd3786"
             ],
             [
              0.5555555555555556,
              "#d8576b"
             ],
             [
              0.6666666666666666,
              "#ed7953"
             ],
             [
              0.7777777777777778,
              "#fb9f3a"
             ],
             [
              0.8888888888888888,
              "#fdca26"
             ],
             [
              1,
              "#f0f921"
             ]
            ],
            "type": "histogram2dcontour"
           }
          ],
          "mesh3d": [
           {
            "colorbar": {
             "outlinewidth": 0,
             "ticks": ""
            },
            "type": "mesh3d"
           }
          ],
          "parcoords": [
           {
            "line": {
             "colorbar": {
              "outlinewidth": 0,
              "ticks": ""
             }
            },
            "type": "parcoords"
           }
          ],
          "pie": [
           {
            "automargin": true,
            "type": "pie"
           }
          ],
          "scatter": [
           {
            "fillpattern": {
             "fillmode": "overlay",
             "size": 10,
             "solidity": 0.2
            },
            "type": "scatter"
           }
          ],
          "scatter3d": [
           {
            "line": {
             "colorbar": {
              "outlinewidth": 0,
              "ticks": ""
             }
            },
            "marker": {
             "colorbar": {
              "outlinewidth": 0,
              "ticks": ""
             }
            },
            "type": "scatter3d"
           }
          ],
          "scattercarpet": [
           {
            "marker": {
             "colorbar": {
              "outlinewidth": 0,
              "ticks": ""
             }
            },
            "type": "scattercarpet"
           }
          ],
          "scattergeo": [
           {
            "marker": {
             "colorbar": {
              "outlinewidth": 0,
              "ticks": ""
             }
            },
            "type": "scattergeo"
           }
          ],
          "scattergl": [
           {
            "marker": {
             "colorbar": {
              "outlinewidth": 0,
              "ticks": ""
             }
            },
            "type": "scattergl"
           }
          ],
          "scattermap": [
           {
            "marker": {
             "colorbar": {
              "outlinewidth": 0,
              "ticks": ""
             }
            },
            "type": "scattermap"
           }
          ],
          "scattermapbox": [
           {
            "marker": {
             "colorbar": {
              "outlinewidth": 0,
              "ticks": ""
             }
            },
            "type": "scattermapbox"
           }
          ],
          "scatterpolar": [
           {
            "marker": {
             "colorbar": {
              "outlinewidth": 0,
              "ticks": ""
             }
            },
            "type": "scatterpolar"
           }
          ],
          "scatterpolargl": [
           {
            "marker": {
             "colorbar": {
              "outlinewidth": 0,
              "ticks": ""
             }
            },
            "type": "scatterpolargl"
           }
          ],
          "scatterternary": [
           {
            "marker": {
             "colorbar": {
              "outlinewidth": 0,
              "ticks": ""
             }
            },
            "type": "scatterternary"
           }
          ],
          "surface": [
           {
            "colorbar": {
             "outlinewidth": 0,
             "ticks": ""
            },
            "colorscale": [
             [
              0,
              "#0d0887"
             ],
             [
              0.1111111111111111,
              "#46039f"
             ],
             [
              0.2222222222222222,
              "#7201a8"
             ],
             [
              0.3333333333333333,
              "#9c179e"
             ],
             [
              0.4444444444444444,
              "#bd3786"
             ],
             [
              0.5555555555555556,
              "#d8576b"
             ],
             [
              0.6666666666666666,
              "#ed7953"
             ],
             [
              0.7777777777777778,
              "#fb9f3a"
             ],
             [
              0.8888888888888888,
              "#fdca26"
             ],
             [
              1,
              "#f0f921"
             ]
            ],
            "type": "surface"
           }
          ],
          "table": [
           {
            "cells": {
             "fill": {
              "color": "#EBF0F8"
             },
             "line": {
              "color": "white"
             }
            },
            "header": {
             "fill": {
              "color": "#C8D4E3"
             },
             "line": {
              "color": "white"
             }
            },
            "type": "table"
           }
          ]
         },
         "layout": {
          "annotationdefaults": {
           "arrowcolor": "#2a3f5f",
           "arrowhead": 0,
           "arrowwidth": 1
          },
          "autotypenumbers": "strict",
          "coloraxis": {
           "colorbar": {
            "outlinewidth": 0,
            "ticks": ""
           }
          },
          "colorscale": {
           "diverging": [
            [
             0,
             "#8e0152"
            ],
            [
             0.1,
             "#c51b7d"
            ],
            [
             0.2,
             "#de77ae"
            ],
            [
             0.3,
             "#f1b6da"
            ],
            [
             0.4,
             "#fde0ef"
            ],
            [
             0.5,
             "#f7f7f7"
            ],
            [
             0.6,
             "#e6f5d0"
            ],
            [
             0.7,
             "#b8e186"
            ],
            [
             0.8,
             "#7fbc41"
            ],
            [
             0.9,
             "#4d9221"
            ],
            [
             1,
             "#276419"
            ]
           ],
           "sequential": [
            [
             0,
             "#0d0887"
            ],
            [
             0.1111111111111111,
             "#46039f"
            ],
            [
             0.2222222222222222,
             "#7201a8"
            ],
            [
             0.3333333333333333,
             "#9c179e"
            ],
            [
             0.4444444444444444,
             "#bd3786"
            ],
            [
             0.5555555555555556,
             "#d8576b"
            ],
            [
             0.6666666666666666,
             "#ed7953"
            ],
            [
             0.7777777777777778,
             "#fb9f3a"
            ],
            [
             0.8888888888888888,
             "#fdca26"
            ],
            [
             1,
             "#f0f921"
            ]
           ],
           "sequentialminus": [
            [
             0,
             "#0d0887"
            ],
            [
             0.1111111111111111,
             "#46039f"
            ],
            [
             0.2222222222222222,
             "#7201a8"
            ],
            [
             0.3333333333333333,
             "#9c179e"
            ],
            [
             0.4444444444444444,
             "#bd3786"
            ],
            [
             0.5555555555555556,
             "#d8576b"
            ],
            [
             0.6666666666666666,
             "#ed7953"
            ],
            [
             0.7777777777777778,
             "#fb9f3a"
            ],
            [
             0.8888888888888888,
             "#fdca26"
            ],
            [
             1,
             "#f0f921"
            ]
           ]
          },
          "colorway": [
           "#636efa",
           "#EF553B",
           "#00cc96",
           "#ab63fa",
           "#FFA15A",
           "#19d3f3",
           "#FF6692",
           "#B6E880",
           "#FF97FF",
           "#FECB52"
          ],
          "font": {
           "color": "#2a3f5f"
          },
          "geo": {
           "bgcolor": "white",
           "lakecolor": "white",
           "landcolor": "#E5ECF6",
           "showlakes": true,
           "showland": true,
           "subunitcolor": "white"
          },
          "hoverlabel": {
           "align": "left"
          },
          "hovermode": "closest",
          "mapbox": {
           "style": "light"
          },
          "paper_bgcolor": "white",
          "plot_bgcolor": "#E5ECF6",
          "polar": {
           "angularaxis": {
            "gridcolor": "white",
            "linecolor": "white",
            "ticks": ""
           },
           "bgcolor": "#E5ECF6",
           "radialaxis": {
            "gridcolor": "white",
            "linecolor": "white",
            "ticks": ""
           }
          },
          "scene": {
           "xaxis": {
            "backgroundcolor": "#E5ECF6",
            "gridcolor": "white",
            "gridwidth": 2,
            "linecolor": "white",
            "showbackground": true,
            "ticks": "",
            "zerolinecolor": "white"
           },
           "yaxis": {
            "backgroundcolor": "#E5ECF6",
            "gridcolor": "white",
            "gridwidth": 2,
            "linecolor": "white",
            "showbackground": true,
            "ticks": "",
            "zerolinecolor": "white"
           },
           "zaxis": {
            "backgroundcolor": "#E5ECF6",
            "gridcolor": "white",
            "gridwidth": 2,
            "linecolor": "white",
            "showbackground": true,
            "ticks": "",
            "zerolinecolor": "white"
           }
          },
          "shapedefaults": {
           "line": {
            "color": "#2a3f5f"
           }
          },
          "ternary": {
           "aaxis": {
            "gridcolor": "white",
            "linecolor": "white",
            "ticks": ""
           },
           "baxis": {
            "gridcolor": "white",
            "linecolor": "white",
            "ticks": ""
           },
           "bgcolor": "#E5ECF6",
           "caxis": {
            "gridcolor": "white",
            "linecolor": "white",
            "ticks": ""
           }
          },
          "title": {
           "x": 0.05
          },
          "xaxis": {
           "automargin": true,
           "gridcolor": "white",
           "linecolor": "white",
           "ticks": "",
           "title": {
            "standoff": 15
           },
           "zerolinecolor": "white",
           "zerolinewidth": 2
          },
          "yaxis": {
           "automargin": true,
           "gridcolor": "white",
           "linecolor": "white",
           "ticks": "",
           "title": {
            "standoff": 15
           },
           "zerolinecolor": "white",
           "zerolinewidth": 2
          }
         }
        },
        "xaxis": {
         "anchor": "y",
         "domain": [
          0,
          1
         ],
         "title": {
          "text": "sum of x"
         }
        },
        "yaxis": {
         "anchor": "x",
         "categoryorder": "total ascending",
         "domain": [
          0,
          1
         ],
         "title": {
          "text": "y"
         }
        }
       }
      }
     },
     "metadata": {},
     "output_type": "display_data"
    }
   ],
   "source": [
    "px.histogram(x=model.feature_importances_, y=model.feature_names_in_).update_yaxes(categoryorder='total ascending').update_layout(height=2_000)"
   ]
  },
  {
   "cell_type": "markdown",
   "id": "e1be0995",
   "metadata": {},
   "source": [
    "As I expected, most features are unimportant. Most of the performance comes from the OverallQual feature, then square-feet features."
   ]
  },
  {
   "cell_type": "markdown",
   "id": "3030dfa0",
   "metadata": {},
   "source": [
    "> Submissions are evaluated on Root-Mean-Squared-Error (RMSE) between the logarithm of the predicted value and the logarithm of the observed sales price. (Taking logs means that errors in predicting expensive houses and cheap houses will affect the result equally.)"
   ]
  },
  {
   "cell_type": "markdown",
   "id": "eac3d219",
   "metadata": {},
   "source": [
    "This suggests that perhaps we could predict the logarithm of the house price as opposed to the house price directly. This way we optimize directly for the same metric, since it seems to be just as important to predict both cheap and expensive houses well."
   ]
  },
  {
   "cell_type": "markdown",
   "id": "827de6dd",
   "metadata": {},
   "source": [
    "## <a id='toc1_2_'></a>[Predict logarithm](#toc0_)"
   ]
  },
  {
   "cell_type": "code",
   "execution_count": 18,
   "id": "7faab81b",
   "metadata": {},
   "outputs": [
    {
     "data": {
      "text/html": [
       "<style type=\"text/css\">\n",
       "#T_543b8_row10_col1, #T_543b8_row16_col1 {\n",
       "  background-color: lightgreen;\n",
       "}\n",
       "</style>\n",
       "<table id=\"T_543b8\">\n",
       "  <thead>\n",
       "    <tr>\n",
       "      <th class=\"blank level0\" >&nbsp;</th>\n",
       "      <th id=\"T_543b8_level0_col0\" class=\"col_heading level0 col0\" >Description</th>\n",
       "      <th id=\"T_543b8_level0_col1\" class=\"col_heading level0 col1\" >Value</th>\n",
       "    </tr>\n",
       "  </thead>\n",
       "  <tbody>\n",
       "    <tr>\n",
       "      <th id=\"T_543b8_level0_row0\" class=\"row_heading level0 row0\" >0</th>\n",
       "      <td id=\"T_543b8_row0_col0\" class=\"data row0 col0\" >Session id</td>\n",
       "      <td id=\"T_543b8_row0_col1\" class=\"data row0 col1\" >123</td>\n",
       "    </tr>\n",
       "    <tr>\n",
       "      <th id=\"T_543b8_level0_row1\" class=\"row_heading level0 row1\" >1</th>\n",
       "      <td id=\"T_543b8_row1_col0\" class=\"data row1 col0\" >Target</td>\n",
       "      <td id=\"T_543b8_row1_col1\" class=\"data row1 col1\" >SalePrice</td>\n",
       "    </tr>\n",
       "    <tr>\n",
       "      <th id=\"T_543b8_level0_row2\" class=\"row_heading level0 row2\" >2</th>\n",
       "      <td id=\"T_543b8_row2_col0\" class=\"data row2 col0\" >Target type</td>\n",
       "      <td id=\"T_543b8_row2_col1\" class=\"data row2 col1\" >Regression</td>\n",
       "    </tr>\n",
       "    <tr>\n",
       "      <th id=\"T_543b8_level0_row3\" class=\"row_heading level0 row3\" >3</th>\n",
       "      <td id=\"T_543b8_row3_col0\" class=\"data row3 col0\" >Original data shape</td>\n",
       "      <td id=\"T_543b8_row3_col1\" class=\"data row3 col1\" >(1460, 81)</td>\n",
       "    </tr>\n",
       "    <tr>\n",
       "      <th id=\"T_543b8_level0_row4\" class=\"row_heading level0 row4\" >4</th>\n",
       "      <td id=\"T_543b8_row4_col0\" class=\"data row4 col0\" >Transformed data shape</td>\n",
       "      <td id=\"T_543b8_row4_col1\" class=\"data row4 col1\" >(1460, 279)</td>\n",
       "    </tr>\n",
       "    <tr>\n",
       "      <th id=\"T_543b8_level0_row5\" class=\"row_heading level0 row5\" >5</th>\n",
       "      <td id=\"T_543b8_row5_col0\" class=\"data row5 col0\" >Transformed train set shape</td>\n",
       "      <td id=\"T_543b8_row5_col1\" class=\"data row5 col1\" >(1021, 279)</td>\n",
       "    </tr>\n",
       "    <tr>\n",
       "      <th id=\"T_543b8_level0_row6\" class=\"row_heading level0 row6\" >6</th>\n",
       "      <td id=\"T_543b8_row6_col0\" class=\"data row6 col0\" >Transformed test set shape</td>\n",
       "      <td id=\"T_543b8_row6_col1\" class=\"data row6 col1\" >(439, 279)</td>\n",
       "    </tr>\n",
       "    <tr>\n",
       "      <th id=\"T_543b8_level0_row7\" class=\"row_heading level0 row7\" >7</th>\n",
       "      <td id=\"T_543b8_row7_col0\" class=\"data row7 col0\" >Numeric features</td>\n",
       "      <td id=\"T_543b8_row7_col1\" class=\"data row7 col1\" >37</td>\n",
       "    </tr>\n",
       "    <tr>\n",
       "      <th id=\"T_543b8_level0_row8\" class=\"row_heading level0 row8\" >8</th>\n",
       "      <td id=\"T_543b8_row8_col0\" class=\"data row8 col0\" >Categorical features</td>\n",
       "      <td id=\"T_543b8_row8_col1\" class=\"data row8 col1\" >43</td>\n",
       "    </tr>\n",
       "    <tr>\n",
       "      <th id=\"T_543b8_level0_row9\" class=\"row_heading level0 row9\" >9</th>\n",
       "      <td id=\"T_543b8_row9_col0\" class=\"data row9 col0\" >Rows with missing values</td>\n",
       "      <td id=\"T_543b8_row9_col1\" class=\"data row9 col1\" >100.0%</td>\n",
       "    </tr>\n",
       "    <tr>\n",
       "      <th id=\"T_543b8_level0_row10\" class=\"row_heading level0 row10\" >10</th>\n",
       "      <td id=\"T_543b8_row10_col0\" class=\"data row10 col0\" >Preprocess</td>\n",
       "      <td id=\"T_543b8_row10_col1\" class=\"data row10 col1\" >True</td>\n",
       "    </tr>\n",
       "    <tr>\n",
       "      <th id=\"T_543b8_level0_row11\" class=\"row_heading level0 row11\" >11</th>\n",
       "      <td id=\"T_543b8_row11_col0\" class=\"data row11 col0\" >Imputation type</td>\n",
       "      <td id=\"T_543b8_row11_col1\" class=\"data row11 col1\" >simple</td>\n",
       "    </tr>\n",
       "    <tr>\n",
       "      <th id=\"T_543b8_level0_row12\" class=\"row_heading level0 row12\" >12</th>\n",
       "      <td id=\"T_543b8_row12_col0\" class=\"data row12 col0\" >Numeric imputation</td>\n",
       "      <td id=\"T_543b8_row12_col1\" class=\"data row12 col1\" >mean</td>\n",
       "    </tr>\n",
       "    <tr>\n",
       "      <th id=\"T_543b8_level0_row13\" class=\"row_heading level0 row13\" >13</th>\n",
       "      <td id=\"T_543b8_row13_col0\" class=\"data row13 col0\" >Categorical imputation</td>\n",
       "      <td id=\"T_543b8_row13_col1\" class=\"data row13 col1\" >mode</td>\n",
       "    </tr>\n",
       "    <tr>\n",
       "      <th id=\"T_543b8_level0_row14\" class=\"row_heading level0 row14\" >14</th>\n",
       "      <td id=\"T_543b8_row14_col0\" class=\"data row14 col0\" >Maximum one-hot encoding</td>\n",
       "      <td id=\"T_543b8_row14_col1\" class=\"data row14 col1\" >25</td>\n",
       "    </tr>\n",
       "    <tr>\n",
       "      <th id=\"T_543b8_level0_row15\" class=\"row_heading level0 row15\" >15</th>\n",
       "      <td id=\"T_543b8_row15_col0\" class=\"data row15 col0\" >Encoding method</td>\n",
       "      <td id=\"T_543b8_row15_col1\" class=\"data row15 col1\" >None</td>\n",
       "    </tr>\n",
       "    <tr>\n",
       "      <th id=\"T_543b8_level0_row16\" class=\"row_heading level0 row16\" >16</th>\n",
       "      <td id=\"T_543b8_row16_col0\" class=\"data row16 col0\" >Transform target</td>\n",
       "      <td id=\"T_543b8_row16_col1\" class=\"data row16 col1\" >True</td>\n",
       "    </tr>\n",
       "    <tr>\n",
       "      <th id=\"T_543b8_level0_row17\" class=\"row_heading level0 row17\" >17</th>\n",
       "      <td id=\"T_543b8_row17_col0\" class=\"data row17 col0\" >Transform target method</td>\n",
       "      <td id=\"T_543b8_row17_col1\" class=\"data row17 col1\" >yeo-johnson</td>\n",
       "    </tr>\n",
       "    <tr>\n",
       "      <th id=\"T_543b8_level0_row18\" class=\"row_heading level0 row18\" >18</th>\n",
       "      <td id=\"T_543b8_row18_col0\" class=\"data row18 col0\" >Fold Generator</td>\n",
       "      <td id=\"T_543b8_row18_col1\" class=\"data row18 col1\" >KFold</td>\n",
       "    </tr>\n",
       "    <tr>\n",
       "      <th id=\"T_543b8_level0_row19\" class=\"row_heading level0 row19\" >19</th>\n",
       "      <td id=\"T_543b8_row19_col0\" class=\"data row19 col0\" >Fold Number</td>\n",
       "      <td id=\"T_543b8_row19_col1\" class=\"data row19 col1\" >10</td>\n",
       "    </tr>\n",
       "    <tr>\n",
       "      <th id=\"T_543b8_level0_row20\" class=\"row_heading level0 row20\" >20</th>\n",
       "      <td id=\"T_543b8_row20_col0\" class=\"data row20 col0\" >CPU Jobs</td>\n",
       "      <td id=\"T_543b8_row20_col1\" class=\"data row20 col1\" >-1</td>\n",
       "    </tr>\n",
       "    <tr>\n",
       "      <th id=\"T_543b8_level0_row21\" class=\"row_heading level0 row21\" >21</th>\n",
       "      <td id=\"T_543b8_row21_col0\" class=\"data row21 col0\" >Use GPU</td>\n",
       "      <td id=\"T_543b8_row21_col1\" class=\"data row21 col1\" >False</td>\n",
       "    </tr>\n",
       "    <tr>\n",
       "      <th id=\"T_543b8_level0_row22\" class=\"row_heading level0 row22\" >22</th>\n",
       "      <td id=\"T_543b8_row22_col0\" class=\"data row22 col0\" >Log Experiment</td>\n",
       "      <td id=\"T_543b8_row22_col1\" class=\"data row22 col1\" >False</td>\n",
       "    </tr>\n",
       "    <tr>\n",
       "      <th id=\"T_543b8_level0_row23\" class=\"row_heading level0 row23\" >23</th>\n",
       "      <td id=\"T_543b8_row23_col0\" class=\"data row23 col0\" >Experiment Name</td>\n",
       "      <td id=\"T_543b8_row23_col1\" class=\"data row23 col1\" >reg-default-name</td>\n",
       "    </tr>\n",
       "    <tr>\n",
       "      <th id=\"T_543b8_level0_row24\" class=\"row_heading level0 row24\" >24</th>\n",
       "      <td id=\"T_543b8_row24_col0\" class=\"data row24 col0\" >USI</td>\n",
       "      <td id=\"T_543b8_row24_col1\" class=\"data row24 col1\" >9192</td>\n",
       "    </tr>\n",
       "  </tbody>\n",
       "</table>\n"
      ],
      "text/plain": [
       "<pandas.io.formats.style.Styler at 0x1d327bba150>"
      ]
     },
     "metadata": {},
     "output_type": "display_data"
    }
   ],
   "source": [
    "experiment = setup(data=df, target='SalePrice', session_id=123, transform_target=True) "
   ]
  },
  {
   "cell_type": "code",
   "execution_count": 19,
   "id": "b59137a3",
   "metadata": {},
   "outputs": [
    {
     "data": {
      "text/html": [],
      "text/plain": [
       "<IPython.core.display.HTML object>"
      ]
     },
     "metadata": {},
     "output_type": "display_data"
    },
    {
     "data": {
      "text/html": [
       "<style type=\"text/css\">\n",
       "#T_44a19 th {\n",
       "  text-align: left;\n",
       "}\n",
       "#T_44a19_row0_col0, #T_44a19_row1_col0, #T_44a19_row1_col1, #T_44a19_row1_col2, #T_44a19_row1_col3, #T_44a19_row1_col4, #T_44a19_row1_col5, #T_44a19_row1_col6, #T_44a19_row2_col0, #T_44a19_row2_col1, #T_44a19_row2_col2, #T_44a19_row2_col3, #T_44a19_row2_col4, #T_44a19_row2_col5, #T_44a19_row2_col6, #T_44a19_row3_col0, #T_44a19_row3_col1, #T_44a19_row3_col2, #T_44a19_row3_col3, #T_44a19_row3_col4, #T_44a19_row3_col5, #T_44a19_row3_col6, #T_44a19_row4_col0, #T_44a19_row4_col1, #T_44a19_row4_col2, #T_44a19_row4_col3, #T_44a19_row4_col4, #T_44a19_row4_col5, #T_44a19_row4_col6, #T_44a19_row5_col0, #T_44a19_row5_col1, #T_44a19_row5_col2, #T_44a19_row5_col3, #T_44a19_row5_col4, #T_44a19_row5_col5, #T_44a19_row5_col6, #T_44a19_row6_col0, #T_44a19_row6_col1, #T_44a19_row6_col2, #T_44a19_row6_col3, #T_44a19_row6_col4, #T_44a19_row6_col5, #T_44a19_row6_col6, #T_44a19_row7_col0, #T_44a19_row7_col1, #T_44a19_row7_col2, #T_44a19_row7_col3, #T_44a19_row7_col4, #T_44a19_row7_col5, #T_44a19_row7_col6, #T_44a19_row8_col0, #T_44a19_row8_col1, #T_44a19_row8_col2, #T_44a19_row8_col3, #T_44a19_row8_col4, #T_44a19_row8_col5, #T_44a19_row8_col6, #T_44a19_row9_col0, #T_44a19_row9_col1, #T_44a19_row9_col2, #T_44a19_row9_col3, #T_44a19_row9_col4, #T_44a19_row9_col5, #T_44a19_row9_col6, #T_44a19_row10_col0, #T_44a19_row10_col1, #T_44a19_row10_col2, #T_44a19_row10_col3, #T_44a19_row10_col4, #T_44a19_row10_col5, #T_44a19_row10_col6, #T_44a19_row11_col0, #T_44a19_row11_col1, #T_44a19_row11_col2, #T_44a19_row11_col3, #T_44a19_row11_col4, #T_44a19_row11_col5, #T_44a19_row11_col6, #T_44a19_row12_col0, #T_44a19_row12_col1, #T_44a19_row12_col2, #T_44a19_row12_col3, #T_44a19_row12_col4, #T_44a19_row12_col5, #T_44a19_row12_col6, #T_44a19_row13_col0, #T_44a19_row13_col1, #T_44a19_row13_col2, #T_44a19_row13_col3, #T_44a19_row13_col4, #T_44a19_row13_col5, #T_44a19_row13_col6, #T_44a19_row14_col0, #T_44a19_row14_col1, #T_44a19_row14_col2, #T_44a19_row14_col3, #T_44a19_row14_col4, #T_44a19_row14_col5, #T_44a19_row14_col6, #T_44a19_row15_col0, #T_44a19_row15_col1, #T_44a19_row15_col2, #T_44a19_row15_col3, #T_44a19_row15_col4, #T_44a19_row15_col5, #T_44a19_row15_col6 {\n",
       "  text-align: left;\n",
       "}\n",
       "#T_44a19_row0_col1, #T_44a19_row0_col2, #T_44a19_row0_col3, #T_44a19_row0_col4, #T_44a19_row0_col5, #T_44a19_row0_col6 {\n",
       "  text-align: left;\n",
       "  background-color: yellow;\n",
       "}\n",
       "#T_44a19_row0_col7, #T_44a19_row1_col7, #T_44a19_row2_col7, #T_44a19_row3_col7, #T_44a19_row4_col7, #T_44a19_row5_col7, #T_44a19_row6_col7, #T_44a19_row8_col7, #T_44a19_row9_col7, #T_44a19_row10_col7, #T_44a19_row11_col7, #T_44a19_row12_col7, #T_44a19_row13_col7, #T_44a19_row14_col7, #T_44a19_row15_col7 {\n",
       "  text-align: left;\n",
       "  background-color: lightgrey;\n",
       "}\n",
       "#T_44a19_row7_col7 {\n",
       "  text-align: left;\n",
       "  background-color: yellow;\n",
       "  background-color: lightgrey;\n",
       "}\n",
       "</style>\n",
       "<table id=\"T_44a19\">\n",
       "  <thead>\n",
       "    <tr>\n",
       "      <th class=\"blank level0\" >&nbsp;</th>\n",
       "      <th id=\"T_44a19_level0_col0\" class=\"col_heading level0 col0\" >Model</th>\n",
       "      <th id=\"T_44a19_level0_col1\" class=\"col_heading level0 col1\" >MAE</th>\n",
       "      <th id=\"T_44a19_level0_col2\" class=\"col_heading level0 col2\" >MSE</th>\n",
       "      <th id=\"T_44a19_level0_col3\" class=\"col_heading level0 col3\" >RMSE</th>\n",
       "      <th id=\"T_44a19_level0_col4\" class=\"col_heading level0 col4\" >R2</th>\n",
       "      <th id=\"T_44a19_level0_col5\" class=\"col_heading level0 col5\" >RMSLE</th>\n",
       "      <th id=\"T_44a19_level0_col6\" class=\"col_heading level0 col6\" >MAPE</th>\n",
       "      <th id=\"T_44a19_level0_col7\" class=\"col_heading level0 col7\" >TT (Sec)</th>\n",
       "    </tr>\n",
       "  </thead>\n",
       "  <tbody>\n",
       "    <tr>\n",
       "      <th id=\"T_44a19_level0_row0\" class=\"row_heading level0 row0\" >gbr</th>\n",
       "      <td id=\"T_44a19_row0_col0\" class=\"data row0 col0\" >Gradient Boosting Regressor</td>\n",
       "      <td id=\"T_44a19_row0_col1\" class=\"data row0 col1\" >17276.3652</td>\n",
       "      <td id=\"T_44a19_row0_col2\" class=\"data row0 col2\" >913754745.6682</td>\n",
       "      <td id=\"T_44a19_row0_col3\" class=\"data row0 col3\" >29505.4466</td>\n",
       "      <td id=\"T_44a19_row0_col4\" class=\"data row0 col4\" >0.8652</td>\n",
       "      <td id=\"T_44a19_row0_col5\" class=\"data row0 col5\" >0.1363</td>\n",
       "      <td id=\"T_44a19_row0_col6\" class=\"data row0 col6\" >0.0966</td>\n",
       "      <td id=\"T_44a19_row0_col7\" class=\"data row0 col7\" >0.9780</td>\n",
       "    </tr>\n",
       "    <tr>\n",
       "      <th id=\"T_44a19_level0_row1\" class=\"row_heading level0 row1\" >lightgbm</th>\n",
       "      <td id=\"T_44a19_row1_col0\" class=\"data row1 col0\" >Light Gradient Boosting Machine</td>\n",
       "      <td id=\"T_44a19_row1_col1\" class=\"data row1 col1\" >17583.7265</td>\n",
       "      <td id=\"T_44a19_row1_col2\" class=\"data row1 col2\" >945393828.1244</td>\n",
       "      <td id=\"T_44a19_row1_col3\" class=\"data row1 col3\" >29735.3920</td>\n",
       "      <td id=\"T_44a19_row1_col4\" class=\"data row1 col4\" >0.8624</td>\n",
       "      <td id=\"T_44a19_row1_col5\" class=\"data row1 col5\" >0.1391</td>\n",
       "      <td id=\"T_44a19_row1_col6\" class=\"data row1 col6\" >0.0994</td>\n",
       "      <td id=\"T_44a19_row1_col7\" class=\"data row1 col7\" >0.5800</td>\n",
       "    </tr>\n",
       "    <tr>\n",
       "      <th id=\"T_44a19_level0_row2\" class=\"row_heading level0 row2\" >rf</th>\n",
       "      <td id=\"T_44a19_row2_col0\" class=\"data row2 col0\" >Random Forest Regressor</td>\n",
       "      <td id=\"T_44a19_row2_col1\" class=\"data row2 col1\" >19212.4509</td>\n",
       "      <td id=\"T_44a19_row2_col2\" class=\"data row2 col2\" >1178677119.1330</td>\n",
       "      <td id=\"T_44a19_row2_col3\" class=\"data row2 col3\" >33263.5075</td>\n",
       "      <td id=\"T_44a19_row2_col4\" class=\"data row2 col4\" >0.8285</td>\n",
       "      <td id=\"T_44a19_row2_col5\" class=\"data row2 col5\" >0.1534</td>\n",
       "      <td id=\"T_44a19_row2_col6\" class=\"data row2 col6\" >0.1091</td>\n",
       "      <td id=\"T_44a19_row2_col7\" class=\"data row2 col7\" >1.2520</td>\n",
       "    </tr>\n",
       "    <tr>\n",
       "      <th id=\"T_44a19_level0_row3\" class=\"row_heading level0 row3\" >et</th>\n",
       "      <td id=\"T_44a19_row3_col0\" class=\"data row3 col0\" >Extra Trees Regressor</td>\n",
       "      <td id=\"T_44a19_row3_col1\" class=\"data row3 col1\" >19234.3504</td>\n",
       "      <td id=\"T_44a19_row3_col2\" class=\"data row3 col2\" >1224647550.2572</td>\n",
       "      <td id=\"T_44a19_row3_col3\" class=\"data row3 col3\" >33770.3099</td>\n",
       "      <td id=\"T_44a19_row3_col4\" class=\"data row3 col4\" >0.8227</td>\n",
       "      <td id=\"T_44a19_row3_col5\" class=\"data row3 col5\" >0.1499</td>\n",
       "      <td id=\"T_44a19_row3_col6\" class=\"data row3 col6\" >0.1065</td>\n",
       "      <td id=\"T_44a19_row3_col7\" class=\"data row3 col7\" >1.8150</td>\n",
       "    </tr>\n",
       "    <tr>\n",
       "      <th id=\"T_44a19_level0_row4\" class=\"row_heading level0 row4\" >ada</th>\n",
       "      <td id=\"T_44a19_row4_col0\" class=\"data row4 col0\" >AdaBoost Regressor</td>\n",
       "      <td id=\"T_44a19_row4_col1\" class=\"data row4 col1\" >24418.0172</td>\n",
       "      <td id=\"T_44a19_row4_col2\" class=\"data row4 col2\" >1397201132.0592</td>\n",
       "      <td id=\"T_44a19_row4_col3\" class=\"data row4 col3\" >36822.8107</td>\n",
       "      <td id=\"T_44a19_row4_col4\" class=\"data row4 col4\" >0.7903</td>\n",
       "      <td id=\"T_44a19_row4_col5\" class=\"data row4 col5\" >0.1810</td>\n",
       "      <td id=\"T_44a19_row4_col6\" class=\"data row4 col6\" >0.1374</td>\n",
       "      <td id=\"T_44a19_row4_col7\" class=\"data row4 col7\" >0.7600</td>\n",
       "    </tr>\n",
       "    <tr>\n",
       "      <th id=\"T_44a19_level0_row5\" class=\"row_heading level0 row5\" >dt</th>\n",
       "      <td id=\"T_44a19_row5_col0\" class=\"data row5 col0\" >Decision Tree Regressor</td>\n",
       "      <td id=\"T_44a19_row5_col1\" class=\"data row5 col1\" >27861.3533</td>\n",
       "      <td id=\"T_44a19_row5_col2\" class=\"data row5 col2\" >2036059508.0529</td>\n",
       "      <td id=\"T_44a19_row5_col3\" class=\"data row5 col3\" >44280.1915</td>\n",
       "      <td id=\"T_44a19_row5_col4\" class=\"data row5 col4\" >0.6921</td>\n",
       "      <td id=\"T_44a19_row5_col5\" class=\"data row5 col5\" >0.2220</td>\n",
       "      <td id=\"T_44a19_row5_col6\" class=\"data row5 col6\" >0.1603</td>\n",
       "      <td id=\"T_44a19_row5_col7\" class=\"data row5 col7\" >0.3620</td>\n",
       "    </tr>\n",
       "    <tr>\n",
       "      <th id=\"T_44a19_level0_row6\" class=\"row_heading level0 row6\" >knn</th>\n",
       "      <td id=\"T_44a19_row6_col0\" class=\"data row6 col0\" >K Neighbors Regressor</td>\n",
       "      <td id=\"T_44a19_row6_col1\" class=\"data row6 col1\" >31414.7438</td>\n",
       "      <td id=\"T_44a19_row6_col2\" class=\"data row6 col2\" >2408383648.3254</td>\n",
       "      <td id=\"T_44a19_row6_col3\" class=\"data row6 col3\" >48373.9598</td>\n",
       "      <td id=\"T_44a19_row6_col4\" class=\"data row6 col4\" >0.6336</td>\n",
       "      <td id=\"T_44a19_row6_col5\" class=\"data row6 col5\" >0.2356</td>\n",
       "      <td id=\"T_44a19_row6_col6\" class=\"data row6 col6\" >0.1798</td>\n",
       "      <td id=\"T_44a19_row6_col7\" class=\"data row6 col7\" >0.3760</td>\n",
       "    </tr>\n",
       "    <tr>\n",
       "      <th id=\"T_44a19_level0_row7\" class=\"row_heading level0 row7\" >dummy</th>\n",
       "      <td id=\"T_44a19_row7_col0\" class=\"data row7 col0\" >Dummy Regressor</td>\n",
       "      <td id=\"T_44a19_row7_col1\" class=\"data row7 col1\" >56215.4821</td>\n",
       "      <td id=\"T_44a19_row7_col2\" class=\"data row7 col2\" >6807981247.1675</td>\n",
       "      <td id=\"T_44a19_row7_col3\" class=\"data row7 col3\" >81902.4960</td>\n",
       "      <td id=\"T_44a19_row7_col4\" class=\"data row7 col4\" >-0.0419</td>\n",
       "      <td id=\"T_44a19_row7_col5\" class=\"data row7 col5\" >0.4058</td>\n",
       "      <td id=\"T_44a19_row7_col6\" class=\"data row7 col6\" >0.3279</td>\n",
       "      <td id=\"T_44a19_row7_col7\" class=\"data row7 col7\" >0.3350</td>\n",
       "    </tr>\n",
       "    <tr>\n",
       "      <th id=\"T_44a19_level0_row8\" class=\"row_heading level0 row8\" >br</th>\n",
       "      <td id=\"T_44a19_row8_col0\" class=\"data row8 col0\" >Bayesian Ridge</td>\n",
       "      <td id=\"T_44a19_row8_col1\" class=\"data row8 col1\" >19740.0895</td>\n",
       "      <td id=\"T_44a19_row8_col2\" class=\"data row8 col2\" >8453507506.8693</td>\n",
       "      <td id=\"T_44a19_row8_col3\" class=\"data row8 col3\" >55153.4783</td>\n",
       "      <td id=\"T_44a19_row8_col4\" class=\"data row8 col4\" >-0.2565</td>\n",
       "      <td id=\"T_44a19_row8_col5\" class=\"data row8 col5\" >0.1584</td>\n",
       "      <td id=\"T_44a19_row8_col6\" class=\"data row8 col6\" >0.1143</td>\n",
       "      <td id=\"T_44a19_row8_col7\" class=\"data row8 col7\" >0.4060</td>\n",
       "    </tr>\n",
       "    <tr>\n",
       "      <th id=\"T_44a19_level0_row9\" class=\"row_heading level0 row9\" >ridge</th>\n",
       "      <td id=\"T_44a19_row9_col0\" class=\"data row9 col0\" >Ridge Regression</td>\n",
       "      <td id=\"T_44a19_row9_col1\" class=\"data row9 col1\" >20087.8355</td>\n",
       "      <td id=\"T_44a19_row9_col2\" class=\"data row9 col2\" >9250155922.0150</td>\n",
       "      <td id=\"T_44a19_row9_col3\" class=\"data row9 col3\" >56507.1839</td>\n",
       "      <td id=\"T_44a19_row9_col4\" class=\"data row9 col4\" >-0.3793</td>\n",
       "      <td id=\"T_44a19_row9_col5\" class=\"data row9 col5\" >0.1656</td>\n",
       "      <td id=\"T_44a19_row9_col6\" class=\"data row9 col6\" >0.1181</td>\n",
       "      <td id=\"T_44a19_row9_col7\" class=\"data row9 col7\" >0.3650</td>\n",
       "    </tr>\n",
       "    <tr>\n",
       "      <th id=\"T_44a19_level0_row10\" class=\"row_heading level0 row10\" >omp</th>\n",
       "      <td id=\"T_44a19_row10_col0\" class=\"data row10 col0\" >Orthogonal Matching Pursuit</td>\n",
       "      <td id=\"T_44a19_row10_col1\" class=\"data row10 col1\" >23772.5274</td>\n",
       "      <td id=\"T_44a19_row10_col2\" class=\"data row10 col2\" >23767798914.3456</td>\n",
       "      <td id=\"T_44a19_row10_col3\" class=\"data row10 col3\" >79068.3964</td>\n",
       "      <td id=\"T_44a19_row10_col4\" class=\"data row10 col4\" >-2.5354</td>\n",
       "      <td id=\"T_44a19_row10_col5\" class=\"data row10 col5\" >0.1791</td>\n",
       "      <td id=\"T_44a19_row10_col6\" class=\"data row10 col6\" >0.1391</td>\n",
       "      <td id=\"T_44a19_row10_col7\" class=\"data row10 col7\" >0.3510</td>\n",
       "    </tr>\n",
       "    <tr>\n",
       "      <th id=\"T_44a19_level0_row11\" class=\"row_heading level0 row11\" >huber</th>\n",
       "      <td id=\"T_44a19_row11_col0\" class=\"data row11 col0\" >Huber Regressor</td>\n",
       "      <td id=\"T_44a19_row11_col1\" class=\"data row11 col1\" >31808.0432</td>\n",
       "      <td id=\"T_44a19_row11_col2\" class=\"data row11 col2\" >59515726846.0710</td>\n",
       "      <td id=\"T_44a19_row11_col3\" class=\"data row11 col3\" >117727.2621</td>\n",
       "      <td id=\"T_44a19_row11_col4\" class=\"data row11 col4\" >-7.8383</td>\n",
       "      <td id=\"T_44a19_row11_col5\" class=\"data row11 col5\" >0.2169</td>\n",
       "      <td id=\"T_44a19_row11_col6\" class=\"data row11 col6\" >0.1859</td>\n",
       "      <td id=\"T_44a19_row11_col7\" class=\"data row11 col7\" >0.5140</td>\n",
       "    </tr>\n",
       "    <tr>\n",
       "      <th id=\"T_44a19_level0_row12\" class=\"row_heading level0 row12\" >en</th>\n",
       "      <td id=\"T_44a19_row12_col0\" class=\"data row12 col0\" >Elastic Net</td>\n",
       "      <td id=\"T_44a19_row12_col1\" class=\"data row12 col1\" >35186.3122</td>\n",
       "      <td id=\"T_44a19_row12_col2\" class=\"data row12 col2\" >112381698893.3362</td>\n",
       "      <td id=\"T_44a19_row12_col3\" class=\"data row12 col3\" >143524.5830</td>\n",
       "      <td id=\"T_44a19_row12_col4\" class=\"data row12 col4\" >-15.7602</td>\n",
       "      <td id=\"T_44a19_row12_col5\" class=\"data row12 col5\" >0.2225</td>\n",
       "      <td id=\"T_44a19_row12_col6\" class=\"data row12 col6\" >0.2093</td>\n",
       "      <td id=\"T_44a19_row12_col7\" class=\"data row12 col7\" >0.3940</td>\n",
       "    </tr>\n",
       "    <tr>\n",
       "      <th id=\"T_44a19_level0_row13\" class=\"row_heading level0 row13\" >llar</th>\n",
       "      <td id=\"T_44a19_row13_col0\" class=\"data row13 col0\" >Lasso Least Angle Regression</td>\n",
       "      <td id=\"T_44a19_row13_col1\" class=\"data row13 col1\" >41485.9621</td>\n",
       "      <td id=\"T_44a19_row13_col2\" class=\"data row13 col2\" >178406058867.5594</td>\n",
       "      <td id=\"T_44a19_row13_col3\" class=\"data row13 col3\" >174187.8595</td>\n",
       "      <td id=\"T_44a19_row13_col4\" class=\"data row13 col4\" >-25.6159</td>\n",
       "      <td id=\"T_44a19_row13_col5\" class=\"data row13 col5\" >0.2421</td>\n",
       "      <td id=\"T_44a19_row13_col6\" class=\"data row13 col6\" >0.2476</td>\n",
       "      <td id=\"T_44a19_row13_col7\" class=\"data row13 col7\" >0.3610</td>\n",
       "    </tr>\n",
       "    <tr>\n",
       "      <th id=\"T_44a19_level0_row14\" class=\"row_heading level0 row14\" >lasso</th>\n",
       "      <td id=\"T_44a19_row14_col0\" class=\"data row14 col0\" >Lasso Regression</td>\n",
       "      <td id=\"T_44a19_row14_col1\" class=\"data row14 col1\" >41487.4555</td>\n",
       "      <td id=\"T_44a19_row14_col2\" class=\"data row14 col2\" >178453711320.2719</td>\n",
       "      <td id=\"T_44a19_row14_col3\" class=\"data row14 col3\" >174206.4417</td>\n",
       "      <td id=\"T_44a19_row14_col4\" class=\"data row14 col4\" >-25.6230</td>\n",
       "      <td id=\"T_44a19_row14_col5\" class=\"data row14 col5\" >0.2421</td>\n",
       "      <td id=\"T_44a19_row14_col6\" class=\"data row14 col6\" >0.2476</td>\n",
       "      <td id=\"T_44a19_row14_col7\" class=\"data row14 col7\" >0.3530</td>\n",
       "    </tr>\n",
       "    <tr>\n",
       "      <th id=\"T_44a19_level0_row15\" class=\"row_heading level0 row15\" >par</th>\n",
       "      <td id=\"T_44a19_row15_col0\" class=\"data row15 col0\" >Passive Aggressive Regressor</td>\n",
       "      <td id=\"T_44a19_row15_col1\" class=\"data row15 col1\" >155435.2762</td>\n",
       "      <td id=\"T_44a19_row15_col2\" class=\"data row15 col2\" >10611880621901.3965</td>\n",
       "      <td id=\"T_44a19_row15_col3\" class=\"data row15 col3\" >1300805.0288</td>\n",
       "      <td id=\"T_44a19_row15_col4\" class=\"data row15 col4\" >-1569.9246</td>\n",
       "      <td id=\"T_44a19_row15_col5\" class=\"data row15 col5\" >0.2925</td>\n",
       "      <td id=\"T_44a19_row15_col6\" class=\"data row15 col6\" >0.8650</td>\n",
       "      <td id=\"T_44a19_row15_col7\" class=\"data row15 col7\" >0.3790</td>\n",
       "    </tr>\n",
       "  </tbody>\n",
       "</table>\n"
      ],
      "text/plain": [
       "<pandas.io.formats.style.Styler at 0x1d327dd5290>"
      ]
     },
     "metadata": {},
     "output_type": "display_data"
    },
    {
     "data": {
      "text/html": [],
      "text/plain": [
       "<IPython.core.display.HTML object>"
      ]
     },
     "metadata": {},
     "output_type": "display_data"
    }
   ],
   "source": [
    "model = compare_models()"
   ]
  },
  {
   "cell_type": "markdown",
   "id": "e963f6a6",
   "metadata": {},
   "source": [
    "R2 score got a bit worse, but that's not necessarily a bad thing. The ultimate goal is not JUST the best model, but a model that reflects reality and is suited to our needs. "
   ]
  },
  {
   "cell_type": "code",
   "execution_count": 20,
   "id": "3b96411a",
   "metadata": {},
   "outputs": [
    {
     "data": {
      "application/vnd.plotly.v1+json": {
       "config": {
        "plotlyServerURL": "https://plot.ly"
       },
       "data": [
        {
         "bingroup": "y",
         "histfunc": "sum",
         "hovertemplate": "sum of x=%{x}<br>y=%{y}<extra></extra>",
         "legendgroup": "",
         "marker": {
          "color": "#636efa",
          "pattern": {
           "shape": ""
          }
         },
         "name": "",
         "orientation": "h",
         "showlegend": false,
         "type": "histogram",
         "x": {
          "bdata": "djTL6va/QD8OGQaK+P01P7ZM5QGsu2Q/AAAAAAAAAAALwm36xJCFP+opeUuvl3E/4rGd2fTsHT/1sTq5zONHP6u5KFud7oo/AAAAAAAAAAAAAAAAAAAAAPf482zrg3U+h4j4irLYUT+PG8uN3hIRPwAAAAAAAAAAAAAAAAAAAAD/zXo3hI8DP+1Cq0pzfSE/JBkOX/Nt7j4AAAAAAAAAAA9A5RGyBhM/AAAAAAAAAAB8hFGz8WL1PgAAAAAAAAAAAAAAAAAAAAAAAAAAAAAAAAAAAAAAAAAAAAAAAAAAAAAkY6MzSvcwPzFpTK+Llhw/AAAAAAAAAAAAAAAAAAAAAEuQkuWochY/c3HuQCu0Fz8pG/1belQ0PwAAAAAAAAAAWj9jc2YyPT8AAAAAAAAAAAAAAAAAAAAAAAAAAAAAAAAAAAAAAAAAAAAAAAAAAAAAAAAAAAAAAAAEb3tzFellP2O2b+FL2lI/ZGAK021JNz9e0Z7LsavMPgAAAAAAAAAAAAAAAAAAAAAAAAAAAAAAAOyMtCjGvTA/AAAAAAAAAAAV1LGs9joEP1cGNJu5Cy4/AAAAAAAAAADwa3NhmCcCPwAAAAAAAAAAAAAAAAAAAAClPp8A8qJRPwAAAAAAAAAAAAAAAAAAAAAAAAAAAAAAAP8D3Cw1rAw/AAAAAAAAAAAAAAAAAAAAAAAAAAAAAAAAAAAAAAAAAAAAAAAAAAAAAAAAAAAAAAAAAAAAAAAAAACwMvfShu45PwAAAAAAAAAAqxtu8cSDBz8JxrOOBoTkPgAAAAAAAAAAUbQ331gxCz8Yfgnf820mP6lKJxqTMD0/AAAAAAAAAAAIT9YvhrELPwAAAAAAAAAAAAAAAAAAAAAAAAAAAAAAAIUKa06iuN4/HJU5u7oTkj+lzDjIJAihP8NZe657u4I/j6LN30mD6T4AAAAAAAAAAAAAAAAAAAAAAAAAAAAAAABUhj8IzVDWPgAAAAAAAAAAWA1SByNHtj4AAAAAAAAAAAAAAAAAAAAAAAAAAAAAAAAAAAAAAAAAAGmY7OhA1ro+AAAAAAAAAABhzVJV32AWPwAAAAAAAAAAarUOnYsAAT8AAAAAAAAAAAo7y2Jtaxk/AAAAAAAAAAD/WG5EBKxJPw/Gk2l6ZQ8/3zSpkEvXGD8AAAAAAAAAAAAAAAAAAAAAAAAAAAAAAAAAAAAAAAAAAAAAAAAAAAAAZ1RzQrseuj6otoCL1HoFPwAAAAAAAAAAAAAAAAAAAADbDr/DCIMRPwAAAAAAAAAAAAAAAAAAAAAAAAAAAAAAAEQyh0GU5BI/AAAAAAAAAAAAAAAAAAAAAAAAAAAAAAAAXW+9+gPmAz8AAAAAAAAAAAAAAAAAAAAAAAAAAAAAAADjnTpj7JGlPgAAAAAAAAAAU0Jckb8rKT/2HW9SsjptPwAAAAAAAAAAAAAAAAAAAAAAAAAAAAAAAAAAAAAAAAAAtzL673jfNz8AAAAAAAAAAAAAAAAAAAAAAAAAAAAAAAAAAAAAAAAAAAAAAAAAAAAA95cEyCYCLj8AAAAAAAAAAAAAAAAAAAAAAAAAAAAAAAAAAAAAAAAAALAQCeqLiFU/AIavuJrCcT9fqa627JslPwCY2EZaXDQ/AAAAAAAAAAAAAAAAAAAAAC1Ge0XShic/RWrcNyTHYj+PC3SvJUNQPwAAAAAAAAAAAAAAAAAAAADlrF1ZFSTePh1HbxkCxTI/AAAAAAAAAACAy/A960FbPwEeiYR3sco+AAAAAAAAAABgQ83I+1CcPwAAAAAAAAAAAAAAAAAAAADDnUuaG0oYPwAAAAAAAAAAuGriQ6KdDT8AAAAAAAAAAL1qR3BbOUI/J9eXUsEBJz9tNunzpU6tPwAAAAAAAAAAAAAAAAAAAAAAAAAAAAAAAAAAAAAAAAAAAAAAAAAAAACDhKrl4N3xPhXACKaKqis/AAAAAAAAAAAbfNjamQo1PwAAAAAAAAAAPdiarAZikD+9Yu63tUIePwAAAAAAAAAAMBz3WJrSBD8AAAAAAAAAAAAAAAAAAAAAN63pBocakT/4bqY/4VSAPyxKZTgU/yM/i1A9pYhRwz+72Z9/F6hSP3MtXVwGJSU/p8OcV5FWdz8AAAAAAAAAAAAAAAAAAAAAAAAAAAAAAAAAAAAAAAAAANSh60KCCW8/AAAAAAAAAAB/OpkayMJNP0WCUv8+tAQ/op69V8WPAT8Srk9KtII4PwAAAAAAAAAAAAAAAAAAAAAAAAAAAAAAALvMawzmsFc/VtpWNQd6gz8AAAAAAAAAAAAAAAAAAAAAAAAAAAAAAABQBL5iEnzOPgAAAAAAAAAACZ1/oEj4Yz8jsv7snWdhP1uTg6BEIwE/AAAAAAAAAAAAAAAAAAAAAAAAAAAAAAAAVkt++Mv1aT8mOOwj3QWbPwAAAAAAAAAAAAAAAAAAAACmWf27yr+iPxibTaPWDZA/AAAAAAAAAAAAAAAAAAAAAAAAAAAAAAAAAAAAAAAAAAAAAAAAAAAAAAAAAAAAAAAAoi8V3q3RBj8AAAAAAAAAAAAAAAAAAAAAAAAAAAAAAACQ6YSkLmIvPwAAAAAAAAAANjxPHC09HD9kIm/LLU5UP0/j8ialaGw/g4m1LJ5nSj8AAAAAAAAAAMkKvH/7K1I/vp3Ha/cBRj8AAAAAAAAAAAAAAAAAAAAAAAAAAAAAAAAAAAAAAAAAAAAAAAAAAAAAAAAAAAAAAAAAAAAAAAAAAAAAAAAAAAAAAAAAAAAAAAAAAAAAAAAAANRWr6D2NS8/a2kGDFTOQD8KpOGJHUgsP+oWMmkfky4/UHmKMf0MPj8AAAAAAAAAAAAAAAAAAAAAAAAAAAAAAAAAAAAAAAAAAAAAAAAAAAAAAAAAAAAAAAAAAAAAAAAAAGUlN4u/A0M/PHr3OzEfVT8dOY/EL3I8P6n7V8Y44VM/AAAAAAAAAAAAAAAAAAAAAA==",
          "dtype": "f8"
         },
         "xaxis": "x",
         "y": [
          "Id",
          "MSSubClass",
          "MSZoning_RL",
          "MSZoning_FV",
          "MSZoning_C (all)",
          "MSZoning_RM",
          "MSZoning_RH",
          "LotFrontage",
          "LotArea",
          "Street",
          "Alley",
          "LotShape_IR1",
          "LotShape_Reg",
          "LotShape_IR2",
          "LotShape_IR3",
          "LandContour_Lvl",
          "LandContour_HLS",
          "LandContour_Bnk",
          "LandContour_Low",
          "Utilities",
          "LotConfig_Inside",
          "LotConfig_FR2",
          "LotConfig_Corner",
          "LotConfig_CulDSac",
          "LotConfig_FR3",
          "LandSlope_Gtl",
          "LandSlope_Mod",
          "LandSlope_Sev",
          "Neighborhood_BrkSide",
          "Neighborhood_Sawyer",
          "Neighborhood_NAmes",
          "Neighborhood_CollgCr",
          "Neighborhood_NridgHt",
          "Neighborhood_Somerst",
          "Neighborhood_StoneBr",
          "Neighborhood_Gilbert",
          "Neighborhood_ClearCr",
          "Neighborhood_IDOTRR",
          "Neighborhood_Blmngtn",
          "Neighborhood_BrDale",
          "Neighborhood_Timber",
          "Neighborhood_SWISU",
          "Neighborhood_NWAmes",
          "Neighborhood_Crawfor",
          "Neighborhood_Edwards",
          "Neighborhood_OldTown",
          "Neighborhood_SawyerW",
          "Neighborhood_Blueste",
          "Neighborhood_NoRidge",
          "Neighborhood_NPkVill",
          "Neighborhood_Mitchel",
          "Neighborhood_MeadowV",
          "Neighborhood_Veenker",
          "Condition1_Norm",
          "Condition1_Feedr",
          "Condition1_PosN",
          "Condition1_RRAe",
          "Condition1_RRAn",
          "Condition1_Artery",
          "Condition1_RRNn",
          "Condition1_RRNe",
          "Condition1_PosA",
          "Condition2_Norm",
          "Condition2_PosN",
          "Condition2_Artery",
          "Condition2_RRNn",
          "Condition2_Feedr",
          "Condition2_PosA",
          "Condition2_RRAe",
          "Condition2_RRAn",
          "BldgType_1Fam",
          "BldgType_Twnhs",
          "BldgType_Duplex",
          "BldgType_TwnhsE",
          "BldgType_2fmCon",
          "HouseStyle_1Story",
          "HouseStyle_2Story",
          "HouseStyle_1.5Fin",
          "HouseStyle_1.5Unf",
          "HouseStyle_SLvl",
          "HouseStyle_2.5Fin",
          "HouseStyle_SFoyer",
          "HouseStyle_2.5Unf",
          "OverallQual",
          "OverallCond",
          "YearBuilt",
          "YearRemodAdd",
          "RoofStyle_Gable",
          "RoofStyle_Hip",
          "RoofStyle_Gambrel",
          "RoofStyle_Mansard",
          "RoofStyle_Flat",
          "RoofStyle_Shed",
          "RoofMatl_CompShg",
          "RoofMatl_Tar&Grv",
          "RoofMatl_WdShake",
          "RoofMatl_Roll",
          "RoofMatl_WdShngl",
          "RoofMatl_ClyTile",
          "RoofMatl_Membran",
          "Exterior1st_Wd Sdng",
          "Exterior1st_HdBoard",
          "Exterior1st_VinylSd",
          "Exterior1st_CemntBd",
          "Exterior1st_MetalSd",
          "Exterior1st_Stucco",
          "Exterior1st_BrkFace",
          "Exterior1st_Plywood",
          "Exterior1st_AsbShng",
          "Exterior1st_CBlock",
          "Exterior1st_WdShing",
          "Exterior1st_BrkComm",
          "Exterior1st_Stone",
          "Exterior2nd_Plywood",
          "Exterior2nd_HdBoard",
          "Exterior2nd_Wd Sdng",
          "Exterior2nd_VinylSd",
          "Exterior2nd_CmentBd",
          "Exterior2nd_MetalSd",
          "Exterior2nd_Stone",
          "Exterior2nd_BrkFace",
          "Exterior2nd_Stucco",
          "Exterior2nd_Wd Shng",
          "Exterior2nd_AsbShng",
          "Exterior2nd_CBlock",
          "Exterior2nd_Brk Cmn",
          "Exterior2nd_AsphShn",
          "Exterior2nd_ImStucc",
          "Exterior2nd_Other",
          "MasVnrType_BrkFace",
          "MasVnrType_Stone",
          "MasVnrType_BrkCmn",
          "MasVnrArea",
          "ExterQual_TA",
          "ExterQual_Gd",
          "ExterQual_Ex",
          "ExterQual_Fa",
          "ExterCond_Po",
          "ExterCond_TA",
          "ExterCond_Gd",
          "ExterCond_Fa",
          "ExterCond_Ex",
          "Foundation_CBlock",
          "Foundation_PConc",
          "Foundation_BrkTil",
          "Foundation_Slab",
          "Foundation_Stone",
          "Foundation_Wood",
          "BsmtQual_TA",
          "BsmtQual_Gd",
          "BsmtQual_Ex",
          "BsmtQual_Fa",
          "BsmtCond_TA",
          "BsmtCond_Gd",
          "BsmtCond_Po",
          "BsmtCond_Fa",
          "BsmtExposure_No",
          "BsmtExposure_Gd",
          "BsmtExposure_Mn",
          "BsmtExposure_Av",
          "BsmtFinType1_Unf",
          "BsmtFinType1_ALQ",
          "BsmtFinType1_Rec",
          "BsmtFinType1_GLQ",
          "BsmtFinType1_BLQ",
          "BsmtFinType1_LwQ",
          "BsmtFinSF1",
          "BsmtFinType2_Unf",
          "BsmtFinType2_BLQ",
          "BsmtFinType2_LwQ",
          "BsmtFinType2_GLQ",
          "BsmtFinType2_ALQ",
          "BsmtFinType2_Rec",
          "BsmtFinSF2",
          "BsmtUnfSF",
          "TotalBsmtSF",
          "Heating_GasA",
          "Heating_GasW",
          "Heating_OthW",
          "Heating_Wall",
          "Heating_Grav",
          "HeatingQC_Ex",
          "HeatingQC_TA",
          "HeatingQC_Gd",
          "HeatingQC_Fa",
          "HeatingQC_Po",
          "CentralAir",
          "Electrical_SBrkr",
          "Electrical_FuseF",
          "Electrical_FuseA",
          "Electrical_FuseP",
          "Electrical_Mix",
          "1stFlrSF",
          "2ndFlrSF",
          "LowQualFinSF",
          "GrLivArea",
          "BsmtFullBath",
          "BsmtHalfBath",
          "FullBath",
          "HalfBath",
          "BedroomAbvGr",
          "KitchenAbvGr",
          "KitchenQual_Fa",
          "KitchenQual_TA",
          "KitchenQual_Gd",
          "KitchenQual_Ex",
          "TotRmsAbvGrd",
          "Functional_Mod",
          "Functional_Typ",
          "Functional_Min2",
          "Functional_Min1",
          "Functional_Maj1",
          "Functional_Maj2",
          "Fireplaces",
          "FireplaceQu_Gd",
          "FireplaceQu_Fa",
          "FireplaceQu_TA",
          "FireplaceQu_Ex",
          "FireplaceQu_Po",
          "GarageType_Attchd",
          "GarageType_Detchd",
          "GarageType_BuiltIn",
          "GarageType_CarPort",
          "GarageType_Basment",
          "GarageType_2Types",
          "GarageYrBlt",
          "GarageFinish_Unf",
          "GarageFinish_RFn",
          "GarageFinish_Fin",
          "GarageCars",
          "GarageArea",
          "GarageQual_TA",
          "GarageQual_Fa",
          "GarageQual_Gd",
          "GarageQual_Ex",
          "GarageQual_Po",
          "GarageCond_TA",
          "GarageCond_Fa",
          "GarageCond_Gd",
          "GarageCond_Po",
          "GarageCond_Ex",
          "PavedDrive_Y",
          "PavedDrive_N",
          "PavedDrive_P",
          "WoodDeckSF",
          "OpenPorchSF",
          "EnclosedPorch",
          "3SsnPorch",
          "ScreenPorch",
          "PoolArea",
          "PoolQC_Ex",
          "PoolQC_Fa",
          "PoolQC_Gd",
          "Fence_GdWo",
          "Fence_MnPrv",
          "Fence_GdPrv",
          "Fence_MnWw",
          "MiscFeature_Shed",
          "MiscFeature_TenC",
          "MiscFeature_Gar2",
          "MiscVal",
          "MoSold",
          "YrSold",
          "SaleType_WD",
          "SaleType_New",
          "SaleType_ConLI",
          "SaleType_ConLD",
          "SaleType_COD",
          "SaleType_Con",
          "SaleType_CWD",
          "SaleType_ConLw",
          "SaleType_Oth",
          "SaleCondition_Normal",
          "SaleCondition_Abnorml",
          "SaleCondition_Partial",
          "SaleCondition_Family",
          "SaleCondition_Alloca",
          "SaleCondition_AdjLand"
         ],
         "yaxis": "y"
        }
       ],
       "layout": {
        "barmode": "relative",
        "height": 2000,
        "legend": {
         "tracegroupgap": 0
        },
        "margin": {
         "t": 60
        },
        "template": {
         "data": {
          "bar": [
           {
            "error_x": {
             "color": "#2a3f5f"
            },
            "error_y": {
             "color": "#2a3f5f"
            },
            "marker": {
             "line": {
              "color": "#E5ECF6",
              "width": 0.5
             },
             "pattern": {
              "fillmode": "overlay",
              "size": 10,
              "solidity": 0.2
             }
            },
            "type": "bar"
           }
          ],
          "barpolar": [
           {
            "marker": {
             "line": {
              "color": "#E5ECF6",
              "width": 0.5
             },
             "pattern": {
              "fillmode": "overlay",
              "size": 10,
              "solidity": 0.2
             }
            },
            "type": "barpolar"
           }
          ],
          "carpet": [
           {
            "aaxis": {
             "endlinecolor": "#2a3f5f",
             "gridcolor": "white",
             "linecolor": "white",
             "minorgridcolor": "white",
             "startlinecolor": "#2a3f5f"
            },
            "baxis": {
             "endlinecolor": "#2a3f5f",
             "gridcolor": "white",
             "linecolor": "white",
             "minorgridcolor": "white",
             "startlinecolor": "#2a3f5f"
            },
            "type": "carpet"
           }
          ],
          "choropleth": [
           {
            "colorbar": {
             "outlinewidth": 0,
             "ticks": ""
            },
            "type": "choropleth"
           }
          ],
          "contour": [
           {
            "colorbar": {
             "outlinewidth": 0,
             "ticks": ""
            },
            "colorscale": [
             [
              0,
              "#0d0887"
             ],
             [
              0.1111111111111111,
              "#46039f"
             ],
             [
              0.2222222222222222,
              "#7201a8"
             ],
             [
              0.3333333333333333,
              "#9c179e"
             ],
             [
              0.4444444444444444,
              "#bd3786"
             ],
             [
              0.5555555555555556,
              "#d8576b"
             ],
             [
              0.6666666666666666,
              "#ed7953"
             ],
             [
              0.7777777777777778,
              "#fb9f3a"
             ],
             [
              0.8888888888888888,
              "#fdca26"
             ],
             [
              1,
              "#f0f921"
             ]
            ],
            "type": "contour"
           }
          ],
          "contourcarpet": [
           {
            "colorbar": {
             "outlinewidth": 0,
             "ticks": ""
            },
            "type": "contourcarpet"
           }
          ],
          "heatmap": [
           {
            "colorbar": {
             "outlinewidth": 0,
             "ticks": ""
            },
            "colorscale": [
             [
              0,
              "#0d0887"
             ],
             [
              0.1111111111111111,
              "#46039f"
             ],
             [
              0.2222222222222222,
              "#7201a8"
             ],
             [
              0.3333333333333333,
              "#9c179e"
             ],
             [
              0.4444444444444444,
              "#bd3786"
             ],
             [
              0.5555555555555556,
              "#d8576b"
             ],
             [
              0.6666666666666666,
              "#ed7953"
             ],
             [
              0.7777777777777778,
              "#fb9f3a"
             ],
             [
              0.8888888888888888,
              "#fdca26"
             ],
             [
              1,
              "#f0f921"
             ]
            ],
            "type": "heatmap"
           }
          ],
          "histogram": [
           {
            "marker": {
             "pattern": {
              "fillmode": "overlay",
              "size": 10,
              "solidity": 0.2
             }
            },
            "type": "histogram"
           }
          ],
          "histogram2d": [
           {
            "colorbar": {
             "outlinewidth": 0,
             "ticks": ""
            },
            "colorscale": [
             [
              0,
              "#0d0887"
             ],
             [
              0.1111111111111111,
              "#46039f"
             ],
             [
              0.2222222222222222,
              "#7201a8"
             ],
             [
              0.3333333333333333,
              "#9c179e"
             ],
             [
              0.4444444444444444,
              "#bd3786"
             ],
             [
              0.5555555555555556,
              "#d8576b"
             ],
             [
              0.6666666666666666,
              "#ed7953"
             ],
             [
              0.7777777777777778,
              "#fb9f3a"
             ],
             [
              0.8888888888888888,
              "#fdca26"
             ],
             [
              1,
              "#f0f921"
             ]
            ],
            "type": "histogram2d"
           }
          ],
          "histogram2dcontour": [
           {
            "colorbar": {
             "outlinewidth": 0,
             "ticks": ""
            },
            "colorscale": [
             [
              0,
              "#0d0887"
             ],
             [
              0.1111111111111111,
              "#46039f"
             ],
             [
              0.2222222222222222,
              "#7201a8"
             ],
             [
              0.3333333333333333,
              "#9c179e"
             ],
             [
              0.4444444444444444,
              "#bd3786"
             ],
             [
              0.5555555555555556,
              "#d8576b"
             ],
             [
              0.6666666666666666,
              "#ed7953"
             ],
             [
              0.7777777777777778,
              "#fb9f3a"
             ],
             [
              0.8888888888888888,
              "#fdca26"
             ],
             [
              1,
              "#f0f921"
             ]
            ],
            "type": "histogram2dcontour"
           }
          ],
          "mesh3d": [
           {
            "colorbar": {
             "outlinewidth": 0,
             "ticks": ""
            },
            "type": "mesh3d"
           }
          ],
          "parcoords": [
           {
            "line": {
             "colorbar": {
              "outlinewidth": 0,
              "ticks": ""
             }
            },
            "type": "parcoords"
           }
          ],
          "pie": [
           {
            "automargin": true,
            "type": "pie"
           }
          ],
          "scatter": [
           {
            "fillpattern": {
             "fillmode": "overlay",
             "size": 10,
             "solidity": 0.2
            },
            "type": "scatter"
           }
          ],
          "scatter3d": [
           {
            "line": {
             "colorbar": {
              "outlinewidth": 0,
              "ticks": ""
             }
            },
            "marker": {
             "colorbar": {
              "outlinewidth": 0,
              "ticks": ""
             }
            },
            "type": "scatter3d"
           }
          ],
          "scattercarpet": [
           {
            "marker": {
             "colorbar": {
              "outlinewidth": 0,
              "ticks": ""
             }
            },
            "type": "scattercarpet"
           }
          ],
          "scattergeo": [
           {
            "marker": {
             "colorbar": {
              "outlinewidth": 0,
              "ticks": ""
             }
            },
            "type": "scattergeo"
           }
          ],
          "scattergl": [
           {
            "marker": {
             "colorbar": {
              "outlinewidth": 0,
              "ticks": ""
             }
            },
            "type": "scattergl"
           }
          ],
          "scattermap": [
           {
            "marker": {
             "colorbar": {
              "outlinewidth": 0,
              "ticks": ""
             }
            },
            "type": "scattermap"
           }
          ],
          "scattermapbox": [
           {
            "marker": {
             "colorbar": {
              "outlinewidth": 0,
              "ticks": ""
             }
            },
            "type": "scattermapbox"
           }
          ],
          "scatterpolar": [
           {
            "marker": {
             "colorbar": {
              "outlinewidth": 0,
              "ticks": ""
             }
            },
            "type": "scatterpolar"
           }
          ],
          "scatterpolargl": [
           {
            "marker": {
             "colorbar": {
              "outlinewidth": 0,
              "ticks": ""
             }
            },
            "type": "scatterpolargl"
           }
          ],
          "scatterternary": [
           {
            "marker": {
             "colorbar": {
              "outlinewidth": 0,
              "ticks": ""
             }
            },
            "type": "scatterternary"
           }
          ],
          "surface": [
           {
            "colorbar": {
             "outlinewidth": 0,
             "ticks": ""
            },
            "colorscale": [
             [
              0,
              "#0d0887"
             ],
             [
              0.1111111111111111,
              "#46039f"
             ],
             [
              0.2222222222222222,
              "#7201a8"
             ],
             [
              0.3333333333333333,
              "#9c179e"
             ],
             [
              0.4444444444444444,
              "#bd3786"
             ],
             [
              0.5555555555555556,
              "#d8576b"
             ],
             [
              0.6666666666666666,
              "#ed7953"
             ],
             [
              0.7777777777777778,
              "#fb9f3a"
             ],
             [
              0.8888888888888888,
              "#fdca26"
             ],
             [
              1,
              "#f0f921"
             ]
            ],
            "type": "surface"
           }
          ],
          "table": [
           {
            "cells": {
             "fill": {
              "color": "#EBF0F8"
             },
             "line": {
              "color": "white"
             }
            },
            "header": {
             "fill": {
              "color": "#C8D4E3"
             },
             "line": {
              "color": "white"
             }
            },
            "type": "table"
           }
          ]
         },
         "layout": {
          "annotationdefaults": {
           "arrowcolor": "#2a3f5f",
           "arrowhead": 0,
           "arrowwidth": 1
          },
          "autotypenumbers": "strict",
          "coloraxis": {
           "colorbar": {
            "outlinewidth": 0,
            "ticks": ""
           }
          },
          "colorscale": {
           "diverging": [
            [
             0,
             "#8e0152"
            ],
            [
             0.1,
             "#c51b7d"
            ],
            [
             0.2,
             "#de77ae"
            ],
            [
             0.3,
             "#f1b6da"
            ],
            [
             0.4,
             "#fde0ef"
            ],
            [
             0.5,
             "#f7f7f7"
            ],
            [
             0.6,
             "#e6f5d0"
            ],
            [
             0.7,
             "#b8e186"
            ],
            [
             0.8,
             "#7fbc41"
            ],
            [
             0.9,
             "#4d9221"
            ],
            [
             1,
             "#276419"
            ]
           ],
           "sequential": [
            [
             0,
             "#0d0887"
            ],
            [
             0.1111111111111111,
             "#46039f"
            ],
            [
             0.2222222222222222,
             "#7201a8"
            ],
            [
             0.3333333333333333,
             "#9c179e"
            ],
            [
             0.4444444444444444,
             "#bd3786"
            ],
            [
             0.5555555555555556,
             "#d8576b"
            ],
            [
             0.6666666666666666,
             "#ed7953"
            ],
            [
             0.7777777777777778,
             "#fb9f3a"
            ],
            [
             0.8888888888888888,
             "#fdca26"
            ],
            [
             1,
             "#f0f921"
            ]
           ],
           "sequentialminus": [
            [
             0,
             "#0d0887"
            ],
            [
             0.1111111111111111,
             "#46039f"
            ],
            [
             0.2222222222222222,
             "#7201a8"
            ],
            [
             0.3333333333333333,
             "#9c179e"
            ],
            [
             0.4444444444444444,
             "#bd3786"
            ],
            [
             0.5555555555555556,
             "#d8576b"
            ],
            [
             0.6666666666666666,
             "#ed7953"
            ],
            [
             0.7777777777777778,
             "#fb9f3a"
            ],
            [
             0.8888888888888888,
             "#fdca26"
            ],
            [
             1,
             "#f0f921"
            ]
           ]
          },
          "colorway": [
           "#636efa",
           "#EF553B",
           "#00cc96",
           "#ab63fa",
           "#FFA15A",
           "#19d3f3",
           "#FF6692",
           "#B6E880",
           "#FF97FF",
           "#FECB52"
          ],
          "font": {
           "color": "#2a3f5f"
          },
          "geo": {
           "bgcolor": "white",
           "lakecolor": "white",
           "landcolor": "#E5ECF6",
           "showlakes": true,
           "showland": true,
           "subunitcolor": "white"
          },
          "hoverlabel": {
           "align": "left"
          },
          "hovermode": "closest",
          "mapbox": {
           "style": "light"
          },
          "paper_bgcolor": "white",
          "plot_bgcolor": "#E5ECF6",
          "polar": {
           "angularaxis": {
            "gridcolor": "white",
            "linecolor": "white",
            "ticks": ""
           },
           "bgcolor": "#E5ECF6",
           "radialaxis": {
            "gridcolor": "white",
            "linecolor": "white",
            "ticks": ""
           }
          },
          "scene": {
           "xaxis": {
            "backgroundcolor": "#E5ECF6",
            "gridcolor": "white",
            "gridwidth": 2,
            "linecolor": "white",
            "showbackground": true,
            "ticks": "",
            "zerolinecolor": "white"
           },
           "yaxis": {
            "backgroundcolor": "#E5ECF6",
            "gridcolor": "white",
            "gridwidth": 2,
            "linecolor": "white",
            "showbackground": true,
            "ticks": "",
            "zerolinecolor": "white"
           },
           "zaxis": {
            "backgroundcolor": "#E5ECF6",
            "gridcolor": "white",
            "gridwidth": 2,
            "linecolor": "white",
            "showbackground": true,
            "ticks": "",
            "zerolinecolor": "white"
           }
          },
          "shapedefaults": {
           "line": {
            "color": "#2a3f5f"
           }
          },
          "ternary": {
           "aaxis": {
            "gridcolor": "white",
            "linecolor": "white",
            "ticks": ""
           },
           "baxis": {
            "gridcolor": "white",
            "linecolor": "white",
            "ticks": ""
           },
           "bgcolor": "#E5ECF6",
           "caxis": {
            "gridcolor": "white",
            "linecolor": "white",
            "ticks": ""
           }
          },
          "title": {
           "x": 0.05
          },
          "xaxis": {
           "automargin": true,
           "gridcolor": "white",
           "linecolor": "white",
           "ticks": "",
           "title": {
            "standoff": 15
           },
           "zerolinecolor": "white",
           "zerolinewidth": 2
          },
          "yaxis": {
           "automargin": true,
           "gridcolor": "white",
           "linecolor": "white",
           "ticks": "",
           "title": {
            "standoff": 15
           },
           "zerolinecolor": "white",
           "zerolinewidth": 2
          }
         }
        },
        "xaxis": {
         "anchor": "y",
         "domain": [
          0,
          1
         ],
         "title": {
          "text": "sum of x"
         }
        },
        "yaxis": {
         "anchor": "x",
         "categoryorder": "total ascending",
         "domain": [
          0,
          1
         ],
         "title": {
          "text": "y"
         }
        }
       }
      }
     },
     "metadata": {},
     "output_type": "display_data"
    }
   ],
   "source": [
    "px.histogram(x=model.feature_importances_, y=model.feature_names_in_).update_yaxes(categoryorder='total ascending').update_layout(height=2_000)"
   ]
  },
  {
   "cell_type": "markdown",
   "id": "249e46d9",
   "metadata": {},
   "source": [
    "Top features are mostly the same, wih some orders shifted."
   ]
  },
  {
   "cell_type": "markdown",
   "id": "97d857bd",
   "metadata": {},
   "source": [
    "## <a id='toc1_3_'></a>[Choose top 10 features](#toc0_)"
   ]
  },
  {
   "cell_type": "markdown",
   "id": "651f0077",
   "metadata": {},
   "source": [
    "Although this is a Kaggle competition, in real-life you wouldn't collect data unless it has a palpable effect on the model. That's why the next question is: How good will the model be with just 10 features?"
   ]
  },
  {
   "cell_type": "code",
   "execution_count": 21,
   "id": "848b2ff0",
   "metadata": {},
   "outputs": [
    {
     "data": {
      "text/plain": [
       "['OverallQual',\n",
       " 'GrLivArea',\n",
       " 'TotalBsmtSF',\n",
       " 'GarageCars',\n",
       " 'YearBuilt',\n",
       " 'BsmtFinSF1',\n",
       " 'GarageFinish_Unf',\n",
       " 'OverallCond',\n",
       " '1stFlrSF',\n",
       " 'CentralAir']"
      ]
     },
     "execution_count": 21,
     "metadata": {},
     "output_type": "execute_result"
    }
   ],
   "source": [
    "features = pd.Series(model.feature_importances_, index=model.feature_names_in_)\n",
    "top_10_features = features.sort_values(ascending=False)[:10].index.to_list()\n",
    "top_10_features"
   ]
  },
  {
   "cell_type": "code",
   "execution_count": 26,
   "id": "5f664819",
   "metadata": {},
   "outputs": [],
   "source": [
    "top_10_original = ['OverallQual',\n",
    " 'GrLivArea',\n",
    " 'TotalBsmtSF',\n",
    " 'GarageCars',\n",
    " 'YearBuilt',\n",
    " 'BsmtFinSF1',\n",
    " 'GarageFinish',\n",
    " 'OverallCond',\n",
    " '1stFlrSF',\n",
    " 'CentralAir']"
   ]
  },
  {
   "cell_type": "code",
   "execution_count": 29,
   "id": "d9f030f5",
   "metadata": {},
   "outputs": [
    {
     "data": {
      "text/html": [
       "<style type=\"text/css\">\n",
       "#T_85961_row10_col1, #T_85961_row16_col1 {\n",
       "  background-color: lightgreen;\n",
       "}\n",
       "</style>\n",
       "<table id=\"T_85961\">\n",
       "  <thead>\n",
       "    <tr>\n",
       "      <th class=\"blank level0\" >&nbsp;</th>\n",
       "      <th id=\"T_85961_level0_col0\" class=\"col_heading level0 col0\" >Description</th>\n",
       "      <th id=\"T_85961_level0_col1\" class=\"col_heading level0 col1\" >Value</th>\n",
       "    </tr>\n",
       "  </thead>\n",
       "  <tbody>\n",
       "    <tr>\n",
       "      <th id=\"T_85961_level0_row0\" class=\"row_heading level0 row0\" >0</th>\n",
       "      <td id=\"T_85961_row0_col0\" class=\"data row0 col0\" >Session id</td>\n",
       "      <td id=\"T_85961_row0_col1\" class=\"data row0 col1\" >123</td>\n",
       "    </tr>\n",
       "    <tr>\n",
       "      <th id=\"T_85961_level0_row1\" class=\"row_heading level0 row1\" >1</th>\n",
       "      <td id=\"T_85961_row1_col0\" class=\"data row1 col0\" >Target</td>\n",
       "      <td id=\"T_85961_row1_col1\" class=\"data row1 col1\" >SalePrice</td>\n",
       "    </tr>\n",
       "    <tr>\n",
       "      <th id=\"T_85961_level0_row2\" class=\"row_heading level0 row2\" >2</th>\n",
       "      <td id=\"T_85961_row2_col0\" class=\"data row2 col0\" >Target type</td>\n",
       "      <td id=\"T_85961_row2_col1\" class=\"data row2 col1\" >Regression</td>\n",
       "    </tr>\n",
       "    <tr>\n",
       "      <th id=\"T_85961_level0_row3\" class=\"row_heading level0 row3\" >3</th>\n",
       "      <td id=\"T_85961_row3_col0\" class=\"data row3 col0\" >Original data shape</td>\n",
       "      <td id=\"T_85961_row3_col1\" class=\"data row3 col1\" >(1460, 11)</td>\n",
       "    </tr>\n",
       "    <tr>\n",
       "      <th id=\"T_85961_level0_row4\" class=\"row_heading level0 row4\" >4</th>\n",
       "      <td id=\"T_85961_row4_col0\" class=\"data row4 col0\" >Transformed data shape</td>\n",
       "      <td id=\"T_85961_row4_col1\" class=\"data row4 col1\" >(1460, 13)</td>\n",
       "    </tr>\n",
       "    <tr>\n",
       "      <th id=\"T_85961_level0_row5\" class=\"row_heading level0 row5\" >5</th>\n",
       "      <td id=\"T_85961_row5_col0\" class=\"data row5 col0\" >Transformed train set shape</td>\n",
       "      <td id=\"T_85961_row5_col1\" class=\"data row5 col1\" >(1021, 13)</td>\n",
       "    </tr>\n",
       "    <tr>\n",
       "      <th id=\"T_85961_level0_row6\" class=\"row_heading level0 row6\" >6</th>\n",
       "      <td id=\"T_85961_row6_col0\" class=\"data row6 col0\" >Transformed test set shape</td>\n",
       "      <td id=\"T_85961_row6_col1\" class=\"data row6 col1\" >(439, 13)</td>\n",
       "    </tr>\n",
       "    <tr>\n",
       "      <th id=\"T_85961_level0_row7\" class=\"row_heading level0 row7\" >7</th>\n",
       "      <td id=\"T_85961_row7_col0\" class=\"data row7 col0\" >Numeric features</td>\n",
       "      <td id=\"T_85961_row7_col1\" class=\"data row7 col1\" >8</td>\n",
       "    </tr>\n",
       "    <tr>\n",
       "      <th id=\"T_85961_level0_row8\" class=\"row_heading level0 row8\" >8</th>\n",
       "      <td id=\"T_85961_row8_col0\" class=\"data row8 col0\" >Categorical features</td>\n",
       "      <td id=\"T_85961_row8_col1\" class=\"data row8 col1\" >2</td>\n",
       "    </tr>\n",
       "    <tr>\n",
       "      <th id=\"T_85961_level0_row9\" class=\"row_heading level0 row9\" >9</th>\n",
       "      <td id=\"T_85961_row9_col0\" class=\"data row9 col0\" >Rows with missing values</td>\n",
       "      <td id=\"T_85961_row9_col1\" class=\"data row9 col1\" >5.5%</td>\n",
       "    </tr>\n",
       "    <tr>\n",
       "      <th id=\"T_85961_level0_row10\" class=\"row_heading level0 row10\" >10</th>\n",
       "      <td id=\"T_85961_row10_col0\" class=\"data row10 col0\" >Preprocess</td>\n",
       "      <td id=\"T_85961_row10_col1\" class=\"data row10 col1\" >True</td>\n",
       "    </tr>\n",
       "    <tr>\n",
       "      <th id=\"T_85961_level0_row11\" class=\"row_heading level0 row11\" >11</th>\n",
       "      <td id=\"T_85961_row11_col0\" class=\"data row11 col0\" >Imputation type</td>\n",
       "      <td id=\"T_85961_row11_col1\" class=\"data row11 col1\" >simple</td>\n",
       "    </tr>\n",
       "    <tr>\n",
       "      <th id=\"T_85961_level0_row12\" class=\"row_heading level0 row12\" >12</th>\n",
       "      <td id=\"T_85961_row12_col0\" class=\"data row12 col0\" >Numeric imputation</td>\n",
       "      <td id=\"T_85961_row12_col1\" class=\"data row12 col1\" >mean</td>\n",
       "    </tr>\n",
       "    <tr>\n",
       "      <th id=\"T_85961_level0_row13\" class=\"row_heading level0 row13\" >13</th>\n",
       "      <td id=\"T_85961_row13_col0\" class=\"data row13 col0\" >Categorical imputation</td>\n",
       "      <td id=\"T_85961_row13_col1\" class=\"data row13 col1\" >mode</td>\n",
       "    </tr>\n",
       "    <tr>\n",
       "      <th id=\"T_85961_level0_row14\" class=\"row_heading level0 row14\" >14</th>\n",
       "      <td id=\"T_85961_row14_col0\" class=\"data row14 col0\" >Maximum one-hot encoding</td>\n",
       "      <td id=\"T_85961_row14_col1\" class=\"data row14 col1\" >25</td>\n",
       "    </tr>\n",
       "    <tr>\n",
       "      <th id=\"T_85961_level0_row15\" class=\"row_heading level0 row15\" >15</th>\n",
       "      <td id=\"T_85961_row15_col0\" class=\"data row15 col0\" >Encoding method</td>\n",
       "      <td id=\"T_85961_row15_col1\" class=\"data row15 col1\" >None</td>\n",
       "    </tr>\n",
       "    <tr>\n",
       "      <th id=\"T_85961_level0_row16\" class=\"row_heading level0 row16\" >16</th>\n",
       "      <td id=\"T_85961_row16_col0\" class=\"data row16 col0\" >Transform target</td>\n",
       "      <td id=\"T_85961_row16_col1\" class=\"data row16 col1\" >True</td>\n",
       "    </tr>\n",
       "    <tr>\n",
       "      <th id=\"T_85961_level0_row17\" class=\"row_heading level0 row17\" >17</th>\n",
       "      <td id=\"T_85961_row17_col0\" class=\"data row17 col0\" >Transform target method</td>\n",
       "      <td id=\"T_85961_row17_col1\" class=\"data row17 col1\" >yeo-johnson</td>\n",
       "    </tr>\n",
       "    <tr>\n",
       "      <th id=\"T_85961_level0_row18\" class=\"row_heading level0 row18\" >18</th>\n",
       "      <td id=\"T_85961_row18_col0\" class=\"data row18 col0\" >Fold Generator</td>\n",
       "      <td id=\"T_85961_row18_col1\" class=\"data row18 col1\" >KFold</td>\n",
       "    </tr>\n",
       "    <tr>\n",
       "      <th id=\"T_85961_level0_row19\" class=\"row_heading level0 row19\" >19</th>\n",
       "      <td id=\"T_85961_row19_col0\" class=\"data row19 col0\" >Fold Number</td>\n",
       "      <td id=\"T_85961_row19_col1\" class=\"data row19 col1\" >10</td>\n",
       "    </tr>\n",
       "    <tr>\n",
       "      <th id=\"T_85961_level0_row20\" class=\"row_heading level0 row20\" >20</th>\n",
       "      <td id=\"T_85961_row20_col0\" class=\"data row20 col0\" >CPU Jobs</td>\n",
       "      <td id=\"T_85961_row20_col1\" class=\"data row20 col1\" >-1</td>\n",
       "    </tr>\n",
       "    <tr>\n",
       "      <th id=\"T_85961_level0_row21\" class=\"row_heading level0 row21\" >21</th>\n",
       "      <td id=\"T_85961_row21_col0\" class=\"data row21 col0\" >Use GPU</td>\n",
       "      <td id=\"T_85961_row21_col1\" class=\"data row21 col1\" >False</td>\n",
       "    </tr>\n",
       "    <tr>\n",
       "      <th id=\"T_85961_level0_row22\" class=\"row_heading level0 row22\" >22</th>\n",
       "      <td id=\"T_85961_row22_col0\" class=\"data row22 col0\" >Log Experiment</td>\n",
       "      <td id=\"T_85961_row22_col1\" class=\"data row22 col1\" >False</td>\n",
       "    </tr>\n",
       "    <tr>\n",
       "      <th id=\"T_85961_level0_row23\" class=\"row_heading level0 row23\" >23</th>\n",
       "      <td id=\"T_85961_row23_col0\" class=\"data row23 col0\" >Experiment Name</td>\n",
       "      <td id=\"T_85961_row23_col1\" class=\"data row23 col1\" >reg-default-name</td>\n",
       "    </tr>\n",
       "    <tr>\n",
       "      <th id=\"T_85961_level0_row24\" class=\"row_heading level0 row24\" >24</th>\n",
       "      <td id=\"T_85961_row24_col0\" class=\"data row24 col0\" >USI</td>\n",
       "      <td id=\"T_85961_row24_col1\" class=\"data row24 col1\" >77a4</td>\n",
       "    </tr>\n",
       "  </tbody>\n",
       "</table>\n"
      ],
      "text/plain": [
       "<pandas.io.formats.style.Styler at 0x1d32bd6ed10>"
      ]
     },
     "metadata": {},
     "output_type": "display_data"
    }
   ],
   "source": [
    "experiment = setup(data=df[top_10_original + ['SalePrice']], target='SalePrice', session_id=123, transform_target=True, \n",
    "                   # keep_features=top_10_features - this argument doesn't do what you think it does\n",
    "                   ) "
   ]
  },
  {
   "cell_type": "code",
   "execution_count": 30,
   "id": "227a9903",
   "metadata": {},
   "outputs": [
    {
     "data": {
      "text/html": [],
      "text/plain": [
       "<IPython.core.display.HTML object>"
      ]
     },
     "metadata": {},
     "output_type": "display_data"
    },
    {
     "data": {
      "text/html": [
       "<style type=\"text/css\">\n",
       "#T_85f32 th {\n",
       "  text-align: left;\n",
       "}\n",
       "#T_85f32_row0_col0, #T_85f32_row1_col0, #T_85f32_row1_col1, #T_85f32_row1_col2, #T_85f32_row1_col3, #T_85f32_row1_col4, #T_85f32_row1_col5, #T_85f32_row1_col6, #T_85f32_row2_col0, #T_85f32_row2_col1, #T_85f32_row2_col2, #T_85f32_row2_col3, #T_85f32_row2_col4, #T_85f32_row2_col5, #T_85f32_row2_col6, #T_85f32_row3_col0, #T_85f32_row3_col1, #T_85f32_row3_col2, #T_85f32_row3_col3, #T_85f32_row3_col4, #T_85f32_row3_col5, #T_85f32_row3_col6, #T_85f32_row4_col0, #T_85f32_row4_col1, #T_85f32_row4_col2, #T_85f32_row4_col3, #T_85f32_row4_col4, #T_85f32_row4_col5, #T_85f32_row4_col6, #T_85f32_row5_col0, #T_85f32_row5_col1, #T_85f32_row5_col2, #T_85f32_row5_col3, #T_85f32_row5_col4, #T_85f32_row5_col5, #T_85f32_row5_col6, #T_85f32_row6_col0, #T_85f32_row6_col1, #T_85f32_row6_col2, #T_85f32_row6_col3, #T_85f32_row6_col4, #T_85f32_row6_col5, #T_85f32_row6_col6, #T_85f32_row7_col0, #T_85f32_row7_col1, #T_85f32_row7_col2, #T_85f32_row7_col3, #T_85f32_row7_col4, #T_85f32_row7_col5, #T_85f32_row7_col6, #T_85f32_row8_col0, #T_85f32_row8_col1, #T_85f32_row8_col2, #T_85f32_row8_col3, #T_85f32_row8_col4, #T_85f32_row8_col5, #T_85f32_row8_col6, #T_85f32_row9_col0, #T_85f32_row9_col1, #T_85f32_row9_col2, #T_85f32_row9_col3, #T_85f32_row9_col4, #T_85f32_row9_col5, #T_85f32_row9_col6, #T_85f32_row10_col0, #T_85f32_row10_col1, #T_85f32_row10_col2, #T_85f32_row10_col3, #T_85f32_row10_col4, #T_85f32_row10_col5, #T_85f32_row10_col6, #T_85f32_row11_col0, #T_85f32_row11_col1, #T_85f32_row11_col2, #T_85f32_row11_col3, #T_85f32_row11_col4, #T_85f32_row11_col5, #T_85f32_row11_col6, #T_85f32_row12_col0, #T_85f32_row12_col1, #T_85f32_row12_col2, #T_85f32_row12_col3, #T_85f32_row12_col4, #T_85f32_row12_col5, #T_85f32_row12_col6, #T_85f32_row13_col0, #T_85f32_row13_col1, #T_85f32_row13_col2, #T_85f32_row13_col3, #T_85f32_row13_col4, #T_85f32_row13_col5, #T_85f32_row13_col6, #T_85f32_row14_col0, #T_85f32_row14_col1, #T_85f32_row14_col2, #T_85f32_row14_col3, #T_85f32_row14_col4, #T_85f32_row14_col5, #T_85f32_row14_col6, #T_85f32_row15_col0, #T_85f32_row15_col1, #T_85f32_row15_col2, #T_85f32_row15_col3, #T_85f32_row15_col4, #T_85f32_row15_col5, #T_85f32_row15_col6, #T_85f32_row16_col0, #T_85f32_row16_col1, #T_85f32_row16_col2, #T_85f32_row16_col3, #T_85f32_row16_col4, #T_85f32_row16_col5, #T_85f32_row16_col6, #T_85f32_row17_col0, #T_85f32_row17_col1, #T_85f32_row17_col2, #T_85f32_row17_col3, #T_85f32_row17_col4, #T_85f32_row17_col5, #T_85f32_row17_col6 {\n",
       "  text-align: left;\n",
       "}\n",
       "#T_85f32_row0_col1, #T_85f32_row0_col2, #T_85f32_row0_col3, #T_85f32_row0_col4, #T_85f32_row0_col5, #T_85f32_row0_col6 {\n",
       "  text-align: left;\n",
       "  background-color: yellow;\n",
       "}\n",
       "#T_85f32_row0_col7, #T_85f32_row1_col7, #T_85f32_row2_col7, #T_85f32_row3_col7, #T_85f32_row4_col7, #T_85f32_row5_col7, #T_85f32_row6_col7, #T_85f32_row7_col7, #T_85f32_row9_col7, #T_85f32_row10_col7, #T_85f32_row11_col7, #T_85f32_row12_col7, #T_85f32_row13_col7, #T_85f32_row14_col7, #T_85f32_row15_col7, #T_85f32_row16_col7, #T_85f32_row17_col7 {\n",
       "  text-align: left;\n",
       "  background-color: lightgrey;\n",
       "}\n",
       "#T_85f32_row8_col7 {\n",
       "  text-align: left;\n",
       "  background-color: yellow;\n",
       "  background-color: lightgrey;\n",
       "}\n",
       "</style>\n",
       "<table id=\"T_85f32\">\n",
       "  <thead>\n",
       "    <tr>\n",
       "      <th class=\"blank level0\" >&nbsp;</th>\n",
       "      <th id=\"T_85f32_level0_col0\" class=\"col_heading level0 col0\" >Model</th>\n",
       "      <th id=\"T_85f32_level0_col1\" class=\"col_heading level0 col1\" >MAE</th>\n",
       "      <th id=\"T_85f32_level0_col2\" class=\"col_heading level0 col2\" >MSE</th>\n",
       "      <th id=\"T_85f32_level0_col3\" class=\"col_heading level0 col3\" >RMSE</th>\n",
       "      <th id=\"T_85f32_level0_col4\" class=\"col_heading level0 col4\" >R2</th>\n",
       "      <th id=\"T_85f32_level0_col5\" class=\"col_heading level0 col5\" >RMSLE</th>\n",
       "      <th id=\"T_85f32_level0_col6\" class=\"col_heading level0 col6\" >MAPE</th>\n",
       "      <th id=\"T_85f32_level0_col7\" class=\"col_heading level0 col7\" >TT (Sec)</th>\n",
       "    </tr>\n",
       "  </thead>\n",
       "  <tbody>\n",
       "    <tr>\n",
       "      <th id=\"T_85f32_level0_row0\" class=\"row_heading level0 row0\" >gbr</th>\n",
       "      <td id=\"T_85f32_row0_col0\" class=\"data row0 col0\" >Gradient Boosting Regressor</td>\n",
       "      <td id=\"T_85f32_row0_col1\" class=\"data row0 col1\" >18565.7643</td>\n",
       "      <td id=\"T_85f32_row0_col2\" class=\"data row0 col2\" >955728702.4117</td>\n",
       "      <td id=\"T_85f32_row0_col3\" class=\"data row0 col3\" >30088.3113</td>\n",
       "      <td id=\"T_85f32_row0_col4\" class=\"data row0 col4\" >0.8544</td>\n",
       "      <td id=\"T_85f32_row0_col5\" class=\"data row0 col5\" >0.1472</td>\n",
       "      <td id=\"T_85f32_row0_col6\" class=\"data row0 col6\" >0.1053</td>\n",
       "      <td id=\"T_85f32_row0_col7\" class=\"data row0 col7\" >0.1130</td>\n",
       "    </tr>\n",
       "    <tr>\n",
       "      <th id=\"T_85f32_level0_row1\" class=\"row_heading level0 row1\" >lightgbm</th>\n",
       "      <td id=\"T_85f32_row1_col0\" class=\"data row1 col0\" >Light Gradient Boosting Machine</td>\n",
       "      <td id=\"T_85f32_row1_col1\" class=\"data row1 col1\" >19050.3748</td>\n",
       "      <td id=\"T_85f32_row1_col2\" class=\"data row1 col2\" >1076515344.2083</td>\n",
       "      <td id=\"T_85f32_row1_col3\" class=\"data row1 col3\" >31819.6182</td>\n",
       "      <td id=\"T_85f32_row1_col4\" class=\"data row1 col4\" >0.8425</td>\n",
       "      <td id=\"T_85f32_row1_col5\" class=\"data row1 col5\" >0.1511</td>\n",
       "      <td id=\"T_85f32_row1_col6\" class=\"data row1 col6\" >0.1092</td>\n",
       "      <td id=\"T_85f32_row1_col7\" class=\"data row1 col7\" >0.1540</td>\n",
       "    </tr>\n",
       "    <tr>\n",
       "      <th id=\"T_85f32_level0_row2\" class=\"row_heading level0 row2\" >et</th>\n",
       "      <td id=\"T_85f32_row2_col0\" class=\"data row2 col0\" >Extra Trees Regressor</td>\n",
       "      <td id=\"T_85f32_row2_col1\" class=\"data row2 col1\" >19658.1046</td>\n",
       "      <td id=\"T_85f32_row2_col2\" class=\"data row2 col2\" >1098603780.4682</td>\n",
       "      <td id=\"T_85f32_row2_col3\" class=\"data row2 col3\" >31861.0855</td>\n",
       "      <td id=\"T_85f32_row2_col4\" class=\"data row2 col4\" >0.8378</td>\n",
       "      <td id=\"T_85f32_row2_col5\" class=\"data row2 col5\" >0.1530</td>\n",
       "      <td id=\"T_85f32_row2_col6\" class=\"data row2 col6\" >0.1124</td>\n",
       "      <td id=\"T_85f32_row2_col7\" class=\"data row2 col7\" >0.1440</td>\n",
       "    </tr>\n",
       "    <tr>\n",
       "      <th id=\"T_85f32_level0_row3\" class=\"row_heading level0 row3\" >rf</th>\n",
       "      <td id=\"T_85f32_row3_col0\" class=\"data row3 col0\" >Random Forest Regressor</td>\n",
       "      <td id=\"T_85f32_row3_col1\" class=\"data row3 col1\" >19419.1853</td>\n",
       "      <td id=\"T_85f32_row3_col2\" class=\"data row3 col2\" >1168984004.3756</td>\n",
       "      <td id=\"T_85f32_row3_col3\" class=\"data row3 col3\" >32903.7238</td>\n",
       "      <td id=\"T_85f32_row3_col4\" class=\"data row3 col4\" >0.8297</td>\n",
       "      <td id=\"T_85f32_row3_col5\" class=\"data row3 col5\" >0.1545</td>\n",
       "      <td id=\"T_85f32_row3_col6\" class=\"data row3 col6\" >0.1114</td>\n",
       "      <td id=\"T_85f32_row3_col7\" class=\"data row3 col7\" >0.2400</td>\n",
       "    </tr>\n",
       "    <tr>\n",
       "      <th id=\"T_85f32_level0_row4\" class=\"row_heading level0 row4\" >ada</th>\n",
       "      <td id=\"T_85f32_row4_col0\" class=\"data row4 col0\" >AdaBoost Regressor</td>\n",
       "      <td id=\"T_85f32_row4_col1\" class=\"data row4 col1\" >25216.3710</td>\n",
       "      <td id=\"T_85f32_row4_col2\" class=\"data row4 col2\" >1454402106.9898</td>\n",
       "      <td id=\"T_85f32_row4_col3\" class=\"data row4 col3\" >37489.2033</td>\n",
       "      <td id=\"T_85f32_row4_col4\" class=\"data row4 col4\" >0.7805</td>\n",
       "      <td id=\"T_85f32_row4_col5\" class=\"data row4 col5\" >0.1862</td>\n",
       "      <td id=\"T_85f32_row4_col6\" class=\"data row4 col6\" >0.1415</td>\n",
       "      <td id=\"T_85f32_row4_col7\" class=\"data row4 col7\" >0.0880</td>\n",
       "    </tr>\n",
       "    <tr>\n",
       "      <th id=\"T_85f32_level0_row5\" class=\"row_heading level0 row5\" >dt</th>\n",
       "      <td id=\"T_85f32_row5_col0\" class=\"data row5 col0\" >Decision Tree Regressor</td>\n",
       "      <td id=\"T_85f32_row5_col1\" class=\"data row5 col1\" >26329.3488</td>\n",
       "      <td id=\"T_85f32_row5_col2\" class=\"data row5 col2\" >1806888809.0821</td>\n",
       "      <td id=\"T_85f32_row5_col3\" class=\"data row5 col3\" >41888.5385</td>\n",
       "      <td id=\"T_85f32_row5_col4\" class=\"data row5 col4\" >0.7201</td>\n",
       "      <td id=\"T_85f32_row5_col5\" class=\"data row5 col5\" >0.2155</td>\n",
       "      <td id=\"T_85f32_row5_col6\" class=\"data row5 col6\" >0.1545</td>\n",
       "      <td id=\"T_85f32_row5_col7\" class=\"data row5 col7\" >0.0510</td>\n",
       "    </tr>\n",
       "    <tr>\n",
       "      <th id=\"T_85f32_level0_row6\" class=\"row_heading level0 row6\" >knn</th>\n",
       "      <td id=\"T_85f32_row6_col0\" class=\"data row6 col0\" >K Neighbors Regressor</td>\n",
       "      <td id=\"T_85f32_row6_col1\" class=\"data row6 col1\" >30733.1099</td>\n",
       "      <td id=\"T_85f32_row6_col2\" class=\"data row6 col2\" >2396152385.3653</td>\n",
       "      <td id=\"T_85f32_row6_col3\" class=\"data row6 col3\" >48519.4767</td>\n",
       "      <td id=\"T_85f32_row6_col4\" class=\"data row6 col4\" >0.6301</td>\n",
       "      <td id=\"T_85f32_row6_col5\" class=\"data row6 col5\" >0.2315</td>\n",
       "      <td id=\"T_85f32_row6_col6\" class=\"data row6 col6\" >0.1794</td>\n",
       "      <td id=\"T_85f32_row6_col7\" class=\"data row6 col7\" >0.0650</td>\n",
       "    </tr>\n",
       "    <tr>\n",
       "      <th id=\"T_85f32_level0_row7\" class=\"row_heading level0 row7\" >dummy</th>\n",
       "      <td id=\"T_85f32_row7_col0\" class=\"data row7 col0\" >Dummy Regressor</td>\n",
       "      <td id=\"T_85f32_row7_col1\" class=\"data row7 col1\" >56215.4821</td>\n",
       "      <td id=\"T_85f32_row7_col2\" class=\"data row7 col2\" >6807981247.1675</td>\n",
       "      <td id=\"T_85f32_row7_col3\" class=\"data row7 col3\" >81902.4960</td>\n",
       "      <td id=\"T_85f32_row7_col4\" class=\"data row7 col4\" >-0.0419</td>\n",
       "      <td id=\"T_85f32_row7_col5\" class=\"data row7 col5\" >0.4058</td>\n",
       "      <td id=\"T_85f32_row7_col6\" class=\"data row7 col6\" >0.3279</td>\n",
       "      <td id=\"T_85f32_row7_col7\" class=\"data row7 col7\" >0.0390</td>\n",
       "    </tr>\n",
       "    <tr>\n",
       "      <th id=\"T_85f32_level0_row8\" class=\"row_heading level0 row8\" >omp</th>\n",
       "      <td id=\"T_85f32_row8_col0\" class=\"data row8 col0\" >Orthogonal Matching Pursuit</td>\n",
       "      <td id=\"T_85f32_row8_col1\" class=\"data row8 col1\" >41314.9626</td>\n",
       "      <td id=\"T_85f32_row8_col2\" class=\"data row8 col2\" >7333581390.4055</td>\n",
       "      <td id=\"T_85f32_row8_col3\" class=\"data row8 col3\" >73850.5213</td>\n",
       "      <td id=\"T_85f32_row8_col4\" class=\"data row8 col4\" >-0.0977</td>\n",
       "      <td id=\"T_85f32_row8_col5\" class=\"data row8 col5\" >0.2960</td>\n",
       "      <td id=\"T_85f32_row8_col6\" class=\"data row8 col6\" >0.2400</td>\n",
       "      <td id=\"T_85f32_row8_col7\" class=\"data row8 col7\" >0.0380</td>\n",
       "    </tr>\n",
       "    <tr>\n",
       "      <th id=\"T_85f32_level0_row9\" class=\"row_heading level0 row9\" >par</th>\n",
       "      <td id=\"T_85f32_row9_col0\" class=\"data row9 col0\" >Passive Aggressive Regressor</td>\n",
       "      <td id=\"T_85f32_row9_col1\" class=\"data row9 col1\" >38428.4049</td>\n",
       "      <td id=\"T_85f32_row9_col2\" class=\"data row9 col2\" >11566787403.2308</td>\n",
       "      <td id=\"T_85f32_row9_col3\" class=\"data row9 col3\" >80266.7559</td>\n",
       "      <td id=\"T_85f32_row9_col4\" class=\"data row9 col4\" >-0.6798</td>\n",
       "      <td id=\"T_85f32_row9_col5\" class=\"data row9 col5\" >0.2751</td>\n",
       "      <td id=\"T_85f32_row9_col6\" class=\"data row9 col6\" >0.2200</td>\n",
       "      <td id=\"T_85f32_row9_col7\" class=\"data row9 col7\" >0.0390</td>\n",
       "    </tr>\n",
       "    <tr>\n",
       "      <th id=\"T_85f32_level0_row10\" class=\"row_heading level0 row10\" >lr</th>\n",
       "      <td id=\"T_85f32_row10_col0\" class=\"data row10 col0\" >Linear Regression</td>\n",
       "      <td id=\"T_85f32_row10_col1\" class=\"data row10 col1\" >22700.1136</td>\n",
       "      <td id=\"T_85f32_row10_col2\" class=\"data row10 col2\" >12042238566.4912</td>\n",
       "      <td id=\"T_85f32_row10_col3\" class=\"data row10 col3\" >63090.9109</td>\n",
       "      <td id=\"T_85f32_row10_col4\" class=\"data row10 col4\" >-0.7899</td>\n",
       "      <td id=\"T_85f32_row10_col5\" class=\"data row10 col5\" >0.1730</td>\n",
       "      <td id=\"T_85f32_row10_col6\" class=\"data row10 col6\" >0.1330</td>\n",
       "      <td id=\"T_85f32_row10_col7\" class=\"data row10 col7\" >1.2610</td>\n",
       "    </tr>\n",
       "    <tr>\n",
       "      <th id=\"T_85f32_level0_row11\" class=\"row_heading level0 row11\" >lar</th>\n",
       "      <td id=\"T_85f32_row11_col0\" class=\"data row11 col0\" >Least Angle Regression</td>\n",
       "      <td id=\"T_85f32_row11_col1\" class=\"data row11 col1\" >22700.1136</td>\n",
       "      <td id=\"T_85f32_row11_col2\" class=\"data row11 col2\" >12042238566.4913</td>\n",
       "      <td id=\"T_85f32_row11_col3\" class=\"data row11 col3\" >63090.9109</td>\n",
       "      <td id=\"T_85f32_row11_col4\" class=\"data row11 col4\" >-0.7899</td>\n",
       "      <td id=\"T_85f32_row11_col5\" class=\"data row11 col5\" >0.1730</td>\n",
       "      <td id=\"T_85f32_row11_col6\" class=\"data row11 col6\" >0.1330</td>\n",
       "      <td id=\"T_85f32_row11_col7\" class=\"data row11 col7\" >0.0390</td>\n",
       "    </tr>\n",
       "    <tr>\n",
       "      <th id=\"T_85f32_level0_row12\" class=\"row_heading level0 row12\" >ridge</th>\n",
       "      <td id=\"T_85f32_row12_col0\" class=\"data row12 col0\" >Ridge Regression</td>\n",
       "      <td id=\"T_85f32_row12_col1\" class=\"data row12 col1\" >22702.9781</td>\n",
       "      <td id=\"T_85f32_row12_col2\" class=\"data row12 col2\" >12100555458.4535</td>\n",
       "      <td id=\"T_85f32_row12_col3\" class=\"data row12 col3\" >63180.8242</td>\n",
       "      <td id=\"T_85f32_row12_col4\" class=\"data row12 col4\" >-0.7986</td>\n",
       "      <td id=\"T_85f32_row12_col5\" class=\"data row12 col5\" >0.1730</td>\n",
       "      <td id=\"T_85f32_row12_col6\" class=\"data row12 col6\" >0.1330</td>\n",
       "      <td id=\"T_85f32_row12_col7\" class=\"data row12 col7\" >0.0470</td>\n",
       "    </tr>\n",
       "    <tr>\n",
       "      <th id=\"T_85f32_level0_row13\" class=\"row_heading level0 row13\" >br</th>\n",
       "      <td id=\"T_85f32_row13_col0\" class=\"data row13 col0\" >Bayesian Ridge</td>\n",
       "      <td id=\"T_85f32_row13_col1\" class=\"data row13 col1\" >22744.2593</td>\n",
       "      <td id=\"T_85f32_row13_col2\" class=\"data row13 col2\" >12676193790.9019</td>\n",
       "      <td id=\"T_85f32_row13_col3\" class=\"data row13 col3\" >64061.4276</td>\n",
       "      <td id=\"T_85f32_row13_col4\" class=\"data row13 col4\" >-0.8842</td>\n",
       "      <td id=\"T_85f32_row13_col5\" class=\"data row13 col5\" >0.1730</td>\n",
       "      <td id=\"T_85f32_row13_col6\" class=\"data row13 col6\" >0.1332</td>\n",
       "      <td id=\"T_85f32_row13_col7\" class=\"data row13 col7\" >0.0490</td>\n",
       "    </tr>\n",
       "    <tr>\n",
       "      <th id=\"T_85f32_level0_row14\" class=\"row_heading level0 row14\" >huber</th>\n",
       "      <td id=\"T_85f32_row14_col0\" class=\"data row14 col0\" >Huber Regressor</td>\n",
       "      <td id=\"T_85f32_row14_col1\" class=\"data row14 col1\" >31996.8535</td>\n",
       "      <td id=\"T_85f32_row14_col2\" class=\"data row14 col2\" >38674681088.8880</td>\n",
       "      <td id=\"T_85f32_row14_col3\" class=\"data row14 col3\" >102582.5325</td>\n",
       "      <td id=\"T_85f32_row14_col4\" class=\"data row14 col4\" >-4.7293</td>\n",
       "      <td id=\"T_85f32_row14_col5\" class=\"data row14 col5\" >0.2243</td>\n",
       "      <td id=\"T_85f32_row14_col6\" class=\"data row14 col6\" >0.1890</td>\n",
       "      <td id=\"T_85f32_row14_col7\" class=\"data row14 col7\" >0.0540</td>\n",
       "    </tr>\n",
       "    <tr>\n",
       "      <th id=\"T_85f32_level0_row15\" class=\"row_heading level0 row15\" >en</th>\n",
       "      <td id=\"T_85f32_row15_col0\" class=\"data row15 col0\" >Elastic Net</td>\n",
       "      <td id=\"T_85f32_row15_col1\" class=\"data row15 col1\" >38767.9336</td>\n",
       "      <td id=\"T_85f32_row15_col2\" class=\"data row15 col2\" >145524067402.3530</td>\n",
       "      <td id=\"T_85f32_row15_col3\" class=\"data row15 col3\" >161496.1588</td>\n",
       "      <td id=\"T_85f32_row15_col4\" class=\"data row15 col4\" >-20.6986</td>\n",
       "      <td id=\"T_85f32_row15_col5\" class=\"data row15 col5\" >0.2311</td>\n",
       "      <td id=\"T_85f32_row15_col6\" class=\"data row15 col6\" >0.2277</td>\n",
       "      <td id=\"T_85f32_row15_col7\" class=\"data row15 col7\" >0.0410</td>\n",
       "    </tr>\n",
       "    <tr>\n",
       "      <th id=\"T_85f32_level0_row16\" class=\"row_heading level0 row16\" >lasso</th>\n",
       "      <td id=\"T_85f32_row16_col0\" class=\"data row16 col0\" >Lasso Regression</td>\n",
       "      <td id=\"T_85f32_row16_col1\" class=\"data row16 col1\" >45279.8554</td>\n",
       "      <td id=\"T_85f32_row16_col2\" class=\"data row16 col2\" >240421699982.0013</td>\n",
       "      <td id=\"T_85f32_row16_col3\" class=\"data row16 col3\" >198845.3409</td>\n",
       "      <td id=\"T_85f32_row16_col4\" class=\"data row16 col4\" >-34.8608</td>\n",
       "      <td id=\"T_85f32_row16_col5\" class=\"data row16 col5\" >0.2471</td>\n",
       "      <td id=\"T_85f32_row16_col6\" class=\"data row16 col6\" >0.2665</td>\n",
       "      <td id=\"T_85f32_row16_col7\" class=\"data row16 col7\" >0.0430</td>\n",
       "    </tr>\n",
       "    <tr>\n",
       "      <th id=\"T_85f32_level0_row17\" class=\"row_heading level0 row17\" >llar</th>\n",
       "      <td id=\"T_85f32_row17_col0\" class=\"data row17 col0\" >Lasso Least Angle Regression</td>\n",
       "      <td id=\"T_85f32_row17_col1\" class=\"data row17 col1\" >45281.6484</td>\n",
       "      <td id=\"T_85f32_row17_col2\" class=\"data row17 col2\" >240447327077.8528</td>\n",
       "      <td id=\"T_85f32_row17_col3\" class=\"data row17 col3\" >198855.3706</td>\n",
       "      <td id=\"T_85f32_row17_col4\" class=\"data row17 col4\" >-34.8646</td>\n",
       "      <td id=\"T_85f32_row17_col5\" class=\"data row17 col5\" >0.2471</td>\n",
       "      <td id=\"T_85f32_row17_col6\" class=\"data row17 col6\" >0.2666</td>\n",
       "      <td id=\"T_85f32_row17_col7\" class=\"data row17 col7\" >0.0390</td>\n",
       "    </tr>\n",
       "  </tbody>\n",
       "</table>\n"
      ],
      "text/plain": [
       "<pandas.io.formats.style.Styler at 0x1d329da3410>"
      ]
     },
     "metadata": {},
     "output_type": "display_data"
    },
    {
     "data": {
      "text/html": [],
      "text/plain": [
       "<IPython.core.display.HTML object>"
      ]
     },
     "metadata": {},
     "output_type": "display_data"
    }
   ],
   "source": [
    "model = compare_models()"
   ]
  },
  {
   "cell_type": "markdown",
   "id": "43c8ee54",
   "metadata": {},
   "source": [
    "All regression models started having terrible performance, which means that their feature importances must've been quite different for the ones GBR had."
   ]
  },
  {
   "cell_type": "markdown",
   "id": "bef55de2",
   "metadata": {},
   "source": [
    "For the GBR algorithm, using only the top 10 features or all of them gives almost the same results. This means we can now focus on our top 10 features for further feature engineering and perhaps come back to the rest of the features later."
   ]
  }
 ],
 "metadata": {
  "kernelspec": {
   "display_name": "house-venv (3.11.13)",
   "language": "python",
   "name": "python3"
  },
  "language_info": {
   "codemirror_mode": {
    "name": "ipython",
    "version": 3
   },
   "file_extension": ".py",
   "mimetype": "text/x-python",
   "name": "python",
   "nbconvert_exporter": "python",
   "pygments_lexer": "ipython3",
   "version": "3.11.13"
  }
 },
 "nbformat": 4,
 "nbformat_minor": 5
}
