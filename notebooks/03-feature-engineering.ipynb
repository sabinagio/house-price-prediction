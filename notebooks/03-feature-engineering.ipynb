{
 "cells": [
  {
   "cell_type": "markdown",
   "id": "455c9510",
   "metadata": {},
   "source": [
    "**Table of contents**<a id='toc0_'></a>    \n",
    "- [Understand what these features are about](#toc1_1_)    \n",
    "  - [Try baseline model without the surface features](#toc1_2_)    \n",
    "\n",
    "<!-- vscode-jupyter-toc-config\n",
    "\tnumbering=false\n",
    "\tanchor=true\n",
    "\tflat=false\n",
    "\tminLevel=1\n",
    "\tmaxLevel=6\n",
    "\t/vscode-jupyter-toc-config -->\n",
    "<!-- THIS CELL WILL BE REPLACED ON TOC UPDATE. DO NOT WRITE YOUR TEXT IN THIS CELL -->"
   ]
  },
  {
   "cell_type": "code",
   "execution_count": 1,
   "id": "7d907d0a",
   "metadata": {},
   "outputs": [],
   "source": [
    "import pandas as pd\n",
    "from dfply import mask, X\n",
    "import plotly.express as px"
   ]
  },
  {
   "cell_type": "code",
   "execution_count": 2,
   "id": "39c609a1",
   "metadata": {},
   "outputs": [],
   "source": [
    "df = pd.read_csv(\"../data/raw/train.csv\")"
   ]
  },
  {
   "cell_type": "code",
   "execution_count": 3,
   "id": "e87e6adb",
   "metadata": {},
   "outputs": [],
   "source": [
    "top_10 = ['OverallQual',\n",
    " 'GrLivArea',\n",
    " 'TotalBsmtSF',\n",
    " 'GarageCars',\n",
    " 'YearBuilt',\n",
    " 'BsmtFinSF1',\n",
    " 'GarageFinish_Unf',\n",
    " 'OverallCond',\n",
    " '1stFlrSF',\n",
    " 'CentralAir']"
   ]
  },
  {
   "cell_type": "markdown",
   "id": "e3917023",
   "metadata": {},
   "source": [
    "## <a id='toc1_1_'></a>[Understand what these features are about](#toc0_)"
   ]
  },
  {
   "cell_type": "markdown",
   "id": "3794fe86",
   "metadata": {},
   "source": [
    "OverallQual: Rates the overall material and finish of the house\n",
    "\n",
    "       10\tVery Excellent\n",
    "       9\tExcellent\n",
    "       8\tVery Good\n",
    "       7\tGood\n",
    "       6\tAbove Average\n",
    "       5\tAverage\n",
    "       4\tBelow Average\n",
    "       3\tFair\n",
    "       2\tPoor\n",
    "       1\tVery Poor"
   ]
  },
  {
   "cell_type": "code",
   "execution_count": 4,
   "id": "d22386b3",
   "metadata": {},
   "outputs": [
    {
     "data": {
      "text/plain": [
       "OverallQual\n",
       "5     397\n",
       "6     374\n",
       "7     319\n",
       "8     168\n",
       "4     116\n",
       "9      43\n",
       "3      20\n",
       "10     18\n",
       "2       3\n",
       "1       2\n",
       "Name: count, dtype: int64"
      ]
     },
     "execution_count": 4,
     "metadata": {},
     "output_type": "execute_result"
    }
   ],
   "source": [
    "df.OverallQual.value_counts(dropna=False) # no null values and it seems this is a pretty good rating system. keep."
   ]
  },
  {
   "cell_type": "markdown",
   "id": "ef0a9e22",
   "metadata": {},
   "source": [
    "GrLivArea: Above grade (ground) living area square feet\n",
    "TotalBsmtSF: Total square feet of basement area\n",
    "BsmtFinSF1: Type 1 finished square feet\n",
    "1stFlrSF: First Floor square feet\n",
    "\n",
    "Thoughts:\n",
    "- BsmtFinSF1 is related to the TotalBsmtSF. I would just keep the first one.\n",
    "- There is very minute separation of the different living areas, which is probably excessive. Also, the 1stFlrSF will definitely be correlated with the GrLivArea if there is a first floor, so these features will give about the same information. They could also be correlated to the TotalBsmtSF, if there is a basement.\n",
    "\n",
    "Further steps:\n",
    "- I'd perhaps create binary features for 1st floor & basement, keep GrLivArea as the main area feature."
   ]
  },
  {
   "cell_type": "code",
   "execution_count": 5,
   "id": "92ebff45",
   "metadata": {},
   "outputs": [
    {
     "data": {
      "text/plain": [
       "BsmtCond\n",
       "TA     1311\n",
       "Gd       65\n",
       "Fa       45\n",
       "NaN      37\n",
       "Po        2\n",
       "Name: count, dtype: int64"
      ]
     },
     "execution_count": 5,
     "metadata": {},
     "output_type": "execute_result"
    }
   ],
   "source": [
    "df.BsmtCond.value_counts(dropna=False) # only 37 houses don't have a basement! might become an irrelevant feature."
   ]
  },
  {
   "cell_type": "code",
   "execution_count": 6,
   "id": "b7b54792",
   "metadata": {},
   "outputs": [],
   "source": [
    "df['basement'] = df['BsmtCond'].isna()"
   ]
  },
  {
   "cell_type": "code",
   "execution_count": 7,
   "id": "57693b54",
   "metadata": {},
   "outputs": [
    {
     "data": {
      "text/plain": [
       "1stFlrSF\n",
       "True    1460\n",
       "Name: count, dtype: int64"
      ]
     },
     "execution_count": 7,
     "metadata": {},
     "output_type": "execute_result"
    }
   ],
   "source": [
    "(df['1stFlrSF'] > 0.0).value_counts() # ALL HOUSES HAVE A FIRST FLOOR????"
   ]
  },
  {
   "cell_type": "code",
   "execution_count": 8,
   "id": "3783995f",
   "metadata": {},
   "outputs": [
    {
     "data": {
      "text/plain": [
       "<Axes: >"
      ]
     },
     "execution_count": 8,
     "metadata": {},
     "output_type": "execute_result"
    },
    {
     "data": {
      "image/png": "[encoded data removed]",
      "text/plain": [
       "<Figure size 640x480 with 1 Axes>"
      ]
     },
     "metadata": {},
     "output_type": "display_data"
    }
   ],
   "source": [
    "df['1stFlrSF'].hist()"
   ]
  },
  {
   "cell_type": "code",
   "execution_count": 9,
   "id": "3e64e331",
   "metadata": {},
   "outputs": [
    {
     "data": {
      "application/vnd.plotly.v1+json": {
       "config": {
        "plotlyServerURL": "https://plot.ly"
       },
       "data": [
        {
         "hovertemplate": "GrLivArea=%{x}<br>1stFlrSF=%{y}<extra></extra>",
         "legendgroup": "",
         "marker": {
          "color": "#636efa",
          "symbol": "circle"
         },
         "mode": "markers",
         "name": "",
         "showlegend": false,
         "type": "scattergl",
         "x": {
          "bdata": "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",
          "dtype": "i2"
         },
         "xaxis": "x",
         "y": {
          "bdata": "WAPuBJgDwQN5BBwDngZTBP4DNQQQBJ4EkAPWBeUEVgPsAxAFWgQ7BYYEVAQDByQEJARABoQDqAZABggCiQLMBNIEpAYZBmwESQQRBSEEgAQsBTAFdAOqA34E2AbuBXgG4AK7AxoDMAMwAzIHUAWRBdcDXAOSBQwDhgRFAloFhgMhBHcEnwjHBesCGAWvCE0DdQM+BEgDDgK4AzAE6AaqAp4EOQUbBikEJAMVBawCZAL1A94DEATTBMQD7ASJA6gCNAbAA0MDyQRKBtED/wXKBMoEHQQXBBUD5QM0B8AEBgMCBdMInAXZAkQEZQSjBtgC3AMEAzgErwQyBggCvgNIA5QCHQTABP4DLwUQBbkGkga+BKcH7AOgA2ADxgaOA90FwAbKA2sDdAM4BIADyQOuBkkE5ASwBDwCEAQGA98DcAXQBCQGBQZyA30EKANLB0oGSAOrBlYDeAYoBFIFcwZuCIwE5AS6CMgDAQOFAzwFUgWoA+4FwQQoA8gEOQYNBtUClwXKA2ADVwO+BlAFoQOxBmEE/wRhA1AD0AKiBaAGTAScBEQEYAO8BKQD3gOxAtQEnAUqA3EE4ATaBfIDKwNgA1gJdgK+BOMBkAMTBqoE0gXjAX4DXAPjAYYF9gOeBh4DHgZiA3kDcgLGBFAHjANfBUgDpAUaBVkGHgMWBSIF7QNgA0QGwwNyA2YFygW8BJ4D/AKOBSIDHAQKA1kERwRTBYwEYAYwA7gDGAZgA0kIhASXBO4EIgW8BScGcQI9BFoDhAO6AjcEqAN8BLwFbAbrA44DzwMRBIAEOAW6BAUGfgOLBtAHYgQLBF0DmAe5AswDGQP0B0ADzAKBBEAEXAXABeEEcAQRBosEagcjA7cGZwWlBVQCwAYgBF0GTgWvA1MGggcABlUGvwThA0kDEASUBhgCzAO+A8YF/AI4B00HrQVoAtACqASwBI8EdgRIBT4EkAPcA+8B4wEWA6ACcgWXBfQEBwW5A2AE8AInBU8DiAOSAywGQAfvAwIEFQWrAxADNwT1BJICZQTHBc4GwQMkA3IDFAPfAngEfgNsAzUEWAQIBR4FoAKNBCYDVAaOBEgDLwQaBPwEIATGBQQEOAQ8BaACWgX0AiAEQAVCBtwDvgWsBMMCbAaLA7gEhAXjAUAE/QKeA3YCOwPeAogDtgKsAmIJoAVoBOoEpQOZBmAHvAMMA6cCLQP9BXgDEgPABtoEcAJ/BkED0wNAAz8CYANRAxAEhgX9BHgDYgZAA94FiQQwBLgHdAbKA9UFFQi2BmsEOgcAB5QDwATnA1kEMQTMBeYGdgJoAr4D2AL1BHYD0AKcDG0EgwOQA6ACYgO+BAkHVwPAAykEwgSxAhEEUwVYBWADOAQVA+QHYgX9BHID/AS2AtwE7ANCDGcF8gSgA8QFXQLTCeUF7wI7A04BwwI0A3ADYAOHBEEGLgflA5AG/wKYAmEFkwMAAzkDkAMtBKADtQZmBO4DGAREBIED2QIVBnAFbQXkA4sEjgRJA24E/wXYBa8DwAZgA04DBgNAAkADbQMoBb8CGgSVBfoHMAPxBd0D7AdGA1wDwQULAwIDwAYwA1ADnAMiB6wCegVvBswCIgQMA58DWALWBaIEEARYBJQHBQTEBQgEEwVgBHYCHgQnA0ADJAfKBWADDAbUA/QC9ANcBI4F8AUQBEYFQQQSBoMFIAQgBKAFIAMrAxwDHwbuBSEE0AcMA+YG1QMYBEYEGwR2AjYD8wKNA/QCQQgNAh0EUwOQA84FdgSWBnAFnQQxCK4FuQWPBp0FnATiArkCuAQvB3AEVwNHBBgD/gfcA5sDUAMLBYQGqwSmBGoDJwKLBVIFUAOMCdYEMQQrBHEEaAJ8BH4DbwUIB4wE8AQIBMwFdAEgBywF2AKIA9kCWwPMBMAD1QJGBSgGmgQtBcsDzgZQA2AD5QOiBmADkAbQBPAGUANQBnoEgQR4BLQDcAMQBIUDsARgAwADkANFBbgFOQWXBNQDKAW4BkAEGAOUAtYFDgQCBOYCYgOgAvUCMAVgAxUF/AL0BNYF4gXUA9cDLAeaBloDxARdBJADtQe0BE4GfgPkB+wD5QQqA5YFVgTmAj4FxgO8A4UD0AN5BCYEZwTYBT4EeAMFBQUDrgfVA2gCrATYAsYGaASUBdQDMAQ+BDMEHQVQAxQEogWuAn0G8AOZBhwETgUeA6gDTwOwA9EFJAgQA5oFiAQIAnAFCAKtA+wFeAQrBBcG4wFLBAADKgO+A40ECAdsA6UG7gNgAxsFRgRQA7AFlgOlBfMGEAQCBL4CWgXoBZADDwRJBHwEXAXqA24GYAQLBiYEfgMkA44DDASkAqAEEAS2BYMEYANCBKMEKAO6A3wDrQawBmgDqQjhBaAClgMsBGcF/wXXA7cDYAQ8CdQEWgMaBScDhgaGAycEZAb8A4YD5gJRBPQE9wPpA2QCIgLgAc0EkAOGBagD+AQkBVEGlgZmBNIESgT8BuEDugWdA3EH3AUVCOsCsARZBG8FtwTABv4DoAVgBkAFpAR4BF0GqANlBWADxQMAA5AE1APTAzECIQQ5BbgCWgMGBiQDCAc4Aw8D0ANKBFgCRwTQAvwClgOUBXAEoQJlA9kEfgNhBOcD/ATyBH0EFgWMBOkDlAdeBAoDfwWUA/wD7gK2BgYDGgSiBTUEuASwA7MCJgaQBuAF2QN5BiICrgbwA9ACgAaEA/4DOgQqA+AFUAUiA+IFbATEBJAD4AVSC3ID8ARuBsgDoAK0A5cGSAV2BroDTQNUBh8EHgN2AgsHIAMaBfwF3AnFBsgH3gPrBqIDFgUkBWcE9gVDBPMFVAXTA2oESAQ6BX4DjgVPBIIEGgUfAx4DCwV9AxgEPQPqA7oC2ATAA0gESARQA94D6gQQBLMF4wSzAuQDIgI6BMoD3wQQBHACbgWwBKgDIgUFA0AE9QJBBrYBtgNuBKoEdgLcBaIFdwO0AywHBQNKBDAD8ANBA8YGCwN+A/0DEAT0AxAGwAO6AiwD7QMTBvoFTwOoAzAFzgOaBHYElAPaAwgEDAMfBo8EuANABLoF7gOgAhIEEgVcAzwCQAOkA7oFEwcwA4YDnQXxBCIFLAavA1cDaAZ+A+oEmAXeBZ4GvwPUBCcHXgTtBHECZAaSBFEImwMyAzQDZAQSBXQGawlqBCQGtQP2A1gGPwMEBFYG/AJKA8gElwLYAm8DLwO8BGYFYANiA3QDXgYyBJQIIASkBgMFfAYfBDgEoALAA+cDfgMmBSIFoAKgApADuwSQBFgIFANyBH4DkAOmBuMFUQWmBMgEpAQABHwD/AJPA3UEzAV0A5kGlQQcCBgDdAT0AgoEbgTcAz4IfQVqA+wF+AK/A8MHYAOOBB4EfAMaBFAEJAQ5BckCxAPiB7AHagM0BdEFpwNNBZUCoAPfArwGaAS6AiUGOwUQBJADowY5AzAFLgZ7BmAEgAR2AmIFQANgAxwEaAQwBFQS3gTtA/ECswRQBtADdAZYBd4DYgQOBW4H+gStBY4FtANEBF4GSAX7BrQDxgXQAiUExAIDBxwDBgMwAzAGuwM0BroDMAMjA/0CNgV4BrUCmANgA2gDWgQEBZQE2ALAA2wI8AbWBaoDOgVaAxIDBQjgA8YEfAM2BAEDvAfeA/oFAQVoAggCLgNyA50DUAOEBkgDfQZUBEkKAgQjBhYD2APjAfICYANFCOYDiAW6AhwDcAWABtIGZQP1BTAGhAPFBNwFbQSXBqsDcASIBLYDYAMOBbgFtgJuBgADQQPlAtQEsANYBBAENAcdBCEG3gQeBXgENAfEAi0EUAMnBkAF5ATHBBgEJAOgBd4CvgPIA8IDZgQBBmADjAfUBBAEjwVQAwIEuAOOBZEDpATEBBwDdgKAAyoGMAR0BMUEuQMZCKQENgToBA==",
          "dtype": "i2"
         },
         "yaxis": "y"
        }
       ],
       "layout": {
        "height": 600,
        "legend": {
         "tracegroupgap": 0
        },
        "margin": {
         "t": 60
        },
        "template": {
         "data": {
          "bar": [
           {
            "error_x": {
             "color": "#2a3f5f"
            },
            "error_y": {
             "color": "#2a3f5f"
            },
            "marker": {
             "line": {
              "color": "#E5ECF6",
              "width": 0.5
             },
             "pattern": {
              "fillmode": "overlay",
              "size": 10,
              "solidity": 0.2
             }
            },
            "type": "bar"
           }
          ],
          "barpolar": [
           {
            "marker": {
             "line": {
              "color": "#E5ECF6",
              "width": 0.5
             },
             "pattern": {
              "fillmode": "overlay",
              "size": 10,
              "solidity": 0.2
             }
            },
            "type": "barpolar"
           }
          ],
          "carpet": [
           {
            "aaxis": {
             "endlinecolor": "#2a3f5f",
             "gridcolor": "white",
             "linecolor": "white",
             "minorgridcolor": "white",
             "startlinecolor": "#2a3f5f"
            },
            "baxis": {
             "endlinecolor": "#2a3f5f",
             "gridcolor": "white",
             "linecolor": "white",
             "minorgridcolor": "white",
             "startlinecolor": "#2a3f5f"
            },
            "type": "carpet"
           }
          ],
          "choropleth": [
           {
            "colorbar": {
             "outlinewidth": 0,
             "ticks": ""
            },
            "type": "choropleth"
           }
          ],
          "contour": [
           {
            "colorbar": {
             "outlinewidth": 0,
             "ticks": ""
            },
            "colorscale": [
             [
              0,
              "#0d0887"
             ],
             [
              0.1111111111111111,
              "#46039f"
             ],
             [
              0.2222222222222222,
              "#7201a8"
             ],
             [
              0.3333333333333333,
              "#9c179e"
             ],
             [
              0.4444444444444444,
              "#bd3786"
             ],
             [
              0.5555555555555556,
              "#d8576b"
             ],
             [
              0.6666666666666666,
              "#ed7953"
             ],
             [
              0.7777777777777778,
              "#fb9f3a"
             ],
             [
              0.8888888888888888,
              "#fdca26"
             ],
             [
              1,
              "#f0f921"
             ]
            ],
            "type": "contour"
           }
          ],
          "contourcarpet": [
           {
            "colorbar": {
             "outlinewidth": 0,
             "ticks": ""
            },
            "type": "contourcarpet"
           }
          ],
          "heatmap": [
           {
            "colorbar": {
             "outlinewidth": 0,
             "ticks": ""
            },
            "colorscale": [
             [
              0,
              "#0d0887"
             ],
             [
              0.1111111111111111,
              "#46039f"
             ],
             [
              0.2222222222222222,
              "#7201a8"
             ],
             [
              0.3333333333333333,
              "#9c179e"
             ],
             [
              0.4444444444444444,
              "#bd3786"
             ],
             [
              0.5555555555555556,
              "#d8576b"
             ],
             [
              0.6666666666666666,
              "#ed7953"
             ],
             [
              0.7777777777777778,
              "#fb9f3a"
             ],
             [
              0.8888888888888888,
              "#fdca26"
             ],
             [
              1,
              "#f0f921"
             ]
            ],
            "type": "heatmap"
           }
          ],
          "histogram": [
           {
            "marker": {
             "pattern": {
              "fillmode": "overlay",
              "size": 10,
              "solidity": 0.2
             }
            },
            "type": "histogram"
           }
          ],
          "histogram2d": [
           {
            "colorbar": {
             "outlinewidth": 0,
             "ticks": ""
            },
            "colorscale": [
             [
              0,
              "#0d0887"
             ],
             [
              0.1111111111111111,
              "#46039f"
             ],
             [
              0.2222222222222222,
              "#7201a8"
             ],
             [
              0.3333333333333333,
              "#9c179e"
             ],
             [
              0.4444444444444444,
              "#bd3786"
             ],
             [
              0.5555555555555556,
              "#d8576b"
             ],
             [
              0.6666666666666666,
              "#ed7953"
             ],
             [
              0.7777777777777778,
              "#fb9f3a"
             ],
             [
              0.8888888888888888,
              "#fdca26"
             ],
             [
              1,
              "#f0f921"
             ]
            ],
            "type": "histogram2d"
           }
          ],
          "histogram2dcontour": [
           {
            "colorbar": {
             "outlinewidth": 0,
             "ticks": ""
            },
            "colorscale": [
             [
              0,
              "#0d0887"
             ],
             [
              0.1111111111111111,
              "#46039f"
             ],
             [
              0.2222222222222222,
              "#7201a8"
             ],
             [
              0.3333333333333333,
              "#9c179e"
             ],
             [
              0.4444444444444444,
              "#bd3786"
             ],
             [
              0.5555555555555556,
              "#d8576b"
             ],
             [
              0.6666666666666666,
              "#ed7953"
             ],
             [
              0.7777777777777778,
              "#fb9f3a"
             ],
             [
              0.8888888888888888,
              "#fdca26"
             ],
             [
              1,
              "#f0f921"
             ]
            ],
            "type": "histogram2dcontour"
           }
          ],
          "mesh3d": [
           {
            "colorbar": {
             "outlinewidth": 0,
             "ticks": ""
            },
            "type": "mesh3d"
           }
          ],
          "parcoords": [
           {
            "line": {
             "colorbar": {
              "outlinewidth": 0,
              "ticks": ""
             }
            },
            "type": "parcoords"
           }
          ],
          "pie": [
           {
            "automargin": true,
            "type": "pie"
           }
          ],
          "scatter": [
           {
            "fillpattern": {
             "fillmode": "overlay",
             "size": 10,
             "solidity": 0.2
            },
            "type": "scatter"
           }
          ],
          "scatter3d": [
           {
            "line": {
             "colorbar": {
              "outlinewidth": 0,
              "ticks": ""
             }
            },
            "marker": {
             "colorbar": {
              "outlinewidth": 0,
              "ticks": ""
             }
            },
            "type": "scatter3d"
           }
          ],
          "scattercarpet": [
           {
            "marker": {
             "colorbar": {
              "outlinewidth": 0,
              "ticks": ""
             }
            },
            "type": "scattercarpet"
           }
          ],
          "scattergeo": [
           {
            "marker": {
             "colorbar": {
              "outlinewidth": 0,
              "ticks": ""
             }
            },
            "type": "scattergeo"
           }
          ],
          "scattergl": [
           {
            "marker": {
             "colorbar": {
              "outlinewidth": 0,
              "ticks": ""
             }
            },
            "type": "scattergl"
           }
          ],
          "scattermap": [
           {
            "marker": {
             "colorbar": {
              "outlinewidth": 0,
              "ticks": ""
             }
            },
            "type": "scattermap"
           }
          ],
          "scattermapbox": [
           {
            "marker": {
             "colorbar": {
              "outlinewidth": 0,
              "ticks": ""
             }
            },
            "type": "scattermapbox"
           }
          ],
          "scatterpolar": [
           {
            "marker": {
             "colorbar": {
              "outlinewidth": 0,
              "ticks": ""
             }
            },
            "type": "scatterpolar"
           }
          ],
          "scatterpolargl": [
           {
            "marker": {
             "colorbar": {
              "outlinewidth": 0,
              "ticks": ""
             }
            },
            "type": "scatterpolargl"
           }
          ],
          "scatterternary": [
           {
            "marker": {
             "colorbar": {
              "outlinewidth": 0,
              "ticks": ""
             }
            },
            "type": "scatterternary"
           }
          ],
          "surface": [
           {
            "colorbar": {
             "outlinewidth": 0,
             "ticks": ""
            },
            "colorscale": [
             [
              0,
              "#0d0887"
             ],
             [
              0.1111111111111111,
              "#46039f"
             ],
             [
              0.2222222222222222,
              "#7201a8"
             ],
             [
              0.3333333333333333,
              "#9c179e"
             ],
             [
              0.4444444444444444,
              "#bd3786"
             ],
             [
              0.5555555555555556,
              "#d8576b"
             ],
             [
              0.6666666666666666,
              "#ed7953"
             ],
             [
              0.7777777777777778,
              "#fb9f3a"
             ],
             [
              0.8888888888888888,
              "#fdca26"
             ],
             [
              1,
              "#f0f921"
             ]
            ],
            "type": "surface"
           }
          ],
          "table": [
           {
            "cells": {
             "fill": {
              "color": "#EBF0F8"
             },
             "line": {
              "color": "white"
             }
            },
            "header": {
             "fill": {
              "color": "#C8D4E3"
             },
             "line": {
              "color": "white"
             }
            },
            "type": "table"
           }
          ]
         },
         "layout": {
          "annotationdefaults": {
           "arrowcolor": "#2a3f5f",
           "arrowhead": 0,
           "arrowwidth": 1
          },
          "autotypenumbers": "strict",
          "coloraxis": {
           "colorbar": {
            "outlinewidth": 0,
            "ticks": ""
           }
          },
          "colorscale": {
           "diverging": [
            [
             0,
             "#8e0152"
            ],
            [
             0.1,
             "#c51b7d"
            ],
            [
             0.2,
             "#de77ae"
            ],
            [
             0.3,
             "#f1b6da"
            ],
            [
             0.4,
             "#fde0ef"
            ],
            [
             0.5,
             "#f7f7f7"
            ],
            [
             0.6,
             "#e6f5d0"
            ],
            [
             0.7,
             "#b8e186"
            ],
            [
             0.8,
             "#7fbc41"
            ],
            [
             0.9,
             "#4d9221"
            ],
            [
             1,
             "#276419"
            ]
           ],
           "sequential": [
            [
             0,
             "#0d0887"
            ],
            [
             0.1111111111111111,
             "#46039f"
            ],
            [
             0.2222222222222222,
             "#7201a8"
            ],
            [
             0.3333333333333333,
             "#9c179e"
            ],
            [
             0.4444444444444444,
             "#bd3786"
            ],
            [
             0.5555555555555556,
             "#d8576b"
            ],
            [
             0.6666666666666666,
             "#ed7953"
            ],
            [
             0.7777777777777778,
             "#fb9f3a"
            ],
            [
             0.8888888888888888,
             "#fdca26"
            ],
            [
             1,
             "#f0f921"
            ]
           ],
           "sequentialminus": [
            [
             0,
             "#0d0887"
            ],
            [
             0.1111111111111111,
             "#46039f"
            ],
            [
             0.2222222222222222,
             "#7201a8"
            ],
            [
             0.3333333333333333,
             "#9c179e"
            ],
            [
             0.4444444444444444,
             "#bd3786"
            ],
            [
             0.5555555555555556,
             "#d8576b"
            ],
            [
             0.6666666666666666,
             "#ed7953"
            ],
            [
             0.7777777777777778,
             "#fb9f3a"
            ],
            [
             0.8888888888888888,
             "#fdca26"
            ],
            [
             1,
             "#f0f921"
            ]
           ]
          },
          "colorway": [
           "#636efa",
           "#EF553B",
           "#00cc96",
           "#ab63fa",
           "#FFA15A",
           "#19d3f3",
           "#FF6692",
           "#B6E880",
           "#FF97FF",
           "#FECB52"
          ],
          "font": {
           "color": "#2a3f5f"
          },
          "geo": {
           "bgcolor": "white",
           "lakecolor": "white",
           "landcolor": "#E5ECF6",
           "showlakes": true,
           "showland": true,
           "subunitcolor": "white"
          },
          "hoverlabel": {
           "align": "left"
          },
          "hovermode": "closest",
          "mapbox": {
           "style": "light"
          },
          "paper_bgcolor": "white",
          "plot_bgcolor": "#E5ECF6",
          "polar": {
           "angularaxis": {
            "gridcolor": "white",
            "linecolor": "white",
            "ticks": ""
           },
           "bgcolor": "#E5ECF6",
           "radialaxis": {
            "gridcolor": "white",
            "linecolor": "white",
            "ticks": ""
           }
          },
          "scene": {
           "xaxis": {
            "backgroundcolor": "#E5ECF6",
            "gridcolor": "white",
            "gridwidth": 2,
            "linecolor": "white",
            "showbackground": true,
            "ticks": "",
            "zerolinecolor": "white"
           },
           "yaxis": {
            "backgroundcolor": "#E5ECF6",
            "gridcolor": "white",
            "gridwidth": 2,
            "linecolor": "white",
            "showbackground": true,
            "ticks": "",
            "zerolinecolor": "white"
           },
           "zaxis": {
            "backgroundcolor": "#E5ECF6",
            "gridcolor": "white",
            "gridwidth": 2,
            "linecolor": "white",
            "showbackground": true,
            "ticks": "",
            "zerolinecolor": "white"
           }
          },
          "shapedefaults": {
           "line": {
            "color": "#2a3f5f"
           }
          },
          "ternary": {
           "aaxis": {
            "gridcolor": "white",
            "linecolor": "white",
            "ticks": ""
           },
           "baxis": {
            "gridcolor": "white",
            "linecolor": "white",
            "ticks": ""
           },
           "bgcolor": "#E5ECF6",
           "caxis": {
            "gridcolor": "white",
            "linecolor": "white",
            "ticks": ""
           }
          },
          "title": {
           "x": 0.05
          },
          "xaxis": {
           "automargin": true,
           "gridcolor": "white",
           "linecolor": "white",
           "ticks": "",
           "title": {
            "standoff": 15
           },
           "zerolinecolor": "white",
           "zerolinewidth": 2
          },
          "yaxis": {
           "automargin": true,
           "gridcolor": "white",
           "linecolor": "white",
           "ticks": "",
           "title": {
            "standoff": 15
           },
           "zerolinecolor": "white",
           "zerolinewidth": 2
          }
         }
        },
        "width": 600,
        "xaxis": {
         "anchor": "y",
         "domain": [
          0,
          1
         ],
         "title": {
          "text": "GrLivArea"
         }
        },
        "yaxis": {
         "anchor": "x",
         "domain": [
          0,
          1
         ],
         "title": {
          "text": "1stFlrSF"
         }
        }
       }
      }
     },
     "metadata": {},
     "output_type": "display_data"
    }
   ],
   "source": [
    "px.scatter(df, x='GrLivArea', y='1stFlrSF').update_layout(width=600, height=600)"
   ]
  },
  {
   "cell_type": "markdown",
   "id": "dc5c63a6",
   "metadata": {},
   "source": [
    "Clear linear correlation. Kept the chart square because these 2 variables have the same units."
   ]
  },
  {
   "cell_type": "code",
   "execution_count": 10,
   "id": "f1e563ab",
   "metadata": {},
   "outputs": [
    {
     "data": {
      "application/vnd.plotly.v1+json": {
       "config": {
        "plotlyServerURL": "https://plot.ly"
       },
       "data": [
        {
         "hovertemplate": "GrLivArea=%{x}<br>TotalBsmtSF=%{y}<extra></extra>",
         "legendgroup": "",
         "marker": {
          "color": "#636efa",
          "symbol": "circle"
         },
         "mode": "markers",
         "name": "",
         "showlegend": false,
         "type": "scattergl",
         "x": {
          "bdata": "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",
          "dtype": "i2"
         },
         "xaxis": "x",
         "y": {
          "bdata": "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",
          "dtype": "i2"
         },
         "yaxis": "y"
        }
       ],
       "layout": {
        "height": 600,
        "legend": {
         "tracegroupgap": 0
        },
        "margin": {
         "t": 60
        },
        "template": {
         "data": {
          "bar": [
           {
            "error_x": {
             "color": "#2a3f5f"
            },
            "error_y": {
             "color": "#2a3f5f"
            },
            "marker": {
             "line": {
              "color": "#E5ECF6",
              "width": 0.5
             },
             "pattern": {
              "fillmode": "overlay",
              "size": 10,
              "solidity": 0.2
             }
            },
            "type": "bar"
           }
          ],
          "barpolar": [
           {
            "marker": {
             "line": {
              "color": "#E5ECF6",
              "width": 0.5
             },
             "pattern": {
              "fillmode": "overlay",
              "size": 10,
              "solidity": 0.2
             }
            },
            "type": "barpolar"
           }
          ],
          "carpet": [
           {
            "aaxis": {
             "endlinecolor": "#2a3f5f",
             "gridcolor": "white",
             "linecolor": "white",
             "minorgridcolor": "white",
             "startlinecolor": "#2a3f5f"
            },
            "baxis": {
             "endlinecolor": "#2a3f5f",
             "gridcolor": "white",
             "linecolor": "white",
             "minorgridcolor": "white",
             "startlinecolor": "#2a3f5f"
            },
            "type": "carpet"
           }
          ],
          "choropleth": [
           {
            "colorbar": {
             "outlinewidth": 0,
             "ticks": ""
            },
            "type": "choropleth"
           }
          ],
          "contour": [
           {
            "colorbar": {
             "outlinewidth": 0,
             "ticks": ""
            },
            "colorscale": [
             [
              0,
              "#0d0887"
             ],
             [
              0.1111111111111111,
              "#46039f"
             ],
             [
              0.2222222222222222,
              "#7201a8"
             ],
             [
              0.3333333333333333,
              "#9c179e"
             ],
             [
              0.4444444444444444,
              "#bd3786"
             ],
             [
              0.5555555555555556,
              "#d8576b"
             ],
             [
              0.6666666666666666,
              "#ed7953"
             ],
             [
              0.7777777777777778,
              "#fb9f3a"
             ],
             [
              0.8888888888888888,
              "#fdca26"
             ],
             [
              1,
              "#f0f921"
             ]
            ],
            "type": "contour"
           }
          ],
          "contourcarpet": [
           {
            "colorbar": {
             "outlinewidth": 0,
             "ticks": ""
            },
            "type": "contourcarpet"
           }
          ],
          "heatmap": [
           {
            "colorbar": {
             "outlinewidth": 0,
             "ticks": ""
            },
            "colorscale": [
             [
              0,
              "#0d0887"
             ],
             [
              0.1111111111111111,
              "#46039f"
             ],
             [
              0.2222222222222222,
              "#7201a8"
             ],
             [
              0.3333333333333333,
              "#9c179e"
             ],
             [
              0.4444444444444444,
              "#bd3786"
             ],
             [
              0.5555555555555556,
              "#d8576b"
             ],
             [
              0.6666666666666666,
              "#ed7953"
             ],
             [
              0.7777777777777778,
              "#fb9f3a"
             ],
             [
              0.8888888888888888,
              "#fdca26"
             ],
             [
              1,
              "#f0f921"
             ]
            ],
            "type": "heatmap"
           }
          ],
          "histogram": [
           {
            "marker": {
             "pattern": {
              "fillmode": "overlay",
              "size": 10,
              "solidity": 0.2
             }
            },
            "type": "histogram"
           }
          ],
          "histogram2d": [
           {
            "colorbar": {
             "outlinewidth": 0,
             "ticks": ""
            },
            "colorscale": [
             [
              0,
              "#0d0887"
             ],
             [
              0.1111111111111111,
              "#46039f"
             ],
             [
              0.2222222222222222,
              "#7201a8"
             ],
             [
              0.3333333333333333,
              "#9c179e"
             ],
             [
              0.4444444444444444,
              "#bd3786"
             ],
             [
              0.5555555555555556,
              "#d8576b"
             ],
             [
              0.6666666666666666,
              "#ed7953"
             ],
             [
              0.7777777777777778,
              "#fb9f3a"
             ],
             [
              0.8888888888888888,
              "#fdca26"
             ],
             [
              1,
              "#f0f921"
             ]
            ],
            "type": "histogram2d"
           }
          ],
          "histogram2dcontour": [
           {
            "colorbar": {
             "outlinewidth": 0,
             "ticks": ""
            },
            "colorscale": [
             [
              0,
              "#0d0887"
             ],
             [
              0.1111111111111111,
              "#46039f"
             ],
             [
              0.2222222222222222,
              "#7201a8"
             ],
             [
              0.3333333333333333,
              "#9c179e"
             ],
             [
              0.4444444444444444,
              "#bd3786"
             ],
             [
              0.5555555555555556,
              "#d8576b"
             ],
             [
              0.6666666666666666,
              "#ed7953"
             ],
             [
              0.7777777777777778,
              "#fb9f3a"
             ],
             [
              0.8888888888888888,
              "#fdca26"
             ],
             [
              1,
              "#f0f921"
             ]
            ],
            "type": "histogram2dcontour"
           }
          ],
          "mesh3d": [
           {
            "colorbar": {
             "outlinewidth": 0,
             "ticks": ""
            },
            "type": "mesh3d"
           }
          ],
          "parcoords": [
           {
            "line": {
             "colorbar": {
              "outlinewidth": 0,
              "ticks": ""
             }
            },
            "type": "parcoords"
           }
          ],
          "pie": [
           {
            "automargin": true,
            "type": "pie"
           }
          ],
          "scatter": [
           {
            "fillpattern": {
             "fillmode": "overlay",
             "size": 10,
             "solidity": 0.2
            },
            "type": "scatter"
           }
          ],
          "scatter3d": [
           {
            "line": {
             "colorbar": {
              "outlinewidth": 0,
              "ticks": ""
             }
            },
            "marker": {
             "colorbar": {
              "outlinewidth": 0,
              "ticks": ""
             }
            },
            "type": "scatter3d"
           }
          ],
          "scattercarpet": [
           {
            "marker": {
             "colorbar": {
              "outlinewidth": 0,
              "ticks": ""
             }
            },
            "type": "scattercarpet"
           }
          ],
          "scattergeo": [
           {
            "marker": {
             "colorbar": {
              "outlinewidth": 0,
              "ticks": ""
             }
            },
            "type": "scattergeo"
           }
          ],
          "scattergl": [
           {
            "marker": {
             "colorbar": {
              "outlinewidth": 0,
              "ticks": ""
             }
            },
            "type": "scattergl"
           }
          ],
          "scattermap": [
           {
            "marker": {
             "colorbar": {
              "outlinewidth": 0,
              "ticks": ""
             }
            },
            "type": "scattermap"
           }
          ],
          "scattermapbox": [
           {
            "marker": {
             "colorbar": {
              "outlinewidth": 0,
              "ticks": ""
             }
            },
            "type": "scattermapbox"
           }
          ],
          "scatterpolar": [
           {
            "marker": {
             "colorbar": {
              "outlinewidth": 0,
              "ticks": ""
             }
            },
            "type": "scatterpolar"
           }
          ],
          "scatterpolargl": [
           {
            "marker": {
             "colorbar": {
              "outlinewidth": 0,
              "ticks": ""
             }
            },
            "type": "scatterpolargl"
           }
          ],
          "scatterternary": [
           {
            "marker": {
             "colorbar": {
              "outlinewidth": 0,
              "ticks": ""
             }
            },
            "type": "scatterternary"
           }
          ],
          "surface": [
           {
            "colorbar": {
             "outlinewidth": 0,
             "ticks": ""
            },
            "colorscale": [
             [
              0,
              "#0d0887"
             ],
             [
              0.1111111111111111,
              "#46039f"
             ],
             [
              0.2222222222222222,
              "#7201a8"
             ],
             [
              0.3333333333333333,
              "#9c179e"
             ],
             [
              0.4444444444444444,
              "#bd3786"
             ],
             [
              0.5555555555555556,
              "#d8576b"
             ],
             [
              0.6666666666666666,
              "#ed7953"
             ],
             [
              0.7777777777777778,
              "#fb9f3a"
             ],
             [
              0.8888888888888888,
              "#fdca26"
             ],
             [
              1,
              "#f0f921"
             ]
            ],
            "type": "surface"
           }
          ],
          "table": [
           {
            "cells": {
             "fill": {
              "color": "#EBF0F8"
             },
             "line": {
              "color": "white"
             }
            },
            "header": {
             "fill": {
              "color": "#C8D4E3"
             },
             "line": {
              "color": "white"
             }
            },
            "type": "table"
           }
          ]
         },
         "layout": {
          "annotationdefaults": {
           "arrowcolor": "#2a3f5f",
           "arrowhead": 0,
           "arrowwidth": 1
          },
          "autotypenumbers": "strict",
          "coloraxis": {
           "colorbar": {
            "outlinewidth": 0,
            "ticks": ""
           }
          },
          "colorscale": {
           "diverging": [
            [
             0,
             "#8e0152"
            ],
            [
             0.1,
             "#c51b7d"
            ],
            [
             0.2,
             "#de77ae"
            ],
            [
             0.3,
             "#f1b6da"
            ],
            [
             0.4,
             "#fde0ef"
            ],
            [
             0.5,
             "#f7f7f7"
            ],
            [
             0.6,
             "#e6f5d0"
            ],
            [
             0.7,
             "#b8e186"
            ],
            [
             0.8,
             "#7fbc41"
            ],
            [
             0.9,
             "#4d9221"
            ],
            [
             1,
             "#276419"
            ]
           ],
           "sequential": [
            [
             0,
             "#0d0887"
            ],
            [
             0.1111111111111111,
             "#46039f"
            ],
            [
             0.2222222222222222,
             "#7201a8"
            ],
            [
             0.3333333333333333,
             "#9c179e"
            ],
            [
             0.4444444444444444,
             "#bd3786"
            ],
            [
             0.5555555555555556,
             "#d8576b"
            ],
            [
             0.6666666666666666,
             "#ed7953"
            ],
            [
             0.7777777777777778,
             "#fb9f3a"
            ],
            [
             0.8888888888888888,
             "#fdca26"
            ],
            [
             1,
             "#f0f921"
            ]
           ],
           "sequentialminus": [
            [
             0,
             "#0d0887"
            ],
            [
             0.1111111111111111,
             "#46039f"
            ],
            [
             0.2222222222222222,
             "#7201a8"
            ],
            [
             0.3333333333333333,
             "#9c179e"
            ],
            [
             0.4444444444444444,
             "#bd3786"
            ],
            [
             0.5555555555555556,
             "#d8576b"
            ],
            [
             0.6666666666666666,
             "#ed7953"
            ],
            [
             0.7777777777777778,
             "#fb9f3a"
            ],
            [
             0.8888888888888888,
             "#fdca26"
            ],
            [
             1,
             "#f0f921"
            ]
           ]
          },
          "colorway": [
           "#636efa",
           "#EF553B",
           "#00cc96",
           "#ab63fa",
           "#FFA15A",
           "#19d3f3",
           "#FF6692",
           "#B6E880",
           "#FF97FF",
           "#FECB52"
          ],
          "font": {
           "color": "#2a3f5f"
          },
          "geo": {
           "bgcolor": "white",
           "lakecolor": "white",
           "landcolor": "#E5ECF6",
           "showlakes": true,
           "showland": true,
           "subunitcolor": "white"
          },
          "hoverlabel": {
           "align": "left"
          },
          "hovermode": "closest",
          "mapbox": {
           "style": "light"
          },
          "paper_bgcolor": "white",
          "plot_bgcolor": "#E5ECF6",
          "polar": {
           "angularaxis": {
            "gridcolor": "white",
            "linecolor": "white",
            "ticks": ""
           },
           "bgcolor": "#E5ECF6",
           "radialaxis": {
            "gridcolor": "white",
            "linecolor": "white",
            "ticks": ""
           }
          },
          "scene": {
           "xaxis": {
            "backgroundcolor": "#E5ECF6",
            "gridcolor": "white",
            "gridwidth": 2,
            "linecolor": "white",
            "showbackground": true,
            "ticks": "",
            "zerolinecolor": "white"
           },
           "yaxis": {
            "backgroundcolor": "#E5ECF6",
            "gridcolor": "white",
            "gridwidth": 2,
            "linecolor": "white",
            "showbackground": true,
            "ticks": "",
            "zerolinecolor": "white"
           },
           "zaxis": {
            "backgroundcolor": "#E5ECF6",
            "gridcolor": "white",
            "gridwidth": 2,
            "linecolor": "white",
            "showbackground": true,
            "ticks": "",
            "zerolinecolor": "white"
           }
          },
          "shapedefaults": {
           "line": {
            "color": "#2a3f5f"
           }
          },
          "ternary": {
           "aaxis": {
            "gridcolor": "white",
            "linecolor": "white",
            "ticks": ""
           },
           "baxis": {
            "gridcolor": "white",
            "linecolor": "white",
            "ticks": ""
           },
           "bgcolor": "#E5ECF6",
           "caxis": {
            "gridcolor": "white",
            "linecolor": "white",
            "ticks": ""
           }
          },
          "title": {
           "x": 0.05
          },
          "xaxis": {
           "automargin": true,
           "gridcolor": "white",
           "linecolor": "white",
           "ticks": "",
           "title": {
            "standoff": 15
           },
           "zerolinecolor": "white",
           "zerolinewidth": 2
          },
          "yaxis": {
           "automargin": true,
           "gridcolor": "white",
           "linecolor": "white",
           "ticks": "",
           "title": {
            "standoff": 15
           },
           "zerolinecolor": "white",
           "zerolinewidth": 2
          }
         }
        },
        "width": 600,
        "xaxis": {
         "anchor": "y",
         "domain": [
          0,
          1
         ],
         "title": {
          "text": "GrLivArea"
         }
        },
        "yaxis": {
         "anchor": "x",
         "domain": [
          0,
          1
         ],
         "title": {
          "text": "TotalBsmtSF"
         }
        }
       }
      }
     },
     "metadata": {},
     "output_type": "display_data"
    }
   ],
   "source": [
    "px.scatter(df, x='GrLivArea', y='TotalBsmtSF').update_layout(width=600, height=600)"
   ]
  },
  {
   "cell_type": "code",
   "execution_count": 11,
   "id": "1b0acc45",
   "metadata": {},
   "outputs": [
    {
     "data": {
      "application/vnd.plotly.v1+json": {
       "config": {
        "plotlyServerURL": "https://plot.ly"
       },
       "data": [
        {
         "hovertemplate": "BsmtFinSF1=%{x}<br>TotalBsmtSF=%{y}<extra></extra>",
         "legendgroup": "",
         "marker": {
          "color": "#636efa",
          "symbol": "circle"
         },
         "mode": "markers",
         "name": "",
         "showlegend": false,
         "type": "scattergl",
         "x": {
          "bdata": "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",
          "dtype": "i2"
         },
         "xaxis": "x",
         "y": {
          "bdata": "WAPuBJgD9AJ5BBwDlgZTBLgD3wMQBJcEkAPWBeUEQAPsAwAAWgQFBIYEfQLxBhAEJAQeBoQDqAbMBQgCiQLMBNIEdgUZBl0ESQQRBSEEAABABEYFSAOqA34E2AaaBXgG4AK7AxoDMAMwAzIHgAGRBcoDXAOCBQwDhgQSAloFQAIhBHcEmwetBesCGAWvCE0DQAM+BEgDzgG4A6AC6Aa4AYAD1QQbBikEgAEIBawCZAL1A94DAADTBGwDvgQ4A6gCNAbAA8oBtgNKBuUCAADKBBAEHQSBAhUDGQM0B+IDgAHwBBEHBATZAkQEZQSJBtgCqgPcAjgErwRSBQgCNgSgApQC8AOcA+ADJwTzBLUFGAW+BHMH7AOgA2ADxgaOA9IFwAbKA8sCdAM4BIADyQOuBjkDQgawBDwCAAAGA98DcAXQBCQGBQZyA30EhAJRBi4GSAOWBtACOAQoBFIFRgayBH8EHASoCMgD9AIZAwAAUgX4AVMEpASUAj4EOQZVA9UClwXKA2ADVwO+BlAF8wKxBmEErARpAlAD0AKQBXQETASFBEQEYAO8BIQD3gOxAi4EnAWuAh4D4ATaBfIDyQJgA1gJdgKzBOMBkANdBaoEtgXjAX4DXAPjAYYF5AOeBt8CHgauAhwCcgK0AzUH/ANXBUgDpAXYAiUGHgMWBSIFzwNgA0QGwwMAAFIFygX6AZ4DqAKOBSID0ALkAncERwRpBYAE2AQwA7gDGAZgA0kIiAQnA+4EIgW8BScGcQKQA1oDcgO6AjcEDAMAAxsDiAXrA44DzwO+AkQEjQQEBAUGfgO+BdAHvAI/AV0DaAe5AswDGQNYCNgCzAJNA0AEQwVcBeEEcATeBYoExgLQArcGZwVMA1QCwAYgBIYMTgWvA9sFggcABrgEvwTHA9ECAACUBhgCzAO+A8YF/AI4B00HrQVoAnACrAOwBIYEdgQmBD4EeANzAwAA4wEcA6ACcgVLBPQEJwS5AwAA6AJgAk8DqwJmAywGQAfWAwIEDQWrAxADLAboBJICEQS8BZIGXQMkAwAAFAPfAngEfgNgA8EDRATsBB4FoAJ1BCYDAQUoBEgDJwQKBPwEIAS+BfADOAQ8BaACWgX0AiAEQAVCBtwDvgWsBIsC7gWLA7gEcAXjAYUD/QKeA3YCHwOIAnQDuAGsAhYMoAU2BOoEkwOcBe0FogMMA4kCLQP9BWgDAAPABtoEcAJUBUwCxQJAAzACYAPLAhAEXwX9BNgCWgZAA9AFKAMjArgH1gXKA8YFaQipBosDKQcAB44DwATnA1kEMQTMBboDdgIIASYD2AL1BL4A0AKADAIEYAOQA6ACYgO+BN0FVwPAAwkDwgSxAhEE8ANYBWADPAQAA9YHsQLwBBoD/AQAANwE7ANCDGMF6QSgA6wFEALzB7UFYwIAAAAAwwJdBHADYAMbBC0GLgfJA3IG0wKOArQEKQQAAzkDkAMtBKADrQYAAOYD4QNEBH0C2QJeBXAFbQXkA4sERwQmA2IE7QXYBa8DwAZgA04DgAF0AUADXQOMBLECGgR4BPoHMAPVBHQDTAcwA0gDnQXmAgIDugYwA1ADnAMWB6wC6gSWBcwCIgQMA4wDWALWBQADEASAA8UDBQSgBQgEEwVgBHYCqAMPA0ADHgfKBWAD8gXUA/QC3AJcBNIDhAQQBOAEfAISBmoFIAQgBKAFCAErAxwD8AXuBSEEoAcMA+YG1QMAAEYE9AJ2Ai0D8wJwA/QCPQgNAh0ECAOQA84FGQNdBnAFcgQdCH4F/QOABaQEvALiAqACuATFBXAEVwNHBAAD/gfcA5sDGQMLBVoGqwSmBGoDJwKLBVIFUAOMCboEMQSfA1gEaALUA34DbwUIB4wE0gRoAcEFAABrBiwF2AJsAw4BWwPMBMAD1QIoBM4CmAQfBcsDzgZQA2ADrQOiBmADcAPQBDAGDAM7BmQDgQRgA7QDcAMAAH0DsARgAwgBkANFBQgCOQV2BLgD2AS4BgAAQAKUAscFBgQCBNkCYgOgAugCJgVgA3kE9ALkBNYF2gXUA9cDRAdyBloDRAMFBJADjwe0BE4GYAMAAM8D1QT5AoUFSQTmAlwFrgK8A4UDQAN5BAUEXQTYBcgCigKUAgUDhgfbAmgCrATYAsYGqAOJBdQDLAUABFEDEARQAxwCogWuAnEG8AMgBvIDTgUeA6gDTwMKA9EFHggQA64F9QNYAnAFWAKtA+wFeAQrBBcG4wFLBAADoAKKAmcECAdsA24F5AJgA4sDEAJQA/kElgNnBOMGEASsA74CQgQeBJADDwQQBHwEXAXqA2YGEAQAABoEfgMkA2kAQAOkAqAEKAS2BVUEYANCBIQEKAMbA3wDogZaBjADqQjhBaAClgMjBGcFAAAMA7cDAAAaCZADWgPgAw8DhgZsAyAEVwb5A2AD5gJRBPQEAAPpA2QCIgLgAW4EUASgBKAD+AQkBUQGlgZmBJ0EQAPZBsQDugWdA3EH3AVJAlgCmARZBG8FCATABuADoAVgBjMDQAR4BFAGqAOJBGADPAMAAxADsQPTAzECIQQ5BbgCWgMyBSQDCAcxAw8D2AJKBFgCTALQAvwClgOUBdgCoQK4AdkEfgNhBLADyQTyBGgEAACMBOUBigdQAwIDdAWUAzYD7gKkBusCGgSiBe8DowQAALMCJgaQBkIF2QN5BiICrgbwA9ACAABaAv4DOgQqA+AFxASAAVIFbASvBJADQgUdBnID9ARmBgADoAKuAjgDOgV2BpgDAABUBh8EIgJ2Am4EIAMaBcMF3AkAAMgH3gMAAAAAFgUkBTADwAQpBKkEVAXNA1AEVgM6BX4DlgJPBIIEGgUfAwwDrgNNAxgE1wIqA7IC2AQgAxwDSARQA94D6gQQBLMF4wSzAqgDIgI6BMoD3wQAAFgCnQRgA6gDIgWsAjIEoAL3BCIBtgPyA48CdgK3BY4DZAOcAywHBQMjAzAD8ANBA8YGmAF+AxUCEAT0AxAGoAK6AoAB7QNdBfoFTwOoA2IEzgPwA2gElAPAAwgEDAMfBpMDuAMMA7oF7gOgAhIEEgXAAjwCigKkA7oFMQQwA2ADnQXDBCIFLAaFA1cDEAV+A64EUAXeBZ4GvwNnBIoHSATtBHECPga4A5MGbAMyA9sCAADABEAGXAlgBCQGEAPSA1gGPwPiA+EECAO+AsgElwLYAm8DLwO8BBsEYANiA3QDXgYgBG4IIASSBqMDfAYfBC8CoAKIAp0DfgMAABQFAACgApADuAMQBFgIFANMAn4DkAOmBjMEUQVSBAAApASsA+sC/AJPA3UExAV0A5kGHQQcCBgDSQL0AvQD3wJsAz4IfQVgA6gE6gJ0A8IHYANYAx4ESQMaBFAE/AJ9BbMCnQPSB9gCagM0BdEFpwP7A5UCoAPTApAGaAS6AiUGHQUQBJADJAMMAzAFWAbdBT0EgAR2AuIDQANgAxwEYAQjAt4X3gTSAwMDjQRQBtADdAZYBd4DnAP+BG4H+gStBXEFtAO4A1YGSAXZBmADxgUAAO4CpAEDBxwDIAIwA+YFpwM0Bo8DMAMjA/0CRgV4BrUClANgA1oDWgQEBYAD2ALAAyAGxAbKBawC4ARaA7oC8QfgAzoCYAM2BPQCvAdkAvoFywJoAlgCLgNpA/UCUAN5BkgD4ANUBEkKAgQjBgAD2APjAYABYAO1BFQCMAMwAhwDcAXKAtIG3wL1BTAGYAPiAUwFRgTrAqsDuATQA14DRwMGBc0FoAI6BgADQQNuAhcDsANYAwAANAdBA2oFCQMEBXgENAfEAi0EUAO5AgAE5ATHBJEDFAOgBdwCvgOQAqgDZgQnBWADjAeQAxsCTAJQA/kDuAOOBS4DpATEBDACdgKAAyUGIwJ0BMUEuQMGBoAENgToBA==",
          "dtype": "i2"
         },
         "yaxis": "y"
        }
       ],
       "layout": {
        "height": 600,
        "legend": {
         "tracegroupgap": 0
        },
        "margin": {
         "t": 60
        },
        "template": {
         "data": {
          "bar": [
           {
            "error_x": {
             "color": "#2a3f5f"
            },
            "error_y": {
             "color": "#2a3f5f"
            },
            "marker": {
             "line": {
              "color": "#E5ECF6",
              "width": 0.5
             },
             "pattern": {
              "fillmode": "overlay",
              "size": 10,
              "solidity": 0.2
             }
            },
            "type": "bar"
           }
          ],
          "barpolar": [
           {
            "marker": {
             "line": {
              "color": "#E5ECF6",
              "width": 0.5
             },
             "pattern": {
              "fillmode": "overlay",
              "size": 10,
              "solidity": 0.2
             }
            },
            "type": "barpolar"
           }
          ],
          "carpet": [
           {
            "aaxis": {
             "endlinecolor": "#2a3f5f",
             "gridcolor": "white",
             "linecolor": "white",
             "minorgridcolor": "white",
             "startlinecolor": "#2a3f5f"
            },
            "baxis": {
             "endlinecolor": "#2a3f5f",
             "gridcolor": "white",
             "linecolor": "white",
             "minorgridcolor": "white",
             "startlinecolor": "#2a3f5f"
            },
            "type": "carpet"
           }
          ],
          "choropleth": [
           {
            "colorbar": {
             "outlinewidth": 0,
             "ticks": ""
            },
            "type": "choropleth"
           }
          ],
          "contour": [
           {
            "colorbar": {
             "outlinewidth": 0,
             "ticks": ""
            },
            "colorscale": [
             [
              0,
              "#0d0887"
             ],
             [
              0.1111111111111111,
              "#46039f"
             ],
             [
              0.2222222222222222,
              "#7201a8"
             ],
             [
              0.3333333333333333,
              "#9c179e"
             ],
             [
              0.4444444444444444,
              "#bd3786"
             ],
             [
              0.5555555555555556,
              "#d8576b"
             ],
             [
              0.6666666666666666,
              "#ed7953"
             ],
             [
              0.7777777777777778,
              "#fb9f3a"
             ],
             [
              0.8888888888888888,
              "#fdca26"
             ],
             [
              1,
              "#f0f921"
             ]
            ],
            "type": "contour"
           }
          ],
          "contourcarpet": [
           {
            "colorbar": {
             "outlinewidth": 0,
             "ticks": ""
            },
            "type": "contourcarpet"
           }
          ],
          "heatmap": [
           {
            "colorbar": {
             "outlinewidth": 0,
             "ticks": ""
            },
            "colorscale": [
             [
              0,
              "#0d0887"
             ],
             [
              0.1111111111111111,
              "#46039f"
             ],
             [
              0.2222222222222222,
              "#7201a8"
             ],
             [
              0.3333333333333333,
              "#9c179e"
             ],
             [
              0.4444444444444444,
              "#bd3786"
             ],
             [
              0.5555555555555556,
              "#d8576b"
             ],
             [
              0.6666666666666666,
              "#ed7953"
             ],
             [
              0.7777777777777778,
              "#fb9f3a"
             ],
             [
              0.8888888888888888,
              "#fdca26"
             ],
             [
              1,
              "#f0f921"
             ]
            ],
            "type": "heatmap"
           }
          ],
          "histogram": [
           {
            "marker": {
             "pattern": {
              "fillmode": "overlay",
              "size": 10,
              "solidity": 0.2
             }
            },
            "type": "histogram"
           }
          ],
          "histogram2d": [
           {
            "colorbar": {
             "outlinewidth": 0,
             "ticks": ""
            },
            "colorscale": [
             [
              0,
              "#0d0887"
             ],
             [
              0.1111111111111111,
              "#46039f"
             ],
             [
              0.2222222222222222,
              "#7201a8"
             ],
             [
              0.3333333333333333,
              "#9c179e"
             ],
             [
              0.4444444444444444,
              "#bd3786"
             ],
             [
              0.5555555555555556,
              "#d8576b"
             ],
             [
              0.6666666666666666,
              "#ed7953"
             ],
             [
              0.7777777777777778,
              "#fb9f3a"
             ],
             [
              0.8888888888888888,
              "#fdca26"
             ],
             [
              1,
              "#f0f921"
             ]
            ],
            "type": "histogram2d"
           }
          ],
          "histogram2dcontour": [
           {
            "colorbar": {
             "outlinewidth": 0,
             "ticks": ""
            },
            "colorscale": [
             [
              0,
              "#0d0887"
             ],
             [
              0.1111111111111111,
              "#46039f"
             ],
             [
              0.2222222222222222,
              "#7201a8"
             ],
             [
              0.3333333333333333,
              "#9c179e"
             ],
             [
              0.4444444444444444,
              "#bd3786"
             ],
             [
              0.5555555555555556,
              "#d8576b"
             ],
             [
              0.6666666666666666,
              "#ed7953"
             ],
             [
              0.7777777777777778,
              "#fb9f3a"
             ],
             [
              0.8888888888888888,
              "#fdca26"
             ],
             [
              1,
              "#f0f921"
             ]
            ],
            "type": "histogram2dcontour"
           }
          ],
          "mesh3d": [
           {
            "colorbar": {
             "outlinewidth": 0,
             "ticks": ""
            },
            "type": "mesh3d"
           }
          ],
          "parcoords": [
           {
            "line": {
             "colorbar": {
              "outlinewidth": 0,
              "ticks": ""
             }
            },
            "type": "parcoords"
           }
          ],
          "pie": [
           {
            "automargin": true,
            "type": "pie"
           }
          ],
          "scatter": [
           {
            "fillpattern": {
             "fillmode": "overlay",
             "size": 10,
             "solidity": 0.2
            },
            "type": "scatter"
           }
          ],
          "scatter3d": [
           {
            "line": {
             "colorbar": {
              "outlinewidth": 0,
              "ticks": ""
             }
            },
            "marker": {
             "colorbar": {
              "outlinewidth": 0,
              "ticks": ""
             }
            },
            "type": "scatter3d"
           }
          ],
          "scattercarpet": [
           {
            "marker": {
             "colorbar": {
              "outlinewidth": 0,
              "ticks": ""
             }
            },
            "type": "scattercarpet"
           }
          ],
          "scattergeo": [
           {
            "marker": {
             "colorbar": {
              "outlinewidth": 0,
              "ticks": ""
             }
            },
            "type": "scattergeo"
           }
          ],
          "scattergl": [
           {
            "marker": {
             "colorbar": {
              "outlinewidth": 0,
              "ticks": ""
             }
            },
            "type": "scattergl"
           }
          ],
          "scattermap": [
           {
            "marker": {
             "colorbar": {
              "outlinewidth": 0,
              "ticks": ""
             }
            },
            "type": "scattermap"
           }
          ],
          "scattermapbox": [
           {
            "marker": {
             "colorbar": {
              "outlinewidth": 0,
              "ticks": ""
             }
            },
            "type": "scattermapbox"
           }
          ],
          "scatterpolar": [
           {
            "marker": {
             "colorbar": {
              "outlinewidth": 0,
              "ticks": ""
             }
            },
            "type": "scatterpolar"
           }
          ],
          "scatterpolargl": [
           {
            "marker": {
             "colorbar": {
              "outlinewidth": 0,
              "ticks": ""
             }
            },
            "type": "scatterpolargl"
           }
          ],
          "scatterternary": [
           {
            "marker": {
             "colorbar": {
              "outlinewidth": 0,
              "ticks": ""
             }
            },
            "type": "scatterternary"
           }
          ],
          "surface": [
           {
            "colorbar": {
             "outlinewidth": 0,
             "ticks": ""
            },
            "colorscale": [
             [
              0,
              "#0d0887"
             ],
             [
              0.1111111111111111,
              "#46039f"
             ],
             [
              0.2222222222222222,
              "#7201a8"
             ],
             [
              0.3333333333333333,
              "#9c179e"
             ],
             [
              0.4444444444444444,
              "#bd3786"
             ],
             [
              0.5555555555555556,
              "#d8576b"
             ],
             [
              0.6666666666666666,
              "#ed7953"
             ],
             [
              0.7777777777777778,
              "#fb9f3a"
             ],
             [
              0.8888888888888888,
              "#fdca26"
             ],
             [
              1,
              "#f0f921"
             ]
            ],
            "type": "surface"
           }
          ],
          "table": [
           {
            "cells": {
             "fill": {
              "color": "#EBF0F8"
             },
             "line": {
              "color": "white"
             }
            },
            "header": {
             "fill": {
              "color": "#C8D4E3"
             },
             "line": {
              "color": "white"
             }
            },
            "type": "table"
           }
          ]
         },
         "layout": {
          "annotationdefaults": {
           "arrowcolor": "#2a3f5f",
           "arrowhead": 0,
           "arrowwidth": 1
          },
          "autotypenumbers": "strict",
          "coloraxis": {
           "colorbar": {
            "outlinewidth": 0,
            "ticks": ""
           }
          },
          "colorscale": {
           "diverging": [
            [
             0,
             "#8e0152"
            ],
            [
             0.1,
             "#c51b7d"
            ],
            [
             0.2,
             "#de77ae"
            ],
            [
             0.3,
             "#f1b6da"
            ],
            [
             0.4,
             "#fde0ef"
            ],
            [
             0.5,
             "#f7f7f7"
            ],
            [
             0.6,
             "#e6f5d0"
            ],
            [
             0.7,
             "#b8e186"
            ],
            [
             0.8,
             "#7fbc41"
            ],
            [
             0.9,
             "#4d9221"
            ],
            [
             1,
             "#276419"
            ]
           ],
           "sequential": [
            [
             0,
             "#0d0887"
            ],
            [
             0.1111111111111111,
             "#46039f"
            ],
            [
             0.2222222222222222,
             "#7201a8"
            ],
            [
             0.3333333333333333,
             "#9c179e"
            ],
            [
             0.4444444444444444,
             "#bd3786"
            ],
            [
             0.5555555555555556,
             "#d8576b"
            ],
            [
             0.6666666666666666,
             "#ed7953"
            ],
            [
             0.7777777777777778,
             "#fb9f3a"
            ],
            [
             0.8888888888888888,
             "#fdca26"
            ],
            [
             1,
             "#f0f921"
            ]
           ],
           "sequentialminus": [
            [
             0,
             "#0d0887"
            ],
            [
             0.1111111111111111,
             "#46039f"
            ],
            [
             0.2222222222222222,
             "#7201a8"
            ],
            [
             0.3333333333333333,
             "#9c179e"
            ],
            [
             0.4444444444444444,
             "#bd3786"
            ],
            [
             0.5555555555555556,
             "#d8576b"
            ],
            [
             0.6666666666666666,
             "#ed7953"
            ],
            [
             0.7777777777777778,
             "#fb9f3a"
            ],
            [
             0.8888888888888888,
             "#fdca26"
            ],
            [
             1,
             "#f0f921"
            ]
           ]
          },
          "colorway": [
           "#636efa",
           "#EF553B",
           "#00cc96",
           "#ab63fa",
           "#FFA15A",
           "#19d3f3",
           "#FF6692",
           "#B6E880",
           "#FF97FF",
           "#FECB52"
          ],
          "font": {
           "color": "#2a3f5f"
          },
          "geo": {
           "bgcolor": "white",
           "lakecolor": "white",
           "landcolor": "#E5ECF6",
           "showlakes": true,
           "showland": true,
           "subunitcolor": "white"
          },
          "hoverlabel": {
           "align": "left"
          },
          "hovermode": "closest",
          "mapbox": {
           "style": "light"
          },
          "paper_bgcolor": "white",
          "plot_bgcolor": "#E5ECF6",
          "polar": {
           "angularaxis": {
            "gridcolor": "white",
            "linecolor": "white",
            "ticks": ""
           },
           "bgcolor": "#E5ECF6",
           "radialaxis": {
            "gridcolor": "white",
            "linecolor": "white",
            "ticks": ""
           }
          },
          "scene": {
           "xaxis": {
            "backgroundcolor": "#E5ECF6",
            "gridcolor": "white",
            "gridwidth": 2,
            "linecolor": "white",
            "showbackground": true,
            "ticks": "",
            "zerolinecolor": "white"
           },
           "yaxis": {
            "backgroundcolor": "#E5ECF6",
            "gridcolor": "white",
            "gridwidth": 2,
            "linecolor": "white",
            "showbackground": true,
            "ticks": "",
            "zerolinecolor": "white"
           },
           "zaxis": {
            "backgroundcolor": "#E5ECF6",
            "gridcolor": "white",
            "gridwidth": 2,
            "linecolor": "white",
            "showbackground": true,
            "ticks": "",
            "zerolinecolor": "white"
           }
          },
          "shapedefaults": {
           "line": {
            "color": "#2a3f5f"
           }
          },
          "ternary": {
           "aaxis": {
            "gridcolor": "white",
            "linecolor": "white",
            "ticks": ""
           },
           "baxis": {
            "gridcolor": "white",
            "linecolor": "white",
            "ticks": ""
           },
           "bgcolor": "#E5ECF6",
           "caxis": {
            "gridcolor": "white",
            "linecolor": "white",
            "ticks": ""
           }
          },
          "title": {
           "x": 0.05
          },
          "xaxis": {
           "automargin": true,
           "gridcolor": "white",
           "linecolor": "white",
           "ticks": "",
           "title": {
            "standoff": 15
           },
           "zerolinecolor": "white",
           "zerolinewidth": 2
          },
          "yaxis": {
           "automargin": true,
           "gridcolor": "white",
           "linecolor": "white",
           "ticks": "",
           "title": {
            "standoff": 15
           },
           "zerolinecolor": "white",
           "zerolinewidth": 2
          }
         }
        },
        "width": 600,
        "xaxis": {
         "anchor": "y",
         "domain": [
          0,
          1
         ],
         "title": {
          "text": "BsmtFinSF1"
         }
        },
        "yaxis": {
         "anchor": "x",
         "domain": [
          0,
          1
         ],
         "title": {
          "text": "TotalBsmtSF"
         }
        }
       }
      }
     },
     "metadata": {},
     "output_type": "display_data"
    }
   ],
   "source": [
    "px.scatter(df, x='BsmtFinSF1', y='TotalBsmtSF').update_layout(width=600, height=600)"
   ]
  },
  {
   "cell_type": "markdown",
   "id": "22a5c361",
   "metadata": {},
   "source": [
    "Hypotheses confirmed for the other things, too :)"
   ]
  },
  {
   "cell_type": "markdown",
   "id": "f565143c",
   "metadata": {},
   "source": [
    "I wanna see how the model does without all of these living areas. Will do that after reviewing the rest of the features."
   ]
  },
  {
   "cell_type": "markdown",
   "id": "9330f0cb",
   "metadata": {},
   "source": [
    "GarageCars: Size of garage in car capacity\n",
    "\n",
    "I'd say a garage is not necessarily related to the size of the house as it's usually an appendix to the house."
   ]
  },
  {
   "cell_type": "code",
   "execution_count": 12,
   "id": "a64e92ab",
   "metadata": {},
   "outputs": [
    {
     "data": {
      "application/vnd.plotly.v1+json": {
       "config": {
        "plotlyServerURL": "https://plot.ly"
       },
       "data": [
        {
         "alignmentgroup": "True",
         "hovertemplate": "GarageCars=2<br>GrLivArea=%{x}<extra></extra>",
         "legendgroup": "2",
         "marker": {
          "color": "#636efa"
         },
         "name": "2",
         "notched": false,
         "offsetgroup": "2",
         "orientation": "h",
         "showlegend": true,
         "type": "box",
         "x": {
          "bdata": "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",
          "dtype": "i2"
         },
         "x0": " ",
         "xaxis": "x",
         "y0": " ",
         "yaxis": "y"
        },
        {
         "alignmentgroup": "True",
         "hovertemplate": "GarageCars=3<br>GrLivArea=%{x}<extra></extra>",
         "legendgroup": "3",
         "marker": {
          "color": "#EF553B"
         },
         "name": "3",
         "notched": false,
         "offsetgroup": "3",
         "orientation": "h",
         "showlegend": true,
         "type": "box",
         "x": {
          "bdata": "tQaWCBQJ1gVICUAGqAaUCXgGMgeBC6kJGwbKBIgKlgynBzwHrgawB2wKcQi6CBgOvgaxBlgJ2AnqCp4GDgqTB94ISQi8BQUGpQ3QB8MImAenB1YKJAqkCV0GggeoCkAHHAl8CB4IMQhACkYKYgnqBEAFYga4B1MKtgY6BwAH5AcoCUQSXgmZCi4H7QiHCLUG/gfICfoH7Af4CCIHegVpCCQH1ggfBuYGQQiQCTEI7gb+B4QG3BAIBxAKcgmiBvAGCQcyCOMJPQnPDLUHTgZEDAYLmQYkCIgFbgawCDwJhgZkBtIHTwhGCboFcQeqB10GNAqUB1gJtgYmBm4G2Al2BlQGNAuICH4D2AShBywHxgYQBhMG+gUMCywGngYrDnwRJAZYBkcHlAiNB6YGmQYcCAoE4gd3DbIH3glQBicKXgb7BgMHNAbwBqYMSQe8B0kKpgcjBtIGMAbcBbIJuAW+BCEGkgmMB9cHKgY=",
          "dtype": "i2"
         },
         "x0": " ",
         "xaxis": "x",
         "y0": " ",
         "yaxis": "y"
        },
        {
         "alignmentgroup": "True",
         "hovertemplate": "GarageCars=1<br>GrLivArea=%{x}<extra></extra>",
         "legendgroup": "1",
         "marker": {
          "color": "#00cc96"
         },
         "name": "1",
         "notched": false,
         "offsetgroup": "1",
         "orientation": "h",
         "showlegend": true,
         "type": "box",
         "x": {
          "bdata": "NQQQBJAD5QQ7BVQEJARABggCJQXMBCEEMAWqA34EuwMMA1cE6wJFBtwDuAMFBV4IwANDAxoHFwQVAz8HEAlEBGMEOAS+BGsDQAWwBFAGSwcKBzwFeAZgAx4FBAWgBkwEcAXUBDAFFgXbA5ADqgTbA34D2wPPBaAFwQSIBxYFIgVyA5AICgNZBGAGMAOEA3QFtAYWBoAEOAXMA4sEZwWoBMAGIAS/BEkDWAQpBr4DVwQ7BkgF4QXbA0AFlwX0BPACJwWbBmUEVwVyAwoEeAQUBzUEoAJnBpAG/ARuBCAErARtBYsD2wOIA7YCYAWfBC0DggazBGADfAZsBiIH5wNZBHYCGAUqBvUEdgMcB4MDkAPCBBEEUwUVAyAI3ASgAzsDhwT/AqADGAREBDgFbwZgA1UEwATFBQMHJQZGA8EFpwOcA1gFXwXYBwUEjgXwBdYGIARrBeYFvQVEBB0E3gWyBZwEWQVwBBgDmwPwBTEEaAJ8BH4DiAOaBMsDvgV4BLQDkAP5BWAD1gaQA3QGhQMFA+gGaATUA6IF4gTwA9EF2wNLBLAEygVgA24GEASSBXwEfgP0BGsEYAO2CHwDcQUsBGcFtwPUBFoDGgWGAycECQj0BPcDRATgAc0EnQNjCXgExQMAAxwFSgRHBJYDjARjBs4EGgQ1BLMC2QNEBPcE3gX+AzoE4ARgBcIEugNNA3YCogP2BRgEsAXMBkgE3gMQBOMERASoAywFtgG2A24EMAPwA0EDQQYQBPQDwAOiCNoD5AScAygGHAZXBKQDMANeBJsDyAQ/BcUEwAVIBZoGYANEBSAEoALAA+cDfgOQA7sENgdyBOMF+AbcA2oDVwUaBPwGYQf0BacDTQWPCYQFFgVECRwE3gTWBbQDtAPQAjADMANQBWADwAN8A8oGwwVeBX0GFgPbA2AD6gSCBN4JhAPpBXAHSAaGBIQGeARABRYGJAPIA7gDkQOkBEIFJAk2BOgE",
          "dtype": "i2"
         },
         "x0": " ",
         "xaxis": "x",
         "y0": " ",
         "yaxis": "y"
        },
        {
         "alignmentgroup": "True",
         "hovertemplate": "GarageCars=0<br>GrLivArea=%{x}<extra></extra>",
         "legendgroup": "0",
         "marker": {
          "color": "#ab63fa"
         },
         "name": "0",
         "notched": false,
         "offsetgroup": "0",
         "orientation": "h",
         "showlegend": true,
         "type": "box",
         "x": {
          "bdata": "gASsBegG9gXeA8kE7QXyAkgDYAM4BEgEcgNLBbUIYANiAxoFWgO0Bn4FiAOgBBQDrgR2AqAFEATQAg4FXQJOAUMF5AMwA2AEdgJgA0MNIAMcA3YCRATZArAEdATMBRADCAeYCKAF1ANaA8gDqARlA/IFgAaIB0AFSwW6As4D/APuAw4MZASQA8IErAdgAyAHxAIcAwYDtQI2CUEDdgIAB3QE",
          "dtype": "i2"
         },
         "x0": " ",
         "xaxis": "x",
         "y0": " ",
         "yaxis": "y"
        },
        {
         "alignmentgroup": "True",
         "hovertemplate": "GarageCars=4<br>GrLivArea=%{x}<extra></extra>",
         "legendgroup": "4",
         "marker": {
          "color": "#FFA15A"
         },
         "name": "4",
         "notched": false,
         "offsetgroup": "4",
         "orientation": "h",
         "showlegend": true,
         "type": "box",
         "x": {
          "bdata": "QAVQClYGaANKCg==",
          "dtype": "i2"
         },
         "x0": " ",
         "xaxis": "x",
         "y0": " ",
         "yaxis": "y"
        }
       ],
       "layout": {
        "boxmode": "group",
        "legend": {
         "title": {
          "text": "GarageCars"
         },
         "tracegroupgap": 0
        },
        "margin": {
         "t": 60
        },
        "template": {
         "data": {
          "bar": [
           {
            "error_x": {
             "color": "#2a3f5f"
            },
            "error_y": {
             "color": "#2a3f5f"
            },
            "marker": {
             "line": {
              "color": "#E5ECF6",
              "width": 0.5
             },
             "pattern": {
              "fillmode": "overlay",
              "size": 10,
              "solidity": 0.2
             }
            },
            "type": "bar"
           }
          ],
          "barpolar": [
           {
            "marker": {
             "line": {
              "color": "#E5ECF6",
              "width": 0.5
             },
             "pattern": {
              "fillmode": "overlay",
              "size": 10,
              "solidity": 0.2
             }
            },
            "type": "barpolar"
           }
          ],
          "carpet": [
           {
            "aaxis": {
             "endlinecolor": "#2a3f5f",
             "gridcolor": "white",
             "linecolor": "white",
             "minorgridcolor": "white",
             "startlinecolor": "#2a3f5f"
            },
            "baxis": {
             "endlinecolor": "#2a3f5f",
             "gridcolor": "white",
             "linecolor": "white",
             "minorgridcolor": "white",
             "startlinecolor": "#2a3f5f"
            },
            "type": "carpet"
           }
          ],
          "choropleth": [
           {
            "colorbar": {
             "outlinewidth": 0,
             "ticks": ""
            },
            "type": "choropleth"
           }
          ],
          "contour": [
           {
            "colorbar": {
             "outlinewidth": 0,
             "ticks": ""
            },
            "colorscale": [
             [
              0,
              "#0d0887"
             ],
             [
              0.1111111111111111,
              "#46039f"
             ],
             [
              0.2222222222222222,
              "#7201a8"
             ],
             [
              0.3333333333333333,
              "#9c179e"
             ],
             [
              0.4444444444444444,
              "#bd3786"
             ],
             [
              0.5555555555555556,
              "#d8576b"
             ],
             [
              0.6666666666666666,
              "#ed7953"
             ],
             [
              0.7777777777777778,
              "#fb9f3a"
             ],
             [
              0.8888888888888888,
              "#fdca26"
             ],
             [
              1,
              "#f0f921"
             ]
            ],
            "type": "contour"
           }
          ],
          "contourcarpet": [
           {
            "colorbar": {
             "outlinewidth": 0,
             "ticks": ""
            },
            "type": "contourcarpet"
           }
          ],
          "heatmap": [
           {
            "colorbar": {
             "outlinewidth": 0,
             "ticks": ""
            },
            "colorscale": [
             [
              0,
              "#0d0887"
             ],
             [
              0.1111111111111111,
              "#46039f"
             ],
             [
              0.2222222222222222,
              "#7201a8"
             ],
             [
              0.3333333333333333,
              "#9c179e"
             ],
             [
              0.4444444444444444,
              "#bd3786"
             ],
             [
              0.5555555555555556,
              "#d8576b"
             ],
             [
              0.6666666666666666,
              "#ed7953"
             ],
             [
              0.7777777777777778,
              "#fb9f3a"
             ],
             [
              0.8888888888888888,
              "#fdca26"
             ],
             [
              1,
              "#f0f921"
             ]
            ],
            "type": "heatmap"
           }
          ],
          "histogram": [
           {
            "marker": {
             "pattern": {
              "fillmode": "overlay",
              "size": 10,
              "solidity": 0.2
             }
            },
            "type": "histogram"
           }
          ],
          "histogram2d": [
           {
            "colorbar": {
             "outlinewidth": 0,
             "ticks": ""
            },
            "colorscale": [
             [
              0,
              "#0d0887"
             ],
             [
              0.1111111111111111,
              "#46039f"
             ],
             [
              0.2222222222222222,
              "#7201a8"
             ],
             [
              0.3333333333333333,
              "#9c179e"
             ],
             [
              0.4444444444444444,
              "#bd3786"
             ],
             [
              0.5555555555555556,
              "#d8576b"
             ],
             [
              0.6666666666666666,
              "#ed7953"
             ],
             [
              0.7777777777777778,
              "#fb9f3a"
             ],
             [
              0.8888888888888888,
              "#fdca26"
             ],
             [
              1,
              "#f0f921"
             ]
            ],
            "type": "histogram2d"
           }
          ],
          "histogram2dcontour": [
           {
            "colorbar": {
             "outlinewidth": 0,
             "ticks": ""
            },
            "colorscale": [
             [
              0,
              "#0d0887"
             ],
             [
              0.1111111111111111,
              "#46039f"
             ],
             [
              0.2222222222222222,
              "#7201a8"
             ],
             [
              0.3333333333333333,
              "#9c179e"
             ],
             [
              0.4444444444444444,
              "#bd3786"
             ],
             [
              0.5555555555555556,
              "#d8576b"
             ],
             [
              0.6666666666666666,
              "#ed7953"
             ],
             [
              0.7777777777777778,
              "#fb9f3a"
             ],
             [
              0.8888888888888888,
              "#fdca26"
             ],
             [
              1,
              "#f0f921"
             ]
            ],
            "type": "histogram2dcontour"
           }
          ],
          "mesh3d": [
           {
            "colorbar": {
             "outlinewidth": 0,
             "ticks": ""
            },
            "type": "mesh3d"
           }
          ],
          "parcoords": [
           {
            "line": {
             "colorbar": {
              "outlinewidth": 0,
              "ticks": ""
             }
            },
            "type": "parcoords"
           }
          ],
          "pie": [
           {
            "automargin": true,
            "type": "pie"
           }
          ],
          "scatter": [
           {
            "fillpattern": {
             "fillmode": "overlay",
             "size": 10,
             "solidity": 0.2
            },
            "type": "scatter"
           }
          ],
          "scatter3d": [
           {
            "line": {
             "colorbar": {
              "outlinewidth": 0,
              "ticks": ""
             }
            },
            "marker": {
             "colorbar": {
              "outlinewidth": 0,
              "ticks": ""
             }
            },
            "type": "scatter3d"
           }
          ],
          "scattercarpet": [
           {
            "marker": {
             "colorbar": {
              "outlinewidth": 0,
              "ticks": ""
             }
            },
            "type": "scattercarpet"
           }
          ],
          "scattergeo": [
           {
            "marker": {
             "colorbar": {
              "outlinewidth": 0,
              "ticks": ""
             }
            },
            "type": "scattergeo"
           }
          ],
          "scattergl": [
           {
            "marker": {
             "colorbar": {
              "outlinewidth": 0,
              "ticks": ""
             }
            },
            "type": "scattergl"
           }
          ],
          "scattermap": [
           {
            "marker": {
             "colorbar": {
              "outlinewidth": 0,
              "ticks": ""
             }
            },
            "type": "scattermap"
           }
          ],
          "scattermapbox": [
           {
            "marker": {
             "colorbar": {
              "outlinewidth": 0,
              "ticks": ""
             }
            },
            "type": "scattermapbox"
           }
          ],
          "scatterpolar": [
           {
            "marker": {
             "colorbar": {
              "outlinewidth": 0,
              "ticks": ""
             }
            },
            "type": "scatterpolar"
           }
          ],
          "scatterpolargl": [
           {
            "marker": {
             "colorbar": {
              "outlinewidth": 0,
              "ticks": ""
             }
            },
            "type": "scatterpolargl"
           }
          ],
          "scatterternary": [
           {
            "marker": {
             "colorbar": {
              "outlinewidth": 0,
              "ticks": ""
             }
            },
            "type": "scatterternary"
           }
          ],
          "surface": [
           {
            "colorbar": {
             "outlinewidth": 0,
             "ticks": ""
            },
            "colorscale": [
             [
              0,
              "#0d0887"
             ],
             [
              0.1111111111111111,
              "#46039f"
             ],
             [
              0.2222222222222222,
              "#7201a8"
             ],
             [
              0.3333333333333333,
              "#9c179e"
             ],
             [
              0.4444444444444444,
              "#bd3786"
             ],
             [
              0.5555555555555556,
              "#d8576b"
             ],
             [
              0.6666666666666666,
              "#ed7953"
             ],
             [
              0.7777777777777778,
              "#fb9f3a"
             ],
             [
              0.8888888888888888,
              "#fdca26"
             ],
             [
              1,
              "#f0f921"
             ]
            ],
            "type": "surface"
           }
          ],
          "table": [
           {
            "cells": {
             "fill": {
              "color": "#EBF0F8"
             },
             "line": {
              "color": "white"
             }
            },
            "header": {
             "fill": {
              "color": "#C8D4E3"
             },
             "line": {
              "color": "white"
             }
            },
            "type": "table"
           }
          ]
         },
         "layout": {
          "annotationdefaults": {
           "arrowcolor": "#2a3f5f",
           "arrowhead": 0,
           "arrowwidth": 1
          },
          "autotypenumbers": "strict",
          "coloraxis": {
           "colorbar": {
            "outlinewidth": 0,
            "ticks": ""
           }
          },
          "colorscale": {
           "diverging": [
            [
             0,
             "#8e0152"
            ],
            [
             0.1,
             "#c51b7d"
            ],
            [
             0.2,
             "#de77ae"
            ],
            [
             0.3,
             "#f1b6da"
            ],
            [
             0.4,
             "#fde0ef"
            ],
            [
             0.5,
             "#f7f7f7"
            ],
            [
             0.6,
             "#e6f5d0"
            ],
            [
             0.7,
             "#b8e186"
            ],
            [
             0.8,
             "#7fbc41"
            ],
            [
             0.9,
             "#4d9221"
            ],
            [
             1,
             "#276419"
            ]
           ],
           "sequential": [
            [
             0,
             "#0d0887"
            ],
            [
             0.1111111111111111,
             "#46039f"
            ],
            [
             0.2222222222222222,
             "#7201a8"
            ],
            [
             0.3333333333333333,
             "#9c179e"
            ],
            [
             0.4444444444444444,
             "#bd3786"
            ],
            [
             0.5555555555555556,
             "#d8576b"
            ],
            [
             0.6666666666666666,
             "#ed7953"
            ],
            [
             0.7777777777777778,
             "#fb9f3a"
            ],
            [
             0.8888888888888888,
             "#fdca26"
            ],
            [
             1,
             "#f0f921"
            ]
           ],
           "sequentialminus": [
            [
             0,
             "#0d0887"
            ],
            [
             0.1111111111111111,
             "#46039f"
            ],
            [
             0.2222222222222222,
             "#7201a8"
            ],
            [
             0.3333333333333333,
             "#9c179e"
            ],
            [
             0.4444444444444444,
             "#bd3786"
            ],
            [
             0.5555555555555556,
             "#d8576b"
            ],
            [
             0.6666666666666666,
             "#ed7953"
            ],
            [
             0.7777777777777778,
             "#fb9f3a"
            ],
            [
             0.8888888888888888,
             "#fdca26"
            ],
            [
             1,
             "#f0f921"
            ]
           ]
          },
          "colorway": [
           "#636efa",
           "#EF553B",
           "#00cc96",
           "#ab63fa",
           "#FFA15A",
           "#19d3f3",
           "#FF6692",
           "#B6E880",
           "#FF97FF",
           "#FECB52"
          ],
          "font": {
           "color": "#2a3f5f"
          },
          "geo": {
           "bgcolor": "white",
           "lakecolor": "white",
           "landcolor": "#E5ECF6",
           "showlakes": true,
           "showland": true,
           "subunitcolor": "white"
          },
          "hoverlabel": {
           "align": "left"
          },
          "hovermode": "closest",
          "mapbox": {
           "style": "light"
          },
          "paper_bgcolor": "white",
          "plot_bgcolor": "#E5ECF6",
          "polar": {
           "angularaxis": {
            "gridcolor": "white",
            "linecolor": "white",
            "ticks": ""
           },
           "bgcolor": "#E5ECF6",
           "radialaxis": {
            "gridcolor": "white",
            "linecolor": "white",
            "ticks": ""
           }
          },
          "scene": {
           "xaxis": {
            "backgroundcolor": "#E5ECF6",
            "gridcolor": "white",
            "gridwidth": 2,
            "linecolor": "white",
            "showbackground": true,
            "ticks": "",
            "zerolinecolor": "white"
           },
           "yaxis": {
            "backgroundcolor": "#E5ECF6",
            "gridcolor": "white",
            "gridwidth": 2,
            "linecolor": "white",
            "showbackground": true,
            "ticks": "",
            "zerolinecolor": "white"
           },
           "zaxis": {
            "backgroundcolor": "#E5ECF6",
            "gridcolor": "white",
            "gridwidth": 2,
            "linecolor": "white",
            "showbackground": true,
            "ticks": "",
            "zerolinecolor": "white"
           }
          },
          "shapedefaults": {
           "line": {
            "color": "#2a3f5f"
           }
          },
          "ternary": {
           "aaxis": {
            "gridcolor": "white",
            "linecolor": "white",
            "ticks": ""
           },
           "baxis": {
            "gridcolor": "white",
            "linecolor": "white",
            "ticks": ""
           },
           "bgcolor": "#E5ECF6",
           "caxis": {
            "gridcolor": "white",
            "linecolor": "white",
            "ticks": ""
           }
          },
          "title": {
           "x": 0.05
          },
          "xaxis": {
           "automargin": true,
           "gridcolor": "white",
           "linecolor": "white",
           "ticks": "",
           "title": {
            "standoff": 15
           },
           "zerolinecolor": "white",
           "zerolinewidth": 2
          },
          "yaxis": {
           "automargin": true,
           "gridcolor": "white",
           "linecolor": "white",
           "ticks": "",
           "title": {
            "standoff": 15
           },
           "zerolinecolor": "white",
           "zerolinewidth": 2
          }
         }
        },
        "xaxis": {
         "anchor": "y",
         "domain": [
          0,
          1
         ],
         "title": {
          "text": "GrLivArea"
         }
        },
        "yaxis": {
         "anchor": "x",
         "domain": [
          0,
          1
         ]
        }
       }
      }
     },
     "metadata": {},
     "output_type": "display_data"
    }
   ],
   "source": [
    "px.box(df, x='GrLivArea', color='GarageCars', category_orders={'color': sorted(list(df.GarageCars.astype(int).unique()))})"
   ]
  },
  {
   "cell_type": "markdown",
   "id": "54bc156e",
   "metadata": {},
   "source": [
    "Having a greater living area doesn't necessarily correlate with a garage space suitable for more cars, so we keep this one."
   ]
  },
  {
   "cell_type": "markdown",
   "id": "d9d4669f",
   "metadata": {},
   "source": [
    "YearBuilt: Original construction date\n",
    "\n",
    "There is also a year remodel date but I imagine that would be correlated with the Overall Quality of the house, whereas YearBuilt would be more about the architecture of the house."
   ]
  },
  {
   "cell_type": "code",
   "execution_count": 13,
   "id": "a902a209",
   "metadata": {},
   "outputs": [
    {
     "data": {
      "text/plain": [
       "0.0"
      ]
     },
     "execution_count": 13,
     "metadata": {},
     "output_type": "execute_result"
    }
   ],
   "source": [
    "df.YearBuilt.isna().mean()"
   ]
  },
  {
   "cell_type": "code",
   "execution_count": 14,
   "id": "06a97866",
   "metadata": {},
   "outputs": [
    {
     "data": {
      "text/plain": [
       "<Axes: >"
      ]
     },
     "execution_count": 14,
     "metadata": {},
     "output_type": "execute_result"
    },
    {
     "data": {
      "image/png": "[encoded data removed]",
      "text/plain": [
       "<Figure size 640x480 with 1 Axes>"
      ]
     },
     "metadata": {},
     "output_type": "display_data"
    }
   ],
   "source": [
    "df.YearBuilt.hist()"
   ]
  },
  {
   "cell_type": "code",
   "execution_count": 15,
   "id": "cd85f92d",
   "metadata": {},
   "outputs": [
    {
     "data": {
      "application/vnd.plotly.v1+json": {
       "config": {
        "plotlyServerURL": "https://plot.ly"
       },
       "data": [
        {
         "hovertemplate": "YearBuilt=%{x}<br>SalePrice=%{y}<extra></extra>",
         "legendgroup": "",
         "marker": {
          "color": "#636efa",
          "symbol": "circle"
         },
         "mode": "markers",
         "name": "",
         "showlegend": false,
         "type": "scattergl",
         "x": {
          "bdata": "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",
          "dtype": "i2"
         },
         "xaxis": "x",
         "y": {
          "bdata": "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",
          "dtype": "i4"
         },
         "yaxis": "y"
        }
       ],
       "layout": {
        "legend": {
         "tracegroupgap": 0
        },
        "margin": {
         "t": 60
        },
        "template": {
         "data": {
          "bar": [
           {
            "error_x": {
             "color": "#2a3f5f"
            },
            "error_y": {
             "color": "#2a3f5f"
            },
            "marker": {
             "line": {
              "color": "#E5ECF6",
              "width": 0.5
             },
             "pattern": {
              "fillmode": "overlay",
              "size": 10,
              "solidity": 0.2
             }
            },
            "type": "bar"
           }
          ],
          "barpolar": [
           {
            "marker": {
             "line": {
              "color": "#E5ECF6",
              "width": 0.5
             },
             "pattern": {
              "fillmode": "overlay",
              "size": 10,
              "solidity": 0.2
             }
            },
            "type": "barpolar"
           }
          ],
          "carpet": [
           {
            "aaxis": {
             "endlinecolor": "#2a3f5f",
             "gridcolor": "white",
             "linecolor": "white",
             "minorgridcolor": "white",
             "startlinecolor": "#2a3f5f"
            },
            "baxis": {
             "endlinecolor": "#2a3f5f",
             "gridcolor": "white",
             "linecolor": "white",
             "minorgridcolor": "white",
             "startlinecolor": "#2a3f5f"
            },
            "type": "carpet"
           }
          ],
          "choropleth": [
           {
            "colorbar": {
             "outlinewidth": 0,
             "ticks": ""
            },
            "type": "choropleth"
           }
          ],
          "contour": [
           {
            "colorbar": {
             "outlinewidth": 0,
             "ticks": ""
            },
            "colorscale": [
             [
              0,
              "#0d0887"
             ],
             [
              0.1111111111111111,
              "#46039f"
             ],
             [
              0.2222222222222222,
              "#7201a8"
             ],
             [
              0.3333333333333333,
              "#9c179e"
             ],
             [
              0.4444444444444444,
              "#bd3786"
             ],
             [
              0.5555555555555556,
              "#d8576b"
             ],
             [
              0.6666666666666666,
              "#ed7953"
             ],
             [
              0.7777777777777778,
              "#fb9f3a"
             ],
             [
              0.8888888888888888,
              "#fdca26"
             ],
             [
              1,
              "#f0f921"
             ]
            ],
            "type": "contour"
           }
          ],
          "contourcarpet": [
           {
            "colorbar": {
             "outlinewidth": 0,
             "ticks": ""
            },
            "type": "contourcarpet"
           }
          ],
          "heatmap": [
           {
            "colorbar": {
             "outlinewidth": 0,
             "ticks": ""
            },
            "colorscale": [
             [
              0,
              "#0d0887"
             ],
             [
              0.1111111111111111,
              "#46039f"
             ],
             [
              0.2222222222222222,
              "#7201a8"
             ],
             [
              0.3333333333333333,
              "#9c179e"
             ],
             [
              0.4444444444444444,
              "#bd3786"
             ],
             [
              0.5555555555555556,
              "#d8576b"
             ],
             [
              0.6666666666666666,
              "#ed7953"
             ],
             [
              0.7777777777777778,
              "#fb9f3a"
             ],
             [
              0.8888888888888888,
              "#fdca26"
             ],
             [
              1,
              "#f0f921"
             ]
            ],
            "type": "heatmap"
           }
          ],
          "histogram": [
           {
            "marker": {
             "pattern": {
              "fillmode": "overlay",
              "size": 10,
              "solidity": 0.2
             }
            },
            "type": "histogram"
           }
          ],
          "histogram2d": [
           {
            "colorbar": {
             "outlinewidth": 0,
             "ticks": ""
            },
            "colorscale": [
             [
              0,
              "#0d0887"
             ],
             [
              0.1111111111111111,
              "#46039f"
             ],
             [
              0.2222222222222222,
              "#7201a8"
             ],
             [
              0.3333333333333333,
              "#9c179e"
             ],
             [
              0.4444444444444444,
              "#bd3786"
             ],
             [
              0.5555555555555556,
              "#d8576b"
             ],
             [
              0.6666666666666666,
              "#ed7953"
             ],
             [
              0.7777777777777778,
              "#fb9f3a"
             ],
             [
              0.8888888888888888,
              "#fdca26"
             ],
             [
              1,
              "#f0f921"
             ]
            ],
            "type": "histogram2d"
           }
          ],
          "histogram2dcontour": [
           {
            "colorbar": {
             "outlinewidth": 0,
             "ticks": ""
            },
            "colorscale": [
             [
              0,
              "#0d0887"
             ],
             [
              0.1111111111111111,
              "#46039f"
             ],
             [
              0.2222222222222222,
              "#7201a8"
             ],
             [
              0.3333333333333333,
              "#9c179e"
             ],
             [
              0.4444444444444444,
              "#bd3786"
             ],
             [
              0.5555555555555556,
              "#d8576b"
             ],
             [
              0.6666666666666666,
              "#ed7953"
             ],
             [
              0.7777777777777778,
              "#fb9f3a"
             ],
             [
              0.8888888888888888,
              "#fdca26"
             ],
             [
              1,
              "#f0f921"
             ]
            ],
            "type": "histogram2dcontour"
           }
          ],
          "mesh3d": [
           {
            "colorbar": {
             "outlinewidth": 0,
             "ticks": ""
            },
            "type": "mesh3d"
           }
          ],
          "parcoords": [
           {
            "line": {
             "colorbar": {
              "outlinewidth": 0,
              "ticks": ""
             }
            },
            "type": "parcoords"
           }
          ],
          "pie": [
           {
            "automargin": true,
            "type": "pie"
           }
          ],
          "scatter": [
           {
            "fillpattern": {
             "fillmode": "overlay",
             "size": 10,
             "solidity": 0.2
            },
            "type": "scatter"
           }
          ],
          "scatter3d": [
           {
            "line": {
             "colorbar": {
              "outlinewidth": 0,
              "ticks": ""
             }
            },
            "marker": {
             "colorbar": {
              "outlinewidth": 0,
              "ticks": ""
             }
            },
            "type": "scatter3d"
           }
          ],
          "scattercarpet": [
           {
            "marker": {
             "colorbar": {
              "outlinewidth": 0,
              "ticks": ""
             }
            },
            "type": "scattercarpet"
           }
          ],
          "scattergeo": [
           {
            "marker": {
             "colorbar": {
              "outlinewidth": 0,
              "ticks": ""
             }
            },
            "type": "scattergeo"
           }
          ],
          "scattergl": [
           {
            "marker": {
             "colorbar": {
              "outlinewidth": 0,
              "ticks": ""
             }
            },
            "type": "scattergl"
           }
          ],
          "scattermap": [
           {
            "marker": {
             "colorbar": {
              "outlinewidth": 0,
              "ticks": ""
             }
            },
            "type": "scattermap"
           }
          ],
          "scattermapbox": [
           {
            "marker": {
             "colorbar": {
              "outlinewidth": 0,
              "ticks": ""
             }
            },
            "type": "scattermapbox"
           }
          ],
          "scatterpolar": [
           {
            "marker": {
             "colorbar": {
              "outlinewidth": 0,
              "ticks": ""
             }
            },
            "type": "scatterpolar"
           }
          ],
          "scatterpolargl": [
           {
            "marker": {
             "colorbar": {
              "outlinewidth": 0,
              "ticks": ""
             }
            },
            "type": "scatterpolargl"
           }
          ],
          "scatterternary": [
           {
            "marker": {
             "colorbar": {
              "outlinewidth": 0,
              "ticks": ""
             }
            },
            "type": "scatterternary"
           }
          ],
          "surface": [
           {
            "colorbar": {
             "outlinewidth": 0,
             "ticks": ""
            },
            "colorscale": [
             [
              0,
              "#0d0887"
             ],
             [
              0.1111111111111111,
              "#46039f"
             ],
             [
              0.2222222222222222,
              "#7201a8"
             ],
             [
              0.3333333333333333,
              "#9c179e"
             ],
             [
              0.4444444444444444,
              "#bd3786"
             ],
             [
              0.5555555555555556,
              "#d8576b"
             ],
             [
              0.6666666666666666,
              "#ed7953"
             ],
             [
              0.7777777777777778,
              "#fb9f3a"
             ],
             [
              0.8888888888888888,
              "#fdca26"
             ],
             [
              1,
              "#f0f921"
             ]
            ],
            "type": "surface"
           }
          ],
          "table": [
           {
            "cells": {
             "fill": {
              "color": "#EBF0F8"
             },
             "line": {
              "color": "white"
             }
            },
            "header": {
             "fill": {
              "color": "#C8D4E3"
             },
             "line": {
              "color": "white"
             }
            },
            "type": "table"
           }
          ]
         },
         "layout": {
          "annotationdefaults": {
           "arrowcolor": "#2a3f5f",
           "arrowhead": 0,
           "arrowwidth": 1
          },
          "autotypenumbers": "strict",
          "coloraxis": {
           "colorbar": {
            "outlinewidth": 0,
            "ticks": ""
           }
          },
          "colorscale": {
           "diverging": [
            [
             0,
             "#8e0152"
            ],
            [
             0.1,
             "#c51b7d"
            ],
            [
             0.2,
             "#de77ae"
            ],
            [
             0.3,
             "#f1b6da"
            ],
            [
             0.4,
             "#fde0ef"
            ],
            [
             0.5,
             "#f7f7f7"
            ],
            [
             0.6,
             "#e6f5d0"
            ],
            [
             0.7,
             "#b8e186"
            ],
            [
             0.8,
             "#7fbc41"
            ],
            [
             0.9,
             "#4d9221"
            ],
            [
             1,
             "#276419"
            ]
           ],
           "sequential": [
            [
             0,
             "#0d0887"
            ],
            [
             0.1111111111111111,
             "#46039f"
            ],
            [
             0.2222222222222222,
             "#7201a8"
            ],
            [
             0.3333333333333333,
             "#9c179e"
            ],
            [
             0.4444444444444444,
             "#bd3786"
            ],
            [
             0.5555555555555556,
             "#d8576b"
            ],
            [
             0.6666666666666666,
             "#ed7953"
            ],
            [
             0.7777777777777778,
             "#fb9f3a"
            ],
            [
             0.8888888888888888,
             "#fdca26"
            ],
            [
             1,
             "#f0f921"
            ]
           ],
           "sequentialminus": [
            [
             0,
             "#0d0887"
            ],
            [
             0.1111111111111111,
             "#46039f"
            ],
            [
             0.2222222222222222,
             "#7201a8"
            ],
            [
             0.3333333333333333,
             "#9c179e"
            ],
            [
             0.4444444444444444,
             "#bd3786"
            ],
            [
             0.5555555555555556,
             "#d8576b"
            ],
            [
             0.6666666666666666,
             "#ed7953"
            ],
            [
             0.7777777777777778,
             "#fb9f3a"
            ],
            [
             0.8888888888888888,
             "#fdca26"
            ],
            [
             1,
             "#f0f921"
            ]
           ]
          },
          "colorway": [
           "#636efa",
           "#EF553B",
           "#00cc96",
           "#ab63fa",
           "#FFA15A",
           "#19d3f3",
           "#FF6692",
           "#B6E880",
           "#FF97FF",
           "#FECB52"
          ],
          "font": {
           "color": "#2a3f5f"
          },
          "geo": {
           "bgcolor": "white",
           "lakecolor": "white",
           "landcolor": "#E5ECF6",
           "showlakes": true,
           "showland": true,
           "subunitcolor": "white"
          },
          "hoverlabel": {
           "align": "left"
          },
          "hovermode": "closest",
          "mapbox": {
           "style": "light"
          },
          "paper_bgcolor": "white",
          "plot_bgcolor": "#E5ECF6",
          "polar": {
           "angularaxis": {
            "gridcolor": "white",
            "linecolor": "white",
            "ticks": ""
           },
           "bgcolor": "#E5ECF6",
           "radialaxis": {
            "gridcolor": "white",
            "linecolor": "white",
            "ticks": ""
           }
          },
          "scene": {
           "xaxis": {
            "backgroundcolor": "#E5ECF6",
            "gridcolor": "white",
            "gridwidth": 2,
            "linecolor": "white",
            "showbackground": true,
            "ticks": "",
            "zerolinecolor": "white"
           },
           "yaxis": {
            "backgroundcolor": "#E5ECF6",
            "gridcolor": "white",
            "gridwidth": 2,
            "linecolor": "white",
            "showbackground": true,
            "ticks": "",
            "zerolinecolor": "white"
           },
           "zaxis": {
            "backgroundcolor": "#E5ECF6",
            "gridcolor": "white",
            "gridwidth": 2,
            "linecolor": "white",
            "showbackground": true,
            "ticks": "",
            "zerolinecolor": "white"
           }
          },
          "shapedefaults": {
           "line": {
            "color": "#2a3f5f"
           }
          },
          "ternary": {
           "aaxis": {
            "gridcolor": "white",
            "linecolor": "white",
            "ticks": ""
           },
           "baxis": {
            "gridcolor": "white",
            "linecolor": "white",
            "ticks": ""
           },
           "bgcolor": "#E5ECF6",
           "caxis": {
            "gridcolor": "white",
            "linecolor": "white",
            "ticks": ""
           }
          },
          "title": {
           "x": 0.05
          },
          "xaxis": {
           "automargin": true,
           "gridcolor": "white",
           "linecolor": "white",
           "ticks": "",
           "title": {
            "standoff": 15
           },
           "zerolinecolor": "white",
           "zerolinewidth": 2
          },
          "yaxis": {
           "automargin": true,
           "gridcolor": "white",
           "linecolor": "white",
           "ticks": "",
           "title": {
            "standoff": 15
           },
           "zerolinecolor": "white",
           "zerolinewidth": 2
          }
         }
        },
        "xaxis": {
         "anchor": "y",
         "domain": [
          0,
          1
         ],
         "title": {
          "text": "YearBuilt"
         }
        },
        "yaxis": {
         "anchor": "x",
         "domain": [
          0,
          1
         ],
         "title": {
          "text": "SalePrice"
         }
        }
       }
      }
     },
     "metadata": {},
     "output_type": "display_data"
    }
   ],
   "source": [
    "px.scatter(df, x='YearBuilt', y='SalePrice')"
   ]
  },
  {
   "cell_type": "markdown",
   "id": "c263136b",
   "metadata": {},
   "source": [
    "Small positive correlation - interesting that it's in the top 10 features."
   ]
  },
  {
   "cell_type": "markdown",
   "id": "42b8b45e",
   "metadata": {},
   "source": [
    "OverallCond: Rates the overall condition of the house\n",
    "\n",
    "       10\tVery Excellent\n",
    "       9\tExcellent\n",
    "       8\tVery Good\n",
    "       7\tGood\n",
    "       6\tAbove Average\t\n",
    "       5\tAverage\n",
    "       4\tBelow Average\t\n",
    "       3\tFair\n",
    "       2\tPoor\n",
    "       1\tVery Poor"
   ]
  },
  {
   "cell_type": "code",
   "execution_count": 16,
   "id": "73d5c057",
   "metadata": {},
   "outputs": [
    {
     "data": {
      "text/plain": [
       "OverallCond\n",
       "5    821\n",
       "6    252\n",
       "7    205\n",
       "8     72\n",
       "4     57\n",
       "3     25\n",
       "9     22\n",
       "2      5\n",
       "1      1\n",
       "Name: count, dtype: int64"
      ]
     },
     "execution_count": 16,
     "metadata": {},
     "output_type": "execute_result"
    }
   ],
   "source": [
    "df.OverallCond.value_counts(dropna=False)"
   ]
  },
  {
   "cell_type": "code",
   "execution_count": 17,
   "id": "159e3964",
   "metadata": {},
   "outputs": [
    {
     "data": {
      "application/vnd.plotly.v1+json": {
       "config": {
        "plotlyServerURL": "https://plot.ly"
       },
       "data": [
        {
         "coloraxis": "coloraxis",
         "hovertemplate": "OverallCond=%{x}<br>OverallQual=%{y}<br>count=%{z}<extra></extra>",
         "name": "",
         "type": "histogram2d",
         "x": {
          "bdata": "BQgFBQUFBQYFBgUFBgUFCAcFBQYFBwUHCAUHBQYGBAYFBQUFBQYHBQUGBwYGBQUFBQcGBgUFBQUFBQUHBQcFBgUFBQUGBAYGBQcGBQcFBQYGBQUFBQUFBQIFBQMHBgUIBQUFBQcFBQUEBQcFBwYEBQUFCAUFBQUFBQUHBQUIBQcFBwYFBgUGBgUFBQUFBQQFBQUHBQUEBgUFBwUFBwUFBQYFBQYHBwUFBQYGBQcFBQcFBQUGBQYGBQgJBQcFBQgJBQUHBgUEBgUFBgYFBwUFBQUHBgUFBQcGBQQJBQUFBgYFBQUGBQUGBQUGBQMFBwUEBQkEBgUFCAUFBwIFBQcGBQUFBQUFBQcHBQYFCAYHBQcHBgcHBQUFBQYFBQUFBQcEBQcFBgQHBQYFBQYIBQUFBwkFBQcFBQUGBwUHBQcFBQUFBQUIBwYFBQYFBAYFBQUGBQUHBwUEBAUDBQgFBQUFBQYIBQUGBQQFBgUFCAUHBQUGBwUEBQYFAQUFAgUGBQUDBQUDBgUFCAUHBQYGBQUCBQUFCAUFBAUHBQUDBQUGBQUHBgYGBQcFBQUIBQYFBQUHBQUHBggHBggFBAcFBQUGBQYHCAUFBQUGBQYHBAUJBQcFBQUHBQUFBgUFBQYFBQUHBQUIBQcHBwYECAYHBQYIBQUGBwcFBQcIBQUFBQkGBwUFBQUFBgUFCQcGBwUFBQcFBwMFCAcDBQcFBQUFBQUFBQUFBwcHBQYGBQUFBgUGBQUGBQYHBQQFBQgFBQYFBQcFBwYFBQYFBQkHBQcGCAYFBQgFBgUHBQYGBQYFBQUGBQgGBQUGBQUGBwUGBQUDBwYFBQYFBgUFBgUFBwUHAwQHBQUFBwUFBQUFBQYGBQUHBgUHBgUHBwcDBQUFBQUGBQUGBgcGBgIIBQUFBQUFBQUGBQYFBQYFBgYGBwcIBQUFBQkFBQUFBQcGBwUFCAUIBgUGBQUHBgUGCQUFBQUFBQYFBwQFBQUHCAUGBQkFBwUDBwUFBQgFBQUFBQYFBQUFBQUHBQUFBQUFBQUFBQUFBQUFBgYFBgUHCAUFBQUFBgUFBQcFBwUFBQUFBgUFBgUFBgcFBgUHBQUEBQcFBQYFBQUFBQYGBgcGBQYGCAgHBAgFBQYIBwUFBQYECAYFBQcIBAUFBQYFBQYFBQUHBwYFBQUHCAUFBQUFBQUHBgQHBQgFBQUGBQUHBgcFBQYFBQcFBQUHBwYFBQMGBQgFBwUFBgYFBQUFBQYFBQcFBQUFBwUFAwQGBgYFBQcIBQgEBQYGBQUFBwcGBQUFBwcGBQQFBQUIBQcFBQYJBQUFBQUIBQYFBQkIBQUHBgYEBQMGBQYFCAMEBQUFBQcEBQYFBQUFBQUFBQYFBQUFBwgDBwUHAwUFBgQECAUFBQUFBQQHBQUGBgUFBQYFBwUEBQYGBQcGBAcFBgMGBQYIBQUFBwUFBgUGBQUFBQQFBQgHBQcFBgUFBQcGBQUFBQUFBQYHBwcFBQcGBQUFAwkFBQUFBQUDBQQFBQUFCAUFBwcFAwQGBQcHCQUEBwgGCAgFBQYFBwUEBwUFBQcFBgYFBggFBQgGBQUFBQYEBwUFBQUEBQgFBwUFBgUFBQUIBQYHBAUHBQUHBgkFBQUFBQUFBQYDBQgFCAUFBQYFBQYFBQUFBQUGBgUHBwUFBQcFBQYHBQYFCAUIBQYFBgUFBAUJBQYHBgcGBQYFBQQFBQcFBwYFBQUFBwcEBQcFBgUFBwUHBQUFBQUFBwUIBQUFBgUFBQUFAwYFBwUEBgkHBQUFBgYGBQUEBQcFBQUGBQQHBQUFBQYJBQUGBQYFBQYFBAUFBQUGBQUGBgYFBQUFBQUFAwcHBwUIBQcFBgUFBQcFBQUIBAYHBQUFBAUHBQcGBQgFBQcFBgUFBQYFBQcFBgUGBwcFBgYFBQkGBQcGBwUFBgUFBwUHBwUFBQUFBQYJBgY=",
          "dtype": "i1"
         },
         "xaxis": "x",
         "xbingroup": "x",
         "y": {
          "bdata": "BwYHBwgFCAcHBQUJBQcGBwYEBQUIBwgFBQgFCAUEBAUIBQkIBQUFBAYFBQUFCQcIBAUGBgUJBQYIBwoFBgUIBwcIBwcEBwcEBwUDBAQFBAUGBggFBwgGBgMEBAUFBgYGBwQFBAYGBQcHCAQFBQYGBwcGBgYFBQcGBgQGBgYGBgUGBQcGBQgFBwUHCAYEBwUHBQYFBwcFBQgGBgYGBQgHBwYJBwQGBQUIBwgFBgcGBgYGBQkFBgcFBwUKBwUFCAgHBwcFBgcIBggEBgYGBQcFBAcGBQYHBQYFBwQHBwcGBgQKBQcGBQcGCAYFBgYHBwgGCAUFBgcHBgYHBgMIBgYFBwYHBwUGCAYFBQYGBQUGCAcIBgUHBwQJBwcGBwgGBwYEBQYIBQUHBgYFBwYGBQgHBQcIBwYECQYGBQcHBwcIBwcJCAcDBwUIBgYFBQUIBwYFCQcHBggEAwkFBgYGBwkJBwUGBgYGBQUIBgUHBgYFBgYFBQYEBgUHAQUICQYFBwcGBggFBgcKBQYFBAUFBQUFBwgHBQgGBAYGBwgFBQcFBwcGBgUFBwYFCAYHBwQHBgYGBQYEBwYGBQYKBAUHBwYGBwYDBgcGCAUHBQQIBQgHBQYFBwcFCAYIBwYICAUGCQgECQkHBgUFBQUFBAUGBgUFBAgHBQUGBwUHBgUIBgcFBQcFBgUKBgcGBwQGBgoHBwUJBAYGBgUBCAUHBAUICQgHBwcHBgUFBwYFCAQHBQUEBwcFBQUGBwYJBwgFBQYHBwUFBwUHBQYIBgoECAYFBQUHCgUGBQgGBwUGCAYIBwcHBQUIBAkGCAUEBgYGCQgDBgUGBgYFBgUGBQgHBQYGAgUFCAgHCAUJBgUGBgQHBAcGCAYFBwYFBwgGBAgIBgYFBAYGBgYGBgQFCAUGBQYJBwcHBwgGBgoHBQUGBQUFBwgHCAUHBAcIBwUDBAgEBgYHBQcFCAYEBAkEBgcFBAgHBwUFBwMIBQcFBgcFCAgHBwcEBAcGCAYGCAYHCAYFBwgICQcGBwgFBAYFCAYHBQUGBwYHBQYGBQcEBgcGBwgHBgYFCQUGBAcJBQcFBQUFBgYFBgUHBQgGBwcEBwYICgUHBQcGBwcGBQQFBgUFBgUGBQUFBwUGBgYIBwYFBQYGBwYHBQYFBwUIBAUHBQYFBQUIBAkFBQUHBgQFCQUFCAYFBgYFBQYEBQkFBAUHBwUFCAcFBgUFBQUGBAIEBwYGBQYGBgUIBwgHCAUJBwcEBwcHBwYHBAUGBQUIBwYFBQUFBgYGBQcHBQYGCQcGBQUDBgQHBgcHBwQHBAUHCAcIBQUGCQYHCAgGBgoEBQYDBwMFCAUHBQYEBwUFBQYFBggHCAcHBAcFBwgFBQgFBgUHCAcFBAkIBAQFBgYHCAMJBQUEBwcGBQgGBwcJBggDBQYFBwYGBgUFBgUGBwcFBQYFBgUHBgYGBAgHCAMHBgUFBgYIBAcCBQUGBQgHBwYIBgcFBQUICAUFBQYHBAUHBAcHBwUEBQYIBgYGBQYFBQUIBQQFBgcHBwYFBgYHBQUHCAYGBgUEBQcIBgYKBgYHBQYIBQYFBQcICgUFBQMIBwcECAUGBgYHBwcEBAcFBwUHBAYFCAYIBAQFBQYIBAYFBQYFBwYGBQkFBQUEBQUFBwcGCAcHBwoIBgcGBgUHBwUHBwYIBQcGBgUEBgYHBwkIBQcGBQYFBQYGCAQHBwUGBgYGBQgIBQUFBwUFBQYKBQcGCAcHCQcFBQYHBwgJBAYIBwgEBgMHBAgEAwUGBwgFBAUFBgUEBwUEBggGBwQHCAcIBQYGCAcHBQUGCQUHBAYHBwcFBggEBgcKBwgGBQYFAwYHBQYEBwYJBgcFBQYHCAUFBQYGBgcIAwgFBQQHBwYECAYHBAgFBgYGBgYFBgcFBQYFBgQGBQYECAYHBgYKBgcGBQgEBQUIBQUHBgYHBQU=",
          "dtype": "i1"
         },
         "yaxis": "y",
         "ybingroup": "y"
        }
       ],
       "layout": {
        "coloraxis": {
         "colorbar": {
          "title": {
           "text": "count"
          }
         },
         "colorscale": [
          [
           0,
           "#0d0887"
          ],
          [
           0.1111111111111111,
           "#46039f"
          ],
          [
           0.2222222222222222,
           "#7201a8"
          ],
          [
           0.3333333333333333,
           "#9c179e"
          ],
          [
           0.4444444444444444,
           "#bd3786"
          ],
          [
           0.5555555555555556,
           "#d8576b"
          ],
          [
           0.6666666666666666,
           "#ed7953"
          ],
          [
           0.7777777777777778,
           "#fb9f3a"
          ],
          [
           0.8888888888888888,
           "#fdca26"
          ],
          [
           1,
           "#f0f921"
          ]
         ]
        },
        "legend": {
         "tracegroupgap": 0
        },
        "margin": {
         "t": 60
        },
        "template": {
         "data": {
          "bar": [
           {
            "error_x": {
             "color": "#2a3f5f"
            },
            "error_y": {
             "color": "#2a3f5f"
            },
            "marker": {
             "line": {
              "color": "#E5ECF6",
              "width": 0.5
             },
             "pattern": {
              "fillmode": "overlay",
              "size": 10,
              "solidity": 0.2
             }
            },
            "type": "bar"
           }
          ],
          "barpolar": [
           {
            "marker": {
             "line": {
              "color": "#E5ECF6",
              "width": 0.5
             },
             "pattern": {
              "fillmode": "overlay",
              "size": 10,
              "solidity": 0.2
             }
            },
            "type": "barpolar"
           }
          ],
          "carpet": [
           {
            "aaxis": {
             "endlinecolor": "#2a3f5f",
             "gridcolor": "white",
             "linecolor": "white",
             "minorgridcolor": "white",
             "startlinecolor": "#2a3f5f"
            },
            "baxis": {
             "endlinecolor": "#2a3f5f",
             "gridcolor": "white",
             "linecolor": "white",
             "minorgridcolor": "white",
             "startlinecolor": "#2a3f5f"
            },
            "type": "carpet"
           }
          ],
          "choropleth": [
           {
            "colorbar": {
             "outlinewidth": 0,
             "ticks": ""
            },
            "type": "choropleth"
           }
          ],
          "contour": [
           {
            "colorbar": {
             "outlinewidth": 0,
             "ticks": ""
            },
            "colorscale": [
             [
              0,
              "#0d0887"
             ],
             [
              0.1111111111111111,
              "#46039f"
             ],
             [
              0.2222222222222222,
              "#7201a8"
             ],
             [
              0.3333333333333333,
              "#9c179e"
             ],
             [
              0.4444444444444444,
              "#bd3786"
             ],
             [
              0.5555555555555556,
              "#d8576b"
             ],
             [
              0.6666666666666666,
              "#ed7953"
             ],
             [
              0.7777777777777778,
              "#fb9f3a"
             ],
             [
              0.8888888888888888,
              "#fdca26"
             ],
             [
              1,
              "#f0f921"
             ]
            ],
            "type": "contour"
           }
          ],
          "contourcarpet": [
           {
            "colorbar": {
             "outlinewidth": 0,
             "ticks": ""
            },
            "type": "contourcarpet"
           }
          ],
          "heatmap": [
           {
            "colorbar": {
             "outlinewidth": 0,
             "ticks": ""
            },
            "colorscale": [
             [
              0,
              "#0d0887"
             ],
             [
              0.1111111111111111,
              "#46039f"
             ],
             [
              0.2222222222222222,
              "#7201a8"
             ],
             [
              0.3333333333333333,
              "#9c179e"
             ],
             [
              0.4444444444444444,
              "#bd3786"
             ],
             [
              0.5555555555555556,
              "#d8576b"
             ],
             [
              0.6666666666666666,
              "#ed7953"
             ],
             [
              0.7777777777777778,
              "#fb9f3a"
             ],
             [
              0.8888888888888888,
              "#fdca26"
             ],
             [
              1,
              "#f0f921"
             ]
            ],
            "type": "heatmap"
           }
          ],
          "histogram": [
           {
            "marker": {
             "pattern": {
              "fillmode": "overlay",
              "size": 10,
              "solidity": 0.2
             }
            },
            "type": "histogram"
           }
          ],
          "histogram2d": [
           {
            "colorbar": {
             "outlinewidth": 0,
             "ticks": ""
            },
            "colorscale": [
             [
              0,
              "#0d0887"
             ],
             [
              0.1111111111111111,
              "#46039f"
             ],
             [
              0.2222222222222222,
              "#7201a8"
             ],
             [
              0.3333333333333333,
              "#9c179e"
             ],
             [
              0.4444444444444444,
              "#bd3786"
             ],
             [
              0.5555555555555556,
              "#d8576b"
             ],
             [
              0.6666666666666666,
              "#ed7953"
             ],
             [
              0.7777777777777778,
              "#fb9f3a"
             ],
             [
              0.8888888888888888,
              "#fdca26"
             ],
             [
              1,
              "#f0f921"
             ]
            ],
            "type": "histogram2d"
           }
          ],
          "histogram2dcontour": [
           {
            "colorbar": {
             "outlinewidth": 0,
             "ticks": ""
            },
            "colorscale": [
             [
              0,
              "#0d0887"
             ],
             [
              0.1111111111111111,
              "#46039f"
             ],
             [
              0.2222222222222222,
              "#7201a8"
             ],
             [
              0.3333333333333333,
              "#9c179e"
             ],
             [
              0.4444444444444444,
              "#bd3786"
             ],
             [
              0.5555555555555556,
              "#d8576b"
             ],
             [
              0.6666666666666666,
              "#ed7953"
             ],
             [
              0.7777777777777778,
              "#fb9f3a"
             ],
             [
              0.8888888888888888,
              "#fdca26"
             ],
             [
              1,
              "#f0f921"
             ]
            ],
            "type": "histogram2dcontour"
           }
          ],
          "mesh3d": [
           {
            "colorbar": {
             "outlinewidth": 0,
             "ticks": ""
            },
            "type": "mesh3d"
           }
          ],
          "parcoords": [
           {
            "line": {
             "colorbar": {
              "outlinewidth": 0,
              "ticks": ""
             }
            },
            "type": "parcoords"
           }
          ],
          "pie": [
           {
            "automargin": true,
            "type": "pie"
           }
          ],
          "scatter": [
           {
            "fillpattern": {
             "fillmode": "overlay",
             "size": 10,
             "solidity": 0.2
            },
            "type": "scatter"
           }
          ],
          "scatter3d": [
           {
            "line": {
             "colorbar": {
              "outlinewidth": 0,
              "ticks": ""
             }
            },
            "marker": {
             "colorbar": {
              "outlinewidth": 0,
              "ticks": ""
             }
            },
            "type": "scatter3d"
           }
          ],
          "scattercarpet": [
           {
            "marker": {
             "colorbar": {
              "outlinewidth": 0,
              "ticks": ""
             }
            },
            "type": "scattercarpet"
           }
          ],
          "scattergeo": [
           {
            "marker": {
             "colorbar": {
              "outlinewidth": 0,
              "ticks": ""
             }
            },
            "type": "scattergeo"
           }
          ],
          "scattergl": [
           {
            "marker": {
             "colorbar": {
              "outlinewidth": 0,
              "ticks": ""
             }
            },
            "type": "scattergl"
           }
          ],
          "scattermap": [
           {
            "marker": {
             "colorbar": {
              "outlinewidth": 0,
              "ticks": ""
             }
            },
            "type": "scattermap"
           }
          ],
          "scattermapbox": [
           {
            "marker": {
             "colorbar": {
              "outlinewidth": 0,
              "ticks": ""
             }
            },
            "type": "scattermapbox"
           }
          ],
          "scatterpolar": [
           {
            "marker": {
             "colorbar": {
              "outlinewidth": 0,
              "ticks": ""
             }
            },
            "type": "scatterpolar"
           }
          ],
          "scatterpolargl": [
           {
            "marker": {
             "colorbar": {
              "outlinewidth": 0,
              "ticks": ""
             }
            },
            "type": "scatterpolargl"
           }
          ],
          "scatterternary": [
           {
            "marker": {
             "colorbar": {
              "outlinewidth": 0,
              "ticks": ""
             }
            },
            "type": "scatterternary"
           }
          ],
          "surface": [
           {
            "colorbar": {
             "outlinewidth": 0,
             "ticks": ""
            },
            "colorscale": [
             [
              0,
              "#0d0887"
             ],
             [
              0.1111111111111111,
              "#46039f"
             ],
             [
              0.2222222222222222,
              "#7201a8"
             ],
             [
              0.3333333333333333,
              "#9c179e"
             ],
             [
              0.4444444444444444,
              "#bd3786"
             ],
             [
              0.5555555555555556,
              "#d8576b"
             ],
             [
              0.6666666666666666,
              "#ed7953"
             ],
             [
              0.7777777777777778,
              "#fb9f3a"
             ],
             [
              0.8888888888888888,
              "#fdca26"
             ],
             [
              1,
              "#f0f921"
             ]
            ],
            "type": "surface"
           }
          ],
          "table": [
           {
            "cells": {
             "fill": {
              "color": "#EBF0F8"
             },
             "line": {
              "color": "white"
             }
            },
            "header": {
             "fill": {
              "color": "#C8D4E3"
             },
             "line": {
              "color": "white"
             }
            },
            "type": "table"
           }
          ]
         },
         "layout": {
          "annotationdefaults": {
           "arrowcolor": "#2a3f5f",
           "arrowhead": 0,
           "arrowwidth": 1
          },
          "autotypenumbers": "strict",
          "coloraxis": {
           "colorbar": {
            "outlinewidth": 0,
            "ticks": ""
           }
          },
          "colorscale": {
           "diverging": [
            [
             0,
             "#8e0152"
            ],
            [
             0.1,
             "#c51b7d"
            ],
            [
             0.2,
             "#de77ae"
            ],
            [
             0.3,
             "#f1b6da"
            ],
            [
             0.4,
             "#fde0ef"
            ],
            [
             0.5,
             "#f7f7f7"
            ],
            [
             0.6,
             "#e6f5d0"
            ],
            [
             0.7,
             "#b8e186"
            ],
            [
             0.8,
             "#7fbc41"
            ],
            [
             0.9,
             "#4d9221"
            ],
            [
             1,
             "#276419"
            ]
           ],
           "sequential": [
            [
             0,
             "#0d0887"
            ],
            [
             0.1111111111111111,
             "#46039f"
            ],
            [
             0.2222222222222222,
             "#7201a8"
            ],
            [
             0.3333333333333333,
             "#9c179e"
            ],
            [
             0.4444444444444444,
             "#bd3786"
            ],
            [
             0.5555555555555556,
             "#d8576b"
            ],
            [
             0.6666666666666666,
             "#ed7953"
            ],
            [
             0.7777777777777778,
             "#fb9f3a"
            ],
            [
             0.8888888888888888,
             "#fdca26"
            ],
            [
             1,
             "#f0f921"
            ]
           ],
           "sequentialminus": [
            [
             0,
             "#0d0887"
            ],
            [
             0.1111111111111111,
             "#46039f"
            ],
            [
             0.2222222222222222,
             "#7201a8"
            ],
            [
             0.3333333333333333,
             "#9c179e"
            ],
            [
             0.4444444444444444,
             "#bd3786"
            ],
            [
             0.5555555555555556,
             "#d8576b"
            ],
            [
             0.6666666666666666,
             "#ed7953"
            ],
            [
             0.7777777777777778,
             "#fb9f3a"
            ],
            [
             0.8888888888888888,
             "#fdca26"
            ],
            [
             1,
             "#f0f921"
            ]
           ]
          },
          "colorway": [
           "#636efa",
           "#EF553B",
           "#00cc96",
           "#ab63fa",
           "#FFA15A",
           "#19d3f3",
           "#FF6692",
           "#B6E880",
           "#FF97FF",
           "#FECB52"
          ],
          "font": {
           "color": "#2a3f5f"
          },
          "geo": {
           "bgcolor": "white",
           "lakecolor": "white",
           "landcolor": "#E5ECF6",
           "showlakes": true,
           "showland": true,
           "subunitcolor": "white"
          },
          "hoverlabel": {
           "align": "left"
          },
          "hovermode": "closest",
          "mapbox": {
           "style": "light"
          },
          "paper_bgcolor": "white",
          "plot_bgcolor": "#E5ECF6",
          "polar": {
           "angularaxis": {
            "gridcolor": "white",
            "linecolor": "white",
            "ticks": ""
           },
           "bgcolor": "#E5ECF6",
           "radialaxis": {
            "gridcolor": "white",
            "linecolor": "white",
            "ticks": ""
           }
          },
          "scene": {
           "xaxis": {
            "backgroundcolor": "#E5ECF6",
            "gridcolor": "white",
            "gridwidth": 2,
            "linecolor": "white",
            "showbackground": true,
            "ticks": "",
            "zerolinecolor": "white"
           },
           "yaxis": {
            "backgroundcolor": "#E5ECF6",
            "gridcolor": "white",
            "gridwidth": 2,
            "linecolor": "white",
            "showbackground": true,
            "ticks": "",
            "zerolinecolor": "white"
           },
           "zaxis": {
            "backgroundcolor": "#E5ECF6",
            "gridcolor": "white",
            "gridwidth": 2,
            "linecolor": "white",
            "showbackground": true,
            "ticks": "",
            "zerolinecolor": "white"
           }
          },
          "shapedefaults": {
           "line": {
            "color": "#2a3f5f"
           }
          },
          "ternary": {
           "aaxis": {
            "gridcolor": "white",
            "linecolor": "white",
            "ticks": ""
           },
           "baxis": {
            "gridcolor": "white",
            "linecolor": "white",
            "ticks": ""
           },
           "bgcolor": "#E5ECF6",
           "caxis": {
            "gridcolor": "white",
            "linecolor": "white",
            "ticks": ""
           }
          },
          "title": {
           "x": 0.05
          },
          "xaxis": {
           "automargin": true,
           "gridcolor": "white",
           "linecolor": "white",
           "ticks": "",
           "title": {
            "standoff": 15
           },
           "zerolinecolor": "white",
           "zerolinewidth": 2
          },
          "yaxis": {
           "automargin": true,
           "gridcolor": "white",
           "linecolor": "white",
           "ticks": "",
           "title": {
            "standoff": 15
           },
           "zerolinecolor": "white",
           "zerolinewidth": 2
          }
         }
        },
        "xaxis": {
         "anchor": "y",
         "domain": [
          0,
          1
         ],
         "title": {
          "text": "OverallCond"
         }
        },
        "yaxis": {
         "anchor": "x",
         "domain": [
          0,
          1
         ],
         "title": {
          "text": "OverallQual"
         }
        }
       }
      }
     },
     "metadata": {},
     "output_type": "display_data"
    }
   ],
   "source": [
    "px.density_heatmap(df, x='OverallCond', y='OverallQual')"
   ]
  },
  {
   "cell_type": "markdown",
   "id": "9b413ba8",
   "metadata": {},
   "source": [
    "CentralAir"
   ]
  },
  {
   "cell_type": "code",
   "execution_count": 18,
   "id": "38357bdd",
   "metadata": {},
   "outputs": [
    {
     "data": {
      "text/plain": [
       "CentralAir\n",
       "Y    1365\n",
       "N      95\n",
       "Name: count, dtype: int64"
      ]
     },
     "execution_count": 18,
     "metadata": {},
     "output_type": "execute_result"
    }
   ],
   "source": [
    "df.CentralAir.value_counts(dropna=False) # only affects 95 houses, why is it so important?"
   ]
  },
  {
   "cell_type": "code",
   "execution_count": 19,
   "id": "6018549d",
   "metadata": {},
   "outputs": [
    {
     "data": {
      "application/vnd.plotly.v1+json": {
       "config": {
        "plotlyServerURL": "https://plot.ly"
       },
       "data": [
        {
         "alignmentgroup": "True",
         "hovertemplate": "CentralAir=Y<br>SalePrice=%{y}<extra></extra>",
         "legendgroup": "Y",
         "marker": {
          "color": "#636efa"
         },
         "name": "Y",
         "notched": false,
         "offsetgroup": "Y",
         "orientation": "v",
         "showlegend": true,
         "type": "box",
         "x0": " ",
         "xaxis": "x",
         "y": {
          "bdata": "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",
          "dtype": "i4"
         },
         "y0": " ",
         "yaxis": "y"
        },
        {
         "alignmentgroup": "True",
         "hovertemplate": "CentralAir=N<br>SalePrice=%{y}<extra></extra>",
         "legendgroup": "N",
         "marker": {
          "color": "#EF553B"
         },
         "name": "N",
         "notched": false,
         "offsetgroup": "N",
         "orientation": "v",
         "showlegend": true,
         "type": "box",
         "x0": " ",
         "xaxis": "x",
         "y": {
          "bdata": "lAsBAECcAABQQAEAsK0BAIiKAQCIowEANBUCAAhMAQAMCwIAOEQBADjBAQAUSgEAmDQBANB+AQD4oQEAmDQBACgXAgAoHQEAyCADANwSAgDYUwEA5EUDALAwAQDMVQEAGHMBAEjuAADgKAEAaDYCAJilAwAw7AEA7mABAPDMAQDQfgEAAHECAFSIAAD0eAEACp8BAISZAAAA9AEArAECAEi/AQC4BQEAYOoAALCUAQDYUwEA2NYAAOj3AQC4fAIAPG0BAPsOBADQfgEAEJ4BALnaAABIawEA4CICAMgmAgC8qwEA5M4BAASgAQDAVwEAaDYCAO+JAABoNgIADJQAAFgPAgBMjgIASOgBAHhjAQBQQAEAoIYBAAhMAQAgSAEAkF8BAORqAQBg6gAAcI4BADBvAQCAOAEAdDoBAKwaAgDQ+wEA3PkBAJDcAQDsowEANBsBANjWAAAUzQAAkNwBAHhjAQCE5AAAQBMCALh8AgCQXwEAqNgBAIC1AQA=",
          "dtype": "i4"
         },
         "y0": " ",
         "yaxis": "y"
        }
       ],
       "layout": {
        "boxmode": "group",
        "legend": {
         "title": {
          "text": "CentralAir"
         },
         "tracegroupgap": 0
        },
        "margin": {
         "t": 60
        },
        "template": {
         "data": {
          "bar": [
           {
            "error_x": {
             "color": "#2a3f5f"
            },
            "error_y": {
             "color": "#2a3f5f"
            },
            "marker": {
             "line": {
              "color": "#E5ECF6",
              "width": 0.5
             },
             "pattern": {
              "fillmode": "overlay",
              "size": 10,
              "solidity": 0.2
             }
            },
            "type": "bar"
           }
          ],
          "barpolar": [
           {
            "marker": {
             "line": {
              "color": "#E5ECF6",
              "width": 0.5
             },
             "pattern": {
              "fillmode": "overlay",
              "size": 10,
              "solidity": 0.2
             }
            },
            "type": "barpolar"
           }
          ],
          "carpet": [
           {
            "aaxis": {
             "endlinecolor": "#2a3f5f",
             "gridcolor": "white",
             "linecolor": "white",
             "minorgridcolor": "white",
             "startlinecolor": "#2a3f5f"
            },
            "baxis": {
             "endlinecolor": "#2a3f5f",
             "gridcolor": "white",
             "linecolor": "white",
             "minorgridcolor": "white",
             "startlinecolor": "#2a3f5f"
            },
            "type": "carpet"
           }
          ],
          "choropleth": [
           {
            "colorbar": {
             "outlinewidth": 0,
             "ticks": ""
            },
            "type": "choropleth"
           }
          ],
          "contour": [
           {
            "colorbar": {
             "outlinewidth": 0,
             "ticks": ""
            },
            "colorscale": [
             [
              0,
              "#0d0887"
             ],
             [
              0.1111111111111111,
              "#46039f"
             ],
             [
              0.2222222222222222,
              "#7201a8"
             ],
             [
              0.3333333333333333,
              "#9c179e"
             ],
             [
              0.4444444444444444,
              "#bd3786"
             ],
             [
              0.5555555555555556,
              "#d8576b"
             ],
             [
              0.6666666666666666,
              "#ed7953"
             ],
             [
              0.7777777777777778,
              "#fb9f3a"
             ],
             [
              0.8888888888888888,
              "#fdca26"
             ],
             [
              1,
              "#f0f921"
             ]
            ],
            "type": "contour"
           }
          ],
          "contourcarpet": [
           {
            "colorbar": {
             "outlinewidth": 0,
             "ticks": ""
            },
            "type": "contourcarpet"
           }
          ],
          "heatmap": [
           {
            "colorbar": {
             "outlinewidth": 0,
             "ticks": ""
            },
            "colorscale": [
             [
              0,
              "#0d0887"
             ],
             [
              0.1111111111111111,
              "#46039f"
             ],
             [
              0.2222222222222222,
              "#7201a8"
             ],
             [
              0.3333333333333333,
              "#9c179e"
             ],
             [
              0.4444444444444444,
              "#bd3786"
             ],
             [
              0.5555555555555556,
              "#d8576b"
             ],
             [
              0.6666666666666666,
              "#ed7953"
             ],
             [
              0.7777777777777778,
              "#fb9f3a"
             ],
             [
              0.8888888888888888,
              "#fdca26"
             ],
             [
              1,
              "#f0f921"
             ]
            ],
            "type": "heatmap"
           }
          ],
          "histogram": [
           {
            "marker": {
             "pattern": {
              "fillmode": "overlay",
              "size": 10,
              "solidity": 0.2
             }
            },
            "type": "histogram"
           }
          ],
          "histogram2d": [
           {
            "colorbar": {
             "outlinewidth": 0,
             "ticks": ""
            },
            "colorscale": [
             [
              0,
              "#0d0887"
             ],
             [
              0.1111111111111111,
              "#46039f"
             ],
             [
              0.2222222222222222,
              "#7201a8"
             ],
             [
              0.3333333333333333,
              "#9c179e"
             ],
             [
              0.4444444444444444,
              "#bd3786"
             ],
             [
              0.5555555555555556,
              "#d8576b"
             ],
             [
              0.6666666666666666,
              "#ed7953"
             ],
             [
              0.7777777777777778,
              "#fb9f3a"
             ],
             [
              0.8888888888888888,
              "#fdca26"
             ],
             [
              1,
              "#f0f921"
             ]
            ],
            "type": "histogram2d"
           }
          ],
          "histogram2dcontour": [
           {
            "colorbar": {
             "outlinewidth": 0,
             "ticks": ""
            },
            "colorscale": [
             [
              0,
              "#0d0887"
             ],
             [
              0.1111111111111111,
              "#46039f"
             ],
             [
              0.2222222222222222,
              "#7201a8"
             ],
             [
              0.3333333333333333,
              "#9c179e"
             ],
             [
              0.4444444444444444,
              "#bd3786"
             ],
             [
              0.5555555555555556,
              "#d8576b"
             ],
             [
              0.6666666666666666,
              "#ed7953"
             ],
             [
              0.7777777777777778,
              "#fb9f3a"
             ],
             [
              0.8888888888888888,
              "#fdca26"
             ],
             [
              1,
              "#f0f921"
             ]
            ],
            "type": "histogram2dcontour"
           }
          ],
          "mesh3d": [
           {
            "colorbar": {
             "outlinewidth": 0,
             "ticks": ""
            },
            "type": "mesh3d"
           }
          ],
          "parcoords": [
           {
            "line": {
             "colorbar": {
              "outlinewidth": 0,
              "ticks": ""
             }
            },
            "type": "parcoords"
           }
          ],
          "pie": [
           {
            "automargin": true,
            "type": "pie"
           }
          ],
          "scatter": [
           {
            "fillpattern": {
             "fillmode": "overlay",
             "size": 10,
             "solidity": 0.2
            },
            "type": "scatter"
           }
          ],
          "scatter3d": [
           {
            "line": {
             "colorbar": {
              "outlinewidth": 0,
              "ticks": ""
             }
            },
            "marker": {
             "colorbar": {
              "outlinewidth": 0,
              "ticks": ""
             }
            },
            "type": "scatter3d"
           }
          ],
          "scattercarpet": [
           {
            "marker": {
             "colorbar": {
              "outlinewidth": 0,
              "ticks": ""
             }
            },
            "type": "scattercarpet"
           }
          ],
          "scattergeo": [
           {
            "marker": {
             "colorbar": {
              "outlinewidth": 0,
              "ticks": ""
             }
            },
            "type": "scattergeo"
           }
          ],
          "scattergl": [
           {
            "marker": {
             "colorbar": {
              "outlinewidth": 0,
              "ticks": ""
             }
            },
            "type": "scattergl"
           }
          ],
          "scattermap": [
           {
            "marker": {
             "colorbar": {
              "outlinewidth": 0,
              "ticks": ""
             }
            },
            "type": "scattermap"
           }
          ],
          "scattermapbox": [
           {
            "marker": {
             "colorbar": {
              "outlinewidth": 0,
              "ticks": ""
             }
            },
            "type": "scattermapbox"
           }
          ],
          "scatterpolar": [
           {
            "marker": {
             "colorbar": {
              "outlinewidth": 0,
              "ticks": ""
             }
            },
            "type": "scatterpolar"
           }
          ],
          "scatterpolargl": [
           {
            "marker": {
             "colorbar": {
              "outlinewidth": 0,
              "ticks": ""
             }
            },
            "type": "scatterpolargl"
           }
          ],
          "scatterternary": [
           {
            "marker": {
             "colorbar": {
              "outlinewidth": 0,
              "ticks": ""
             }
            },
            "type": "scatterternary"
           }
          ],
          "surface": [
           {
            "colorbar": {
             "outlinewidth": 0,
             "ticks": ""
            },
            "colorscale": [
             [
              0,
              "#0d0887"
             ],
             [
              0.1111111111111111,
              "#46039f"
             ],
             [
              0.2222222222222222,
              "#7201a8"
             ],
             [
              0.3333333333333333,
              "#9c179e"
             ],
             [
              0.4444444444444444,
              "#bd3786"
             ],
             [
              0.5555555555555556,
              "#d8576b"
             ],
             [
              0.6666666666666666,
              "#ed7953"
             ],
             [
              0.7777777777777778,
              "#fb9f3a"
             ],
             [
              0.8888888888888888,
              "#fdca26"
             ],
             [
              1,
              "#f0f921"
             ]
            ],
            "type": "surface"
           }
          ],
          "table": [
           {
            "cells": {
             "fill": {
              "color": "#EBF0F8"
             },
             "line": {
              "color": "white"
             }
            },
            "header": {
             "fill": {
              "color": "#C8D4E3"
             },
             "line": {
              "color": "white"
             }
            },
            "type": "table"
           }
          ]
         },
         "layout": {
          "annotationdefaults": {
           "arrowcolor": "#2a3f5f",
           "arrowhead": 0,
           "arrowwidth": 1
          },
          "autotypenumbers": "strict",
          "coloraxis": {
           "colorbar": {
            "outlinewidth": 0,
            "ticks": ""
           }
          },
          "colorscale": {
           "diverging": [
            [
             0,
             "#8e0152"
            ],
            [
             0.1,
             "#c51b7d"
            ],
            [
             0.2,
             "#de77ae"
            ],
            [
             0.3,
             "#f1b6da"
            ],
            [
             0.4,
             "#fde0ef"
            ],
            [
             0.5,
             "#f7f7f7"
            ],
            [
             0.6,
             "#e6f5d0"
            ],
            [
             0.7,
             "#b8e186"
            ],
            [
             0.8,
             "#7fbc41"
            ],
            [
             0.9,
             "#4d9221"
            ],
            [
             1,
             "#276419"
            ]
           ],
           "sequential": [
            [
             0,
             "#0d0887"
            ],
            [
             0.1111111111111111,
             "#46039f"
            ],
            [
             0.2222222222222222,
             "#7201a8"
            ],
            [
             0.3333333333333333,
             "#9c179e"
            ],
            [
             0.4444444444444444,
             "#bd3786"
            ],
            [
             0.5555555555555556,
             "#d8576b"
            ],
            [
             0.6666666666666666,
             "#ed7953"
            ],
            [
             0.7777777777777778,
             "#fb9f3a"
            ],
            [
             0.8888888888888888,
             "#fdca26"
            ],
            [
             1,
             "#f0f921"
            ]
           ],
           "sequentialminus": [
            [
             0,
             "#0d0887"
            ],
            [
             0.1111111111111111,
             "#46039f"
            ],
            [
             0.2222222222222222,
             "#7201a8"
            ],
            [
             0.3333333333333333,
             "#9c179e"
            ],
            [
             0.4444444444444444,
             "#bd3786"
            ],
            [
             0.5555555555555556,
             "#d8576b"
            ],
            [
             0.6666666666666666,
             "#ed7953"
            ],
            [
             0.7777777777777778,
             "#fb9f3a"
            ],
            [
             0.8888888888888888,
             "#fdca26"
            ],
            [
             1,
             "#f0f921"
            ]
           ]
          },
          "colorway": [
           "#636efa",
           "#EF553B",
           "#00cc96",
           "#ab63fa",
           "#FFA15A",
           "#19d3f3",
           "#FF6692",
           "#B6E880",
           "#FF97FF",
           "#FECB52"
          ],
          "font": {
           "color": "#2a3f5f"
          },
          "geo": {
           "bgcolor": "white",
           "lakecolor": "white",
           "landcolor": "#E5ECF6",
           "showlakes": true,
           "showland": true,
           "subunitcolor": "white"
          },
          "hoverlabel": {
           "align": "left"
          },
          "hovermode": "closest",
          "mapbox": {
           "style": "light"
          },
          "paper_bgcolor": "white",
          "plot_bgcolor": "#E5ECF6",
          "polar": {
           "angularaxis": {
            "gridcolor": "white",
            "linecolor": "white",
            "ticks": ""
           },
           "bgcolor": "#E5ECF6",
           "radialaxis": {
            "gridcolor": "white",
            "linecolor": "white",
            "ticks": ""
           }
          },
          "scene": {
           "xaxis": {
            "backgroundcolor": "#E5ECF6",
            "gridcolor": "white",
            "gridwidth": 2,
            "linecolor": "white",
            "showbackground": true,
            "ticks": "",
            "zerolinecolor": "white"
           },
           "yaxis": {
            "backgroundcolor": "#E5ECF6",
            "gridcolor": "white",
            "gridwidth": 2,
            "linecolor": "white",
            "showbackground": true,
            "ticks": "",
            "zerolinecolor": "white"
           },
           "zaxis": {
            "backgroundcolor": "#E5ECF6",
            "gridcolor": "white",
            "gridwidth": 2,
            "linecolor": "white",
            "showbackground": true,
            "ticks": "",
            "zerolinecolor": "white"
           }
          },
          "shapedefaults": {
           "line": {
            "color": "#2a3f5f"
           }
          },
          "ternary": {
           "aaxis": {
            "gridcolor": "white",
            "linecolor": "white",
            "ticks": ""
           },
           "baxis": {
            "gridcolor": "white",
            "linecolor": "white",
            "ticks": ""
           },
           "bgcolor": "#E5ECF6",
           "caxis": {
            "gridcolor": "white",
            "linecolor": "white",
            "ticks": ""
           }
          },
          "title": {
           "x": 0.05
          },
          "xaxis": {
           "automargin": true,
           "gridcolor": "white",
           "linecolor": "white",
           "ticks": "",
           "title": {
            "standoff": 15
           },
           "zerolinecolor": "white",
           "zerolinewidth": 2
          },
          "yaxis": {
           "automargin": true,
           "gridcolor": "white",
           "linecolor": "white",
           "ticks": "",
           "title": {
            "standoff": 15
           },
           "zerolinecolor": "white",
           "zerolinewidth": 2
          }
         }
        },
        "xaxis": {
         "anchor": "y",
         "domain": [
          0,
          1
         ]
        },
        "yaxis": {
         "anchor": "x",
         "domain": [
          0,
          1
         ],
         "title": {
          "text": "SalePrice"
         }
        }
       }
      }
     },
     "metadata": {},
     "output_type": "display_data"
    }
   ],
   "source": [
    "px.box(df, y='SalePrice', color='CentralAir')"
   ]
  },
  {
   "cell_type": "markdown",
   "id": "61dfb8b9",
   "metadata": {},
   "source": [
    "GarageFinish: Interior finish of the garage\n",
    "\n",
    "       Fin\tFinished\n",
    "       RFn\tRough Finished\t\n",
    "       Unf\tUnfinished\n",
    "       NA\tNo Garage"
   ]
  },
  {
   "cell_type": "code",
   "execution_count": 20,
   "id": "fca68e5f",
   "metadata": {},
   "outputs": [
    {
     "data": {
      "text/plain": [
       "GarageFinish\n",
       "Unf    605\n",
       "RFn    422\n",
       "Fin    352\n",
       "NaN     81\n",
       "Name: count, dtype: int64"
      ]
     },
     "execution_count": 20,
     "metadata": {},
     "output_type": "execute_result"
    }
   ],
   "source": [
    "df.GarageFinish.value_counts(dropna=False)"
   ]
  },
  {
   "cell_type": "code",
   "execution_count": 21,
   "id": "7d595a4a",
   "metadata": {},
   "outputs": [
    {
     "data": {
      "application/vnd.plotly.v1+json": {
       "config": {
        "plotlyServerURL": "https://plot.ly"
       },
       "data": [
        {
         "alignmentgroup": "True",
         "hovertemplate": "GarageFinish=RFn<br>SalePrice=%{y}<extra></extra>",
         "legendgroup": "RFn",
         "marker": {
          "color": "#636efa"
         },
         "name": "RFn",
         "notched": false,
         "offsetgroup": "RFn",
         "orientation": "v",
         "showlegend": true,
         "type": "box",
         "x0": " ",
         "xaxis": "x",
         "y": {
          "bdata": "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",
          "dtype": "i4"
         },
         "y0": " ",
         "yaxis": "y"
        },
        {
         "alignmentgroup": "True",
         "hovertemplate": "GarageFinish=Unf<br>SalePrice=%{y}<extra></extra>",
         "legendgroup": "Unf",
         "marker": {
          "color": "#EF553B"
         },
         "name": "Unf",
         "notched": false,
         "offsetgroup": "Unf",
         "orientation": "v",
         "showlegend": true,
         "type": "box",
         "x0": " ",
         "xaxis": "x",
         "y": {
          "bdata": "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",
          "dtype": "i4"
         },
         "y0": " ",
         "yaxis": "y"
        },
        {
         "alignmentgroup": "True",
         "hovertemplate": "GarageFinish=Fin<br>SalePrice=%{y}<extra></extra>",
         "legendgroup": "Fin",
         "marker": {
          "color": "#00cc96"
         },
         "name": "Fin",
         "notched": false,
         "offsetgroup": "Fin",
         "orientation": "v",
         "showlegend": true,
         "type": "box",
         "x0": " ",
         "xaxis": "x",
         "y": {
          "bdata": "qEMFAAhGAgD8OwQACLcEAKhVAgBoswIA6N8FANShAgD8sQYA6G4DACC5AwCo0gIA3PMCAJxXAgA0kgIAsKcCAKjSAgAecgEAULcCACC/AgDi2wUAloACANByAwBgWwMAcIIDAKD3AwAkZQMAvBwEAFRLBgAw5gIA+PcEAMzMAgDYRwMAwM4CAE2oBwAwXQQAwM4CAADuAgBAwgQA1DEEAAg6BADWdwIASI0CAMrkBQD07wIAOCYGALRNAwAw2gQAXK8DAAg6BAD4lQMAcIIDACA2BACMrQIAqNICALTWAQDQbAQAKBEDAEJWBgAA7gIAlHwDAKjSAgB4uwMA+JUDAFiMAgD4EgQA7KoEAEB+BQDghgIAVOACANBmBQDIlwQAULEDAKDxBAAA7gIAVn4DAFLCBQCUGAMAoqsGAHALAgAw5gIAoAMCANB4AgAgDQIAbFkDAMAEBgA4uwIAgKkDAADuAgAQgAYA2EcDAGitAwD8vgMAfoQCANDvAwBAkAIAJi8FAGg2AgAwYwMAjsMCAPxHAgDcJQMA2EcDAHjOBAA4MgQACMMCAPh3CADUoQIAMOYCANwMAwDgHAMAAOgDAAsFBAA0ugIABDADAGDMBQBw+QQA8LQFADjBAQDQ+wEAwNQBAOhoBACsLQMArSUGAK7RAgBm0QQANc8GAAD0AQBQtwIAYN4CAHjOBADAyAMAAkEDAIgHAgBYAwQAdLcBAOClAQDIJgIAEJIDAKjSAgCI9QQAuNQEAND7AQAQGwIA4CICABjeBACZ9gIAnFEDANhNAgA4MgQAYFsDAKjGBACgywIAaKcEAERCAQBxCQQA0HIDAKhDBQDAUQIAvqgFADBXBQBYjAIAWHQGALylAgDc7QMAFK8FAEhZBABIXwMAjCoDACN6AwA4hQsAtMQEAL+FBQAw4AMAVL0CAEjiAgAA4gQAMGMDAGzcAgAkZQMAHKkDABiTBADgmQMAMPkDANB4AgC0bAIAsB4EAMQHBAAFTwMAkDUIAPgGBgDQeAIAgK8CAHyGAgBs3AIAyHECAOhuAwDE9wIAiGYHAEjiAgBMEQIAdDQCAOhuAwDo3wUAqNICAPibAgCsAQIA2EcDALCnAgDU0gMA4JkDAHWhBAAwVwUASGUCAMQEBQBoNgIASVUJACC/AgCQ0AMAsKcCAAaYAgBIWQQAMGMDACgRAwAA4gQAsB4EAAwLAgBg5AEAoAMCAIAmBACYpQMAdEcDANS6AgDwxgIA3AwDAIAgBQCXcAIAuAcGALj5AgBgTwUAXCYFAAjDAgCAqQMAuHYDAPgYAwDyQQMAgK8CABjqAgAYYQQAiAEDAGzQBAAYYQQA8D0EACV+CABlsQIAzQ0DABjkAwAgvwIAwMgDAJgcBQD8QQMAaE8CAAxvAgAwHgIAiAcCAGzcAgCIAQMA6PcBAAxvAgC8vgIAwEUEAGDeAgAkzwIAPIACALCnAgC48wMA2EcDACiUAgCMSQIAcIIDAOj3AQDIowIAaIkJAPibAgB8nwIASFkEAJDQAwA0/QUAKF4LAEjiAgBAkAIAiIQCADBpAgCArwIASlgDAMDOAgDwQwMAvpoFALj5AgBoGAcAULcCACC5AwAYhgIAvJkEADDmAgAIwwIACMMCAITGBQCg9wMAIL8CAPA9BACoSQQA4CICAABxAgDobgMAiPUEAJgcBQBwFQUAdLECALtgAgBHUwQA+JsCAJBBBgCMSQIAeM4EAKD3AwAEZQIAgDICAECKAwAomgEAkNADAJilAwBMjgIAvJ8DAJzCBQAywwMAfUoEAOjxAgA4MgQA2EcDAOjrAwAgMAUANBUCAHTKAgCM7gIAhNgCAHkFBgAY6gIA8LoEAHJhBABoNgIALEACAA==",
          "dtype": "i4"
         },
         "y0": " ",
         "yaxis": "y"
        }
       ],
       "layout": {
        "boxmode": "group",
        "legend": {
         "title": {
          "text": "GarageFinish"
         },
         "tracegroupgap": 0
        },
        "margin": {
         "t": 60
        },
        "template": {
         "data": {
          "bar": [
           {
            "error_x": {
             "color": "#2a3f5f"
            },
            "error_y": {
             "color": "#2a3f5f"
            },
            "marker": {
             "line": {
              "color": "#E5ECF6",
              "width": 0.5
             },
             "pattern": {
              "fillmode": "overlay",
              "size": 10,
              "solidity": 0.2
             }
            },
            "type": "bar"
           }
          ],
          "barpolar": [
           {
            "marker": {
             "line": {
              "color": "#E5ECF6",
              "width": 0.5
             },
             "pattern": {
              "fillmode": "overlay",
              "size": 10,
              "solidity": 0.2
             }
            },
            "type": "barpolar"
           }
          ],
          "carpet": [
           {
            "aaxis": {
             "endlinecolor": "#2a3f5f",
             "gridcolor": "white",
             "linecolor": "white",
             "minorgridcolor": "white",
             "startlinecolor": "#2a3f5f"
            },
            "baxis": {
             "endlinecolor": "#2a3f5f",
             "gridcolor": "white",
             "linecolor": "white",
             "minorgridcolor": "white",
             "startlinecolor": "#2a3f5f"
            },
            "type": "carpet"
           }
          ],
          "choropleth": [
           {
            "colorbar": {
             "outlinewidth": 0,
             "ticks": ""
            },
            "type": "choropleth"
           }
          ],
          "contour": [
           {
            "colorbar": {
             "outlinewidth": 0,
             "ticks": ""
            },
            "colorscale": [
             [
              0,
              "#0d0887"
             ],
             [
              0.1111111111111111,
              "#46039f"
             ],
             [
              0.2222222222222222,
              "#7201a8"
             ],
             [
              0.3333333333333333,
              "#9c179e"
             ],
             [
              0.4444444444444444,
              "#bd3786"
             ],
             [
              0.5555555555555556,
              "#d8576b"
             ],
             [
              0.6666666666666666,
              "#ed7953"
             ],
             [
              0.7777777777777778,
              "#fb9f3a"
             ],
             [
              0.8888888888888888,
              "#fdca26"
             ],
             [
              1,
              "#f0f921"
             ]
            ],
            "type": "contour"
           }
          ],
          "contourcarpet": [
           {
            "colorbar": {
             "outlinewidth": 0,
             "ticks": ""
            },
            "type": "contourcarpet"
           }
          ],
          "heatmap": [
           {
            "colorbar": {
             "outlinewidth": 0,
             "ticks": ""
            },
            "colorscale": [
             [
              0,
              "#0d0887"
             ],
             [
              0.1111111111111111,
              "#46039f"
             ],
             [
              0.2222222222222222,
              "#7201a8"
             ],
             [
              0.3333333333333333,
              "#9c179e"
             ],
             [
              0.4444444444444444,
              "#bd3786"
             ],
             [
              0.5555555555555556,
              "#d8576b"
             ],
             [
              0.6666666666666666,
              "#ed7953"
             ],
             [
              0.7777777777777778,
              "#fb9f3a"
             ],
             [
              0.8888888888888888,
              "#fdca26"
             ],
             [
              1,
              "#f0f921"
             ]
            ],
            "type": "heatmap"
           }
          ],
          "histogram": [
           {
            "marker": {
             "pattern": {
              "fillmode": "overlay",
              "size": 10,
              "solidity": 0.2
             }
            },
            "type": "histogram"
           }
          ],
          "histogram2d": [
           {
            "colorbar": {
             "outlinewidth": 0,
             "ticks": ""
            },
            "colorscale": [
             [
              0,
              "#0d0887"
             ],
             [
              0.1111111111111111,
              "#46039f"
             ],
             [
              0.2222222222222222,
              "#7201a8"
             ],
             [
              0.3333333333333333,
              "#9c179e"
             ],
             [
              0.4444444444444444,
              "#bd3786"
             ],
             [
              0.5555555555555556,
              "#d8576b"
             ],
             [
              0.6666666666666666,
              "#ed7953"
             ],
             [
              0.7777777777777778,
              "#fb9f3a"
             ],
             [
              0.8888888888888888,
              "#fdca26"
             ],
             [
              1,
              "#f0f921"
             ]
            ],
            "type": "histogram2d"
           }
          ],
          "histogram2dcontour": [
           {
            "colorbar": {
             "outlinewidth": 0,
             "ticks": ""
            },
            "colorscale": [
             [
              0,
              "#0d0887"
             ],
             [
              0.1111111111111111,
              "#46039f"
             ],
             [
              0.2222222222222222,
              "#7201a8"
             ],
             [
              0.3333333333333333,
              "#9c179e"
             ],
             [
              0.4444444444444444,
              "#bd3786"
             ],
             [
              0.5555555555555556,
              "#d8576b"
             ],
             [
              0.6666666666666666,
              "#ed7953"
             ],
             [
              0.7777777777777778,
              "#fb9f3a"
             ],
             [
              0.8888888888888888,
              "#fdca26"
             ],
             [
              1,
              "#f0f921"
             ]
            ],
            "type": "histogram2dcontour"
           }
          ],
          "mesh3d": [
           {
            "colorbar": {
             "outlinewidth": 0,
             "ticks": ""
            },
            "type": "mesh3d"
           }
          ],
          "parcoords": [
           {
            "line": {
             "colorbar": {
              "outlinewidth": 0,
              "ticks": ""
             }
            },
            "type": "parcoords"
           }
          ],
          "pie": [
           {
            "automargin": true,
            "type": "pie"
           }
          ],
          "scatter": [
           {
            "fillpattern": {
             "fillmode": "overlay",
             "size": 10,
             "solidity": 0.2
            },
            "type": "scatter"
           }
          ],
          "scatter3d": [
           {
            "line": {
             "colorbar": {
              "outlinewidth": 0,
              "ticks": ""
             }
            },
            "marker": {
             "colorbar": {
              "outlinewidth": 0,
              "ticks": ""
             }
            },
            "type": "scatter3d"
           }
          ],
          "scattercarpet": [
           {
            "marker": {
             "colorbar": {
              "outlinewidth": 0,
              "ticks": ""
             }
            },
            "type": "scattercarpet"
           }
          ],
          "scattergeo": [
           {
            "marker": {
             "colorbar": {
              "outlinewidth": 0,
              "ticks": ""
             }
            },
            "type": "scattergeo"
           }
          ],
          "scattergl": [
           {
            "marker": {
             "colorbar": {
              "outlinewidth": 0,
              "ticks": ""
             }
            },
            "type": "scattergl"
           }
          ],
          "scattermap": [
           {
            "marker": {
             "colorbar": {
              "outlinewidth": 0,
              "ticks": ""
             }
            },
            "type": "scattermap"
           }
          ],
          "scattermapbox": [
           {
            "marker": {
             "colorbar": {
              "outlinewidth": 0,
              "ticks": ""
             }
            },
            "type": "scattermapbox"
           }
          ],
          "scatterpolar": [
           {
            "marker": {
             "colorbar": {
              "outlinewidth": 0,
              "ticks": ""
             }
            },
            "type": "scatterpolar"
           }
          ],
          "scatterpolargl": [
           {
            "marker": {
             "colorbar": {
              "outlinewidth": 0,
              "ticks": ""
             }
            },
            "type": "scatterpolargl"
           }
          ],
          "scatterternary": [
           {
            "marker": {
             "colorbar": {
              "outlinewidth": 0,
              "ticks": ""
             }
            },
            "type": "scatterternary"
           }
          ],
          "surface": [
           {
            "colorbar": {
             "outlinewidth": 0,
             "ticks": ""
            },
            "colorscale": [
             [
              0,
              "#0d0887"
             ],
             [
              0.1111111111111111,
              "#46039f"
             ],
             [
              0.2222222222222222,
              "#7201a8"
             ],
             [
              0.3333333333333333,
              "#9c179e"
             ],
             [
              0.4444444444444444,
              "#bd3786"
             ],
             [
              0.5555555555555556,
              "#d8576b"
             ],
             [
              0.6666666666666666,
              "#ed7953"
             ],
             [
              0.7777777777777778,
              "#fb9f3a"
             ],
             [
              0.8888888888888888,
              "#fdca26"
             ],
             [
              1,
              "#f0f921"
             ]
            ],
            "type": "surface"
           }
          ],
          "table": [
           {
            "cells": {
             "fill": {
              "color": "#EBF0F8"
             },
             "line": {
              "color": "white"
             }
            },
            "header": {
             "fill": {
              "color": "#C8D4E3"
             },
             "line": {
              "color": "white"
             }
            },
            "type": "table"
           }
          ]
         },
         "layout": {
          "annotationdefaults": {
           "arrowcolor": "#2a3f5f",
           "arrowhead": 0,
           "arrowwidth": 1
          },
          "autotypenumbers": "strict",
          "coloraxis": {
           "colorbar": {
            "outlinewidth": 0,
            "ticks": ""
           }
          },
          "colorscale": {
           "diverging": [
            [
             0,
             "#8e0152"
            ],
            [
             0.1,
             "#c51b7d"
            ],
            [
             0.2,
             "#de77ae"
            ],
            [
             0.3,
             "#f1b6da"
            ],
            [
             0.4,
             "#fde0ef"
            ],
            [
             0.5,
             "#f7f7f7"
            ],
            [
             0.6,
             "#e6f5d0"
            ],
            [
             0.7,
             "#b8e186"
            ],
            [
             0.8,
             "#7fbc41"
            ],
            [
             0.9,
             "#4d9221"
            ],
            [
             1,
             "#276419"
            ]
           ],
           "sequential": [
            [
             0,
             "#0d0887"
            ],
            [
             0.1111111111111111,
             "#46039f"
            ],
            [
             0.2222222222222222,
             "#7201a8"
            ],
            [
             0.3333333333333333,
             "#9c179e"
            ],
            [
             0.4444444444444444,
             "#bd3786"
            ],
            [
             0.5555555555555556,
             "#d8576b"
            ],
            [
             0.6666666666666666,
             "#ed7953"
            ],
            [
             0.7777777777777778,
             "#fb9f3a"
            ],
            [
             0.8888888888888888,
             "#fdca26"
            ],
            [
             1,
             "#f0f921"
            ]
           ],
           "sequentialminus": [
            [
             0,
             "#0d0887"
            ],
            [
             0.1111111111111111,
             "#46039f"
            ],
            [
             0.2222222222222222,
             "#7201a8"
            ],
            [
             0.3333333333333333,
             "#9c179e"
            ],
            [
             0.4444444444444444,
             "#bd3786"
            ],
            [
             0.5555555555555556,
             "#d8576b"
            ],
            [
             0.6666666666666666,
             "#ed7953"
            ],
            [
             0.7777777777777778,
             "#fb9f3a"
            ],
            [
             0.8888888888888888,
             "#fdca26"
            ],
            [
             1,
             "#f0f921"
            ]
           ]
          },
          "colorway": [
           "#636efa",
           "#EF553B",
           "#00cc96",
           "#ab63fa",
           "#FFA15A",
           "#19d3f3",
           "#FF6692",
           "#B6E880",
           "#FF97FF",
           "#FECB52"
          ],
          "font": {
           "color": "#2a3f5f"
          },
          "geo": {
           "bgcolor": "white",
           "lakecolor": "white",
           "landcolor": "#E5ECF6",
           "showlakes": true,
           "showland": true,
           "subunitcolor": "white"
          },
          "hoverlabel": {
           "align": "left"
          },
          "hovermode": "closest",
          "mapbox": {
           "style": "light"
          },
          "paper_bgcolor": "white",
          "plot_bgcolor": "#E5ECF6",
          "polar": {
           "angularaxis": {
            "gridcolor": "white",
            "linecolor": "white",
            "ticks": ""
           },
           "bgcolor": "#E5ECF6",
           "radialaxis": {
            "gridcolor": "white",
            "linecolor": "white",
            "ticks": ""
           }
          },
          "scene": {
           "xaxis": {
            "backgroundcolor": "#E5ECF6",
            "gridcolor": "white",
            "gridwidth": 2,
            "linecolor": "white",
            "showbackground": true,
            "ticks": "",
            "zerolinecolor": "white"
           },
           "yaxis": {
            "backgroundcolor": "#E5ECF6",
            "gridcolor": "white",
            "gridwidth": 2,
            "linecolor": "white",
            "showbackground": true,
            "ticks": "",
            "zerolinecolor": "white"
           },
           "zaxis": {
            "backgroundcolor": "#E5ECF6",
            "gridcolor": "white",
            "gridwidth": 2,
            "linecolor": "white",
            "showbackground": true,
            "ticks": "",
            "zerolinecolor": "white"
           }
          },
          "shapedefaults": {
           "line": {
            "color": "#2a3f5f"
           }
          },
          "ternary": {
           "aaxis": {
            "gridcolor": "white",
            "linecolor": "white",
            "ticks": ""
           },
           "baxis": {
            "gridcolor": "white",
            "linecolor": "white",
            "ticks": ""
           },
           "bgcolor": "#E5ECF6",
           "caxis": {
            "gridcolor": "white",
            "linecolor": "white",
            "ticks": ""
           }
          },
          "title": {
           "x": 0.05
          },
          "xaxis": {
           "automargin": true,
           "gridcolor": "white",
           "linecolor": "white",
           "ticks": "",
           "title": {
            "standoff": 15
           },
           "zerolinecolor": "white",
           "zerolinewidth": 2
          },
          "yaxis": {
           "automargin": true,
           "gridcolor": "white",
           "linecolor": "white",
           "ticks": "",
           "title": {
            "standoff": 15
           },
           "zerolinecolor": "white",
           "zerolinewidth": 2
          }
         }
        },
        "xaxis": {
         "anchor": "y",
         "domain": [
          0,
          1
         ]
        },
        "yaxis": {
         "anchor": "x",
         "domain": [
          0,
          1
         ],
         "title": {
          "text": "SalePrice"
         }
        }
       }
      }
     },
     "metadata": {},
     "output_type": "display_data"
    }
   ],
   "source": [
    "px.box(df, y='SalePrice', color='GarageFinish')"
   ]
  },
  {
   "cell_type": "markdown",
   "id": "fdb5a26e",
   "metadata": {},
   "source": [
    "Why is this so relevant? (Disbelief)"
   ]
  },
  {
   "cell_type": "markdown",
   "id": "371c1dc6",
   "metadata": {},
   "source": [
    "## <a id='toc1_2_'></a>[Try baseline model without the surface features](#toc0_)"
   ]
  },
  {
   "cell_type": "code",
   "execution_count": 22,
   "id": "b0a91c92",
   "metadata": {},
   "outputs": [],
   "source": [
    "from pycaret.regression import *"
   ]
  },
  {
   "cell_type": "code",
   "execution_count": 23,
   "id": "cb3b5b0b",
   "metadata": {},
   "outputs": [],
   "source": [
    "top = ['OverallQual',\n",
    " 'GrLivArea',\n",
    " 'GarageCars',\n",
    " 'YearBuilt',\n",
    " 'GarageFinish',\n",
    " 'CentralAir']"
   ]
  },
  {
   "cell_type": "code",
   "execution_count": 24,
   "id": "e2df87be",
   "metadata": {},
   "outputs": [
    {
     "data": {
      "text/html": [
       "<style type=\"text/css\">\n",
       "#T_ce3b4_row11_col1, #T_ce3b4_row17_col1 {\n",
       "  background-color: lightgreen;\n",
       "}\n",
       "</style>\n",
       "<table id=\"T_ce3b4\">\n",
       "  <thead>\n",
       "    <tr>\n",
       "      <th class=\"blank level0\" >&nbsp;</th>\n",
       "      <th id=\"T_ce3b4_level0_col0\" class=\"col_heading level0 col0\" >Description</th>\n",
       "      <th id=\"T_ce3b4_level0_col1\" class=\"col_heading level0 col1\" >Value</th>\n",
       "    </tr>\n",
       "  </thead>\n",
       "  <tbody>\n",
       "    <tr>\n",
       "      <th id=\"T_ce3b4_level0_row0\" class=\"row_heading level0 row0\" >0</th>\n",
       "      <td id=\"T_ce3b4_row0_col0\" class=\"data row0 col0\" >Session id</td>\n",
       "      <td id=\"T_ce3b4_row0_col1\" class=\"data row0 col1\" >123</td>\n",
       "    </tr>\n",
       "    <tr>\n",
       "      <th id=\"T_ce3b4_level0_row1\" class=\"row_heading level0 row1\" >1</th>\n",
       "      <td id=\"T_ce3b4_row1_col0\" class=\"data row1 col0\" >Target</td>\n",
       "      <td id=\"T_ce3b4_row1_col1\" class=\"data row1 col1\" >SalePrice</td>\n",
       "    </tr>\n",
       "    <tr>\n",
       "      <th id=\"T_ce3b4_level0_row2\" class=\"row_heading level0 row2\" >2</th>\n",
       "      <td id=\"T_ce3b4_row2_col0\" class=\"data row2 col0\" >Target type</td>\n",
       "      <td id=\"T_ce3b4_row2_col1\" class=\"data row2 col1\" >Regression</td>\n",
       "    </tr>\n",
       "    <tr>\n",
       "      <th id=\"T_ce3b4_level0_row3\" class=\"row_heading level0 row3\" >3</th>\n",
       "      <td id=\"T_ce3b4_row3_col0\" class=\"data row3 col0\" >Original data shape</td>\n",
       "      <td id=\"T_ce3b4_row3_col1\" class=\"data row3 col1\" >(1460, 7)</td>\n",
       "    </tr>\n",
       "    <tr>\n",
       "      <th id=\"T_ce3b4_level0_row4\" class=\"row_heading level0 row4\" >4</th>\n",
       "      <td id=\"T_ce3b4_row4_col0\" class=\"data row4 col0\" >Transformed data shape</td>\n",
       "      <td id=\"T_ce3b4_row4_col1\" class=\"data row4 col1\" >(1460, 9)</td>\n",
       "    </tr>\n",
       "    <tr>\n",
       "      <th id=\"T_ce3b4_level0_row5\" class=\"row_heading level0 row5\" >5</th>\n",
       "      <td id=\"T_ce3b4_row5_col0\" class=\"data row5 col0\" >Transformed train set shape</td>\n",
       "      <td id=\"T_ce3b4_row5_col1\" class=\"data row5 col1\" >(1021, 9)</td>\n",
       "    </tr>\n",
       "    <tr>\n",
       "      <th id=\"T_ce3b4_level0_row6\" class=\"row_heading level0 row6\" >6</th>\n",
       "      <td id=\"T_ce3b4_row6_col0\" class=\"data row6 col0\" >Transformed test set shape</td>\n",
       "      <td id=\"T_ce3b4_row6_col1\" class=\"data row6 col1\" >(439, 9)</td>\n",
       "    </tr>\n",
       "    <tr>\n",
       "      <th id=\"T_ce3b4_level0_row7\" class=\"row_heading level0 row7\" >7</th>\n",
       "      <td id=\"T_ce3b4_row7_col0\" class=\"data row7 col0\" >Numeric features</td>\n",
       "      <td id=\"T_ce3b4_row7_col1\" class=\"data row7 col1\" >4</td>\n",
       "    </tr>\n",
       "    <tr>\n",
       "      <th id=\"T_ce3b4_level0_row8\" class=\"row_heading level0 row8\" >8</th>\n",
       "      <td id=\"T_ce3b4_row8_col0\" class=\"data row8 col0\" >Categorical features</td>\n",
       "      <td id=\"T_ce3b4_row8_col1\" class=\"data row8 col1\" >2</td>\n",
       "    </tr>\n",
       "    <tr>\n",
       "      <th id=\"T_ce3b4_level0_row9\" class=\"row_heading level0 row9\" >9</th>\n",
       "      <td id=\"T_ce3b4_row9_col0\" class=\"data row9 col0\" >Keep features</td>\n",
       "      <td id=\"T_ce3b4_row9_col1\" class=\"data row9 col1\" >6</td>\n",
       "    </tr>\n",
       "    <tr>\n",
       "      <th id=\"T_ce3b4_level0_row10\" class=\"row_heading level0 row10\" >10</th>\n",
       "      <td id=\"T_ce3b4_row10_col0\" class=\"data row10 col0\" >Rows with missing values</td>\n",
       "      <td id=\"T_ce3b4_row10_col1\" class=\"data row10 col1\" >5.5%</td>\n",
       "    </tr>\n",
       "    <tr>\n",
       "      <th id=\"T_ce3b4_level0_row11\" class=\"row_heading level0 row11\" >11</th>\n",
       "      <td id=\"T_ce3b4_row11_col0\" class=\"data row11 col0\" >Preprocess</td>\n",
       "      <td id=\"T_ce3b4_row11_col1\" class=\"data row11 col1\" >True</td>\n",
       "    </tr>\n",
       "    <tr>\n",
       "      <th id=\"T_ce3b4_level0_row12\" class=\"row_heading level0 row12\" >12</th>\n",
       "      <td id=\"T_ce3b4_row12_col0\" class=\"data row12 col0\" >Imputation type</td>\n",
       "      <td id=\"T_ce3b4_row12_col1\" class=\"data row12 col1\" >simple</td>\n",
       "    </tr>\n",
       "    <tr>\n",
       "      <th id=\"T_ce3b4_level0_row13\" class=\"row_heading level0 row13\" >13</th>\n",
       "      <td id=\"T_ce3b4_row13_col0\" class=\"data row13 col0\" >Numeric imputation</td>\n",
       "      <td id=\"T_ce3b4_row13_col1\" class=\"data row13 col1\" >mean</td>\n",
       "    </tr>\n",
       "    <tr>\n",
       "      <th id=\"T_ce3b4_level0_row14\" class=\"row_heading level0 row14\" >14</th>\n",
       "      <td id=\"T_ce3b4_row14_col0\" class=\"data row14 col0\" >Categorical imputation</td>\n",
       "      <td id=\"T_ce3b4_row14_col1\" class=\"data row14 col1\" >mode</td>\n",
       "    </tr>\n",
       "    <tr>\n",
       "      <th id=\"T_ce3b4_level0_row15\" class=\"row_heading level0 row15\" >15</th>\n",
       "      <td id=\"T_ce3b4_row15_col0\" class=\"data row15 col0\" >Maximum one-hot encoding</td>\n",
       "      <td id=\"T_ce3b4_row15_col1\" class=\"data row15 col1\" >25</td>\n",
       "    </tr>\n",
       "    <tr>\n",
       "      <th id=\"T_ce3b4_level0_row16\" class=\"row_heading level0 row16\" >16</th>\n",
       "      <td id=\"T_ce3b4_row16_col0\" class=\"data row16 col0\" >Encoding method</td>\n",
       "      <td id=\"T_ce3b4_row16_col1\" class=\"data row16 col1\" >None</td>\n",
       "    </tr>\n",
       "    <tr>\n",
       "      <th id=\"T_ce3b4_level0_row17\" class=\"row_heading level0 row17\" >17</th>\n",
       "      <td id=\"T_ce3b4_row17_col0\" class=\"data row17 col0\" >Transform target</td>\n",
       "      <td id=\"T_ce3b4_row17_col1\" class=\"data row17 col1\" >True</td>\n",
       "    </tr>\n",
       "    <tr>\n",
       "      <th id=\"T_ce3b4_level0_row18\" class=\"row_heading level0 row18\" >18</th>\n",
       "      <td id=\"T_ce3b4_row18_col0\" class=\"data row18 col0\" >Transform target method</td>\n",
       "      <td id=\"T_ce3b4_row18_col1\" class=\"data row18 col1\" >yeo-johnson</td>\n",
       "    </tr>\n",
       "    <tr>\n",
       "      <th id=\"T_ce3b4_level0_row19\" class=\"row_heading level0 row19\" >19</th>\n",
       "      <td id=\"T_ce3b4_row19_col0\" class=\"data row19 col0\" >Fold Generator</td>\n",
       "      <td id=\"T_ce3b4_row19_col1\" class=\"data row19 col1\" >KFold</td>\n",
       "    </tr>\n",
       "    <tr>\n",
       "      <th id=\"T_ce3b4_level0_row20\" class=\"row_heading level0 row20\" >20</th>\n",
       "      <td id=\"T_ce3b4_row20_col0\" class=\"data row20 col0\" >Fold Number</td>\n",
       "      <td id=\"T_ce3b4_row20_col1\" class=\"data row20 col1\" >10</td>\n",
       "    </tr>\n",
       "    <tr>\n",
       "      <th id=\"T_ce3b4_level0_row21\" class=\"row_heading level0 row21\" >21</th>\n",
       "      <td id=\"T_ce3b4_row21_col0\" class=\"data row21 col0\" >CPU Jobs</td>\n",
       "      <td id=\"T_ce3b4_row21_col1\" class=\"data row21 col1\" >-1</td>\n",
       "    </tr>\n",
       "    <tr>\n",
       "      <th id=\"T_ce3b4_level0_row22\" class=\"row_heading level0 row22\" >22</th>\n",
       "      <td id=\"T_ce3b4_row22_col0\" class=\"data row22 col0\" >Use GPU</td>\n",
       "      <td id=\"T_ce3b4_row22_col1\" class=\"data row22 col1\" >False</td>\n",
       "    </tr>\n",
       "    <tr>\n",
       "      <th id=\"T_ce3b4_level0_row23\" class=\"row_heading level0 row23\" >23</th>\n",
       "      <td id=\"T_ce3b4_row23_col0\" class=\"data row23 col0\" >Log Experiment</td>\n",
       "      <td id=\"T_ce3b4_row23_col1\" class=\"data row23 col1\" >False</td>\n",
       "    </tr>\n",
       "    <tr>\n",
       "      <th id=\"T_ce3b4_level0_row24\" class=\"row_heading level0 row24\" >24</th>\n",
       "      <td id=\"T_ce3b4_row24_col0\" class=\"data row24 col0\" >Experiment Name</td>\n",
       "      <td id=\"T_ce3b4_row24_col1\" class=\"data row24 col1\" >reg-default-name</td>\n",
       "    </tr>\n",
       "    <tr>\n",
       "      <th id=\"T_ce3b4_level0_row25\" class=\"row_heading level0 row25\" >25</th>\n",
       "      <td id=\"T_ce3b4_row25_col0\" class=\"data row25 col0\" >USI</td>\n",
       "      <td id=\"T_ce3b4_row25_col1\" class=\"data row25 col1\" >1277</td>\n",
       "    </tr>\n",
       "  </tbody>\n",
       "</table>\n"
      ],
      "text/plain": [
       "<pandas.io.formats.style.Styler at 0x1d76b1f2990>"
      ]
     },
     "metadata": {},
     "output_type": "display_data"
    }
   ],
   "source": [
    "experiment = setup(data=df[top + ['SalePrice']], target='SalePrice', session_id=123, transform_target=True, keep_features=top) "
   ]
  },
  {
   "cell_type": "code",
   "execution_count": 25,
   "id": "bd07be37",
   "metadata": {},
   "outputs": [
    {
     "data": {
      "text/html": [],
      "text/plain": [
       "<IPython.core.display.HTML object>"
      ]
     },
     "metadata": {},
     "output_type": "display_data"
    },
    {
     "data": {
      "text/html": [],
      "text/plain": [
       "<IPython.core.display.HTML object>"
      ]
     },
     "metadata": {},
     "output_type": "display_data"
    },
    {
     "data": {
      "text/html": [],
      "text/plain": [
       "<IPython.core.display.HTML object>"
      ]
     },
     "metadata": {},
     "output_type": "display_data"
    }
   ],
   "source": [
    "model = compare_models()"
   ]
  },
  {
   "cell_type": "code",
   "execution_count": 26,
   "id": "93a7ab52",
   "metadata": {},
   "outputs": [
    {
     "data": {
      "application/vnd.plotly.v1+json": {
       "config": {
        "plotlyServerURL": "https://plot.ly"
       },
       "data": [
        {
         "bingroup": "y",
         "histfunc": "sum",
         "hovertemplate": "sum of x=%{x}<br>y=%{y}<extra></extra>",
         "legendgroup": "",
         "marker": {
          "color": "#636efa",
          "pattern": {
           "shape": ""
          }
         },
         "name": "",
         "orientation": "h",
         "showlegend": false,
         "type": "histogram",
         "x": {
          "bdata": "5rgK2sUe4j+AddCN/TrOPw2OeX74Sq4/tRjIBV7gtD90tvF5A6afPyA9H1o5GSs/DDn8BLhRIT/3ymHfFTmaPw==",
          "dtype": "f8"
         },
         "xaxis": "x",
         "y": [
          "OverallQual",
          "GrLivArea",
          "GarageCars",
          "YearBuilt",
          "GarageFinish_Unf",
          "GarageFinish_RFn",
          "GarageFinish_Fin",
          "CentralAir"
         ],
         "yaxis": "y"
        }
       ],
       "layout": {
        "barmode": "relative",
        "legend": {
         "tracegroupgap": 0
        },
        "margin": {
         "t": 60
        },
        "template": {
         "data": {
          "bar": [
           {
            "error_x": {
             "color": "#2a3f5f"
            },
            "error_y": {
             "color": "#2a3f5f"
            },
            "marker": {
             "line": {
              "color": "#E5ECF6",
              "width": 0.5
             },
             "pattern": {
              "fillmode": "overlay",
              "size": 10,
              "solidity": 0.2
             }
            },
            "type": "bar"
           }
          ],
          "barpolar": [
           {
            "marker": {
             "line": {
              "color": "#E5ECF6",
              "width": 0.5
             },
             "pattern": {
              "fillmode": "overlay",
              "size": 10,
              "solidity": 0.2
             }
            },
            "type": "barpolar"
           }
          ],
          "carpet": [
           {
            "aaxis": {
             "endlinecolor": "#2a3f5f",
             "gridcolor": "white",
             "linecolor": "white",
             "minorgridcolor": "white",
             "startlinecolor": "#2a3f5f"
            },
            "baxis": {
             "endlinecolor": "#2a3f5f",
             "gridcolor": "white",
             "linecolor": "white",
             "minorgridcolor": "white",
             "startlinecolor": "#2a3f5f"
            },
            "type": "carpet"
           }
          ],
          "choropleth": [
           {
            "colorbar": {
             "outlinewidth": 0,
             "ticks": ""
            },
            "type": "choropleth"
           }
          ],
          "contour": [
           {
            "colorbar": {
             "outlinewidth": 0,
             "ticks": ""
            },
            "colorscale": [
             [
              0,
              "#0d0887"
             ],
             [
              0.1111111111111111,
              "#46039f"
             ],
             [
              0.2222222222222222,
              "#7201a8"
             ],
             [
              0.3333333333333333,
              "#9c179e"
             ],
             [
              0.4444444444444444,
              "#bd3786"
             ],
             [
              0.5555555555555556,
              "#d8576b"
             ],
             [
              0.6666666666666666,
              "#ed7953"
             ],
             [
              0.7777777777777778,
              "#fb9f3a"
             ],
             [
              0.8888888888888888,
              "#fdca26"
             ],
             [
              1,
              "#f0f921"
             ]
            ],
            "type": "contour"
           }
          ],
          "contourcarpet": [
           {
            "colorbar": {
             "outlinewidth": 0,
             "ticks": ""
            },
            "type": "contourcarpet"
           }
          ],
          "heatmap": [
           {
            "colorbar": {
             "outlinewidth": 0,
             "ticks": ""
            },
            "colorscale": [
             [
              0,
              "#0d0887"
             ],
             [
              0.1111111111111111,
              "#46039f"
             ],
             [
              0.2222222222222222,
              "#7201a8"
             ],
             [
              0.3333333333333333,
              "#9c179e"
             ],
             [
              0.4444444444444444,
              "#bd3786"
             ],
             [
              0.5555555555555556,
              "#d8576b"
             ],
             [
              0.6666666666666666,
              "#ed7953"
             ],
             [
              0.7777777777777778,
              "#fb9f3a"
             ],
             [
              0.8888888888888888,
              "#fdca26"
             ],
             [
              1,
              "#f0f921"
             ]
            ],
            "type": "heatmap"
           }
          ],
          "histogram": [
           {
            "marker": {
             "pattern": {
              "fillmode": "overlay",
              "size": 10,
              "solidity": 0.2
             }
            },
            "type": "histogram"
           }
          ],
          "histogram2d": [
           {
            "colorbar": {
             "outlinewidth": 0,
             "ticks": ""
            },
            "colorscale": [
             [
              0,
              "#0d0887"
             ],
             [
              0.1111111111111111,
              "#46039f"
             ],
             [
              0.2222222222222222,
              "#7201a8"
             ],
             [
              0.3333333333333333,
              "#9c179e"
             ],
             [
              0.4444444444444444,
              "#bd3786"
             ],
             [
              0.5555555555555556,
              "#d8576b"
             ],
             [
              0.6666666666666666,
              "#ed7953"
             ],
             [
              0.7777777777777778,
              "#fb9f3a"
             ],
             [
              0.8888888888888888,
              "#fdca26"
             ],
             [
              1,
              "#f0f921"
             ]
            ],
            "type": "histogram2d"
           }
          ],
          "histogram2dcontour": [
           {
            "colorbar": {
             "outlinewidth": 0,
             "ticks": ""
            },
            "colorscale": [
             [
              0,
              "#0d0887"
             ],
             [
              0.1111111111111111,
              "#46039f"
             ],
             [
              0.2222222222222222,
              "#7201a8"
             ],
             [
              0.3333333333333333,
              "#9c179e"
             ],
             [
              0.4444444444444444,
              "#bd3786"
             ],
             [
              0.5555555555555556,
              "#d8576b"
             ],
             [
              0.6666666666666666,
              "#ed7953"
             ],
             [
              0.7777777777777778,
              "#fb9f3a"
             ],
             [
              0.8888888888888888,
              "#fdca26"
             ],
             [
              1,
              "#f0f921"
             ]
            ],
            "type": "histogram2dcontour"
           }
          ],
          "mesh3d": [
           {
            "colorbar": {
             "outlinewidth": 0,
             "ticks": ""
            },
            "type": "mesh3d"
           }
          ],
          "parcoords": [
           {
            "line": {
             "colorbar": {
              "outlinewidth": 0,
              "ticks": ""
             }
            },
            "type": "parcoords"
           }
          ],
          "pie": [
           {
            "automargin": true,
            "type": "pie"
           }
          ],
          "scatter": [
           {
            "fillpattern": {
             "fillmode": "overlay",
             "size": 10,
             "solidity": 0.2
            },
            "type": "scatter"
           }
          ],
          "scatter3d": [
           {
            "line": {
             "colorbar": {
              "outlinewidth": 0,
              "ticks": ""
             }
            },
            "marker": {
             "colorbar": {
              "outlinewidth": 0,
              "ticks": ""
             }
            },
            "type": "scatter3d"
           }
          ],
          "scattercarpet": [
           {
            "marker": {
             "colorbar": {
              "outlinewidth": 0,
              "ticks": ""
             }
            },
            "type": "scattercarpet"
           }
          ],
          "scattergeo": [
           {
            "marker": {
             "colorbar": {
              "outlinewidth": 0,
              "ticks": ""
             }
            },
            "type": "scattergeo"
           }
          ],
          "scattergl": [
           {
            "marker": {
             "colorbar": {
              "outlinewidth": 0,
              "ticks": ""
             }
            },
            "type": "scattergl"
           }
          ],
          "scattermap": [
           {
            "marker": {
             "colorbar": {
              "outlinewidth": 0,
              "ticks": ""
             }
            },
            "type": "scattermap"
           }
          ],
          "scattermapbox": [
           {
            "marker": {
             "colorbar": {
              "outlinewidth": 0,
              "ticks": ""
             }
            },
            "type": "scattermapbox"
           }
          ],
          "scatterpolar": [
           {
            "marker": {
             "colorbar": {
              "outlinewidth": 0,
              "ticks": ""
             }
            },
            "type": "scatterpolar"
           }
          ],
          "scatterpolargl": [
           {
            "marker": {
             "colorbar": {
              "outlinewidth": 0,
              "ticks": ""
             }
            },
            "type": "scatterpolargl"
           }
          ],
          "scatterternary": [
           {
            "marker": {
             "colorbar": {
              "outlinewidth": 0,
              "ticks": ""
             }
            },
            "type": "scatterternary"
           }
          ],
          "surface": [
           {
            "colorbar": {
             "outlinewidth": 0,
             "ticks": ""
            },
            "colorscale": [
             [
              0,
              "#0d0887"
             ],
             [
              0.1111111111111111,
              "#46039f"
             ],
             [
              0.2222222222222222,
              "#7201a8"
             ],
             [
              0.3333333333333333,
              "#9c179e"
             ],
             [
              0.4444444444444444,
              "#bd3786"
             ],
             [
              0.5555555555555556,
              "#d8576b"
             ],
             [
              0.6666666666666666,
              "#ed7953"
             ],
             [
              0.7777777777777778,
              "#fb9f3a"
             ],
             [
              0.8888888888888888,
              "#fdca26"
             ],
             [
              1,
              "#f0f921"
             ]
            ],
            "type": "surface"
           }
          ],
          "table": [
           {
            "cells": {
             "fill": {
              "color": "#EBF0F8"
             },
             "line": {
              "color": "white"
             }
            },
            "header": {
             "fill": {
              "color": "#C8D4E3"
             },
             "line": {
              "color": "white"
             }
            },
            "type": "table"
           }
          ]
         },
         "layout": {
          "annotationdefaults": {
           "arrowcolor": "#2a3f5f",
           "arrowhead": 0,
           "arrowwidth": 1
          },
          "autotypenumbers": "strict",
          "coloraxis": {
           "colorbar": {
            "outlinewidth": 0,
            "ticks": ""
           }
          },
          "colorscale": {
           "diverging": [
            [
             0,
             "#8e0152"
            ],
            [
             0.1,
             "#c51b7d"
            ],
            [
             0.2,
             "#de77ae"
            ],
            [
             0.3,
             "#f1b6da"
            ],
            [
             0.4,
             "#fde0ef"
            ],
            [
             0.5,
             "#f7f7f7"
            ],
            [
             0.6,
             "#e6f5d0"
            ],
            [
             0.7,
             "#b8e186"
            ],
            [
             0.8,
             "#7fbc41"
            ],
            [
             0.9,
             "#4d9221"
            ],
            [
             1,
             "#276419"
            ]
           ],
           "sequential": [
            [
             0,
             "#0d0887"
            ],
            [
             0.1111111111111111,
             "#46039f"
            ],
            [
             0.2222222222222222,
             "#7201a8"
            ],
            [
             0.3333333333333333,
             "#9c179e"
            ],
            [
             0.4444444444444444,
             "#bd3786"
            ],
            [
             0.5555555555555556,
             "#d8576b"
            ],
            [
             0.6666666666666666,
             "#ed7953"
            ],
            [
             0.7777777777777778,
             "#fb9f3a"
            ],
            [
             0.8888888888888888,
             "#fdca26"
            ],
            [
             1,
             "#f0f921"
            ]
           ],
           "sequentialminus": [
            [
             0,
             "#0d0887"
            ],
            [
             0.1111111111111111,
             "#46039f"
            ],
            [
             0.2222222222222222,
             "#7201a8"
            ],
            [
             0.3333333333333333,
             "#9c179e"
            ],
            [
             0.4444444444444444,
             "#bd3786"
            ],
            [
             0.5555555555555556,
             "#d8576b"
            ],
            [
             0.6666666666666666,
             "#ed7953"
            ],
            [
             0.7777777777777778,
             "#fb9f3a"
            ],
            [
             0.8888888888888888,
             "#fdca26"
            ],
            [
             1,
             "#f0f921"
            ]
           ]
          },
          "colorway": [
           "#636efa",
           "#EF553B",
           "#00cc96",
           "#ab63fa",
           "#FFA15A",
           "#19d3f3",
           "#FF6692",
           "#B6E880",
           "#FF97FF",
           "#FECB52"
          ],
          "font": {
           "color": "#2a3f5f"
          },
          "geo": {
           "bgcolor": "white",
           "lakecolor": "white",
           "landcolor": "#E5ECF6",
           "showlakes": true,
           "showland": true,
           "subunitcolor": "white"
          },
          "hoverlabel": {
           "align": "left"
          },
          "hovermode": "closest",
          "mapbox": {
           "style": "light"
          },
          "paper_bgcolor": "white",
          "plot_bgcolor": "#E5ECF6",
          "polar": {
           "angularaxis": {
            "gridcolor": "white",
            "linecolor": "white",
            "ticks": ""
           },
           "bgcolor": "#E5ECF6",
           "radialaxis": {
            "gridcolor": "white",
            "linecolor": "white",
            "ticks": ""
           }
          },
          "scene": {
           "xaxis": {
            "backgroundcolor": "#E5ECF6",
            "gridcolor": "white",
            "gridwidth": 2,
            "linecolor": "white",
            "showbackground": true,
            "ticks": "",
            "zerolinecolor": "white"
           },
           "yaxis": {
            "backgroundcolor": "#E5ECF6",
            "gridcolor": "white",
            "gridwidth": 2,
            "linecolor": "white",
            "showbackground": true,
            "ticks": "",
            "zerolinecolor": "white"
           },
           "zaxis": {
            "backgroundcolor": "#E5ECF6",
            "gridcolor": "white",
            "gridwidth": 2,
            "linecolor": "white",
            "showbackground": true,
            "ticks": "",
            "zerolinecolor": "white"
           }
          },
          "shapedefaults": {
           "line": {
            "color": "#2a3f5f"
           }
          },
          "ternary": {
           "aaxis": {
            "gridcolor": "white",
            "linecolor": "white",
            "ticks": ""
           },
           "baxis": {
            "gridcolor": "white",
            "linecolor": "white",
            "ticks": ""
           },
           "bgcolor": "#E5ECF6",
           "caxis": {
            "gridcolor": "white",
            "linecolor": "white",
            "ticks": ""
           }
          },
          "title": {
           "x": 0.05
          },
          "xaxis": {
           "automargin": true,
           "gridcolor": "white",
           "linecolor": "white",
           "ticks": "",
           "title": {
            "standoff": 15
           },
           "zerolinecolor": "white",
           "zerolinewidth": 2
          },
          "yaxis": {
           "automargin": true,
           "gridcolor": "white",
           "linecolor": "white",
           "ticks": "",
           "title": {
            "standoff": 15
           },
           "zerolinecolor": "white",
           "zerolinewidth": 2
          }
         }
        },
        "xaxis": {
         "anchor": "y",
         "domain": [
          0,
          1
         ],
         "title": {
          "text": "sum of x"
         }
        },
        "yaxis": {
         "anchor": "x",
         "categoryorder": "total ascending",
         "domain": [
          0,
          1
         ],
         "title": {
          "text": "y"
         }
        }
       }
      }
     },
     "metadata": {},
     "output_type": "display_data"
    }
   ],
   "source": [
    "px.histogram(x=model.feature_importances_, y=model.feature_names_in_).update_yaxes(categoryorder='total ascending')"
   ]
  },
  {
   "cell_type": "markdown",
   "id": "ca724902",
   "metadata": {},
   "source": [
    "We still keep an R2 score of 0.83 even when we have just 6 features. Also, the performance for the regression models was significantly improved, which suggests that there is some linear relationship between the features chosen and the sale price, even if it was hidden in the previous model iteration."
   ]
  },
  {
   "cell_type": "markdown",
   "id": "0e33b3a6",
   "metadata": {},
   "source": [
    "Are we done with the features tho? I think we can get more information from this dataset, but let's see how good our submission is :)."
   ]
  },
  {
   "cell_type": "code",
   "execution_count": 31,
   "id": "8d82902a",
   "metadata": {},
   "outputs": [
    {
     "data": {
      "text/html": [],
      "text/plain": [
       "<IPython.core.display.HTML object>"
      ]
     },
     "metadata": {},
     "output_type": "display_data"
    }
   ],
   "source": [
    "test_df = pd.read_csv(\"../data/raw/test.csv\")\n",
    "predictions = predict_model(estimator=model, data=test_df)[['Id', 'prediction_label']].rename({'prediction_label': 'SalePrice'}, axis=1)\n",
    "predictions.to_csv(\"../models/submissions/submission1.csv\", index=False)"
   ]
  },
  {
   "cell_type": "markdown",
   "id": "58865c4e",
   "metadata": {},
   "source": [
    "Yay! I get a score of 0.16901 with minimal features & feature engineering! But still didn't beat my students :-?"
   ]
  },
  {
   "cell_type": "code",
   "execution_count": 32,
   "id": "16112152",
   "metadata": {},
   "outputs": [
    {
     "data": {
      "text/html": [
       "<style type=\"text/css\">\n",
       "</style>\n",
       "<table id=\"T_fd1e1\">\n",
       "  <thead>\n",
       "    <tr>\n",
       "      <th class=\"blank level0\" >&nbsp;</th>\n",
       "      <th id=\"T_fd1e1_level0_col0\" class=\"col_heading level0 col0\" >Model</th>\n",
       "      <th id=\"T_fd1e1_level0_col1\" class=\"col_heading level0 col1\" >MAE</th>\n",
       "      <th id=\"T_fd1e1_level0_col2\" class=\"col_heading level0 col2\" >MSE</th>\n",
       "      <th id=\"T_fd1e1_level0_col3\" class=\"col_heading level0 col3\" >RMSE</th>\n",
       "      <th id=\"T_fd1e1_level0_col4\" class=\"col_heading level0 col4\" >R2</th>\n",
       "      <th id=\"T_fd1e1_level0_col5\" class=\"col_heading level0 col5\" >RMSLE</th>\n",
       "      <th id=\"T_fd1e1_level0_col6\" class=\"col_heading level0 col6\" >MAPE</th>\n",
       "    </tr>\n",
       "  </thead>\n",
       "  <tbody>\n",
       "    <tr>\n",
       "      <th id=\"T_fd1e1_level0_row0\" class=\"row_heading level0 row0\" >0</th>\n",
       "      <td id=\"T_fd1e1_row0_col0\" class=\"data row0 col0\" >Gradient Boosting Regressor</td>\n",
       "      <td id=\"T_fd1e1_row0_col1\" class=\"data row0 col1\" >18568.0953</td>\n",
       "      <td id=\"T_fd1e1_row0_col2\" class=\"data row0 col2\" >703109564.1856</td>\n",
       "      <td id=\"T_fd1e1_row0_col3\" class=\"data row0 col3\" >26516.2132</td>\n",
       "      <td id=\"T_fd1e1_row0_col4\" class=\"data row0 col4\" >0.8885</td>\n",
       "      <td id=\"T_fd1e1_row0_col5\" class=\"data row0 col5\" >0.1412</td>\n",
       "      <td id=\"T_fd1e1_row0_col6\" class=\"data row0 col6\" >0.1064</td>\n",
       "    </tr>\n",
       "  </tbody>\n",
       "</table>\n"
      ],
      "text/plain": [
       "<pandas.io.formats.style.Styler at 0x1d76c9b41d0>"
      ]
     },
     "metadata": {},
     "output_type": "display_data"
    },
    {
     "data": {
      "application/vnd.plotly.v1+json": {
       "config": {
        "plotlyServerURL": "https://plot.ly"
       },
       "data": [
        {
         "hovertemplate": "prediction_label=%{x}<br>SalePrice=%{y}<extra></extra>",
         "legendgroup": "",
         "marker": {
          "color": "#636efa",
          "symbol": "circle"
         },
         "mode": "markers",
         "name": "",
         "showlegend": false,
         "type": "scattergl",
         "x": {
          "bdata": "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",
          "dtype": "f8"
         },
         "xaxis": "x",
         "y": {
          "bdata": "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",
          "dtype": "i4"
         },
         "yaxis": "y"
        }
       ],
       "layout": {
        "height": 600,
        "legend": {
         "tracegroupgap": 0
        },
        "margin": {
         "t": 60
        },
        "template": {
         "data": {
          "bar": [
           {
            "error_x": {
             "color": "#2a3f5f"
            },
            "error_y": {
             "color": "#2a3f5f"
            },
            "marker": {
             "line": {
              "color": "#E5ECF6",
              "width": 0.5
             },
             "pattern": {
              "fillmode": "overlay",
              "size": 10,
              "solidity": 0.2
             }
            },
            "type": "bar"
           }
          ],
          "barpolar": [
           {
            "marker": {
             "line": {
              "color": "#E5ECF6",
              "width": 0.5
             },
             "pattern": {
              "fillmode": "overlay",
              "size": 10,
              "solidity": 0.2
             }
            },
            "type": "barpolar"
           }
          ],
          "carpet": [
           {
            "aaxis": {
             "endlinecolor": "#2a3f5f",
             "gridcolor": "white",
             "linecolor": "white",
             "minorgridcolor": "white",
             "startlinecolor": "#2a3f5f"
            },
            "baxis": {
             "endlinecolor": "#2a3f5f",
             "gridcolor": "white",
             "linecolor": "white",
             "minorgridcolor": "white",
             "startlinecolor": "#2a3f5f"
            },
            "type": "carpet"
           }
          ],
          "choropleth": [
           {
            "colorbar": {
             "outlinewidth": 0,
             "ticks": ""
            },
            "type": "choropleth"
           }
          ],
          "contour": [
           {
            "colorbar": {
             "outlinewidth": 0,
             "ticks": ""
            },
            "colorscale": [
             [
              0,
              "#0d0887"
             ],
             [
              0.1111111111111111,
              "#46039f"
             ],
             [
              0.2222222222222222,
              "#7201a8"
             ],
             [
              0.3333333333333333,
              "#9c179e"
             ],
             [
              0.4444444444444444,
              "#bd3786"
             ],
             [
              0.5555555555555556,
              "#d8576b"
             ],
             [
              0.6666666666666666,
              "#ed7953"
             ],
             [
              0.7777777777777778,
              "#fb9f3a"
             ],
             [
              0.8888888888888888,
              "#fdca26"
             ],
             [
              1,
              "#f0f921"
             ]
            ],
            "type": "contour"
           }
          ],
          "contourcarpet": [
           {
            "colorbar": {
             "outlinewidth": 0,
             "ticks": ""
            },
            "type": "contourcarpet"
           }
          ],
          "heatmap": [
           {
            "colorbar": {
             "outlinewidth": 0,
             "ticks": ""
            },
            "colorscale": [
             [
              0,
              "#0d0887"
             ],
             [
              0.1111111111111111,
              "#46039f"
             ],
             [
              0.2222222222222222,
              "#7201a8"
             ],
             [
              0.3333333333333333,
              "#9c179e"
             ],
             [
              0.4444444444444444,
              "#bd3786"
             ],
             [
              0.5555555555555556,
              "#d8576b"
             ],
             [
              0.6666666666666666,
              "#ed7953"
             ],
             [
              0.7777777777777778,
              "#fb9f3a"
             ],
             [
              0.8888888888888888,
              "#fdca26"
             ],
             [
              1,
              "#f0f921"
             ]
            ],
            "type": "heatmap"
           }
          ],
          "histogram": [
           {
            "marker": {
             "pattern": {
              "fillmode": "overlay",
              "size": 10,
              "solidity": 0.2
             }
            },
            "type": "histogram"
           }
          ],
          "histogram2d": [
           {
            "colorbar": {
             "outlinewidth": 0,
             "ticks": ""
            },
            "colorscale": [
             [
              0,
              "#0d0887"
             ],
             [
              0.1111111111111111,
              "#46039f"
             ],
             [
              0.2222222222222222,
              "#7201a8"
             ],
             [
              0.3333333333333333,
              "#9c179e"
             ],
             [
              0.4444444444444444,
              "#bd3786"
             ],
             [
              0.5555555555555556,
              "#d8576b"
             ],
             [
              0.6666666666666666,
              "#ed7953"
             ],
             [
              0.7777777777777778,
              "#fb9f3a"
             ],
             [
              0.8888888888888888,
              "#fdca26"
             ],
             [
              1,
              "#f0f921"
             ]
            ],
            "type": "histogram2d"
           }
          ],
          "histogram2dcontour": [
           {
            "colorbar": {
             "outlinewidth": 0,
             "ticks": ""
            },
            "colorscale": [
             [
              0,
              "#0d0887"
             ],
             [
              0.1111111111111111,
              "#46039f"
             ],
             [
              0.2222222222222222,
              "#7201a8"
             ],
             [
              0.3333333333333333,
              "#9c179e"
             ],
             [
              0.4444444444444444,
              "#bd3786"
             ],
             [
              0.5555555555555556,
              "#d8576b"
             ],
             [
              0.6666666666666666,
              "#ed7953"
             ],
             [
              0.7777777777777778,
              "#fb9f3a"
             ],
             [
              0.8888888888888888,
              "#fdca26"
             ],
             [
              1,
              "#f0f921"
             ]
            ],
            "type": "histogram2dcontour"
           }
          ],
          "mesh3d": [
           {
            "colorbar": {
             "outlinewidth": 0,
             "ticks": ""
            },
            "type": "mesh3d"
           }
          ],
          "parcoords": [
           {
            "line": {
             "colorbar": {
              "outlinewidth": 0,
              "ticks": ""
             }
            },
            "type": "parcoords"
           }
          ],
          "pie": [
           {
            "automargin": true,
            "type": "pie"
           }
          ],
          "scatter": [
           {
            "fillpattern": {
             "fillmode": "overlay",
             "size": 10,
             "solidity": 0.2
            },
            "type": "scatter"
           }
          ],
          "scatter3d": [
           {
            "line": {
             "colorbar": {
              "outlinewidth": 0,
              "ticks": ""
             }
            },
            "marker": {
             "colorbar": {
              "outlinewidth": 0,
              "ticks": ""
             }
            },
            "type": "scatter3d"
           }
          ],
          "scattercarpet": [
           {
            "marker": {
             "colorbar": {
              "outlinewidth": 0,
              "ticks": ""
             }
            },
            "type": "scattercarpet"
           }
          ],
          "scattergeo": [
           {
            "marker": {
             "colorbar": {
              "outlinewidth": 0,
              "ticks": ""
             }
            },
            "type": "scattergeo"
           }
          ],
          "scattergl": [
           {
            "marker": {
             "colorbar": {
              "outlinewidth": 0,
              "ticks": ""
             }
            },
            "type": "scattergl"
           }
          ],
          "scattermap": [
           {
            "marker": {
             "colorbar": {
              "outlinewidth": 0,
              "ticks": ""
             }
            },
            "type": "scattermap"
           }
          ],
          "scattermapbox": [
           {
            "marker": {
             "colorbar": {
              "outlinewidth": 0,
              "ticks": ""
             }
            },
            "type": "scattermapbox"
           }
          ],
          "scatterpolar": [
           {
            "marker": {
             "colorbar": {
              "outlinewidth": 0,
              "ticks": ""
             }
            },
            "type": "scatterpolar"
           }
          ],
          "scatterpolargl": [
           {
            "marker": {
             "colorbar": {
              "outlinewidth": 0,
              "ticks": ""
             }
            },
            "type": "scatterpolargl"
           }
          ],
          "scatterternary": [
           {
            "marker": {
             "colorbar": {
              "outlinewidth": 0,
              "ticks": ""
             }
            },
            "type": "scatterternary"
           }
          ],
          "surface": [
           {
            "colorbar": {
             "outlinewidth": 0,
             "ticks": ""
            },
            "colorscale": [
             [
              0,
              "#0d0887"
             ],
             [
              0.1111111111111111,
              "#46039f"
             ],
             [
              0.2222222222222222,
              "#7201a8"
             ],
             [
              0.3333333333333333,
              "#9c179e"
             ],
             [
              0.4444444444444444,
              "#bd3786"
             ],
             [
              0.5555555555555556,
              "#d8576b"
             ],
             [
              0.6666666666666666,
              "#ed7953"
             ],
             [
              0.7777777777777778,
              "#fb9f3a"
             ],
             [
              0.8888888888888888,
              "#fdca26"
             ],
             [
              1,
              "#f0f921"
             ]
            ],
            "type": "surface"
           }
          ],
          "table": [
           {
            "cells": {
             "fill": {
              "color": "#EBF0F8"
             },
             "line": {
              "color": "white"
             }
            },
            "header": {
             "fill": {
              "color": "#C8D4E3"
             },
             "line": {
              "color": "white"
             }
            },
            "type": "table"
           }
          ]
         },
         "layout": {
          "annotationdefaults": {
           "arrowcolor": "#2a3f5f",
           "arrowhead": 0,
           "arrowwidth": 1
          },
          "autotypenumbers": "strict",
          "coloraxis": {
           "colorbar": {
            "outlinewidth": 0,
            "ticks": ""
           }
          },
          "colorscale": {
           "diverging": [
            [
             0,
             "#8e0152"
            ],
            [
             0.1,
             "#c51b7d"
            ],
            [
             0.2,
             "#de77ae"
            ],
            [
             0.3,
             "#f1b6da"
            ],
            [
             0.4,
             "#fde0ef"
            ],
            [
             0.5,
             "#f7f7f7"
            ],
            [
             0.6,
             "#e6f5d0"
            ],
            [
             0.7,
             "#b8e186"
            ],
            [
             0.8,
             "#7fbc41"
            ],
            [
             0.9,
             "#4d9221"
            ],
            [
             1,
             "#276419"
            ]
           ],
           "sequential": [
            [
             0,
             "#0d0887"
            ],
            [
             0.1111111111111111,
             "#46039f"
            ],
            [
             0.2222222222222222,
             "#7201a8"
            ],
            [
             0.3333333333333333,
             "#9c179e"
            ],
            [
             0.4444444444444444,
             "#bd3786"
            ],
            [
             0.5555555555555556,
             "#d8576b"
            ],
            [
             0.6666666666666666,
             "#ed7953"
            ],
            [
             0.7777777777777778,
             "#fb9f3a"
            ],
            [
             0.8888888888888888,
             "#fdca26"
            ],
            [
             1,
             "#f0f921"
            ]
           ],
           "sequentialminus": [
            [
             0,
             "#0d0887"
            ],
            [
             0.1111111111111111,
             "#46039f"
            ],
            [
             0.2222222222222222,
             "#7201a8"
            ],
            [
             0.3333333333333333,
             "#9c179e"
            ],
            [
             0.4444444444444444,
             "#bd3786"
            ],
            [
             0.5555555555555556,
             "#d8576b"
            ],
            [
             0.6666666666666666,
             "#ed7953"
            ],
            [
             0.7777777777777778,
             "#fb9f3a"
            ],
            [
             0.8888888888888888,
             "#fdca26"
            ],
            [
             1,
             "#f0f921"
            ]
           ]
          },
          "colorway": [
           "#636efa",
           "#EF553B",
           "#00cc96",
           "#ab63fa",
           "#FFA15A",
           "#19d3f3",
           "#FF6692",
           "#B6E880",
           "#FF97FF",
           "#FECB52"
          ],
          "font": {
           "color": "#2a3f5f"
          },
          "geo": {
           "bgcolor": "white",
           "lakecolor": "white",
           "landcolor": "#E5ECF6",
           "showlakes": true,
           "showland": true,
           "subunitcolor": "white"
          },
          "hoverlabel": {
           "align": "left"
          },
          "hovermode": "closest",
          "mapbox": {
           "style": "light"
          },
          "paper_bgcolor": "white",
          "plot_bgcolor": "#E5ECF6",
          "polar": {
           "angularaxis": {
            "gridcolor": "white",
            "linecolor": "white",
            "ticks": ""
           },
           "bgcolor": "#E5ECF6",
           "radialaxis": {
            "gridcolor": "white",
            "linecolor": "white",
            "ticks": ""
           }
          },
          "scene": {
           "xaxis": {
            "backgroundcolor": "#E5ECF6",
            "gridcolor": "white",
            "gridwidth": 2,
            "linecolor": "white",
            "showbackground": true,
            "ticks": "",
            "zerolinecolor": "white"
           },
           "yaxis": {
            "backgroundcolor": "#E5ECF6",
            "gridcolor": "white",
            "gridwidth": 2,
            "linecolor": "white",
            "showbackground": true,
            "ticks": "",
            "zerolinecolor": "white"
           },
           "zaxis": {
            "backgroundcolor": "#E5ECF6",
            "gridcolor": "white",
            "gridwidth": 2,
            "linecolor": "white",
            "showbackground": true,
            "ticks": "",
            "zerolinecolor": "white"
           }
          },
          "shapedefaults": {
           "line": {
            "color": "#2a3f5f"
           }
          },
          "ternary": {
           "aaxis": {
            "gridcolor": "white",
            "linecolor": "white",
            "ticks": ""
           },
           "baxis": {
            "gridcolor": "white",
            "linecolor": "white",
            "ticks": ""
           },
           "bgcolor": "#E5ECF6",
           "caxis": {
            "gridcolor": "white",
            "linecolor": "white",
            "ticks": ""
           }
          },
          "title": {
           "x": 0.05
          },
          "xaxis": {
           "automargin": true,
           "gridcolor": "white",
           "linecolor": "white",
           "ticks": "",
           "title": {
            "standoff": 15
           },
           "zerolinecolor": "white",
           "zerolinewidth": 2
          },
          "yaxis": {
           "automargin": true,
           "gridcolor": "white",
           "linecolor": "white",
           "ticks": "",
           "title": {
            "standoff": 15
           },
           "zerolinecolor": "white",
           "zerolinewidth": 2
          }
         }
        },
        "width": 600,
        "xaxis": {
         "anchor": "y",
         "domain": [
          0,
          1
         ],
         "title": {
          "text": "prediction_label"
         }
        },
        "yaxis": {
         "anchor": "x",
         "domain": [
          0,
          1
         ],
         "title": {
          "text": "SalePrice"
         }
        }
       }
      }
     },
     "metadata": {},
     "output_type": "display_data"
    }
   ],
   "source": [
    "# What predictions do I get wrong the most?\n",
    "train_pred = predict_model(estimator=model, data=df)\n",
    "px.scatter(x='prediction_label', y='SalePrice', data_frame=train_pred).update_layout(width=600, height=600)"
   ]
  },
  {
   "cell_type": "code",
   "execution_count": 34,
   "id": "5a52058b",
   "metadata": {},
   "outputs": [
    {
     "data": {
      "application/vnd.plotly.v1+json": {
       "config": {
        "plotlyServerURL": "https://plot.ly"
       },
       "data": [
        {
         "bingroup": "x",
         "hovertemplate": "error=%{x}<br>count=%{y}<extra></extra>",
         "legendgroup": "",
         "marker": {
          "color": "#636efa",
          "pattern": {
           "shape": ""
          }
         },
         "name": "",
         "orientation": "v",
         "showlegend": false,
         "type": "histogram",
         "x": {
          "bdata": "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",
          "dtype": "f8"
         },
         "xaxis": "x",
         "yaxis": "y"
        }
       ],
       "layout": {
        "barmode": "relative",
        "height": 400,
        "legend": {
         "tracegroupgap": 0
        },
        "margin": {
         "t": 60
        },
        "template": {
         "data": {
          "bar": [
           {
            "error_x": {
             "color": "#2a3f5f"
            },
            "error_y": {
             "color": "#2a3f5f"
            },
            "marker": {
             "line": {
              "color": "#E5ECF6",
              "width": 0.5
             },
             "pattern": {
              "fillmode": "overlay",
              "size": 10,
              "solidity": 0.2
             }
            },
            "type": "bar"
           }
          ],
          "barpolar": [
           {
            "marker": {
             "line": {
              "color": "#E5ECF6",
              "width": 0.5
             },
             "pattern": {
              "fillmode": "overlay",
              "size": 10,
              "solidity": 0.2
             }
            },
            "type": "barpolar"
           }
          ],
          "carpet": [
           {
            "aaxis": {
             "endlinecolor": "#2a3f5f",
             "gridcolor": "white",
             "linecolor": "white",
             "minorgridcolor": "white",
             "startlinecolor": "#2a3f5f"
            },
            "baxis": {
             "endlinecolor": "#2a3f5f",
             "gridcolor": "white",
             "linecolor": "white",
             "minorgridcolor": "white",
             "startlinecolor": "#2a3f5f"
            },
            "type": "carpet"
           }
          ],
          "choropleth": [
           {
            "colorbar": {
             "outlinewidth": 0,
             "ticks": ""
            },
            "type": "choropleth"
           }
          ],
          "contour": [
           {
            "colorbar": {
             "outlinewidth": 0,
             "ticks": ""
            },
            "colorscale": [
             [
              0,
              "#0d0887"
             ],
             [
              0.1111111111111111,
              "#46039f"
             ],
             [
              0.2222222222222222,
              "#7201a8"
             ],
             [
              0.3333333333333333,
              "#9c179e"
             ],
             [
              0.4444444444444444,
              "#bd3786"
             ],
             [
              0.5555555555555556,
              "#d8576b"
             ],
             [
              0.6666666666666666,
              "#ed7953"
             ],
             [
              0.7777777777777778,
              "#fb9f3a"
             ],
             [
              0.8888888888888888,
              "#fdca26"
             ],
             [
              1,
              "#f0f921"
             ]
            ],
            "type": "contour"
           }
          ],
          "contourcarpet": [
           {
            "colorbar": {
             "outlinewidth": 0,
             "ticks": ""
            },
            "type": "contourcarpet"
           }
          ],
          "heatmap": [
           {
            "colorbar": {
             "outlinewidth": 0,
             "ticks": ""
            },
            "colorscale": [
             [
              0,
              "#0d0887"
             ],
             [
              0.1111111111111111,
              "#46039f"
             ],
             [
              0.2222222222222222,
              "#7201a8"
             ],
             [
              0.3333333333333333,
              "#9c179e"
             ],
             [
              0.4444444444444444,
              "#bd3786"
             ],
             [
              0.5555555555555556,
              "#d8576b"
             ],
             [
              0.6666666666666666,
              "#ed7953"
             ],
             [
              0.7777777777777778,
              "#fb9f3a"
             ],
             [
              0.8888888888888888,
              "#fdca26"
             ],
             [
              1,
              "#f0f921"
             ]
            ],
            "type": "heatmap"
           }
          ],
          "histogram": [
           {
            "marker": {
             "pattern": {
              "fillmode": "overlay",
              "size": 10,
              "solidity": 0.2
             }
            },
            "type": "histogram"
           }
          ],
          "histogram2d": [
           {
            "colorbar": {
             "outlinewidth": 0,
             "ticks": ""
            },
            "colorscale": [
             [
              0,
              "#0d0887"
             ],
             [
              0.1111111111111111,
              "#46039f"
             ],
             [
              0.2222222222222222,
              "#7201a8"
             ],
             [
              0.3333333333333333,
              "#9c179e"
             ],
             [
              0.4444444444444444,
              "#bd3786"
             ],
             [
              0.5555555555555556,
              "#d8576b"
             ],
             [
              0.6666666666666666,
              "#ed7953"
             ],
             [
              0.7777777777777778,
              "#fb9f3a"
             ],
             [
              0.8888888888888888,
              "#fdca26"
             ],
             [
              1,
              "#f0f921"
             ]
            ],
            "type": "histogram2d"
           }
          ],
          "histogram2dcontour": [
           {
            "colorbar": {
             "outlinewidth": 0,
             "ticks": ""
            },
            "colorscale": [
             [
              0,
              "#0d0887"
             ],
             [
              0.1111111111111111,
              "#46039f"
             ],
             [
              0.2222222222222222,
              "#7201a8"
             ],
             [
              0.3333333333333333,
              "#9c179e"
             ],
             [
              0.4444444444444444,
              "#bd3786"
             ],
             [
              0.5555555555555556,
              "#d8576b"
             ],
             [
              0.6666666666666666,
              "#ed7953"
             ],
             [
              0.7777777777777778,
              "#fb9f3a"
             ],
             [
              0.8888888888888888,
              "#fdca26"
             ],
             [
              1,
              "#f0f921"
             ]
            ],
            "type": "histogram2dcontour"
           }
          ],
          "mesh3d": [
           {
            "colorbar": {
             "outlinewidth": 0,
             "ticks": ""
            },
            "type": "mesh3d"
           }
          ],
          "parcoords": [
           {
            "line": {
             "colorbar": {
              "outlinewidth": 0,
              "ticks": ""
             }
            },
            "type": "parcoords"
           }
          ],
          "pie": [
           {
            "automargin": true,
            "type": "pie"
           }
          ],
          "scatter": [
           {
            "fillpattern": {
             "fillmode": "overlay",
             "size": 10,
             "solidity": 0.2
            },
            "type": "scatter"
           }
          ],
          "scatter3d": [
           {
            "line": {
             "colorbar": {
              "outlinewidth": 0,
              "ticks": ""
             }
            },
            "marker": {
             "colorbar": {
              "outlinewidth": 0,
              "ticks": ""
             }
            },
            "type": "scatter3d"
           }
          ],
          "scattercarpet": [
           {
            "marker": {
             "colorbar": {
              "outlinewidth": 0,
              "ticks": ""
             }
            },
            "type": "scattercarpet"
           }
          ],
          "scattergeo": [
           {
            "marker": {
             "colorbar": {
              "outlinewidth": 0,
              "ticks": ""
             }
            },
            "type": "scattergeo"
           }
          ],
          "scattergl": [
           {
            "marker": {
             "colorbar": {
              "outlinewidth": 0,
              "ticks": ""
             }
            },
            "type": "scattergl"
           }
          ],
          "scattermap": [
           {
            "marker": {
             "colorbar": {
              "outlinewidth": 0,
              "ticks": ""
             }
            },
            "type": "scattermap"
           }
          ],
          "scattermapbox": [
           {
            "marker": {
             "colorbar": {
              "outlinewidth": 0,
              "ticks": ""
             }
            },
            "type": "scattermapbox"
           }
          ],
          "scatterpolar": [
           {
            "marker": {
             "colorbar": {
              "outlinewidth": 0,
              "ticks": ""
             }
            },
            "type": "scatterpolar"
           }
          ],
          "scatterpolargl": [
           {
            "marker": {
             "colorbar": {
              "outlinewidth": 0,
              "ticks": ""
             }
            },
            "type": "scatterpolargl"
           }
          ],
          "scatterternary": [
           {
            "marker": {
             "colorbar": {
              "outlinewidth": 0,
              "ticks": ""
             }
            },
            "type": "scatterternary"
           }
          ],
          "surface": [
           {
            "colorbar": {
             "outlinewidth": 0,
             "ticks": ""
            },
            "colorscale": [
             [
              0,
              "#0d0887"
             ],
             [
              0.1111111111111111,
              "#46039f"
             ],
             [
              0.2222222222222222,
              "#7201a8"
             ],
             [
              0.3333333333333333,
              "#9c179e"
             ],
             [
              0.4444444444444444,
              "#bd3786"
             ],
             [
              0.5555555555555556,
              "#d8576b"
             ],
             [
              0.6666666666666666,
              "#ed7953"
             ],
             [
              0.7777777777777778,
              "#fb9f3a"
             ],
             [
              0.8888888888888888,
              "#fdca26"
             ],
             [
              1,
              "#f0f921"
             ]
            ],
            "type": "surface"
           }
          ],
          "table": [
           {
            "cells": {
             "fill": {
              "color": "#EBF0F8"
             },
             "line": {
              "color": "white"
             }
            },
            "header": {
             "fill": {
              "color": "#C8D4E3"
             },
             "line": {
              "color": "white"
             }
            },
            "type": "table"
           }
          ]
         },
         "layout": {
          "annotationdefaults": {
           "arrowcolor": "#2a3f5f",
           "arrowhead": 0,
           "arrowwidth": 1
          },
          "autotypenumbers": "strict",
          "coloraxis": {
           "colorbar": {
            "outlinewidth": 0,
            "ticks": ""
           }
          },
          "colorscale": {
           "diverging": [
            [
             0,
             "#8e0152"
            ],
            [
             0.1,
             "#c51b7d"
            ],
            [
             0.2,
             "#de77ae"
            ],
            [
             0.3,
             "#f1b6da"
            ],
            [
             0.4,
             "#fde0ef"
            ],
            [
             0.5,
             "#f7f7f7"
            ],
            [
             0.6,
             "#e6f5d0"
            ],
            [
             0.7,
             "#b8e186"
            ],
            [
             0.8,
             "#7fbc41"
            ],
            [
             0.9,
             "#4d9221"
            ],
            [
             1,
             "#276419"
            ]
           ],
           "sequential": [
            [
             0,
             "#0d0887"
            ],
            [
             0.1111111111111111,
             "#46039f"
            ],
            [
             0.2222222222222222,
             "#7201a8"
            ],
            [
             0.3333333333333333,
             "#9c179e"
            ],
            [
             0.4444444444444444,
             "#bd3786"
            ],
            [
             0.5555555555555556,
             "#d8576b"
            ],
            [
             0.6666666666666666,
             "#ed7953"
            ],
            [
             0.7777777777777778,
             "#fb9f3a"
            ],
            [
             0.8888888888888888,
             "#fdca26"
            ],
            [
             1,
             "#f0f921"
            ]
           ],
           "sequentialminus": [
            [
             0,
             "#0d0887"
            ],
            [
             0.1111111111111111,
             "#46039f"
            ],
            [
             0.2222222222222222,
             "#7201a8"
            ],
            [
             0.3333333333333333,
             "#9c179e"
            ],
            [
             0.4444444444444444,
             "#bd3786"
            ],
            [
             0.5555555555555556,
             "#d8576b"
            ],
            [
             0.6666666666666666,
             "#ed7953"
            ],
            [
             0.7777777777777778,
             "#fb9f3a"
            ],
            [
             0.8888888888888888,
             "#fdca26"
            ],
            [
             1,
             "#f0f921"
            ]
           ]
          },
          "colorway": [
           "#636efa",
           "#EF553B",
           "#00cc96",
           "#ab63fa",
           "#FFA15A",
           "#19d3f3",
           "#FF6692",
           "#B6E880",
           "#FF97FF",
           "#FECB52"
          ],
          "font": {
           "color": "#2a3f5f"
          },
          "geo": {
           "bgcolor": "white",
           "lakecolor": "white",
           "landcolor": "#E5ECF6",
           "showlakes": true,
           "showland": true,
           "subunitcolor": "white"
          },
          "hoverlabel": {
           "align": "left"
          },
          "hovermode": "closest",
          "mapbox": {
           "style": "light"
          },
          "paper_bgcolor": "white",
          "plot_bgcolor": "#E5ECF6",
          "polar": {
           "angularaxis": {
            "gridcolor": "white",
            "linecolor": "white",
            "ticks": ""
           },
           "bgcolor": "#E5ECF6",
           "radialaxis": {
            "gridcolor": "white",
            "linecolor": "white",
            "ticks": ""
           }
          },
          "scene": {
           "xaxis": {
            "backgroundcolor": "#E5ECF6",
            "gridcolor": "white",
            "gridwidth": 2,
            "linecolor": "white",
            "showbackground": true,
            "ticks": "",
            "zerolinecolor": "white"
           },
           "yaxis": {
            "backgroundcolor": "#E5ECF6",
            "gridcolor": "white",
            "gridwidth": 2,
            "linecolor": "white",
            "showbackground": true,
            "ticks": "",
            "zerolinecolor": "white"
           },
           "zaxis": {
            "backgroundcolor": "#E5ECF6",
            "gridcolor": "white",
            "gridwidth": 2,
            "linecolor": "white",
            "showbackground": true,
            "ticks": "",
            "zerolinecolor": "white"
           }
          },
          "shapedefaults": {
           "line": {
            "color": "#2a3f5f"
           }
          },
          "ternary": {
           "aaxis": {
            "gridcolor": "white",
            "linecolor": "white",
            "ticks": ""
           },
           "baxis": {
            "gridcolor": "white",
            "linecolor": "white",
            "ticks": ""
           },
           "bgcolor": "#E5ECF6",
           "caxis": {
            "gridcolor": "white",
            "linecolor": "white",
            "ticks": ""
           }
          },
          "title": {
           "x": 0.05
          },
          "xaxis": {
           "automargin": true,
           "gridcolor": "white",
           "linecolor": "white",
           "ticks": "",
           "title": {
            "standoff": 15
           },
           "zerolinecolor": "white",
           "zerolinewidth": 2
          },
          "yaxis": {
           "automargin": true,
           "gridcolor": "white",
           "linecolor": "white",
           "ticks": "",
           "title": {
            "standoff": 15
           },
           "zerolinecolor": "white",
           "zerolinewidth": 2
          }
         }
        },
        "width": 600,
        "xaxis": {
         "anchor": "y",
         "domain": [
          0,
          1
         ],
         "title": {
          "text": "error"
         }
        },
        "yaxis": {
         "anchor": "x",
         "domain": [
          0,
          1
         ],
         "title": {
          "text": "count"
         }
        }
       }
      }
     },
     "metadata": {},
     "output_type": "display_data"
    }
   ],
   "source": [
    "train_pred['error'] = (train_pred['SalePrice'] - train_pred['prediction_label'])\n",
    "px.histogram(x='error', data_frame=train_pred).update_layout(width=600, height=400)"
   ]
  },
  {
   "cell_type": "markdown",
   "id": "27f8d9bb",
   "metadata": {},
   "source": [
    "I perform equally well across all price categories... so where is the issue?"
   ]
  },
  {
   "cell_type": "code",
   "execution_count": 36,
   "id": "69164d87",
   "metadata": {},
   "outputs": [
    {
     "data": {
      "text/html": [
       "<div>\n",
       "<style scoped>\n",
       "    .dataframe tbody tr th:only-of-type {\n",
       "        vertical-align: middle;\n",
       "    }\n",
       "\n",
       "    .dataframe tbody tr th {\n",
       "        vertical-align: top;\n",
       "    }\n",
       "\n",
       "    .dataframe thead th {\n",
       "        text-align: right;\n",
       "    }\n",
       "</style>\n",
       "<table border=\"1\" class=\"dataframe\">\n",
       "  <thead>\n",
       "    <tr style=\"text-align: right;\">\n",
       "      <th></th>\n",
       "      <th>Id</th>\n",
       "      <th>MSSubClass</th>\n",
       "      <th>MSZoning</th>\n",
       "      <th>LotFrontage</th>\n",
       "      <th>LotArea</th>\n",
       "      <th>Street</th>\n",
       "      <th>Alley</th>\n",
       "      <th>LotShape</th>\n",
       "      <th>LandContour</th>\n",
       "      <th>Utilities</th>\n",
       "      <th>...</th>\n",
       "      <th>MiscFeature</th>\n",
       "      <th>MiscVal</th>\n",
       "      <th>MoSold</th>\n",
       "      <th>YrSold</th>\n",
       "      <th>SaleType</th>\n",
       "      <th>SaleCondition</th>\n",
       "      <th>basement</th>\n",
       "      <th>SalePrice</th>\n",
       "      <th>prediction_label</th>\n",
       "      <th>error</th>\n",
       "    </tr>\n",
       "  </thead>\n",
       "  <tbody>\n",
       "    <tr>\n",
       "      <th>688</th>\n",
       "      <td>689</td>\n",
       "      <td>20</td>\n",
       "      <td>RL</td>\n",
       "      <td>60.0</td>\n",
       "      <td>8089</td>\n",
       "      <td>Pave</td>\n",
       "      <td>NaN</td>\n",
       "      <td>Reg</td>\n",
       "      <td>HLS</td>\n",
       "      <td>AllPub</td>\n",
       "      <td>...</td>\n",
       "      <td>NaN</td>\n",
       "      <td>0</td>\n",
       "      <td>10</td>\n",
       "      <td>2007</td>\n",
       "      <td>New</td>\n",
       "      <td>Partial</td>\n",
       "      <td>False</td>\n",
       "      <td>392000</td>\n",
       "      <td>222956.147093</td>\n",
       "      <td>169043.852907</td>\n",
       "    </tr>\n",
       "    <tr>\n",
       "      <th>473</th>\n",
       "      <td>474</td>\n",
       "      <td>20</td>\n",
       "      <td>RL</td>\n",
       "      <td>110.0</td>\n",
       "      <td>14977</td>\n",
       "      <td>Pave</td>\n",
       "      <td>NaN</td>\n",
       "      <td>IR1</td>\n",
       "      <td>Lvl</td>\n",
       "      <td>AllPub</td>\n",
       "      <td>...</td>\n",
       "      <td>NaN</td>\n",
       "      <td>0</td>\n",
       "      <td>7</td>\n",
       "      <td>2007</td>\n",
       "      <td>New</td>\n",
       "      <td>Partial</td>\n",
       "      <td>False</td>\n",
       "      <td>440000</td>\n",
       "      <td>311956.760466</td>\n",
       "      <td>128043.239534</td>\n",
       "    </tr>\n",
       "    <tr>\n",
       "      <th>1046</th>\n",
       "      <td>1047</td>\n",
       "      <td>60</td>\n",
       "      <td>RL</td>\n",
       "      <td>85.0</td>\n",
       "      <td>16056</td>\n",
       "      <td>Pave</td>\n",
       "      <td>NaN</td>\n",
       "      <td>IR1</td>\n",
       "      <td>Lvl</td>\n",
       "      <td>AllPub</td>\n",
       "      <td>...</td>\n",
       "      <td>NaN</td>\n",
       "      <td>0</td>\n",
       "      <td>7</td>\n",
       "      <td>2006</td>\n",
       "      <td>New</td>\n",
       "      <td>Partial</td>\n",
       "      <td>False</td>\n",
       "      <td>556581</td>\n",
       "      <td>428837.279701</td>\n",
       "      <td>127743.720299</td>\n",
       "    </tr>\n",
       "    <tr>\n",
       "      <th>313</th>\n",
       "      <td>314</td>\n",
       "      <td>20</td>\n",
       "      <td>RL</td>\n",
       "      <td>150.0</td>\n",
       "      <td>215245</td>\n",
       "      <td>Pave</td>\n",
       "      <td>NaN</td>\n",
       "      <td>IR3</td>\n",
       "      <td>Low</td>\n",
       "      <td>AllPub</td>\n",
       "      <td>...</td>\n",
       "      <td>NaN</td>\n",
       "      <td>0</td>\n",
       "      <td>6</td>\n",
       "      <td>2009</td>\n",
       "      <td>WD</td>\n",
       "      <td>Normal</td>\n",
       "      <td>False</td>\n",
       "      <td>375000</td>\n",
       "      <td>247783.211150</td>\n",
       "      <td>127216.788850</td>\n",
       "    </tr>\n",
       "    <tr>\n",
       "      <th>706</th>\n",
       "      <td>707</td>\n",
       "      <td>20</td>\n",
       "      <td>RL</td>\n",
       "      <td>NaN</td>\n",
       "      <td>115149</td>\n",
       "      <td>Pave</td>\n",
       "      <td>NaN</td>\n",
       "      <td>IR2</td>\n",
       "      <td>Low</td>\n",
       "      <td>AllPub</td>\n",
       "      <td>...</td>\n",
       "      <td>NaN</td>\n",
       "      <td>0</td>\n",
       "      <td>6</td>\n",
       "      <td>2007</td>\n",
       "      <td>WD</td>\n",
       "      <td>Normal</td>\n",
       "      <td>False</td>\n",
       "      <td>302000</td>\n",
       "      <td>179031.628518</td>\n",
       "      <td>122968.371482</td>\n",
       "    </tr>\n",
       "    <tr>\n",
       "      <th>...</th>\n",
       "      <td>...</td>\n",
       "      <td>...</td>\n",
       "      <td>...</td>\n",
       "      <td>...</td>\n",
       "      <td>...</td>\n",
       "      <td>...</td>\n",
       "      <td>...</td>\n",
       "      <td>...</td>\n",
       "      <td>...</td>\n",
       "      <td>...</td>\n",
       "      <td>...</td>\n",
       "      <td>...</td>\n",
       "      <td>...</td>\n",
       "      <td>...</td>\n",
       "      <td>...</td>\n",
       "      <td>...</td>\n",
       "      <td>...</td>\n",
       "      <td>...</td>\n",
       "      <td>...</td>\n",
       "      <td>...</td>\n",
       "      <td>...</td>\n",
       "    </tr>\n",
       "    <tr>\n",
       "      <th>666</th>\n",
       "      <td>667</td>\n",
       "      <td>60</td>\n",
       "      <td>RL</td>\n",
       "      <td>NaN</td>\n",
       "      <td>18450</td>\n",
       "      <td>Pave</td>\n",
       "      <td>NaN</td>\n",
       "      <td>IR1</td>\n",
       "      <td>Lvl</td>\n",
       "      <td>AllPub</td>\n",
       "      <td>...</td>\n",
       "      <td>NaN</td>\n",
       "      <td>0</td>\n",
       "      <td>8</td>\n",
       "      <td>2007</td>\n",
       "      <td>WD</td>\n",
       "      <td>Abnorml</td>\n",
       "      <td>False</td>\n",
       "      <td>129000</td>\n",
       "      <td>213558.558982</td>\n",
       "      <td>-84558.558982</td>\n",
       "    </tr>\n",
       "    <tr>\n",
       "      <th>1353</th>\n",
       "      <td>1354</td>\n",
       "      <td>50</td>\n",
       "      <td>RL</td>\n",
       "      <td>56.0</td>\n",
       "      <td>14720</td>\n",
       "      <td>Pave</td>\n",
       "      <td>NaN</td>\n",
       "      <td>IR1</td>\n",
       "      <td>Lvl</td>\n",
       "      <td>AllPub</td>\n",
       "      <td>...</td>\n",
       "      <td>NaN</td>\n",
       "      <td>0</td>\n",
       "      <td>3</td>\n",
       "      <td>2010</td>\n",
       "      <td>WD</td>\n",
       "      <td>Normal</td>\n",
       "      <td>False</td>\n",
       "      <td>410000</td>\n",
       "      <td>496323.753623</td>\n",
       "      <td>-86323.753623</td>\n",
       "    </tr>\n",
       "    <tr>\n",
       "      <th>632</th>\n",
       "      <td>633</td>\n",
       "      <td>20</td>\n",
       "      <td>RL</td>\n",
       "      <td>85.0</td>\n",
       "      <td>11900</td>\n",
       "      <td>Pave</td>\n",
       "      <td>NaN</td>\n",
       "      <td>Reg</td>\n",
       "      <td>Lvl</td>\n",
       "      <td>AllPub</td>\n",
       "      <td>...</td>\n",
       "      <td>NaN</td>\n",
       "      <td>0</td>\n",
       "      <td>4</td>\n",
       "      <td>2009</td>\n",
       "      <td>WD</td>\n",
       "      <td>Family</td>\n",
       "      <td>False</td>\n",
       "      <td>82500</td>\n",
       "      <td>172063.136656</td>\n",
       "      <td>-89563.136656</td>\n",
       "    </tr>\n",
       "    <tr>\n",
       "      <th>261</th>\n",
       "      <td>262</td>\n",
       "      <td>60</td>\n",
       "      <td>RL</td>\n",
       "      <td>69.0</td>\n",
       "      <td>9588</td>\n",
       "      <td>Pave</td>\n",
       "      <td>NaN</td>\n",
       "      <td>IR1</td>\n",
       "      <td>Lvl</td>\n",
       "      <td>AllPub</td>\n",
       "      <td>...</td>\n",
       "      <td>NaN</td>\n",
       "      <td>0</td>\n",
       "      <td>11</td>\n",
       "      <td>2007</td>\n",
       "      <td>New</td>\n",
       "      <td>Partial</td>\n",
       "      <td>False</td>\n",
       "      <td>276000</td>\n",
       "      <td>374386.822604</td>\n",
       "      <td>-98386.822604</td>\n",
       "    </tr>\n",
       "    <tr>\n",
       "      <th>1324</th>\n",
       "      <td>1325</td>\n",
       "      <td>20</td>\n",
       "      <td>RL</td>\n",
       "      <td>75.0</td>\n",
       "      <td>9986</td>\n",
       "      <td>Pave</td>\n",
       "      <td>NaN</td>\n",
       "      <td>Reg</td>\n",
       "      <td>Lvl</td>\n",
       "      <td>AllPub</td>\n",
       "      <td>...</td>\n",
       "      <td>NaN</td>\n",
       "      <td>0</td>\n",
       "      <td>2</td>\n",
       "      <td>2007</td>\n",
       "      <td>New</td>\n",
       "      <td>Partial</td>\n",
       "      <td>False</td>\n",
       "      <td>147000</td>\n",
       "      <td>284394.991375</td>\n",
       "      <td>-137394.991375</td>\n",
       "    </tr>\n",
       "  </tbody>\n",
       "</table>\n",
       "<p>1460 rows × 84 columns</p>\n",
       "</div>"
      ],
      "text/plain": [
       "        Id  MSSubClass MSZoning  LotFrontage  LotArea Street Alley LotShape  \\\n",
       "688    689          20       RL         60.0     8089   Pave   NaN      Reg   \n",
       "473    474          20       RL        110.0    14977   Pave   NaN      IR1   \n",
       "1046  1047          60       RL         85.0    16056   Pave   NaN      IR1   \n",
       "313    314          20       RL        150.0   215245   Pave   NaN      IR3   \n",
       "706    707          20       RL          NaN   115149   Pave   NaN      IR2   \n",
       "...    ...         ...      ...          ...      ...    ...   ...      ...   \n",
       "666    667          60       RL          NaN    18450   Pave   NaN      IR1   \n",
       "1353  1354          50       RL         56.0    14720   Pave   NaN      IR1   \n",
       "632    633          20       RL         85.0    11900   Pave   NaN      Reg   \n",
       "261    262          60       RL         69.0     9588   Pave   NaN      IR1   \n",
       "1324  1325          20       RL         75.0     9986   Pave   NaN      Reg   \n",
       "\n",
       "     LandContour Utilities  ... MiscFeature MiscVal MoSold YrSold SaleType  \\\n",
       "688          HLS    AllPub  ...         NaN       0     10   2007      New   \n",
       "473          Lvl    AllPub  ...         NaN       0      7   2007      New   \n",
       "1046         Lvl    AllPub  ...         NaN       0      7   2006      New   \n",
       "313          Low    AllPub  ...         NaN       0      6   2009       WD   \n",
       "706          Low    AllPub  ...         NaN       0      6   2007       WD   \n",
       "...          ...       ...  ...         ...     ...    ...    ...      ...   \n",
       "666          Lvl    AllPub  ...         NaN       0      8   2007       WD   \n",
       "1353         Lvl    AllPub  ...         NaN       0      3   2010       WD   \n",
       "632          Lvl    AllPub  ...         NaN       0      4   2009       WD   \n",
       "261          Lvl    AllPub  ...         NaN       0     11   2007      New   \n",
       "1324         Lvl    AllPub  ...         NaN       0      2   2007      New   \n",
       "\n",
       "     SaleCondition basement  SalePrice  prediction_label          error  \n",
       "688        Partial    False     392000     222956.147093  169043.852907  \n",
       "473        Partial    False     440000     311956.760466  128043.239534  \n",
       "1046       Partial    False     556581     428837.279701  127743.720299  \n",
       "313         Normal    False     375000     247783.211150  127216.788850  \n",
       "706         Normal    False     302000     179031.628518  122968.371482  \n",
       "...            ...      ...        ...               ...            ...  \n",
       "666        Abnorml    False     129000     213558.558982  -84558.558982  \n",
       "1353        Normal    False     410000     496323.753623  -86323.753623  \n",
       "632         Family    False      82500     172063.136656  -89563.136656  \n",
       "261        Partial    False     276000     374386.822604  -98386.822604  \n",
       "1324       Partial    False     147000     284394.991375 -137394.991375  \n",
       "\n",
       "[1460 rows x 84 columns]"
      ]
     },
     "execution_count": 36,
     "metadata": {},
     "output_type": "execute_result"
    }
   ],
   "source": [
    "train_pred.sort_values(by='error', ascending=False)"
   ]
  },
  {
   "cell_type": "markdown",
   "id": "2f353169",
   "metadata": {},
   "source": [
    "## What if I don't remove null values?"
   ]
  }
 ],
 "metadata": {
  "kernelspec": {
   "display_name": "house-venv (3.11.13)",
   "language": "python",
   "name": "python3"
  },
  "language_info": {
   "codemirror_mode": {
    "name": "ipython",
    "version": 3
   },
   "file_extension": ".py",
   "mimetype": "text/x-python",
   "name": "python",
   "nbconvert_exporter": "python",
   "pygments_lexer": "ipython3",
   "version": "3.11.13"
  }
 },
 "nbformat": 4,
 "nbformat_minor": 5
}
